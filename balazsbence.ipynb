{
    "metadata": {
        "kernelspec": {
            "name": "SQL",
            "display_name": "SQL",
            "language": "sql"
        },
        "language_info": {
            "name": "sql",
            "version": ""
        }
    },
    "nbformat_minor": 2,
    "nbformat": 4,
    "cells": [
        {
            "cell_type": "code",
            "source": [
                "select szh.szallas_nev, szh.tipus, szh.csillagok_szama, v.nev as vendeg_neve,\r\n",
                "f.gyermek_szam + f.felnott_szam as vendegek_szama, f.mettol as erkezes_napja, f.meddig as tavozas_napja, \r\n",
                "datediff(day, f.mettol, f.meddig) as mostani_foglalas_hossza, \r\n",
                "lag(datediff(day, f.mettol, f.meddig)) over(order by f.mettol) as elozo_foglalas_hossza\r\n",
                "from Vendeg v \r\n",
                "inner join Foglalas f on f.ugyfel_fk = v.usernev\r\n",
                "inner join Szoba sz on f.szoba_fk = sz.szoba_id\r\n",
                "inner join Szallashely szh on sz.szallas_fk = szh.szallas_id;"
            ],
            "metadata": {
                "azdata_cell_guid": "2567237f-fc5a-4f45-b241-e8adf5bb4b70",
                "language": "sql"
            },
            "outputs": [
                {
                    "output_type": "display_data",
                    "data": {
                        "text/html": "(195 rows affected)"
                    },
                    "metadata": {}
                },
                {
                    "output_type": "display_data",
                    "data": {
                        "text/html": "Total execution time: 00:00:00.076"
                    },
                    "metadata": {}
                },
                {
                    "output_type": "execute_result",
                    "metadata": {},
                    "execution_count": 19,
                    "data": {
                        "application/vnd.dataresource+json": {
                            "schema": {
                                "fields": [
                                    {
                                        "name": "szallas_nev"
                                    },
                                    {
                                        "name": "tipus"
                                    },
                                    {
                                        "name": "csillagok_szama"
                                    },
                                    {
                                        "name": "vendeg_neve"
                                    },
                                    {
                                        "name": "vendegek_szama"
                                    },
                                    {
                                        "name": "erkezes_napja"
                                    },
                                    {
                                        "name": "tavozas_napja"
                                    },
                                    {
                                        "name": "mostani_foglalas_hossza"
                                    },
                                    {
                                        "name": "elozo_foglalas_hossza"
                                    }
                                ]
                            },
                            "data": [
                                {
                                    "szallas_nev": "Jáde panzió",
                                    "tipus": "panzió",
                                    "csillagok_szama": "3",
                                    "vendeg_neve": "Kelemen Áron",
                                    "vendegek_szama": "2",
                                    "erkezes_napja": "2016-04-06",
                                    "tavozas_napja": "2016-04-08",
                                    "mostani_foglalas_hossza": "2",
                                    "elozo_foglalas_hossza": "NULL"
                                },
                                {
                                    "szallas_nev": "Fortuna Panzió",
                                    "tipus": "panzió",
                                    "csillagok_szama": "3",
                                    "vendeg_neve": "Móra László",
                                    "vendegek_szama": "2",
                                    "erkezes_napja": "2016-04-06",
                                    "tavozas_napja": "2016-04-10",
                                    "mostani_foglalas_hossza": "4",
                                    "elozo_foglalas_hossza": "2"
                                },
                                {
                                    "szallas_nev": "Szieszta Apartmanház",
                                    "tipus": "Apartman",
                                    "csillagok_szama": "0",
                                    "vendeg_neve": "Fő Nándor",
                                    "vendegek_szama": "3",
                                    "erkezes_napja": "2016-04-06",
                                    "tavozas_napja": "2016-04-10",
                                    "mostani_foglalas_hossza": "4",
                                    "elozo_foglalas_hossza": "4"
                                },
                                {
                                    "szallas_nev": "Sába-Ház",
                                    "tipus": "vendégház",
                                    "csillagok_szama": "0",
                                    "vendeg_neve": "Berendi Péter",
                                    "vendegek_szama": "1",
                                    "erkezes_napja": "2016-04-06",
                                    "tavozas_napja": "2016-04-10",
                                    "mostani_foglalas_hossza": "4",
                                    "elozo_foglalas_hossza": "4"
                                },
                                {
                                    "szallas_nev": "Sába-Ház",
                                    "tipus": "vendégház",
                                    "csillagok_szama": "0",
                                    "vendeg_neve": "Foltényi Sebastián",
                                    "vendegek_szama": "2",
                                    "erkezes_napja": "2016-04-06",
                                    "tavozas_napja": "2016-04-12",
                                    "mostani_foglalas_hossza": "6",
                                    "elozo_foglalas_hossza": "4"
                                },
                                {
                                    "szallas_nev": "Kentaur Hotel",
                                    "tipus": "Hotel",
                                    "csillagok_szama": "3",
                                    "vendeg_neve": "Rab Sebestyén",
                                    "vendegek_szama": "4",
                                    "erkezes_napja": "2016-04-07",
                                    "tavozas_napja": "2016-04-12",
                                    "mostani_foglalas_hossza": "5",
                                    "elozo_foglalas_hossza": "6"
                                },
                                {
                                    "szallas_nev": "Sába-Ház",
                                    "tipus": "vendégház",
                                    "csillagok_szama": "0",
                                    "vendeg_neve": "Kő Nikoletta",
                                    "vendegek_szama": "2",
                                    "erkezes_napja": "2016-04-08",
                                    "tavozas_napja": "2016-04-10",
                                    "mostani_foglalas_hossza": "2",
                                    "elozo_foglalas_hossza": "5"
                                },
                                {
                                    "szallas_nev": "Lagúna Hotel",
                                    "tipus": "Hotel",
                                    "csillagok_szama": "4",
                                    "vendeg_neve": "Poprádi Kristóf",
                                    "vendegek_szama": "2",
                                    "erkezes_napja": "2016-04-08",
                                    "tavozas_napja": "2016-04-14",
                                    "mostani_foglalas_hossza": "6",
                                    "elozo_foglalas_hossza": "2"
                                },
                                {
                                    "szallas_nev": "Fortuna Apartman",
                                    "tipus": "Apartman",
                                    "csillagok_szama": "0",
                                    "vendeg_neve": "Mogyródi Krisztián",
                                    "vendegek_szama": "2",
                                    "erkezes_napja": "2016-04-09",
                                    "tavozas_napja": "2016-04-15",
                                    "mostani_foglalas_hossza": "6",
                                    "elozo_foglalas_hossza": "6"
                                },
                                {
                                    "szallas_nev": "Kentaur Hotel",
                                    "tipus": "Hotel",
                                    "csillagok_szama": "3",
                                    "vendeg_neve": "Gondos Katalin",
                                    "vendegek_szama": "2",
                                    "erkezes_napja": "2016-04-10",
                                    "tavozas_napja": "2016-04-11",
                                    "mostani_foglalas_hossza": "1",
                                    "elozo_foglalas_hossza": "6"
                                },
                                {
                                    "szallas_nev": "Kentaur Hotel",
                                    "tipus": "Hotel",
                                    "csillagok_szama": "3",
                                    "vendeg_neve": "Horváth Katalin",
                                    "vendegek_szama": "2",
                                    "erkezes_napja": "2016-04-10",
                                    "tavozas_napja": "2016-04-17",
                                    "mostani_foglalas_hossza": "7",
                                    "elozo_foglalas_hossza": "1"
                                },
                                {
                                    "szallas_nev": "Gold Hotel",
                                    "tipus": "Hotel",
                                    "csillagok_szama": "3",
                                    "vendeg_neve": "Kovács Katalin",
                                    "vendegek_szama": "2",
                                    "erkezes_napja": "2016-04-10",
                                    "tavozas_napja": "2016-04-12",
                                    "mostani_foglalas_hossza": "2",
                                    "elozo_foglalas_hossza": "7"
                                },
                                {
                                    "szallas_nev": "Gold Hotel",
                                    "tipus": "Hotel",
                                    "csillagok_szama": "3",
                                    "vendeg_neve": "Horváth Ágnes",
                                    "vendegek_szama": "2",
                                    "erkezes_napja": "2016-04-10",
                                    "tavozas_napja": "2016-04-12",
                                    "mostani_foglalas_hossza": "2",
                                    "elozo_foglalas_hossza": "2"
                                },
                                {
                                    "szallas_nev": "Gold Hotel",
                                    "tipus": "Hotel",
                                    "csillagok_szama": "3",
                                    "vendeg_neve": "Pivarcsi Anett",
                                    "vendegek_szama": "1",
                                    "erkezes_napja": "2016-04-10",
                                    "tavozas_napja": "2016-04-17",
                                    "mostani_foglalas_hossza": "7",
                                    "elozo_foglalas_hossza": "2"
                                },
                                {
                                    "szallas_nev": "Partiszél Vendégház",
                                    "tipus": "vendégház",
                                    "csillagok_szama": "0",
                                    "vendeg_neve": "Orbán Bernadett",
                                    "vendegek_szama": "2",
                                    "erkezes_napja": "2016-04-10",
                                    "tavozas_napja": "2016-04-17",
                                    "mostani_foglalas_hossza": "7",
                                    "elozo_foglalas_hossza": "7"
                                },
                                {
                                    "szallas_nev": "Lagúna Hotel",
                                    "tipus": "Hotel",
                                    "csillagok_szama": "4",
                                    "vendeg_neve": "Rácz Dániel",
                                    "vendegek_szama": "4",
                                    "erkezes_napja": "2016-04-10",
                                    "tavozas_napja": "2016-04-11",
                                    "mostani_foglalas_hossza": "1",
                                    "elozo_foglalas_hossza": "7"
                                },
                                {
                                    "szallas_nev": "Gold Hotel",
                                    "tipus": "Hotel",
                                    "csillagok_szama": "3",
                                    "vendeg_neve": "Keszler Dániel",
                                    "vendegek_szama": "2",
                                    "erkezes_napja": "2016-04-10",
                                    "tavozas_napja": "2016-04-15",
                                    "mostani_foglalas_hossza": "5",
                                    "elozo_foglalas_hossza": "1"
                                },
                                {
                                    "szallas_nev": "Sába-Ház",
                                    "tipus": "vendégház",
                                    "csillagok_szama": "0",
                                    "vendeg_neve": "Mile Norbert",
                                    "vendegek_szama": "2",
                                    "erkezes_napja": "2016-04-10",
                                    "tavozas_napja": "2016-04-13",
                                    "mostani_foglalas_hossza": "3",
                                    "elozo_foglalas_hossza": "5"
                                },
                                {
                                    "szallas_nev": "Hotel Három Hattyú",
                                    "tipus": "Hotel",
                                    "csillagok_szama": "4",
                                    "vendeg_neve": "Jakab Áron",
                                    "vendegek_szama": "3",
                                    "erkezes_napja": "2016-04-11",
                                    "tavozas_napja": "2016-04-12",
                                    "mostani_foglalas_hossza": "1",
                                    "elozo_foglalas_hossza": "3"
                                },
                                {
                                    "szallas_nev": "Lagúna Hotel",
                                    "tipus": "Hotel",
                                    "csillagok_szama": "4",
                                    "vendeg_neve": "Bíró Péter",
                                    "vendegek_szama": "3",
                                    "erkezes_napja": "2016-04-12",
                                    "tavozas_napja": "2016-04-15",
                                    "mostani_foglalas_hossza": "3",
                                    "elozo_foglalas_hossza": "1"
                                },
                                {
                                    "szallas_nev": "Gold Hotel",
                                    "tipus": "Hotel",
                                    "csillagok_szama": "3",
                                    "vendeg_neve": "Pivarcsi Anett",
                                    "vendegek_szama": "3",
                                    "erkezes_napja": "2016-04-13",
                                    "tavozas_napja": "2016-04-19",
                                    "mostani_foglalas_hossza": "6",
                                    "elozo_foglalas_hossza": "3"
                                },
                                {
                                    "szallas_nev": "Jáde panzió",
                                    "tipus": "panzió",
                                    "csillagok_szama": "3",
                                    "vendeg_neve": "Pulai Zsolt",
                                    "vendegek_szama": "2",
                                    "erkezes_napja": "2016-04-14",
                                    "tavozas_napja": "2016-04-17",
                                    "mostani_foglalas_hossza": "3",
                                    "elozo_foglalas_hossza": "6"
                                },
                                {
                                    "szallas_nev": "Lagúna Hotel",
                                    "tipus": "Hotel",
                                    "csillagok_szama": "4",
                                    "vendeg_neve": "Vajda Zsuzsa",
                                    "vendegek_szama": "2",
                                    "erkezes_napja": "2016-04-14",
                                    "tavozas_napja": "2016-04-16",
                                    "mostani_foglalas_hossza": "2",
                                    "elozo_foglalas_hossza": "3"
                                },
                                {
                                    "szallas_nev": "Lagúna Hotel",
                                    "tipus": "Hotel",
                                    "csillagok_szama": "4",
                                    "vendeg_neve": "Pivarcsi Anett",
                                    "vendegek_szama": "3",
                                    "erkezes_napja": "2016-04-15",
                                    "tavozas_napja": "2016-04-19",
                                    "mostani_foglalas_hossza": "4",
                                    "elozo_foglalas_hossza": "2"
                                },
                                {
                                    "szallas_nev": "Lagúna Hotel",
                                    "tipus": "Hotel",
                                    "csillagok_szama": "4",
                                    "vendeg_neve": "Szűcs Balázs",
                                    "vendegek_szama": "2",
                                    "erkezes_napja": "2016-04-16",
                                    "tavozas_napja": "2016-04-19",
                                    "mostani_foglalas_hossza": "3",
                                    "elozo_foglalas_hossza": "4"
                                },
                                {
                                    "szallas_nev": "Kentaur Hotel",
                                    "tipus": "Hotel",
                                    "csillagok_szama": "3",
                                    "vendeg_neve": "Vizi István",
                                    "vendegek_szama": "3",
                                    "erkezes_napja": "2016-04-16",
                                    "tavozas_napja": "2016-04-22",
                                    "mostani_foglalas_hossza": "6",
                                    "elozo_foglalas_hossza": "3"
                                },
                                {
                                    "szallas_nev": "Lagúna Hotel",
                                    "tipus": "Hotel",
                                    "csillagok_szama": "4",
                                    "vendeg_neve": "Orbán Bernadett",
                                    "vendegek_szama": "2",
                                    "erkezes_napja": "2016-04-17",
                                    "tavozas_napja": "2016-04-19",
                                    "mostani_foglalas_hossza": "2",
                                    "elozo_foglalas_hossza": "6"
                                },
                                {
                                    "szallas_nev": "Kentaur Hotel",
                                    "tipus": "Hotel",
                                    "csillagok_szama": "3",
                                    "vendeg_neve": "Palágyi Polla",
                                    "vendegek_szama": "3",
                                    "erkezes_napja": "2016-04-17",
                                    "tavozas_napja": "2016-04-22",
                                    "mostani_foglalas_hossza": "5",
                                    "elozo_foglalas_hossza": "2"
                                },
                                {
                                    "szallas_nev": "Hotel Három Hattyú",
                                    "tipus": "Hotel",
                                    "csillagok_szama": "4",
                                    "vendeg_neve": "Szekendi Beatrix",
                                    "vendegek_szama": "1",
                                    "erkezes_napja": "2016-04-18",
                                    "tavozas_napja": "2016-04-24",
                                    "mostani_foglalas_hossza": "6",
                                    "elozo_foglalas_hossza": "5"
                                },
                                {
                                    "szallas_nev": "Fortuna Panzió",
                                    "tipus": "panzió",
                                    "csillagok_szama": "3",
                                    "vendeg_neve": "Simon Anikó",
                                    "vendegek_szama": "2",
                                    "erkezes_napja": "2016-04-19",
                                    "tavozas_napja": "2016-04-24",
                                    "mostani_foglalas_hossza": "5",
                                    "elozo_foglalas_hossza": "6"
                                },
                                {
                                    "szallas_nev": "Fortuna Panzió",
                                    "tipus": "panzió",
                                    "csillagok_szama": "3",
                                    "vendeg_neve": "Gondos Miklós",
                                    "vendegek_szama": "3",
                                    "erkezes_napja": "2016-04-19",
                                    "tavozas_napja": "2016-04-21",
                                    "mostani_foglalas_hossza": "2",
                                    "elozo_foglalas_hossza": "5"
                                },
                                {
                                    "szallas_nev": "Lagúna Hotel",
                                    "tipus": "Hotel",
                                    "csillagok_szama": "4",
                                    "vendeg_neve": "Kispál Márk",
                                    "vendegek_szama": "4",
                                    "erkezes_napja": "2016-04-19",
                                    "tavozas_napja": "2016-04-26",
                                    "mostani_foglalas_hossza": "7",
                                    "elozo_foglalas_hossza": "2"
                                },
                                {
                                    "szallas_nev": "Hotel Három Hattyú",
                                    "tipus": "Hotel",
                                    "csillagok_szama": "4",
                                    "vendeg_neve": "Hegedűs Norbert",
                                    "vendegek_szama": "1",
                                    "erkezes_napja": "2016-04-19",
                                    "tavozas_napja": "2016-04-26",
                                    "mostani_foglalas_hossza": "7",
                                    "elozo_foglalas_hossza": "7"
                                },
                                {
                                    "szallas_nev": "Lagúna Hotel",
                                    "tipus": "Hotel",
                                    "csillagok_szama": "4",
                                    "vendeg_neve": "Bagi Beáta",
                                    "vendegek_szama": "2",
                                    "erkezes_napja": "2016-04-20",
                                    "tavozas_napja": "2016-04-21",
                                    "mostani_foglalas_hossza": "1",
                                    "elozo_foglalas_hossza": "7"
                                },
                                {
                                    "szallas_nev": "Gold Hotel",
                                    "tipus": "Hotel",
                                    "csillagok_szama": "3",
                                    "vendeg_neve": "Tóth Júlia",
                                    "vendegek_szama": "2",
                                    "erkezes_napja": "2016-04-21",
                                    "tavozas_napja": "2016-04-26",
                                    "mostani_foglalas_hossza": "5",
                                    "elozo_foglalas_hossza": "1"
                                },
                                {
                                    "szallas_nev": "Kentaur Hotel",
                                    "tipus": "Hotel",
                                    "csillagok_szama": "3",
                                    "vendeg_neve": "Nagy Gabriella",
                                    "vendegek_szama": "3",
                                    "erkezes_napja": "2016-04-21",
                                    "tavozas_napja": "2016-04-24",
                                    "mostani_foglalas_hossza": "3",
                                    "elozo_foglalas_hossza": "5"
                                },
                                {
                                    "szallas_nev": "Kentaur Hotel",
                                    "tipus": "Hotel",
                                    "csillagok_szama": "3",
                                    "vendeg_neve": "Horváth Bálint",
                                    "vendegek_szama": "2",
                                    "erkezes_napja": "2016-04-22",
                                    "tavozas_napja": "2016-04-29",
                                    "mostani_foglalas_hossza": "7",
                                    "elozo_foglalas_hossza": "3"
                                },
                                {
                                    "szallas_nev": "Lagúna Hotel",
                                    "tipus": "Hotel",
                                    "csillagok_szama": "4",
                                    "vendeg_neve": "Rácz Dániel",
                                    "vendegek_szama": "2",
                                    "erkezes_napja": "2016-04-22",
                                    "tavozas_napja": "2016-04-25",
                                    "mostani_foglalas_hossza": "3",
                                    "elozo_foglalas_hossza": "7"
                                },
                                {
                                    "szallas_nev": "Hotel Három Hattyú",
                                    "tipus": "Hotel",
                                    "csillagok_szama": "4",
                                    "vendeg_neve": "Gyárfás Krisztina",
                                    "vendegek_szama": "2",
                                    "erkezes_napja": "2016-04-23",
                                    "tavozas_napja": "2016-04-24",
                                    "mostani_foglalas_hossza": "1",
                                    "elozo_foglalas_hossza": "3"
                                },
                                {
                                    "szallas_nev": "Hotel Három Hattyú",
                                    "tipus": "Hotel",
                                    "csillagok_szama": "4",
                                    "vendeg_neve": "Szalai Szilárd",
                                    "vendegek_szama": "3",
                                    "erkezes_napja": "2016-04-23",
                                    "tavozas_napja": "2016-04-30",
                                    "mostani_foglalas_hossza": "7",
                                    "elozo_foglalas_hossza": "1"
                                },
                                {
                                    "szallas_nev": "Fortuna panzió",
                                    "tipus": "panzió",
                                    "csillagok_szama": "3",
                                    "vendeg_neve": "Józsa Zsolt",
                                    "vendegek_szama": "4",
                                    "erkezes_napja": "2016-04-24",
                                    "tavozas_napja": "2016-04-26",
                                    "mostani_foglalas_hossza": "2",
                                    "elozo_foglalas_hossza": "7"
                                },
                                {
                                    "szallas_nev": "Partiszél Vendégház",
                                    "tipus": "vendégház",
                                    "csillagok_szama": "0",
                                    "vendeg_neve": "Vizi István",
                                    "vendegek_szama": "3",
                                    "erkezes_napja": "2016-04-24",
                                    "tavozas_napja": "2016-04-28",
                                    "mostani_foglalas_hossza": "4",
                                    "elozo_foglalas_hossza": "2"
                                },
                                {
                                    "szallas_nev": "Gold Hotel",
                                    "tipus": "Hotel",
                                    "csillagok_szama": "3",
                                    "vendeg_neve": "Erdei András",
                                    "vendegek_szama": "1",
                                    "erkezes_napja": "2016-04-24",
                                    "tavozas_napja": "2016-05-01",
                                    "mostani_foglalas_hossza": "7",
                                    "elozo_foglalas_hossza": "4"
                                },
                                {
                                    "szallas_nev": "Fortuna panzió",
                                    "tipus": "panzió",
                                    "csillagok_szama": "3",
                                    "vendeg_neve": "Gondos Katalin",
                                    "vendegek_szama": "1",
                                    "erkezes_napja": "2016-04-25",
                                    "tavozas_napja": "2016-05-01",
                                    "mostani_foglalas_hossza": "6",
                                    "elozo_foglalas_hossza": "7"
                                },
                                {
                                    "szallas_nev": "Fortuna Panzió",
                                    "tipus": "panzió",
                                    "csillagok_szama": "3",
                                    "vendeg_neve": "Telek Gábor",
                                    "vendegek_szama": "3",
                                    "erkezes_napja": "2016-04-26",
                                    "tavozas_napja": "2016-04-29",
                                    "mostani_foglalas_hossza": "3",
                                    "elozo_foglalas_hossza": "6"
                                },
                                {
                                    "szallas_nev": "Fortuna Apartman",
                                    "tipus": "Apartman",
                                    "csillagok_szama": "0",
                                    "vendeg_neve": "Rab Sebestyén",
                                    "vendegek_szama": "4",
                                    "erkezes_napja": "2016-04-26",
                                    "tavozas_napja": "2016-05-02",
                                    "mostani_foglalas_hossza": "6",
                                    "elozo_foglalas_hossza": "3"
                                },
                                {
                                    "szallas_nev": "Fortuna panzió",
                                    "tipus": "panzió",
                                    "csillagok_szama": "3",
                                    "vendeg_neve": "Móra László",
                                    "vendegek_szama": "2",
                                    "erkezes_napja": "2016-04-27",
                                    "tavozas_napja": "2016-04-29",
                                    "mostani_foglalas_hossza": "2",
                                    "elozo_foglalas_hossza": "6"
                                },
                                {
                                    "szallas_nev": "Hotel Három Hattyú",
                                    "tipus": "Hotel",
                                    "csillagok_szama": "4",
                                    "vendeg_neve": "Kalacsi Márton",
                                    "vendegek_szama": "3",
                                    "erkezes_napja": "2016-04-27",
                                    "tavozas_napja": "2016-05-04",
                                    "mostani_foglalas_hossza": "7",
                                    "elozo_foglalas_hossza": "2"
                                },
                                {
                                    "szallas_nev": "Fortuna panzió",
                                    "tipus": "panzió",
                                    "csillagok_szama": "3",
                                    "vendeg_neve": "Horváth Ágnes",
                                    "vendegek_szama": "4",
                                    "erkezes_napja": "2016-04-27",
                                    "tavozas_napja": "2016-04-28",
                                    "mostani_foglalas_hossza": "1",
                                    "elozo_foglalas_hossza": "7"
                                },
                                {
                                    "szallas_nev": "Hotel Három Hattyú",
                                    "tipus": "Hotel",
                                    "csillagok_szama": "4",
                                    "vendeg_neve": "Pivarcsi Anett",
                                    "vendegek_szama": "3",
                                    "erkezes_napja": "2016-04-28",
                                    "tavozas_napja": "2016-05-02",
                                    "mostani_foglalas_hossza": "4",
                                    "elozo_foglalas_hossza": "1"
                                },
                                {
                                    "szallas_nev": "Gold Hotel",
                                    "tipus": "Hotel",
                                    "csillagok_szama": "3",
                                    "vendeg_neve": "Bori Krisztina",
                                    "vendegek_szama": "2",
                                    "erkezes_napja": "2016-04-28",
                                    "tavozas_napja": "2016-04-30",
                                    "mostani_foglalas_hossza": "2",
                                    "elozo_foglalas_hossza": "4"
                                },
                                {
                                    "szallas_nev": "Sába-Ház",
                                    "tipus": "vendégház",
                                    "csillagok_szama": "0",
                                    "vendeg_neve": "Mohos Mónika",
                                    "vendegek_szama": "2",
                                    "erkezes_napja": "2016-04-29",
                                    "tavozas_napja": "2016-05-01",
                                    "mostani_foglalas_hossza": "2",
                                    "elozo_foglalas_hossza": "2"
                                },
                                {
                                    "szallas_nev": "Hotel Három Hattyú",
                                    "tipus": "Hotel",
                                    "csillagok_szama": "4",
                                    "vendeg_neve": "Urbán Viktoria",
                                    "vendegek_szama": "1",
                                    "erkezes_napja": "2016-04-30",
                                    "tavozas_napja": "2016-05-03",
                                    "mostani_foglalas_hossza": "3",
                                    "elozo_foglalas_hossza": "2"
                                },
                                {
                                    "szallas_nev": "Gold Hotel",
                                    "tipus": "Hotel",
                                    "csillagok_szama": "3",
                                    "vendeg_neve": "Tóth Zoltán",
                                    "vendegek_szama": "3",
                                    "erkezes_napja": "2016-05-01",
                                    "tavozas_napja": "2016-05-04",
                                    "mostani_foglalas_hossza": "3",
                                    "elozo_foglalas_hossza": "3"
                                },
                                {
                                    "szallas_nev": "Hotel Három Hattyú",
                                    "tipus": "Hotel",
                                    "csillagok_szama": "4",
                                    "vendeg_neve": "Viktor Éva",
                                    "vendegek_szama": "3",
                                    "erkezes_napja": "2016-05-01",
                                    "tavozas_napja": "2016-05-05",
                                    "mostani_foglalas_hossza": "4",
                                    "elozo_foglalas_hossza": "3"
                                },
                                {
                                    "szallas_nev": "Fortuna panzió",
                                    "tipus": "panzió",
                                    "csillagok_szama": "3",
                                    "vendeg_neve": "Vígh András",
                                    "vendegek_szama": "2",
                                    "erkezes_napja": "2016-05-01",
                                    "tavozas_napja": "2016-05-06",
                                    "mostani_foglalas_hossza": "5",
                                    "elozo_foglalas_hossza": "4"
                                },
                                {
                                    "szallas_nev": "Jáde panzió",
                                    "tipus": "panzió",
                                    "csillagok_szama": "3",
                                    "vendeg_neve": "Nagymihály Csongor",
                                    "vendegek_szama": "2",
                                    "erkezes_napja": "2016-05-01",
                                    "tavozas_napja": "2016-05-04",
                                    "mostani_foglalas_hossza": "3",
                                    "elozo_foglalas_hossza": "5"
                                },
                                {
                                    "szallas_nev": "Hotel Három Hattyú",
                                    "tipus": "Hotel",
                                    "csillagok_szama": "4",
                                    "vendeg_neve": "Kovács Bernadett",
                                    "vendegek_szama": "2",
                                    "erkezes_napja": "2016-05-01",
                                    "tavozas_napja": "2016-05-03",
                                    "mostani_foglalas_hossza": "2",
                                    "elozo_foglalas_hossza": "3"
                                },
                                {
                                    "szallas_nev": "Hotel Három Hattyú",
                                    "tipus": "Hotel",
                                    "csillagok_szama": "4",
                                    "vendeg_neve": "Gyuris József",
                                    "vendegek_szama": "2",
                                    "erkezes_napja": "2016-05-02",
                                    "tavozas_napja": "2016-05-06",
                                    "mostani_foglalas_hossza": "4",
                                    "elozo_foglalas_hossza": "2"
                                },
                                {
                                    "szallas_nev": "Hotel Három Hattyú",
                                    "tipus": "Hotel",
                                    "csillagok_szama": "4",
                                    "vendeg_neve": "Boros Vivien",
                                    "vendegek_szama": "3",
                                    "erkezes_napja": "2016-05-02",
                                    "tavozas_napja": "2016-05-05",
                                    "mostani_foglalas_hossza": "3",
                                    "elozo_foglalas_hossza": "4"
                                },
                                {
                                    "szallas_nev": "Hotel Három Hattyú",
                                    "tipus": "Hotel",
                                    "csillagok_szama": "4",
                                    "vendeg_neve": "Fényes Tamás",
                                    "vendegek_szama": "2",
                                    "erkezes_napja": "2016-05-03",
                                    "tavozas_napja": "2016-05-04",
                                    "mostani_foglalas_hossza": "1",
                                    "elozo_foglalas_hossza": "3"
                                },
                                {
                                    "szallas_nev": "Jáde panzió",
                                    "tipus": "panzió",
                                    "csillagok_szama": "3",
                                    "vendeg_neve": "Szirmai Renáta",
                                    "vendegek_szama": "2",
                                    "erkezes_napja": "2016-05-04",
                                    "tavozas_napja": "2016-05-11",
                                    "mostani_foglalas_hossza": "7",
                                    "elozo_foglalas_hossza": "1"
                                },
                                {
                                    "szallas_nev": "Sába-Ház",
                                    "tipus": "vendégház",
                                    "csillagok_szama": "0",
                                    "vendeg_neve": "Kalacsi Márton",
                                    "vendegek_szama": "1",
                                    "erkezes_napja": "2016-05-05",
                                    "tavozas_napja": "2016-05-10",
                                    "mostani_foglalas_hossza": "5",
                                    "elozo_foglalas_hossza": "7"
                                },
                                {
                                    "szallas_nev": "Hotel Három Hattyú",
                                    "tipus": "Hotel",
                                    "csillagok_szama": "4",
                                    "vendeg_neve": "Bárci Gusztáv",
                                    "vendegek_szama": "2",
                                    "erkezes_napja": "2016-05-06",
                                    "tavozas_napja": "2016-05-13",
                                    "mostani_foglalas_hossza": "7",
                                    "elozo_foglalas_hossza": "5"
                                },
                                {
                                    "szallas_nev": "Kentaur Hotel",
                                    "tipus": "Hotel",
                                    "csillagok_szama": "3",
                                    "vendeg_neve": "Bozsik Balázs",
                                    "vendegek_szama": "2",
                                    "erkezes_napja": "2016-05-07",
                                    "tavozas_napja": "2016-05-14",
                                    "mostani_foglalas_hossza": "7",
                                    "elozo_foglalas_hossza": "7"
                                },
                                {
                                    "szallas_nev": "Fortuna panzió",
                                    "tipus": "panzió",
                                    "csillagok_szama": "3",
                                    "vendeg_neve": "Maródi Andrea",
                                    "vendegek_szama": "4",
                                    "erkezes_napja": "2016-05-08",
                                    "tavozas_napja": "2016-05-14",
                                    "mostani_foglalas_hossza": "6",
                                    "elozo_foglalas_hossza": "7"
                                },
                                {
                                    "szallas_nev": "Fortuna Apartman",
                                    "tipus": "Apartman",
                                    "csillagok_szama": "0",
                                    "vendeg_neve": "Győrffy Bence",
                                    "vendegek_szama": "2",
                                    "erkezes_napja": "2016-05-08",
                                    "tavozas_napja": "2016-05-11",
                                    "mostani_foglalas_hossza": "3",
                                    "elozo_foglalas_hossza": "6"
                                },
                                {
                                    "szallas_nev": "Hotel Három Hattyú",
                                    "tipus": "Hotel",
                                    "csillagok_szama": "4",
                                    "vendeg_neve": "Nagymihály Csongor",
                                    "vendegek_szama": "3",
                                    "erkezes_napja": "2016-05-08",
                                    "tavozas_napja": "2016-05-15",
                                    "mostani_foglalas_hossza": "7",
                                    "elozo_foglalas_hossza": "3"
                                },
                                {
                                    "szallas_nev": "Kentaur Hotel",
                                    "tipus": "Hotel",
                                    "csillagok_szama": "3",
                                    "vendeg_neve": "Orosz Ferenc",
                                    "vendegek_szama": "2",
                                    "erkezes_napja": "2016-05-08",
                                    "tavozas_napja": "2016-05-11",
                                    "mostani_foglalas_hossza": "3",
                                    "elozo_foglalas_hossza": "7"
                                },
                                {
                                    "szallas_nev": "Fortuna panzió",
                                    "tipus": "panzió",
                                    "csillagok_szama": "3",
                                    "vendeg_neve": "Lukács Kornél",
                                    "vendegek_szama": "3",
                                    "erkezes_napja": "2016-05-08",
                                    "tavozas_napja": "2016-05-14",
                                    "mostani_foglalas_hossza": "6",
                                    "elozo_foglalas_hossza": "3"
                                },
                                {
                                    "szallas_nev": "Gold Hotel",
                                    "tipus": "Hotel",
                                    "csillagok_szama": "3",
                                    "vendeg_neve": "Kovács Katalin",
                                    "vendegek_szama": "3",
                                    "erkezes_napja": "2016-05-09",
                                    "tavozas_napja": "2016-05-15",
                                    "mostani_foglalas_hossza": "6",
                                    "elozo_foglalas_hossza": "6"
                                },
                                {
                                    "szallas_nev": "Hotel Három Hattyú",
                                    "tipus": "Hotel",
                                    "csillagok_szama": "4",
                                    "vendeg_neve": "Giliga János",
                                    "vendegek_szama": "1",
                                    "erkezes_napja": "2016-05-09",
                                    "tavozas_napja": "2016-05-15",
                                    "mostani_foglalas_hossza": "6",
                                    "elozo_foglalas_hossza": "6"
                                },
                                {
                                    "szallas_nev": "Sába-Ház",
                                    "tipus": "vendégház",
                                    "csillagok_szama": "0",
                                    "vendeg_neve": "Rácz Dániel",
                                    "vendegek_szama": "3",
                                    "erkezes_napja": "2016-05-09",
                                    "tavozas_napja": "2016-05-13",
                                    "mostani_foglalas_hossza": "4",
                                    "elozo_foglalas_hossza": "6"
                                },
                                {
                                    "szallas_nev": "Fortuna Panzió",
                                    "tipus": "panzió",
                                    "csillagok_szama": "3",
                                    "vendeg_neve": "Lengyel Ágnes",
                                    "vendegek_szama": "3",
                                    "erkezes_napja": "2016-05-09",
                                    "tavozas_napja": "2016-05-11",
                                    "mostani_foglalas_hossza": "2",
                                    "elozo_foglalas_hossza": "4"
                                },
                                {
                                    "szallas_nev": "Hotel Három Hattyú",
                                    "tipus": "Hotel",
                                    "csillagok_szama": "4",
                                    "vendeg_neve": "Hegedűs Norbert",
                                    "vendegek_szama": "2",
                                    "erkezes_napja": "2016-05-09",
                                    "tavozas_napja": "2016-05-10",
                                    "mostani_foglalas_hossza": "1",
                                    "elozo_foglalas_hossza": "2"
                                },
                                {
                                    "szallas_nev": "Gold Hotel",
                                    "tipus": "Hotel",
                                    "csillagok_szama": "3",
                                    "vendeg_neve": "Kő Nikoletta",
                                    "vendegek_szama": "2",
                                    "erkezes_napja": "2016-05-09",
                                    "tavozas_napja": "2016-05-15",
                                    "mostani_foglalas_hossza": "6",
                                    "elozo_foglalas_hossza": "1"
                                },
                                {
                                    "szallas_nev": "Partiszél Vendégház",
                                    "tipus": "vendégház",
                                    "csillagok_szama": "0",
                                    "vendeg_neve": "Józsa Zsolt",
                                    "vendegek_szama": "2",
                                    "erkezes_napja": "2016-05-09",
                                    "tavozas_napja": "2016-05-11",
                                    "mostani_foglalas_hossza": "2",
                                    "elozo_foglalas_hossza": "6"
                                },
                                {
                                    "szallas_nev": "Hotel Három Hattyú",
                                    "tipus": "Hotel",
                                    "csillagok_szama": "4",
                                    "vendeg_neve": "Keszler Dániel",
                                    "vendegek_szama": "4",
                                    "erkezes_napja": "2016-05-10",
                                    "tavozas_napja": "2016-05-13",
                                    "mostani_foglalas_hossza": "3",
                                    "elozo_foglalas_hossza": "2"
                                },
                                {
                                    "szallas_nev": "Hotel Három Hattyú",
                                    "tipus": "Hotel",
                                    "csillagok_szama": "4",
                                    "vendeg_neve": "Szilágyi Mátyás",
                                    "vendegek_szama": "2",
                                    "erkezes_napja": "2016-05-10",
                                    "tavozas_napja": "2016-05-16",
                                    "mostani_foglalas_hossza": "6",
                                    "elozo_foglalas_hossza": "3"
                                },
                                {
                                    "szallas_nev": "Hotel Három Hattyú",
                                    "tipus": "Hotel",
                                    "csillagok_szama": "4",
                                    "vendeg_neve": "Szirmai Renáta",
                                    "vendegek_szama": "2",
                                    "erkezes_napja": "2016-05-11",
                                    "tavozas_napja": "2016-05-16",
                                    "mostani_foglalas_hossza": "5",
                                    "elozo_foglalas_hossza": "6"
                                },
                                {
                                    "szallas_nev": "Gold Hotel",
                                    "tipus": "Hotel",
                                    "csillagok_szama": "3",
                                    "vendeg_neve": "Farkas Sándor",
                                    "vendegek_szama": "2",
                                    "erkezes_napja": "2016-05-12",
                                    "tavozas_napja": "2016-05-15",
                                    "mostani_foglalas_hossza": "3",
                                    "elozo_foglalas_hossza": "5"
                                },
                                {
                                    "szallas_nev": "Partiszél Vendégház",
                                    "tipus": "vendégház",
                                    "csillagok_szama": "0",
                                    "vendeg_neve": "Barna Zoltán",
                                    "vendegek_szama": "3",
                                    "erkezes_napja": "2016-05-12",
                                    "tavozas_napja": "2016-05-16",
                                    "mostani_foglalas_hossza": "4",
                                    "elozo_foglalas_hossza": "3"
                                },
                                {
                                    "szallas_nev": "Kentaur Hotel",
                                    "tipus": "Hotel",
                                    "csillagok_szama": "3",
                                    "vendeg_neve": "Tóth Júlia",
                                    "vendegek_szama": "1",
                                    "erkezes_napja": "2016-05-12",
                                    "tavozas_napja": "2016-05-17",
                                    "mostani_foglalas_hossza": "5",
                                    "elozo_foglalas_hossza": "4"
                                },
                                {
                                    "szallas_nev": "Kentaur Hotel",
                                    "tipus": "Hotel",
                                    "csillagok_szama": "3",
                                    "vendeg_neve": "Baráth Mária",
                                    "vendegek_szama": "2",
                                    "erkezes_napja": "2016-05-13",
                                    "tavozas_napja": "2016-05-18",
                                    "mostani_foglalas_hossza": "5",
                                    "elozo_foglalas_hossza": "5"
                                },
                                {
                                    "szallas_nev": "Lagúna Hotel",
                                    "tipus": "Hotel",
                                    "csillagok_szama": "4",
                                    "vendeg_neve": "Barna Zoltán",
                                    "vendegek_szama": "3",
                                    "erkezes_napja": "2016-05-13",
                                    "tavozas_napja": "2016-05-16",
                                    "mostani_foglalas_hossza": "3",
                                    "elozo_foglalas_hossza": "5"
                                },
                                {
                                    "szallas_nev": "Gold Hotel",
                                    "tipus": "Hotel",
                                    "csillagok_szama": "3",
                                    "vendeg_neve": "Tari Szilvia",
                                    "vendegek_szama": "2",
                                    "erkezes_napja": "2016-05-14",
                                    "tavozas_napja": "2016-05-21",
                                    "mostani_foglalas_hossza": "7",
                                    "elozo_foglalas_hossza": "3"
                                },
                                {
                                    "szallas_nev": "Kentaur Hotel",
                                    "tipus": "Hotel",
                                    "csillagok_szama": "3",
                                    "vendeg_neve": "Bajusz Bence",
                                    "vendegek_szama": "3",
                                    "erkezes_napja": "2016-05-14",
                                    "tavozas_napja": "2016-05-17",
                                    "mostani_foglalas_hossza": "3",
                                    "elozo_foglalas_hossza": "7"
                                },
                                {
                                    "szallas_nev": "Hotel Három Hattyú",
                                    "tipus": "Hotel",
                                    "csillagok_szama": "4",
                                    "vendeg_neve": "Komjáti András",
                                    "vendegek_szama": "2",
                                    "erkezes_napja": "2016-05-14",
                                    "tavozas_napja": "2016-05-16",
                                    "mostani_foglalas_hossza": "2",
                                    "elozo_foglalas_hossza": "3"
                                },
                                {
                                    "szallas_nev": "Kentaur Hotel",
                                    "tipus": "Hotel",
                                    "csillagok_szama": "3",
                                    "vendeg_neve": "Kelemen Áron",
                                    "vendegek_szama": "4",
                                    "erkezes_napja": "2016-05-14",
                                    "tavozas_napja": "2016-05-20",
                                    "mostani_foglalas_hossza": "6",
                                    "elozo_foglalas_hossza": "2"
                                },
                                {
                                    "szallas_nev": "Szieszta Apartmanház",
                                    "tipus": "Apartman",
                                    "csillagok_szama": "0",
                                    "vendeg_neve": "Patay Róbert",
                                    "vendegek_szama": "2",
                                    "erkezes_napja": "2016-05-15",
                                    "tavozas_napja": "2016-05-18",
                                    "mostani_foglalas_hossza": "3",
                                    "elozo_foglalas_hossza": "6"
                                },
                                {
                                    "szallas_nev": "Lagúna Hotel",
                                    "tipus": "Hotel",
                                    "csillagok_szama": "4",
                                    "vendeg_neve": "Bori Krisztina",
                                    "vendegek_szama": "1",
                                    "erkezes_napja": "2016-05-16",
                                    "tavozas_napja": "2016-05-20",
                                    "mostani_foglalas_hossza": "4",
                                    "elozo_foglalas_hossza": "3"
                                },
                                {
                                    "szallas_nev": "Lagúna Hotel",
                                    "tipus": "Hotel",
                                    "csillagok_szama": "4",
                                    "vendeg_neve": "Antal Tamás",
                                    "vendegek_szama": "2",
                                    "erkezes_napja": "2016-05-17",
                                    "tavozas_napja": "2016-05-22",
                                    "mostani_foglalas_hossza": "5",
                                    "elozo_foglalas_hossza": "4"
                                },
                                {
                                    "szallas_nev": "Kentaur Hotel",
                                    "tipus": "Hotel",
                                    "csillagok_szama": "3",
                                    "vendeg_neve": "Barta Zsuzsanna",
                                    "vendegek_szama": "2",
                                    "erkezes_napja": "2016-05-17",
                                    "tavozas_napja": "2016-05-23",
                                    "mostani_foglalas_hossza": "6",
                                    "elozo_foglalas_hossza": "5"
                                },
                                {
                                    "szallas_nev": "Gold Hotel",
                                    "tipus": "Hotel",
                                    "csillagok_szama": "3",
                                    "vendeg_neve": "Kuruc Emese",
                                    "vendegek_szama": "2",
                                    "erkezes_napja": "2017-01-30",
                                    "tavozas_napja": "2017-01-31",
                                    "mostani_foglalas_hossza": "1",
                                    "elozo_foglalas_hossza": "6"
                                },
                                {
                                    "szallas_nev": "Hotel Három Hattyú",
                                    "tipus": "Hotel",
                                    "csillagok_szama": "4",
                                    "vendeg_neve": "Kelemen Áron",
                                    "vendegek_szama": "2",
                                    "erkezes_napja": "2017-01-30",
                                    "tavozas_napja": "2017-02-03",
                                    "mostani_foglalas_hossza": "4",
                                    "elozo_foglalas_hossza": "1"
                                },
                                {
                                    "szallas_nev": "Hotel Három Hattyú",
                                    "tipus": "Hotel",
                                    "csillagok_szama": "4",
                                    "vendeg_neve": "Szűcs Annamária",
                                    "vendegek_szama": "4",
                                    "erkezes_napja": "2017-01-30",
                                    "tavozas_napja": "2017-01-31",
                                    "mostani_foglalas_hossza": "1",
                                    "elozo_foglalas_hossza": "4"
                                },
                                {
                                    "szallas_nev": "Hotel Három Hattyú",
                                    "tipus": "Hotel",
                                    "csillagok_szama": "4",
                                    "vendeg_neve": "Giliga János",
                                    "vendegek_szama": "2",
                                    "erkezes_napja": "2017-01-31",
                                    "tavozas_napja": "2017-02-05",
                                    "mostani_foglalas_hossza": "5",
                                    "elozo_foglalas_hossza": "1"
                                },
                                {
                                    "szallas_nev": "Partiszél Vendégház",
                                    "tipus": "vendégház",
                                    "csillagok_szama": "0",
                                    "vendeg_neve": "Papp Imre",
                                    "vendegek_szama": "2",
                                    "erkezes_napja": "2017-02-01",
                                    "tavozas_napja": "2017-02-04",
                                    "mostani_foglalas_hossza": "3",
                                    "elozo_foglalas_hossza": "5"
                                },
                                {
                                    "szallas_nev": "Hotel Három Hattyú",
                                    "tipus": "Hotel",
                                    "csillagok_szama": "4",
                                    "vendeg_neve": "Kő Nikoletta",
                                    "vendegek_szama": "2",
                                    "erkezes_napja": "2017-02-01",
                                    "tavozas_napja": "2017-02-04",
                                    "mostani_foglalas_hossza": "3",
                                    "elozo_foglalas_hossza": "3"
                                },
                                {
                                    "szallas_nev": "Hotel Három Hattyú",
                                    "tipus": "Hotel",
                                    "csillagok_szama": "4",
                                    "vendeg_neve": "Vígh András",
                                    "vendegek_szama": "2",
                                    "erkezes_napja": "2017-02-02",
                                    "tavozas_napja": "2017-02-08",
                                    "mostani_foglalas_hossza": "6",
                                    "elozo_foglalas_hossza": "3"
                                },
                                {
                                    "szallas_nev": "Lagúna Hotel",
                                    "tipus": "Hotel",
                                    "csillagok_szama": "4",
                                    "vendeg_neve": "Szekendi Beatrix",
                                    "vendegek_szama": "2",
                                    "erkezes_napja": "2017-02-03",
                                    "tavozas_napja": "2017-02-04",
                                    "mostani_foglalas_hossza": "1",
                                    "elozo_foglalas_hossza": "6"
                                },
                                {
                                    "szallas_nev": "Sába-Ház",
                                    "tipus": "vendégház",
                                    "csillagok_szama": "0",
                                    "vendeg_neve": "Bárci Gusztáv",
                                    "vendegek_szama": "2",
                                    "erkezes_napja": "2017-02-03",
                                    "tavozas_napja": "2017-02-09",
                                    "mostani_foglalas_hossza": "6",
                                    "elozo_foglalas_hossza": "1"
                                },
                                {
                                    "szallas_nev": "Gold Hotel",
                                    "tipus": "Hotel",
                                    "csillagok_szama": "3",
                                    "vendeg_neve": "Tankó Veronika",
                                    "vendegek_szama": "2",
                                    "erkezes_napja": "2017-02-03",
                                    "tavozas_napja": "2017-02-05",
                                    "mostani_foglalas_hossza": "2",
                                    "elozo_foglalas_hossza": "6"
                                },
                                {
                                    "szallas_nev": "Gold Hotel",
                                    "tipus": "Hotel",
                                    "csillagok_szama": "3",
                                    "vendeg_neve": "Miklós Szabolcs",
                                    "vendegek_szama": "3",
                                    "erkezes_napja": "2017-02-04",
                                    "tavozas_napja": "2017-02-05",
                                    "mostani_foglalas_hossza": "1",
                                    "elozo_foglalas_hossza": "2"
                                },
                                {
                                    "szallas_nev": "Kentaur Hotel",
                                    "tipus": "Hotel",
                                    "csillagok_szama": "3",
                                    "vendeg_neve": "Nagy Gabriella",
                                    "vendegek_szama": "3",
                                    "erkezes_napja": "2017-02-04",
                                    "tavozas_napja": "2017-02-11",
                                    "mostani_foglalas_hossza": "7",
                                    "elozo_foglalas_hossza": "1"
                                },
                                {
                                    "szallas_nev": "Hotel Három Hattyú",
                                    "tipus": "Hotel",
                                    "csillagok_szama": "4",
                                    "vendeg_neve": "Barna Debóra",
                                    "vendegek_szama": "3",
                                    "erkezes_napja": "2017-02-04",
                                    "tavozas_napja": "2017-02-06",
                                    "mostani_foglalas_hossza": "2",
                                    "elozo_foglalas_hossza": "7"
                                },
                                {
                                    "szallas_nev": "Hotel Három Hattyú",
                                    "tipus": "Hotel",
                                    "csillagok_szama": "4",
                                    "vendeg_neve": "Viktor Éva",
                                    "vendegek_szama": "5",
                                    "erkezes_napja": "2017-02-04",
                                    "tavozas_napja": "2017-02-11",
                                    "mostani_foglalas_hossza": "7",
                                    "elozo_foglalas_hossza": "2"
                                },
                                {
                                    "szallas_nev": "Hotel Három Hattyú",
                                    "tipus": "Hotel",
                                    "csillagok_szama": "4",
                                    "vendeg_neve": "Nagy Júlia",
                                    "vendegek_szama": "4",
                                    "erkezes_napja": "2017-02-04",
                                    "tavozas_napja": "2017-02-11",
                                    "mostani_foglalas_hossza": "7",
                                    "elozo_foglalas_hossza": "7"
                                },
                                {
                                    "szallas_nev": "Családi Ház",
                                    "tipus": "vendégház",
                                    "csillagok_szama": "0",
                                    "vendeg_neve": "Horváth Krisztina",
                                    "vendegek_szama": "3",
                                    "erkezes_napja": "2017-02-04",
                                    "tavozas_napja": "2017-02-11",
                                    "mostani_foglalas_hossza": "7",
                                    "elozo_foglalas_hossza": "7"
                                },
                                {
                                    "szallas_nev": "Gold Hotel",
                                    "tipus": "Hotel",
                                    "csillagok_szama": "3",
                                    "vendeg_neve": "Szedlár Krisztina",
                                    "vendegek_szama": "2",
                                    "erkezes_napja": "2017-02-05",
                                    "tavozas_napja": "2017-02-07",
                                    "mostani_foglalas_hossza": "2",
                                    "elozo_foglalas_hossza": "7"
                                },
                                {
                                    "szallas_nev": "Gold Hotel",
                                    "tipus": "Hotel",
                                    "csillagok_szama": "3",
                                    "vendeg_neve": "Fő Nándor",
                                    "vendegek_szama": "3",
                                    "erkezes_napja": "2017-02-05",
                                    "tavozas_napja": "2017-02-08",
                                    "mostani_foglalas_hossza": "3",
                                    "elozo_foglalas_hossza": "2"
                                },
                                {
                                    "szallas_nev": "Hotel Három Hattyú",
                                    "tipus": "Hotel",
                                    "csillagok_szama": "4",
                                    "vendeg_neve": "Papp Imre",
                                    "vendegek_szama": "4",
                                    "erkezes_napja": "2017-02-05",
                                    "tavozas_napja": "2017-02-07",
                                    "mostani_foglalas_hossza": "2",
                                    "elozo_foglalas_hossza": "3"
                                },
                                {
                                    "szallas_nev": "Hotel Három Hattyú",
                                    "tipus": "Hotel",
                                    "csillagok_szama": "4",
                                    "vendeg_neve": "Győrffy Bence",
                                    "vendegek_szama": "3",
                                    "erkezes_napja": "2017-02-05",
                                    "tavozas_napja": "2017-02-09",
                                    "mostani_foglalas_hossza": "4",
                                    "elozo_foglalas_hossza": "2"
                                },
                                {
                                    "szallas_nev": "Hotel Három Hattyú",
                                    "tipus": "Hotel",
                                    "csillagok_szama": "4",
                                    "vendeg_neve": "Bíró Péter",
                                    "vendegek_szama": "3",
                                    "erkezes_napja": "2017-02-05",
                                    "tavozas_napja": "2017-02-09",
                                    "mostani_foglalas_hossza": "4",
                                    "elozo_foglalas_hossza": "4"
                                },
                                {
                                    "szallas_nev": "Kentaur Hotel",
                                    "tipus": "Hotel",
                                    "csillagok_szama": "3",
                                    "vendeg_neve": "Barkóci Ádám",
                                    "vendegek_szama": "1",
                                    "erkezes_napja": "2017-02-06",
                                    "tavozas_napja": "2017-02-10",
                                    "mostani_foglalas_hossza": "4",
                                    "elozo_foglalas_hossza": "4"
                                },
                                {
                                    "szallas_nev": "Kentaur Hotel",
                                    "tipus": "Hotel",
                                    "csillagok_szama": "3",
                                    "vendeg_neve": "Mohos Mónika",
                                    "vendegek_szama": "2",
                                    "erkezes_napja": "2017-02-06",
                                    "tavozas_napja": "2017-02-09",
                                    "mostani_foglalas_hossza": "3",
                                    "elozo_foglalas_hossza": "4"
                                },
                                {
                                    "szallas_nev": "Fortuna Apartman",
                                    "tipus": "Apartman",
                                    "csillagok_szama": "0",
                                    "vendeg_neve": "Juhász Mihály",
                                    "vendegek_szama": "4",
                                    "erkezes_napja": "2017-02-06",
                                    "tavozas_napja": "2017-02-12",
                                    "mostani_foglalas_hossza": "6",
                                    "elozo_foglalas_hossza": "3"
                                },
                                {
                                    "szallas_nev": "Lagúna Hotel",
                                    "tipus": "Hotel",
                                    "csillagok_szama": "4",
                                    "vendeg_neve": "Vizi István",
                                    "vendegek_szama": "3",
                                    "erkezes_napja": "2017-02-07",
                                    "tavozas_napja": "2017-02-10",
                                    "mostani_foglalas_hossza": "3",
                                    "elozo_foglalas_hossza": "6"
                                },
                                {
                                    "szallas_nev": "Hotel Három Hattyú",
                                    "tipus": "Hotel",
                                    "csillagok_szama": "4",
                                    "vendeg_neve": "Bittmann Edit",
                                    "vendegek_szama": "3",
                                    "erkezes_napja": "2017-02-08",
                                    "tavozas_napja": "2017-02-14",
                                    "mostani_foglalas_hossza": "6",
                                    "elozo_foglalas_hossza": "3"
                                },
                                {
                                    "szallas_nev": "Hotel Három Hattyú",
                                    "tipus": "Hotel",
                                    "csillagok_szama": "4",
                                    "vendeg_neve": "Antal László",
                                    "vendegek_szama": "2",
                                    "erkezes_napja": "2017-02-08",
                                    "tavozas_napja": "2017-02-14",
                                    "mostani_foglalas_hossza": "6",
                                    "elozo_foglalas_hossza": "6"
                                },
                                {
                                    "szallas_nev": "Gold Hotel",
                                    "tipus": "Hotel",
                                    "csillagok_szama": "3",
                                    "vendeg_neve": "Tóth András",
                                    "vendegek_szama": "4",
                                    "erkezes_napja": "2017-02-08",
                                    "tavozas_napja": "2017-02-10",
                                    "mostani_foglalas_hossza": "2",
                                    "elozo_foglalas_hossza": "6"
                                },
                                {
                                    "szallas_nev": "Kentaur Hotel",
                                    "tipus": "Hotel",
                                    "csillagok_szama": "3",
                                    "vendeg_neve": "Kerényi Beatrix",
                                    "vendegek_szama": "3",
                                    "erkezes_napja": "2017-02-08",
                                    "tavozas_napja": "2017-02-09",
                                    "mostani_foglalas_hossza": "1",
                                    "elozo_foglalas_hossza": "2"
                                },
                                {
                                    "szallas_nev": "Gold Hotel",
                                    "tipus": "Hotel",
                                    "csillagok_szama": "3",
                                    "vendeg_neve": "Szalai Szilárd",
                                    "vendegek_szama": "1",
                                    "erkezes_napja": "2017-02-08",
                                    "tavozas_napja": "2017-02-15",
                                    "mostani_foglalas_hossza": "7",
                                    "elozo_foglalas_hossza": "1"
                                },
                                {
                                    "szallas_nev": "Szieszta Apartmanház",
                                    "tipus": "Apartman",
                                    "csillagok_szama": "0",
                                    "vendeg_neve": "Pataki Brigitta",
                                    "vendegek_szama": "2",
                                    "erkezes_napja": "2017-02-09",
                                    "tavozas_napja": "2017-02-16",
                                    "mostani_foglalas_hossza": "7",
                                    "elozo_foglalas_hossza": "7"
                                },
                                {
                                    "szallas_nev": "Lagúna Hotel",
                                    "tipus": "Hotel",
                                    "csillagok_szama": "4",
                                    "vendeg_neve": "Kiss Andrea",
                                    "vendegek_szama": "2",
                                    "erkezes_napja": "2017-02-09",
                                    "tavozas_napja": "2017-02-14",
                                    "mostani_foglalas_hossza": "5",
                                    "elozo_foglalas_hossza": "7"
                                },
                                {
                                    "szallas_nev": "Fortuna Panzió",
                                    "tipus": "panzió",
                                    "csillagok_szama": "3",
                                    "vendeg_neve": "Bozsik Balázs",
                                    "vendegek_szama": "3",
                                    "erkezes_napja": "2017-02-10",
                                    "tavozas_napja": "2017-02-14",
                                    "mostani_foglalas_hossza": "4",
                                    "elozo_foglalas_hossza": "5"
                                },
                                {
                                    "szallas_nev": "Hotel Három Hattyú",
                                    "tipus": "Hotel",
                                    "csillagok_szama": "4",
                                    "vendeg_neve": "Érsek Eszter",
                                    "vendegek_szama": "2",
                                    "erkezes_napja": "2017-02-10",
                                    "tavozas_napja": "2017-02-14",
                                    "mostani_foglalas_hossza": "4",
                                    "elozo_foglalas_hossza": "4"
                                },
                                {
                                    "szallas_nev": "Gold Hotel",
                                    "tipus": "Hotel",
                                    "csillagok_szama": "3",
                                    "vendeg_neve": "Palágyi Polla",
                                    "vendegek_szama": "2",
                                    "erkezes_napja": "2017-02-11",
                                    "tavozas_napja": "2017-02-16",
                                    "mostani_foglalas_hossza": "5",
                                    "elozo_foglalas_hossza": "4"
                                },
                                {
                                    "szallas_nev": "Hotel Három Hattyú",
                                    "tipus": "Hotel",
                                    "csillagok_szama": "4",
                                    "vendeg_neve": "Fényes Tamás",
                                    "vendegek_szama": "2",
                                    "erkezes_napja": "2017-02-12",
                                    "tavozas_napja": "2017-02-17",
                                    "mostani_foglalas_hossza": "5",
                                    "elozo_foglalas_hossza": "5"
                                },
                                {
                                    "szallas_nev": "Fortuna Panzió",
                                    "tipus": "panzió",
                                    "csillagok_szama": "3",
                                    "vendeg_neve": "Nagy Gabriella",
                                    "vendegek_szama": "2",
                                    "erkezes_napja": "2017-02-12",
                                    "tavozas_napja": "2017-02-13",
                                    "mostani_foglalas_hossza": "1",
                                    "elozo_foglalas_hossza": "5"
                                },
                                {
                                    "szallas_nev": "Gold Hotel",
                                    "tipus": "Hotel",
                                    "csillagok_szama": "3",
                                    "vendeg_neve": "Harangozó János",
                                    "vendegek_szama": "3",
                                    "erkezes_napja": "2017-02-12",
                                    "tavozas_napja": "2017-02-14",
                                    "mostani_foglalas_hossza": "2",
                                    "elozo_foglalas_hossza": "1"
                                },
                                {
                                    "szallas_nev": "Sába-Ház",
                                    "tipus": "vendégház",
                                    "csillagok_szama": "0",
                                    "vendeg_neve": "Kiss Lajos",
                                    "vendegek_szama": "1",
                                    "erkezes_napja": "2017-02-12",
                                    "tavozas_napja": "2017-02-13",
                                    "mostani_foglalas_hossza": "1",
                                    "elozo_foglalas_hossza": "2"
                                },
                                {
                                    "szallas_nev": "Szieszta Apartmanház",
                                    "tipus": "Apartman",
                                    "csillagok_szama": "0",
                                    "vendeg_neve": "Bajusz Bence",
                                    "vendegek_szama": "3",
                                    "erkezes_napja": "2017-02-12",
                                    "tavozas_napja": "2017-02-19",
                                    "mostani_foglalas_hossza": "7",
                                    "elozo_foglalas_hossza": "1"
                                },
                                {
                                    "szallas_nev": "Kentaur Hotel",
                                    "tipus": "Hotel",
                                    "csillagok_szama": "3",
                                    "vendeg_neve": "Rácz Dániel",
                                    "vendegek_szama": "3",
                                    "erkezes_napja": "2017-02-12",
                                    "tavozas_napja": "2017-02-13",
                                    "mostani_foglalas_hossza": "1",
                                    "elozo_foglalas_hossza": "7"
                                },
                                {
                                    "szallas_nev": "Jáde panzió",
                                    "tipus": "panzió",
                                    "csillagok_szama": "3",
                                    "vendeg_neve": "Tóth Anikó",
                                    "vendegek_szama": "3",
                                    "erkezes_napja": "2017-02-12",
                                    "tavozas_napja": "2017-02-14",
                                    "mostani_foglalas_hossza": "2",
                                    "elozo_foglalas_hossza": "1"
                                },
                                {
                                    "szallas_nev": "Hotel Három Hattyú",
                                    "tipus": "Hotel",
                                    "csillagok_szama": "4",
                                    "vendeg_neve": "Bozsik Balázs",
                                    "vendegek_szama": "2",
                                    "erkezes_napja": "2017-02-12",
                                    "tavozas_napja": "2017-02-14",
                                    "mostani_foglalas_hossza": "2",
                                    "elozo_foglalas_hossza": "2"
                                },
                                {
                                    "szallas_nev": "Hotel Három Hattyú",
                                    "tipus": "Hotel",
                                    "csillagok_szama": "4",
                                    "vendeg_neve": "Móricz Árpád",
                                    "vendegek_szama": "3",
                                    "erkezes_napja": "2017-02-12",
                                    "tavozas_napja": "2017-02-14",
                                    "mostani_foglalas_hossza": "2",
                                    "elozo_foglalas_hossza": "2"
                                },
                                {
                                    "szallas_nev": "Hotel Három Hattyú",
                                    "tipus": "Hotel",
                                    "csillagok_szama": "4",
                                    "vendeg_neve": "Nagymihály Csongor",
                                    "vendegek_szama": "3",
                                    "erkezes_napja": "2017-02-13",
                                    "tavozas_napja": "2017-02-19",
                                    "mostani_foglalas_hossza": "6",
                                    "elozo_foglalas_hossza": "2"
                                },
                                {
                                    "szallas_nev": "Hotel Három Hattyú",
                                    "tipus": "Hotel",
                                    "csillagok_szama": "4",
                                    "vendeg_neve": "Oroszi György",
                                    "vendegek_szama": "2",
                                    "erkezes_napja": "2017-02-13",
                                    "tavozas_napja": "2017-02-15",
                                    "mostani_foglalas_hossza": "2",
                                    "elozo_foglalas_hossza": "6"
                                },
                                {
                                    "szallas_nev": "Hotel Három Hattyú",
                                    "tipus": "Hotel",
                                    "csillagok_szama": "4",
                                    "vendeg_neve": "Barabás Pál",
                                    "vendegek_szama": "3",
                                    "erkezes_napja": "2017-02-13",
                                    "tavozas_napja": "2017-02-19",
                                    "mostani_foglalas_hossza": "6",
                                    "elozo_foglalas_hossza": "2"
                                },
                                {
                                    "szallas_nev": "Hotel Három Hattyú",
                                    "tipus": "Hotel",
                                    "csillagok_szama": "4",
                                    "vendeg_neve": "Szűcs Norbert",
                                    "vendegek_szama": "3",
                                    "erkezes_napja": "2017-02-13",
                                    "tavozas_napja": "2017-02-15",
                                    "mostani_foglalas_hossza": "2",
                                    "elozo_foglalas_hossza": "6"
                                },
                                {
                                    "szallas_nev": "Fortuna panzió",
                                    "tipus": "panzió",
                                    "csillagok_szama": "3",
                                    "vendeg_neve": "Szirmai Renáta",
                                    "vendegek_szama": "1",
                                    "erkezes_napja": "2017-02-13",
                                    "tavozas_napja": "2017-02-17",
                                    "mostani_foglalas_hossza": "4",
                                    "elozo_foglalas_hossza": "2"
                                },
                                {
                                    "szallas_nev": "Hotel Három Hattyú",
                                    "tipus": "Hotel",
                                    "csillagok_szama": "4",
                                    "vendeg_neve": "Szirmai Renáta",
                                    "vendegek_szama": "2",
                                    "erkezes_napja": "2017-02-14",
                                    "tavozas_napja": "2017-02-17",
                                    "mostani_foglalas_hossza": "3",
                                    "elozo_foglalas_hossza": "4"
                                },
                                {
                                    "szallas_nev": "Kentaur Hotel",
                                    "tipus": "Hotel",
                                    "csillagok_szama": "3",
                                    "vendeg_neve": "Antal Tamás",
                                    "vendegek_szama": "3",
                                    "erkezes_napja": "2017-02-14",
                                    "tavozas_napja": "2017-02-19",
                                    "mostani_foglalas_hossza": "5",
                                    "elozo_foglalas_hossza": "3"
                                },
                                {
                                    "szallas_nev": "Fortuna Apartman",
                                    "tipus": "Apartman",
                                    "csillagok_szama": "0",
                                    "vendeg_neve": "Simon Bernadett",
                                    "vendegek_szama": "3",
                                    "erkezes_napja": "2017-02-14",
                                    "tavozas_napja": "2017-02-15",
                                    "mostani_foglalas_hossza": "1",
                                    "elozo_foglalas_hossza": "5"
                                },
                                {
                                    "szallas_nev": "Jáde panzió",
                                    "tipus": "panzió",
                                    "csillagok_szama": "3",
                                    "vendeg_neve": "Baróti Attila",
                                    "vendegek_szama": "2",
                                    "erkezes_napja": "2017-02-15",
                                    "tavozas_napja": "2017-02-22",
                                    "mostani_foglalas_hossza": "7",
                                    "elozo_foglalas_hossza": "1"
                                },
                                {
                                    "szallas_nev": "Fortuna panzió",
                                    "tipus": "panzió",
                                    "csillagok_szama": "3",
                                    "vendeg_neve": "Horváth Árpád",
                                    "vendegek_szama": "2",
                                    "erkezes_napja": "2017-02-16",
                                    "tavozas_napja": "2017-02-18",
                                    "mostani_foglalas_hossza": "2",
                                    "elozo_foglalas_hossza": "7"
                                },
                                {
                                    "szallas_nev": "Lagúna Hotel",
                                    "tipus": "Hotel",
                                    "csillagok_szama": "4",
                                    "vendeg_neve": "Regős Annamária",
                                    "vendegek_szama": "2",
                                    "erkezes_napja": "2017-02-16",
                                    "tavozas_napja": "2017-02-18",
                                    "mostani_foglalas_hossza": "2",
                                    "elozo_foglalas_hossza": "2"
                                },
                                {
                                    "szallas_nev": "Sába-Ház",
                                    "tipus": "vendégház",
                                    "csillagok_szama": "0",
                                    "vendeg_neve": "Hartyánszky Ágnes",
                                    "vendegek_szama": "3",
                                    "erkezes_napja": "2017-02-16",
                                    "tavozas_napja": "2017-02-21",
                                    "mostani_foglalas_hossza": "5",
                                    "elozo_foglalas_hossza": "2"
                                },
                                {
                                    "szallas_nev": "Fortuna Panzió",
                                    "tipus": "panzió",
                                    "csillagok_szama": "3",
                                    "vendeg_neve": "Csiger Bertalan",
                                    "vendegek_szama": "2",
                                    "erkezes_napja": "2017-02-16",
                                    "tavozas_napja": "2017-02-22",
                                    "mostani_foglalas_hossza": "6",
                                    "elozo_foglalas_hossza": "5"
                                },
                                {
                                    "szallas_nev": "Hotel Három Hattyú",
                                    "tipus": "Hotel",
                                    "csillagok_szama": "4",
                                    "vendeg_neve": "Berta Dávid",
                                    "vendegek_szama": "3",
                                    "erkezes_napja": "2017-02-16",
                                    "tavozas_napja": "2017-02-19",
                                    "mostani_foglalas_hossza": "3",
                                    "elozo_foglalas_hossza": "6"
                                },
                                {
                                    "szallas_nev": "Családi Ház",
                                    "tipus": "vendégház",
                                    "csillagok_szama": "0",
                                    "vendeg_neve": "Szedlár Krisztina",
                                    "vendegek_szama": "4",
                                    "erkezes_napja": "2017-02-16",
                                    "tavozas_napja": "2017-02-20",
                                    "mostani_foglalas_hossza": "4",
                                    "elozo_foglalas_hossza": "3"
                                },
                                {
                                    "szallas_nev": "Sába-Ház",
                                    "tipus": "vendégház",
                                    "csillagok_szama": "0",
                                    "vendeg_neve": "Fényes Tamás",
                                    "vendegek_szama": "4",
                                    "erkezes_napja": "2017-02-16",
                                    "tavozas_napja": "2017-02-19",
                                    "mostani_foglalas_hossza": "3",
                                    "elozo_foglalas_hossza": "4"
                                },
                                {
                                    "szallas_nev": "Hotel Három Hattyú",
                                    "tipus": "Hotel",
                                    "csillagok_szama": "4",
                                    "vendeg_neve": "Kardos Renáta",
                                    "vendegek_szama": "1",
                                    "erkezes_napja": "2017-02-16",
                                    "tavozas_napja": "2017-02-23",
                                    "mostani_foglalas_hossza": "7",
                                    "elozo_foglalas_hossza": "3"
                                },
                                {
                                    "szallas_nev": "Lagúna Hotel",
                                    "tipus": "Hotel",
                                    "csillagok_szama": "4",
                                    "vendeg_neve": "Mile Norbert",
                                    "vendegek_szama": "1",
                                    "erkezes_napja": "2017-02-16",
                                    "tavozas_napja": "2017-02-17",
                                    "mostani_foglalas_hossza": "1",
                                    "elozo_foglalas_hossza": "7"
                                },
                                {
                                    "szallas_nev": "Lagúna Hotel",
                                    "tipus": "Hotel",
                                    "csillagok_szama": "4",
                                    "vendeg_neve": "Iván Róbert",
                                    "vendegek_szama": "2",
                                    "erkezes_napja": "2017-02-17",
                                    "tavozas_napja": "2017-02-20",
                                    "mostani_foglalas_hossza": "3",
                                    "elozo_foglalas_hossza": "1"
                                },
                                {
                                    "szallas_nev": "Fortuna Panzió",
                                    "tipus": "panzió",
                                    "csillagok_szama": "3",
                                    "vendeg_neve": "Sobják Dávid",
                                    "vendegek_szama": "3",
                                    "erkezes_napja": "2017-02-17",
                                    "tavozas_napja": "2017-02-20",
                                    "mostani_foglalas_hossza": "3",
                                    "elozo_foglalas_hossza": "3"
                                },
                                {
                                    "szallas_nev": "Kentaur Hotel",
                                    "tipus": "Hotel",
                                    "csillagok_szama": "3",
                                    "vendeg_neve": "Ötvös Árpád",
                                    "vendegek_szama": "4",
                                    "erkezes_napja": "2017-02-18",
                                    "tavozas_napja": "2017-02-19",
                                    "mostani_foglalas_hossza": "1",
                                    "elozo_foglalas_hossza": "3"
                                },
                                {
                                    "szallas_nev": "Szieszta Apartmanház",
                                    "tipus": "Apartman",
                                    "csillagok_szama": "0",
                                    "vendeg_neve": "Nagy László",
                                    "vendegek_szama": "3",
                                    "erkezes_napja": "2017-02-18",
                                    "tavozas_napja": "2017-02-25",
                                    "mostani_foglalas_hossza": "7",
                                    "elozo_foglalas_hossza": "1"
                                },
                                {
                                    "szallas_nev": "Fortuna Apartman",
                                    "tipus": "Apartman",
                                    "csillagok_szama": "0",
                                    "vendeg_neve": "Bucskó Róza",
                                    "vendegek_szama": "3",
                                    "erkezes_napja": "2017-02-18",
                                    "tavozas_napja": "2017-02-21",
                                    "mostani_foglalas_hossza": "3",
                                    "elozo_foglalas_hossza": "7"
                                },
                                {
                                    "szallas_nev": "Fortuna Panzió",
                                    "tipus": "panzió",
                                    "csillagok_szama": "3",
                                    "vendeg_neve": "Molnár Zsófi",
                                    "vendegek_szama": "3",
                                    "erkezes_napja": "2017-02-18",
                                    "tavozas_napja": "2017-02-19",
                                    "mostani_foglalas_hossza": "1",
                                    "elozo_foglalas_hossza": "3"
                                },
                                {
                                    "szallas_nev": "Lagúna Hotel",
                                    "tipus": "Hotel",
                                    "csillagok_szama": "4",
                                    "vendeg_neve": "Hamvay-Kovács Anita",
                                    "vendegek_szama": "2",
                                    "erkezes_napja": "2017-02-19",
                                    "tavozas_napja": "2017-02-22",
                                    "mostani_foglalas_hossza": "3",
                                    "elozo_foglalas_hossza": "1"
                                },
                                {
                                    "szallas_nev": "Fortuna Panzió",
                                    "tipus": "panzió",
                                    "csillagok_szama": "3",
                                    "vendeg_neve": "Hamvay-Kovács Anita",
                                    "vendegek_szama": "2",
                                    "erkezes_napja": "2017-02-20",
                                    "tavozas_napja": "2017-02-25",
                                    "mostani_foglalas_hossza": "5",
                                    "elozo_foglalas_hossza": "3"
                                },
                                {
                                    "szallas_nev": "Hotel Három Hattyú",
                                    "tipus": "Hotel",
                                    "csillagok_szama": "4",
                                    "vendeg_neve": "Csiger Bertalan",
                                    "vendegek_szama": "4",
                                    "erkezes_napja": "2017-02-20",
                                    "tavozas_napja": "2017-02-24",
                                    "mostani_foglalas_hossza": "4",
                                    "elozo_foglalas_hossza": "5"
                                },
                                {
                                    "szallas_nev": "Hotel Három Hattyú",
                                    "tipus": "Hotel",
                                    "csillagok_szama": "4",
                                    "vendeg_neve": "Rácz Dániel",
                                    "vendegek_szama": "3",
                                    "erkezes_napja": "2017-02-20",
                                    "tavozas_napja": "2017-02-23",
                                    "mostani_foglalas_hossza": "3",
                                    "elozo_foglalas_hossza": "4"
                                },
                                {
                                    "szallas_nev": "Fortuna Panzió",
                                    "tipus": "panzió",
                                    "csillagok_szama": "3",
                                    "vendeg_neve": "Barabás Pál",
                                    "vendegek_szama": "3",
                                    "erkezes_napja": "2017-02-20",
                                    "tavozas_napja": "2017-02-22",
                                    "mostani_foglalas_hossza": "2",
                                    "elozo_foglalas_hossza": "3"
                                },
                                {
                                    "szallas_nev": "Kentaur Hotel",
                                    "tipus": "Hotel",
                                    "csillagok_szama": "3",
                                    "vendeg_neve": "Szalai Péter",
                                    "vendegek_szama": "2",
                                    "erkezes_napja": "2017-02-21",
                                    "tavozas_napja": "2017-02-24",
                                    "mostani_foglalas_hossza": "3",
                                    "elozo_foglalas_hossza": "2"
                                },
                                {
                                    "szallas_nev": "Lagúna Hotel",
                                    "tipus": "Hotel",
                                    "csillagok_szama": "4",
                                    "vendeg_neve": "Kelemen Áron",
                                    "vendegek_szama": "2",
                                    "erkezes_napja": "2017-02-21",
                                    "tavozas_napja": "2017-02-23",
                                    "mostani_foglalas_hossza": "2",
                                    "elozo_foglalas_hossza": "3"
                                },
                                {
                                    "szallas_nev": "Fortuna panzió",
                                    "tipus": "panzió",
                                    "csillagok_szama": "3",
                                    "vendeg_neve": "Nagy Gabriella",
                                    "vendegek_szama": "3",
                                    "erkezes_napja": "2017-02-21",
                                    "tavozas_napja": "2017-02-27",
                                    "mostani_foglalas_hossza": "6",
                                    "elozo_foglalas_hossza": "2"
                                },
                                {
                                    "szallas_nev": "Gold Hotel",
                                    "tipus": "Hotel",
                                    "csillagok_szama": "3",
                                    "vendeg_neve": "Opra Attila",
                                    "vendegek_szama": "3",
                                    "erkezes_napja": "2017-02-22",
                                    "tavozas_napja": "2017-02-25",
                                    "mostani_foglalas_hossza": "3",
                                    "elozo_foglalas_hossza": "6"
                                },
                                {
                                    "szallas_nev": "Lagúna Hotel",
                                    "tipus": "Hotel",
                                    "csillagok_szama": "4",
                                    "vendeg_neve": "Bieniek Ádám",
                                    "vendegek_szama": "3",
                                    "erkezes_napja": "2017-02-23",
                                    "tavozas_napja": "2017-02-27",
                                    "mostani_foglalas_hossza": "4",
                                    "elozo_foglalas_hossza": "3"
                                },
                                {
                                    "szallas_nev": "Hotel Három Hattyú",
                                    "tipus": "Hotel",
                                    "csillagok_szama": "4",
                                    "vendeg_neve": "Tóth Anikó",
                                    "vendegek_szama": "2",
                                    "erkezes_napja": "2017-02-23",
                                    "tavozas_napja": "2017-02-24",
                                    "mostani_foglalas_hossza": "1",
                                    "elozo_foglalas_hossza": "4"
                                },
                                {
                                    "szallas_nev": "Gold Hotel",
                                    "tipus": "Hotel",
                                    "csillagok_szama": "3",
                                    "vendeg_neve": "Bárci Gusztáv",
                                    "vendegek_szama": "4",
                                    "erkezes_napja": "2017-02-23",
                                    "tavozas_napja": "2017-03-01",
                                    "mostani_foglalas_hossza": "6",
                                    "elozo_foglalas_hossza": "1"
                                },
                                {
                                    "szallas_nev": "Kentaur Hotel",
                                    "tipus": "Hotel",
                                    "csillagok_szama": "3",
                                    "vendeg_neve": "Mohos Mónika",
                                    "vendegek_szama": "2",
                                    "erkezes_napja": "2017-02-23",
                                    "tavozas_napja": "2017-02-26",
                                    "mostani_foglalas_hossza": "3",
                                    "elozo_foglalas_hossza": "6"
                                },
                                {
                                    "szallas_nev": "Hotel Három Hattyú",
                                    "tipus": "Hotel",
                                    "csillagok_szama": "4",
                                    "vendeg_neve": "Czérna Krisztián",
                                    "vendegek_szama": "2",
                                    "erkezes_napja": "2017-02-23",
                                    "tavozas_napja": "2017-03-02",
                                    "mostani_foglalas_hossza": "7",
                                    "elozo_foglalas_hossza": "3"
                                },
                                {
                                    "szallas_nev": "Partiszél Vendégház",
                                    "tipus": "vendégház",
                                    "csillagok_szama": "0",
                                    "vendeg_neve": "Kozma Péter",
                                    "vendegek_szama": "3",
                                    "erkezes_napja": "2017-02-23",
                                    "tavozas_napja": "2017-02-26",
                                    "mostani_foglalas_hossza": "3",
                                    "elozo_foglalas_hossza": "7"
                                },
                                {
                                    "szallas_nev": "Gold Hotel",
                                    "tipus": "Hotel",
                                    "csillagok_szama": "3",
                                    "vendeg_neve": "Horváth Katalin",
                                    "vendegek_szama": "3",
                                    "erkezes_napja": "2017-02-24",
                                    "tavozas_napja": "2017-02-27",
                                    "mostani_foglalas_hossza": "3",
                                    "elozo_foglalas_hossza": "3"
                                },
                                {
                                    "szallas_nev": "Gold Hotel",
                                    "tipus": "Hotel",
                                    "csillagok_szama": "3",
                                    "vendeg_neve": "Baráth Mária",
                                    "vendegek_szama": "2",
                                    "erkezes_napja": "2017-02-24",
                                    "tavozas_napja": "2017-03-02",
                                    "mostani_foglalas_hossza": "6",
                                    "elozo_foglalas_hossza": "3"
                                },
                                {
                                    "szallas_nev": "Hotel Három Hattyú",
                                    "tipus": "Hotel",
                                    "csillagok_szama": "4",
                                    "vendeg_neve": "Oroszi György",
                                    "vendegek_szama": "3",
                                    "erkezes_napja": "2017-02-24",
                                    "tavozas_napja": "2017-02-25",
                                    "mostani_foglalas_hossza": "1",
                                    "elozo_foglalas_hossza": "6"
                                },
                                {
                                    "szallas_nev": "Hotel Három Hattyú",
                                    "tipus": "Hotel",
                                    "csillagok_szama": "4",
                                    "vendeg_neve": "Gyuris József",
                                    "vendegek_szama": "3",
                                    "erkezes_napja": "2017-02-24",
                                    "tavozas_napja": "2017-03-03",
                                    "mostani_foglalas_hossza": "7",
                                    "elozo_foglalas_hossza": "1"
                                },
                                {
                                    "szallas_nev": "Fortuna panzió",
                                    "tipus": "panzió",
                                    "csillagok_szama": "3",
                                    "vendeg_neve": "Simon Bernadett",
                                    "vendegek_szama": "1",
                                    "erkezes_napja": "2017-02-24",
                                    "tavozas_napja": "2017-03-03",
                                    "mostani_foglalas_hossza": "7",
                                    "elozo_foglalas_hossza": "7"
                                },
                                {
                                    "szallas_nev": "Partiszél Vendégház",
                                    "tipus": "vendégház",
                                    "csillagok_szama": "0",
                                    "vendeg_neve": "Vörös Dániel",
                                    "vendegek_szama": "3",
                                    "erkezes_napja": "2017-02-25",
                                    "tavozas_napja": "2017-03-01",
                                    "mostani_foglalas_hossza": "4",
                                    "elozo_foglalas_hossza": "7"
                                },
                                {
                                    "szallas_nev": "Lagúna Hotel",
                                    "tipus": "Hotel",
                                    "csillagok_szama": "4",
                                    "vendeg_neve": "Sobják Dávid",
                                    "vendegek_szama": "4",
                                    "erkezes_napja": "2017-02-25",
                                    "tavozas_napja": "2017-02-27",
                                    "mostani_foglalas_hossza": "2",
                                    "elozo_foglalas_hossza": "4"
                                },
                                {
                                    "szallas_nev": "Kentaur Hotel",
                                    "tipus": "Hotel",
                                    "csillagok_szama": "3",
                                    "vendeg_neve": "Jakab Áron",
                                    "vendegek_szama": "3",
                                    "erkezes_napja": "2017-02-26",
                                    "tavozas_napja": "2017-02-27",
                                    "mostani_foglalas_hossza": "1",
                                    "elozo_foglalas_hossza": "2"
                                },
                                {
                                    "szallas_nev": "Hotel Három Hattyú",
                                    "tipus": "Hotel",
                                    "csillagok_szama": "4",
                                    "vendeg_neve": "Fülöp Eszter",
                                    "vendegek_szama": "3",
                                    "erkezes_napja": "2017-02-26",
                                    "tavozas_napja": "2017-02-27",
                                    "mostani_foglalas_hossza": "1",
                                    "elozo_foglalas_hossza": "1"
                                },
                                {
                                    "szallas_nev": "Szieszta Apartmanház",
                                    "tipus": "Apartman",
                                    "csillagok_szama": "0",
                                    "vendeg_neve": "Szikszai Réka",
                                    "vendegek_szama": "2",
                                    "erkezes_napja": "2017-02-26",
                                    "tavozas_napja": "2017-03-04",
                                    "mostani_foglalas_hossza": "6",
                                    "elozo_foglalas_hossza": "1"
                                },
                                {
                                    "szallas_nev": "Gold Hotel",
                                    "tipus": "Hotel",
                                    "csillagok_szama": "3",
                                    "vendeg_neve": "Szűcs Norbert",
                                    "vendegek_szama": "1",
                                    "erkezes_napja": "2017-02-26",
                                    "tavozas_napja": "2017-03-01",
                                    "mostani_foglalas_hossza": "3",
                                    "elozo_foglalas_hossza": "6"
                                },
                                {
                                    "szallas_nev": "Kentaur Hotel",
                                    "tipus": "Hotel",
                                    "csillagok_szama": "3",
                                    "vendeg_neve": "Tóth Júlia",
                                    "vendegek_szama": "3",
                                    "erkezes_napja": "2017-02-27",
                                    "tavozas_napja": "2017-03-06",
                                    "mostani_foglalas_hossza": "7",
                                    "elozo_foglalas_hossza": "3"
                                },
                                {
                                    "szallas_nev": "Lagúna Hotel",
                                    "tipus": "Hotel",
                                    "csillagok_szama": "4",
                                    "vendeg_neve": "Szűcs Balázs",
                                    "vendegek_szama": "1",
                                    "erkezes_napja": "2017-02-27",
                                    "tavozas_napja": "2017-03-06",
                                    "mostani_foglalas_hossza": "7",
                                    "elozo_foglalas_hossza": "7"
                                },
                                {
                                    "szallas_nev": "Hotel Három Hattyú",
                                    "tipus": "Hotel",
                                    "csillagok_szama": "4",
                                    "vendeg_neve": "Kozma Péter",
                                    "vendegek_szama": "3",
                                    "erkezes_napja": "2017-02-28",
                                    "tavozas_napja": "2017-03-05",
                                    "mostani_foglalas_hossza": "5",
                                    "elozo_foglalas_hossza": "7"
                                },
                                {
                                    "szallas_nev": "Fortuna Panzió",
                                    "tipus": "panzió",
                                    "csillagok_szama": "3",
                                    "vendeg_neve": "Kardos Renáta",
                                    "vendegek_szama": "1",
                                    "erkezes_napja": "2017-03-01",
                                    "tavozas_napja": "2017-03-06",
                                    "mostani_foglalas_hossza": "5",
                                    "elozo_foglalas_hossza": "5"
                                },
                                {
                                    "szallas_nev": "Kentaur Hotel",
                                    "tipus": "Hotel",
                                    "csillagok_szama": "3",
                                    "vendeg_neve": "Keszler Dániel",
                                    "vendegek_szama": "4",
                                    "erkezes_napja": "2017-03-01",
                                    "tavozas_napja": "2017-03-06",
                                    "mostani_foglalas_hossza": "5",
                                    "elozo_foglalas_hossza": "5"
                                },
                                {
                                    "szallas_nev": "Kentaur Hotel",
                                    "tipus": "Hotel",
                                    "csillagok_szama": "3",
                                    "vendeg_neve": "Kalacsi Márton",
                                    "vendegek_szama": "2",
                                    "erkezes_napja": "2017-03-02",
                                    "tavozas_napja": "2017-03-03",
                                    "mostani_foglalas_hossza": "1",
                                    "elozo_foglalas_hossza": "5"
                                },
                                {
                                    "szallas_nev": "Kentaur Hotel",
                                    "tipus": "Hotel",
                                    "csillagok_szama": "3",
                                    "vendeg_neve": "Horváth Krisztina",
                                    "vendegek_szama": "3",
                                    "erkezes_napja": "2017-03-03",
                                    "tavozas_napja": "2017-03-04",
                                    "mostani_foglalas_hossza": "1",
                                    "elozo_foglalas_hossza": "1"
                                },
                                {
                                    "szallas_nev": "Hotel Három Hattyú",
                                    "tipus": "Hotel",
                                    "csillagok_szama": "4",
                                    "vendeg_neve": "Mile Norbert",
                                    "vendegek_szama": "2",
                                    "erkezes_napja": "2017-03-03",
                                    "tavozas_napja": "2017-03-07",
                                    "mostani_foglalas_hossza": "4",
                                    "elozo_foglalas_hossza": "1"
                                }
                            ]
                        },
                        "text/html": [
                            "<table>",
                            "<tr><th>szallas_nev</th><th>tipus</th><th>csillagok_szama</th><th>vendeg_neve</th><th>vendegek_szama</th><th>erkezes_napja</th><th>tavozas_napja</th><th>mostani_foglalas_hossza</th><th>elozo_foglalas_hossza</th></tr>",
                            "<tr><td>Jáde panzió</td><td>panzió</td><td>3</td><td>Kelemen Áron</td><td>2</td><td>2016-04-06</td><td>2016-04-08</td><td>2</td><td>NULL</td></tr>",
                            "<tr><td>Fortuna Panzió</td><td>panzió</td><td>3</td><td>Móra László</td><td>2</td><td>2016-04-06</td><td>2016-04-10</td><td>4</td><td>2</td></tr>",
                            "<tr><td>Szieszta Apartmanház</td><td>Apartman</td><td>0</td><td>Fő Nándor</td><td>3</td><td>2016-04-06</td><td>2016-04-10</td><td>4</td><td>4</td></tr>",
                            "<tr><td>Sába-Ház</td><td>vendégház</td><td>0</td><td>Berendi Péter</td><td>1</td><td>2016-04-06</td><td>2016-04-10</td><td>4</td><td>4</td></tr>",
                            "<tr><td>Sába-Ház</td><td>vendégház</td><td>0</td><td>Foltényi Sebastián</td><td>2</td><td>2016-04-06</td><td>2016-04-12</td><td>6</td><td>4</td></tr>",
                            "<tr><td>Kentaur Hotel</td><td>Hotel</td><td>3</td><td>Rab Sebestyén</td><td>4</td><td>2016-04-07</td><td>2016-04-12</td><td>5</td><td>6</td></tr>",
                            "<tr><td>Sába-Ház</td><td>vendégház</td><td>0</td><td>Kő Nikoletta</td><td>2</td><td>2016-04-08</td><td>2016-04-10</td><td>2</td><td>5</td></tr>",
                            "<tr><td>Lagúna Hotel</td><td>Hotel</td><td>4</td><td>Poprádi Kristóf</td><td>2</td><td>2016-04-08</td><td>2016-04-14</td><td>6</td><td>2</td></tr>",
                            "<tr><td>Fortuna Apartman</td><td>Apartman</td><td>0</td><td>Mogyródi Krisztián</td><td>2</td><td>2016-04-09</td><td>2016-04-15</td><td>6</td><td>6</td></tr>",
                            "<tr><td>Kentaur Hotel</td><td>Hotel</td><td>3</td><td>Gondos Katalin</td><td>2</td><td>2016-04-10</td><td>2016-04-11</td><td>1</td><td>6</td></tr>",
                            "<tr><td>Kentaur Hotel</td><td>Hotel</td><td>3</td><td>Horváth Katalin</td><td>2</td><td>2016-04-10</td><td>2016-04-17</td><td>7</td><td>1</td></tr>",
                            "<tr><td>Gold Hotel</td><td>Hotel</td><td>3</td><td>Kovács Katalin</td><td>2</td><td>2016-04-10</td><td>2016-04-12</td><td>2</td><td>7</td></tr>",
                            "<tr><td>Gold Hotel</td><td>Hotel</td><td>3</td><td>Horváth Ágnes</td><td>2</td><td>2016-04-10</td><td>2016-04-12</td><td>2</td><td>2</td></tr>",
                            "<tr><td>Gold Hotel</td><td>Hotel</td><td>3</td><td>Pivarcsi Anett</td><td>1</td><td>2016-04-10</td><td>2016-04-17</td><td>7</td><td>2</td></tr>",
                            "<tr><td>Partiszél Vendégház</td><td>vendégház</td><td>0</td><td>Orbán Bernadett</td><td>2</td><td>2016-04-10</td><td>2016-04-17</td><td>7</td><td>7</td></tr>",
                            "<tr><td>Lagúna Hotel</td><td>Hotel</td><td>4</td><td>Rácz Dániel</td><td>4</td><td>2016-04-10</td><td>2016-04-11</td><td>1</td><td>7</td></tr>",
                            "<tr><td>Gold Hotel</td><td>Hotel</td><td>3</td><td>Keszler Dániel</td><td>2</td><td>2016-04-10</td><td>2016-04-15</td><td>5</td><td>1</td></tr>",
                            "<tr><td>Sába-Ház</td><td>vendégház</td><td>0</td><td>Mile Norbert</td><td>2</td><td>2016-04-10</td><td>2016-04-13</td><td>3</td><td>5</td></tr>",
                            "<tr><td>Hotel Három Hattyú</td><td>Hotel</td><td>4</td><td>Jakab Áron</td><td>3</td><td>2016-04-11</td><td>2016-04-12</td><td>1</td><td>3</td></tr>",
                            "<tr><td>Lagúna Hotel</td><td>Hotel</td><td>4</td><td>Bíró Péter</td><td>3</td><td>2016-04-12</td><td>2016-04-15</td><td>3</td><td>1</td></tr>",
                            "<tr><td>Gold Hotel</td><td>Hotel</td><td>3</td><td>Pivarcsi Anett</td><td>3</td><td>2016-04-13</td><td>2016-04-19</td><td>6</td><td>3</td></tr>",
                            "<tr><td>Jáde panzió</td><td>panzió</td><td>3</td><td>Pulai Zsolt</td><td>2</td><td>2016-04-14</td><td>2016-04-17</td><td>3</td><td>6</td></tr>",
                            "<tr><td>Lagúna Hotel</td><td>Hotel</td><td>4</td><td>Vajda Zsuzsa</td><td>2</td><td>2016-04-14</td><td>2016-04-16</td><td>2</td><td>3</td></tr>",
                            "<tr><td>Lagúna Hotel</td><td>Hotel</td><td>4</td><td>Pivarcsi Anett</td><td>3</td><td>2016-04-15</td><td>2016-04-19</td><td>4</td><td>2</td></tr>",
                            "<tr><td>Lagúna Hotel</td><td>Hotel</td><td>4</td><td>Szűcs Balázs</td><td>2</td><td>2016-04-16</td><td>2016-04-19</td><td>3</td><td>4</td></tr>",
                            "<tr><td>Kentaur Hotel</td><td>Hotel</td><td>3</td><td>Vizi István</td><td>3</td><td>2016-04-16</td><td>2016-04-22</td><td>6</td><td>3</td></tr>",
                            "<tr><td>Lagúna Hotel</td><td>Hotel</td><td>4</td><td>Orbán Bernadett</td><td>2</td><td>2016-04-17</td><td>2016-04-19</td><td>2</td><td>6</td></tr>",
                            "<tr><td>Kentaur Hotel</td><td>Hotel</td><td>3</td><td>Palágyi Polla</td><td>3</td><td>2016-04-17</td><td>2016-04-22</td><td>5</td><td>2</td></tr>",
                            "<tr><td>Hotel Három Hattyú</td><td>Hotel</td><td>4</td><td>Szekendi Beatrix</td><td>1</td><td>2016-04-18</td><td>2016-04-24</td><td>6</td><td>5</td></tr>",
                            "<tr><td>Fortuna Panzió</td><td>panzió</td><td>3</td><td>Simon Anikó</td><td>2</td><td>2016-04-19</td><td>2016-04-24</td><td>5</td><td>6</td></tr>",
                            "<tr><td>Fortuna Panzió</td><td>panzió</td><td>3</td><td>Gondos Miklós</td><td>3</td><td>2016-04-19</td><td>2016-04-21</td><td>2</td><td>5</td></tr>",
                            "<tr><td>Lagúna Hotel</td><td>Hotel</td><td>4</td><td>Kispál Márk</td><td>4</td><td>2016-04-19</td><td>2016-04-26</td><td>7</td><td>2</td></tr>",
                            "<tr><td>Hotel Három Hattyú</td><td>Hotel</td><td>4</td><td>Hegedűs Norbert</td><td>1</td><td>2016-04-19</td><td>2016-04-26</td><td>7</td><td>7</td></tr>",
                            "<tr><td>Lagúna Hotel</td><td>Hotel</td><td>4</td><td>Bagi Beáta</td><td>2</td><td>2016-04-20</td><td>2016-04-21</td><td>1</td><td>7</td></tr>",
                            "<tr><td>Gold Hotel</td><td>Hotel</td><td>3</td><td>Tóth Júlia</td><td>2</td><td>2016-04-21</td><td>2016-04-26</td><td>5</td><td>1</td></tr>",
                            "<tr><td>Kentaur Hotel</td><td>Hotel</td><td>3</td><td>Nagy Gabriella</td><td>3</td><td>2016-04-21</td><td>2016-04-24</td><td>3</td><td>5</td></tr>",
                            "<tr><td>Kentaur Hotel</td><td>Hotel</td><td>3</td><td>Horváth Bálint</td><td>2</td><td>2016-04-22</td><td>2016-04-29</td><td>7</td><td>3</td></tr>",
                            "<tr><td>Lagúna Hotel</td><td>Hotel</td><td>4</td><td>Rácz Dániel</td><td>2</td><td>2016-04-22</td><td>2016-04-25</td><td>3</td><td>7</td></tr>",
                            "<tr><td>Hotel Három Hattyú</td><td>Hotel</td><td>4</td><td>Gyárfás Krisztina</td><td>2</td><td>2016-04-23</td><td>2016-04-24</td><td>1</td><td>3</td></tr>",
                            "<tr><td>Hotel Három Hattyú</td><td>Hotel</td><td>4</td><td>Szalai Szilárd</td><td>3</td><td>2016-04-23</td><td>2016-04-30</td><td>7</td><td>1</td></tr>",
                            "<tr><td>Fortuna panzió</td><td>panzió</td><td>3</td><td>Józsa Zsolt</td><td>4</td><td>2016-04-24</td><td>2016-04-26</td><td>2</td><td>7</td></tr>",
                            "<tr><td>Partiszél Vendégház</td><td>vendégház</td><td>0</td><td>Vizi István</td><td>3</td><td>2016-04-24</td><td>2016-04-28</td><td>4</td><td>2</td></tr>",
                            "<tr><td>Gold Hotel</td><td>Hotel</td><td>3</td><td>Erdei András</td><td>1</td><td>2016-04-24</td><td>2016-05-01</td><td>7</td><td>4</td></tr>",
                            "<tr><td>Fortuna panzió</td><td>panzió</td><td>3</td><td>Gondos Katalin</td><td>1</td><td>2016-04-25</td><td>2016-05-01</td><td>6</td><td>7</td></tr>",
                            "<tr><td>Fortuna Panzió</td><td>panzió</td><td>3</td><td>Telek Gábor</td><td>3</td><td>2016-04-26</td><td>2016-04-29</td><td>3</td><td>6</td></tr>",
                            "<tr><td>Fortuna Apartman</td><td>Apartman</td><td>0</td><td>Rab Sebestyén</td><td>4</td><td>2016-04-26</td><td>2016-05-02</td><td>6</td><td>3</td></tr>",
                            "<tr><td>Fortuna panzió</td><td>panzió</td><td>3</td><td>Móra László</td><td>2</td><td>2016-04-27</td><td>2016-04-29</td><td>2</td><td>6</td></tr>",
                            "<tr><td>Hotel Három Hattyú</td><td>Hotel</td><td>4</td><td>Kalacsi Márton</td><td>3</td><td>2016-04-27</td><td>2016-05-04</td><td>7</td><td>2</td></tr>",
                            "<tr><td>Fortuna panzió</td><td>panzió</td><td>3</td><td>Horváth Ágnes</td><td>4</td><td>2016-04-27</td><td>2016-04-28</td><td>1</td><td>7</td></tr>",
                            "<tr><td>Hotel Három Hattyú</td><td>Hotel</td><td>4</td><td>Pivarcsi Anett</td><td>3</td><td>2016-04-28</td><td>2016-05-02</td><td>4</td><td>1</td></tr>",
                            "<tr><td>Gold Hotel</td><td>Hotel</td><td>3</td><td>Bori Krisztina</td><td>2</td><td>2016-04-28</td><td>2016-04-30</td><td>2</td><td>4</td></tr>",
                            "<tr><td>Sába-Ház</td><td>vendégház</td><td>0</td><td>Mohos Mónika</td><td>2</td><td>2016-04-29</td><td>2016-05-01</td><td>2</td><td>2</td></tr>",
                            "<tr><td>Hotel Három Hattyú</td><td>Hotel</td><td>4</td><td>Urbán Viktoria</td><td>1</td><td>2016-04-30</td><td>2016-05-03</td><td>3</td><td>2</td></tr>",
                            "<tr><td>Gold Hotel</td><td>Hotel</td><td>3</td><td>Tóth Zoltán</td><td>3</td><td>2016-05-01</td><td>2016-05-04</td><td>3</td><td>3</td></tr>",
                            "<tr><td>Hotel Három Hattyú</td><td>Hotel</td><td>4</td><td>Viktor Éva</td><td>3</td><td>2016-05-01</td><td>2016-05-05</td><td>4</td><td>3</td></tr>",
                            "<tr><td>Fortuna panzió</td><td>panzió</td><td>3</td><td>Vígh András</td><td>2</td><td>2016-05-01</td><td>2016-05-06</td><td>5</td><td>4</td></tr>",
                            "<tr><td>Jáde panzió</td><td>panzió</td><td>3</td><td>Nagymihály Csongor</td><td>2</td><td>2016-05-01</td><td>2016-05-04</td><td>3</td><td>5</td></tr>",
                            "<tr><td>Hotel Három Hattyú</td><td>Hotel</td><td>4</td><td>Kovács Bernadett</td><td>2</td><td>2016-05-01</td><td>2016-05-03</td><td>2</td><td>3</td></tr>",
                            "<tr><td>Hotel Három Hattyú</td><td>Hotel</td><td>4</td><td>Gyuris József</td><td>2</td><td>2016-05-02</td><td>2016-05-06</td><td>4</td><td>2</td></tr>",
                            "<tr><td>Hotel Három Hattyú</td><td>Hotel</td><td>4</td><td>Boros Vivien</td><td>3</td><td>2016-05-02</td><td>2016-05-05</td><td>3</td><td>4</td></tr>",
                            "<tr><td>Hotel Három Hattyú</td><td>Hotel</td><td>4</td><td>Fényes Tamás</td><td>2</td><td>2016-05-03</td><td>2016-05-04</td><td>1</td><td>3</td></tr>",
                            "<tr><td>Jáde panzió</td><td>panzió</td><td>3</td><td>Szirmai Renáta</td><td>2</td><td>2016-05-04</td><td>2016-05-11</td><td>7</td><td>1</td></tr>",
                            "<tr><td>Sába-Ház</td><td>vendégház</td><td>0</td><td>Kalacsi Márton</td><td>1</td><td>2016-05-05</td><td>2016-05-10</td><td>5</td><td>7</td></tr>",
                            "<tr><td>Hotel Három Hattyú</td><td>Hotel</td><td>4</td><td>Bárci Gusztáv</td><td>2</td><td>2016-05-06</td><td>2016-05-13</td><td>7</td><td>5</td></tr>",
                            "<tr><td>Kentaur Hotel</td><td>Hotel</td><td>3</td><td>Bozsik Balázs</td><td>2</td><td>2016-05-07</td><td>2016-05-14</td><td>7</td><td>7</td></tr>",
                            "<tr><td>Fortuna panzió</td><td>panzió</td><td>3</td><td>Maródi Andrea</td><td>4</td><td>2016-05-08</td><td>2016-05-14</td><td>6</td><td>7</td></tr>",
                            "<tr><td>Fortuna Apartman</td><td>Apartman</td><td>0</td><td>Győrffy Bence</td><td>2</td><td>2016-05-08</td><td>2016-05-11</td><td>3</td><td>6</td></tr>",
                            "<tr><td>Hotel Három Hattyú</td><td>Hotel</td><td>4</td><td>Nagymihály Csongor</td><td>3</td><td>2016-05-08</td><td>2016-05-15</td><td>7</td><td>3</td></tr>",
                            "<tr><td>Kentaur Hotel</td><td>Hotel</td><td>3</td><td>Orosz Ferenc</td><td>2</td><td>2016-05-08</td><td>2016-05-11</td><td>3</td><td>7</td></tr>",
                            "<tr><td>Fortuna panzió</td><td>panzió</td><td>3</td><td>Lukács Kornél</td><td>3</td><td>2016-05-08</td><td>2016-05-14</td><td>6</td><td>3</td></tr>",
                            "<tr><td>Gold Hotel</td><td>Hotel</td><td>3</td><td>Kovács Katalin</td><td>3</td><td>2016-05-09</td><td>2016-05-15</td><td>6</td><td>6</td></tr>",
                            "<tr><td>Hotel Három Hattyú</td><td>Hotel</td><td>4</td><td>Giliga János</td><td>1</td><td>2016-05-09</td><td>2016-05-15</td><td>6</td><td>6</td></tr>",
                            "<tr><td>Sába-Ház</td><td>vendégház</td><td>0</td><td>Rácz Dániel</td><td>3</td><td>2016-05-09</td><td>2016-05-13</td><td>4</td><td>6</td></tr>",
                            "<tr><td>Fortuna Panzió</td><td>panzió</td><td>3</td><td>Lengyel Ágnes</td><td>3</td><td>2016-05-09</td><td>2016-05-11</td><td>2</td><td>4</td></tr>",
                            "<tr><td>Hotel Három Hattyú</td><td>Hotel</td><td>4</td><td>Hegedűs Norbert</td><td>2</td><td>2016-05-09</td><td>2016-05-10</td><td>1</td><td>2</td></tr>",
                            "<tr><td>Gold Hotel</td><td>Hotel</td><td>3</td><td>Kő Nikoletta</td><td>2</td><td>2016-05-09</td><td>2016-05-15</td><td>6</td><td>1</td></tr>",
                            "<tr><td>Partiszél Vendégház</td><td>vendégház</td><td>0</td><td>Józsa Zsolt</td><td>2</td><td>2016-05-09</td><td>2016-05-11</td><td>2</td><td>6</td></tr>",
                            "<tr><td>Hotel Három Hattyú</td><td>Hotel</td><td>4</td><td>Keszler Dániel</td><td>4</td><td>2016-05-10</td><td>2016-05-13</td><td>3</td><td>2</td></tr>",
                            "<tr><td>Hotel Három Hattyú</td><td>Hotel</td><td>4</td><td>Szilágyi Mátyás</td><td>2</td><td>2016-05-10</td><td>2016-05-16</td><td>6</td><td>3</td></tr>",
                            "<tr><td>Hotel Három Hattyú</td><td>Hotel</td><td>4</td><td>Szirmai Renáta</td><td>2</td><td>2016-05-11</td><td>2016-05-16</td><td>5</td><td>6</td></tr>",
                            "<tr><td>Gold Hotel</td><td>Hotel</td><td>3</td><td>Farkas Sándor</td><td>2</td><td>2016-05-12</td><td>2016-05-15</td><td>3</td><td>5</td></tr>",
                            "<tr><td>Partiszél Vendégház</td><td>vendégház</td><td>0</td><td>Barna Zoltán</td><td>3</td><td>2016-05-12</td><td>2016-05-16</td><td>4</td><td>3</td></tr>",
                            "<tr><td>Kentaur Hotel</td><td>Hotel</td><td>3</td><td>Tóth Júlia</td><td>1</td><td>2016-05-12</td><td>2016-05-17</td><td>5</td><td>4</td></tr>",
                            "<tr><td>Kentaur Hotel</td><td>Hotel</td><td>3</td><td>Baráth Mária</td><td>2</td><td>2016-05-13</td><td>2016-05-18</td><td>5</td><td>5</td></tr>",
                            "<tr><td>Lagúna Hotel</td><td>Hotel</td><td>4</td><td>Barna Zoltán</td><td>3</td><td>2016-05-13</td><td>2016-05-16</td><td>3</td><td>5</td></tr>",
                            "<tr><td>Gold Hotel</td><td>Hotel</td><td>3</td><td>Tari Szilvia</td><td>2</td><td>2016-05-14</td><td>2016-05-21</td><td>7</td><td>3</td></tr>",
                            "<tr><td>Kentaur Hotel</td><td>Hotel</td><td>3</td><td>Bajusz Bence</td><td>3</td><td>2016-05-14</td><td>2016-05-17</td><td>3</td><td>7</td></tr>",
                            "<tr><td>Hotel Három Hattyú</td><td>Hotel</td><td>4</td><td>Komjáti András</td><td>2</td><td>2016-05-14</td><td>2016-05-16</td><td>2</td><td>3</td></tr>",
                            "<tr><td>Kentaur Hotel</td><td>Hotel</td><td>3</td><td>Kelemen Áron</td><td>4</td><td>2016-05-14</td><td>2016-05-20</td><td>6</td><td>2</td></tr>",
                            "<tr><td>Szieszta Apartmanház</td><td>Apartman</td><td>0</td><td>Patay Róbert</td><td>2</td><td>2016-05-15</td><td>2016-05-18</td><td>3</td><td>6</td></tr>",
                            "<tr><td>Lagúna Hotel</td><td>Hotel</td><td>4</td><td>Bori Krisztina</td><td>1</td><td>2016-05-16</td><td>2016-05-20</td><td>4</td><td>3</td></tr>",
                            "<tr><td>Lagúna Hotel</td><td>Hotel</td><td>4</td><td>Antal Tamás</td><td>2</td><td>2016-05-17</td><td>2016-05-22</td><td>5</td><td>4</td></tr>",
                            "<tr><td>Kentaur Hotel</td><td>Hotel</td><td>3</td><td>Barta Zsuzsanna</td><td>2</td><td>2016-05-17</td><td>2016-05-23</td><td>6</td><td>5</td></tr>",
                            "<tr><td>Gold Hotel</td><td>Hotel</td><td>3</td><td>Kuruc Emese</td><td>2</td><td>2017-01-30</td><td>2017-01-31</td><td>1</td><td>6</td></tr>",
                            "<tr><td>Hotel Három Hattyú</td><td>Hotel</td><td>4</td><td>Kelemen Áron</td><td>2</td><td>2017-01-30</td><td>2017-02-03</td><td>4</td><td>1</td></tr>",
                            "<tr><td>Hotel Három Hattyú</td><td>Hotel</td><td>4</td><td>Szűcs Annamária</td><td>4</td><td>2017-01-30</td><td>2017-01-31</td><td>1</td><td>4</td></tr>",
                            "<tr><td>Hotel Három Hattyú</td><td>Hotel</td><td>4</td><td>Giliga János</td><td>2</td><td>2017-01-31</td><td>2017-02-05</td><td>5</td><td>1</td></tr>",
                            "<tr><td>Partiszél Vendégház</td><td>vendégház</td><td>0</td><td>Papp Imre</td><td>2</td><td>2017-02-01</td><td>2017-02-04</td><td>3</td><td>5</td></tr>",
                            "<tr><td>Hotel Három Hattyú</td><td>Hotel</td><td>4</td><td>Kő Nikoletta</td><td>2</td><td>2017-02-01</td><td>2017-02-04</td><td>3</td><td>3</td></tr>",
                            "<tr><td>Hotel Három Hattyú</td><td>Hotel</td><td>4</td><td>Vígh András</td><td>2</td><td>2017-02-02</td><td>2017-02-08</td><td>6</td><td>3</td></tr>",
                            "<tr><td>Lagúna Hotel</td><td>Hotel</td><td>4</td><td>Szekendi Beatrix</td><td>2</td><td>2017-02-03</td><td>2017-02-04</td><td>1</td><td>6</td></tr>",
                            "<tr><td>Sába-Ház</td><td>vendégház</td><td>0</td><td>Bárci Gusztáv</td><td>2</td><td>2017-02-03</td><td>2017-02-09</td><td>6</td><td>1</td></tr>",
                            "<tr><td>Gold Hotel</td><td>Hotel</td><td>3</td><td>Tankó Veronika</td><td>2</td><td>2017-02-03</td><td>2017-02-05</td><td>2</td><td>6</td></tr>",
                            "<tr><td>Gold Hotel</td><td>Hotel</td><td>3</td><td>Miklós Szabolcs</td><td>3</td><td>2017-02-04</td><td>2017-02-05</td><td>1</td><td>2</td></tr>",
                            "<tr><td>Kentaur Hotel</td><td>Hotel</td><td>3</td><td>Nagy Gabriella</td><td>3</td><td>2017-02-04</td><td>2017-02-11</td><td>7</td><td>1</td></tr>",
                            "<tr><td>Hotel Három Hattyú</td><td>Hotel</td><td>4</td><td>Barna Debóra</td><td>3</td><td>2017-02-04</td><td>2017-02-06</td><td>2</td><td>7</td></tr>",
                            "<tr><td>Hotel Három Hattyú</td><td>Hotel</td><td>4</td><td>Viktor Éva</td><td>5</td><td>2017-02-04</td><td>2017-02-11</td><td>7</td><td>2</td></tr>",
                            "<tr><td>Hotel Három Hattyú</td><td>Hotel</td><td>4</td><td>Nagy Júlia</td><td>4</td><td>2017-02-04</td><td>2017-02-11</td><td>7</td><td>7</td></tr>",
                            "<tr><td>Családi Ház</td><td>vendégház</td><td>0</td><td>Horváth Krisztina</td><td>3</td><td>2017-02-04</td><td>2017-02-11</td><td>7</td><td>7</td></tr>",
                            "<tr><td>Gold Hotel</td><td>Hotel</td><td>3</td><td>Szedlár Krisztina</td><td>2</td><td>2017-02-05</td><td>2017-02-07</td><td>2</td><td>7</td></tr>",
                            "<tr><td>Gold Hotel</td><td>Hotel</td><td>3</td><td>Fő Nándor</td><td>3</td><td>2017-02-05</td><td>2017-02-08</td><td>3</td><td>2</td></tr>",
                            "<tr><td>Hotel Három Hattyú</td><td>Hotel</td><td>4</td><td>Papp Imre</td><td>4</td><td>2017-02-05</td><td>2017-02-07</td><td>2</td><td>3</td></tr>",
                            "<tr><td>Hotel Három Hattyú</td><td>Hotel</td><td>4</td><td>Győrffy Bence</td><td>3</td><td>2017-02-05</td><td>2017-02-09</td><td>4</td><td>2</td></tr>",
                            "<tr><td>Hotel Három Hattyú</td><td>Hotel</td><td>4</td><td>Bíró Péter</td><td>3</td><td>2017-02-05</td><td>2017-02-09</td><td>4</td><td>4</td></tr>",
                            "<tr><td>Kentaur Hotel</td><td>Hotel</td><td>3</td><td>Barkóci Ádám</td><td>1</td><td>2017-02-06</td><td>2017-02-10</td><td>4</td><td>4</td></tr>",
                            "<tr><td>Kentaur Hotel</td><td>Hotel</td><td>3</td><td>Mohos Mónika</td><td>2</td><td>2017-02-06</td><td>2017-02-09</td><td>3</td><td>4</td></tr>",
                            "<tr><td>Fortuna Apartman</td><td>Apartman</td><td>0</td><td>Juhász Mihály</td><td>4</td><td>2017-02-06</td><td>2017-02-12</td><td>6</td><td>3</td></tr>",
                            "<tr><td>Lagúna Hotel</td><td>Hotel</td><td>4</td><td>Vizi István</td><td>3</td><td>2017-02-07</td><td>2017-02-10</td><td>3</td><td>6</td></tr>",
                            "<tr><td>Hotel Három Hattyú</td><td>Hotel</td><td>4</td><td>Bittmann Edit</td><td>3</td><td>2017-02-08</td><td>2017-02-14</td><td>6</td><td>3</td></tr>",
                            "<tr><td>Hotel Három Hattyú</td><td>Hotel</td><td>4</td><td>Antal László</td><td>2</td><td>2017-02-08</td><td>2017-02-14</td><td>6</td><td>6</td></tr>",
                            "<tr><td>Gold Hotel</td><td>Hotel</td><td>3</td><td>Tóth András</td><td>4</td><td>2017-02-08</td><td>2017-02-10</td><td>2</td><td>6</td></tr>",
                            "<tr><td>Kentaur Hotel</td><td>Hotel</td><td>3</td><td>Kerényi Beatrix</td><td>3</td><td>2017-02-08</td><td>2017-02-09</td><td>1</td><td>2</td></tr>",
                            "<tr><td>Gold Hotel</td><td>Hotel</td><td>3</td><td>Szalai Szilárd</td><td>1</td><td>2017-02-08</td><td>2017-02-15</td><td>7</td><td>1</td></tr>",
                            "<tr><td>Szieszta Apartmanház</td><td>Apartman</td><td>0</td><td>Pataki Brigitta</td><td>2</td><td>2017-02-09</td><td>2017-02-16</td><td>7</td><td>7</td></tr>",
                            "<tr><td>Lagúna Hotel</td><td>Hotel</td><td>4</td><td>Kiss Andrea</td><td>2</td><td>2017-02-09</td><td>2017-02-14</td><td>5</td><td>7</td></tr>",
                            "<tr><td>Fortuna Panzió</td><td>panzió</td><td>3</td><td>Bozsik Balázs</td><td>3</td><td>2017-02-10</td><td>2017-02-14</td><td>4</td><td>5</td></tr>",
                            "<tr><td>Hotel Három Hattyú</td><td>Hotel</td><td>4</td><td>Érsek Eszter</td><td>2</td><td>2017-02-10</td><td>2017-02-14</td><td>4</td><td>4</td></tr>",
                            "<tr><td>Gold Hotel</td><td>Hotel</td><td>3</td><td>Palágyi Polla</td><td>2</td><td>2017-02-11</td><td>2017-02-16</td><td>5</td><td>4</td></tr>",
                            "<tr><td>Hotel Három Hattyú</td><td>Hotel</td><td>4</td><td>Fényes Tamás</td><td>2</td><td>2017-02-12</td><td>2017-02-17</td><td>5</td><td>5</td></tr>",
                            "<tr><td>Fortuna Panzió</td><td>panzió</td><td>3</td><td>Nagy Gabriella</td><td>2</td><td>2017-02-12</td><td>2017-02-13</td><td>1</td><td>5</td></tr>",
                            "<tr><td>Gold Hotel</td><td>Hotel</td><td>3</td><td>Harangozó János</td><td>3</td><td>2017-02-12</td><td>2017-02-14</td><td>2</td><td>1</td></tr>",
                            "<tr><td>Sába-Ház</td><td>vendégház</td><td>0</td><td>Kiss Lajos</td><td>1</td><td>2017-02-12</td><td>2017-02-13</td><td>1</td><td>2</td></tr>",
                            "<tr><td>Szieszta Apartmanház</td><td>Apartman</td><td>0</td><td>Bajusz Bence</td><td>3</td><td>2017-02-12</td><td>2017-02-19</td><td>7</td><td>1</td></tr>",
                            "<tr><td>Kentaur Hotel</td><td>Hotel</td><td>3</td><td>Rácz Dániel</td><td>3</td><td>2017-02-12</td><td>2017-02-13</td><td>1</td><td>7</td></tr>",
                            "<tr><td>Jáde panzió</td><td>panzió</td><td>3</td><td>Tóth Anikó</td><td>3</td><td>2017-02-12</td><td>2017-02-14</td><td>2</td><td>1</td></tr>",
                            "<tr><td>Hotel Három Hattyú</td><td>Hotel</td><td>4</td><td>Bozsik Balázs</td><td>2</td><td>2017-02-12</td><td>2017-02-14</td><td>2</td><td>2</td></tr>",
                            "<tr><td>Hotel Három Hattyú</td><td>Hotel</td><td>4</td><td>Móricz Árpád</td><td>3</td><td>2017-02-12</td><td>2017-02-14</td><td>2</td><td>2</td></tr>",
                            "<tr><td>Hotel Három Hattyú</td><td>Hotel</td><td>4</td><td>Nagymihály Csongor</td><td>3</td><td>2017-02-13</td><td>2017-02-19</td><td>6</td><td>2</td></tr>",
                            "<tr><td>Hotel Három Hattyú</td><td>Hotel</td><td>4</td><td>Oroszi György</td><td>2</td><td>2017-02-13</td><td>2017-02-15</td><td>2</td><td>6</td></tr>",
                            "<tr><td>Hotel Három Hattyú</td><td>Hotel</td><td>4</td><td>Barabás Pál</td><td>3</td><td>2017-02-13</td><td>2017-02-19</td><td>6</td><td>2</td></tr>",
                            "<tr><td>Hotel Három Hattyú</td><td>Hotel</td><td>4</td><td>Szűcs Norbert</td><td>3</td><td>2017-02-13</td><td>2017-02-15</td><td>2</td><td>6</td></tr>",
                            "<tr><td>Fortuna panzió</td><td>panzió</td><td>3</td><td>Szirmai Renáta</td><td>1</td><td>2017-02-13</td><td>2017-02-17</td><td>4</td><td>2</td></tr>",
                            "<tr><td>Hotel Három Hattyú</td><td>Hotel</td><td>4</td><td>Szirmai Renáta</td><td>2</td><td>2017-02-14</td><td>2017-02-17</td><td>3</td><td>4</td></tr>",
                            "<tr><td>Kentaur Hotel</td><td>Hotel</td><td>3</td><td>Antal Tamás</td><td>3</td><td>2017-02-14</td><td>2017-02-19</td><td>5</td><td>3</td></tr>",
                            "<tr><td>Fortuna Apartman</td><td>Apartman</td><td>0</td><td>Simon Bernadett</td><td>3</td><td>2017-02-14</td><td>2017-02-15</td><td>1</td><td>5</td></tr>",
                            "<tr><td>Jáde panzió</td><td>panzió</td><td>3</td><td>Baróti Attila</td><td>2</td><td>2017-02-15</td><td>2017-02-22</td><td>7</td><td>1</td></tr>",
                            "<tr><td>Fortuna panzió</td><td>panzió</td><td>3</td><td>Horváth Árpád</td><td>2</td><td>2017-02-16</td><td>2017-02-18</td><td>2</td><td>7</td></tr>",
                            "<tr><td>Lagúna Hotel</td><td>Hotel</td><td>4</td><td>Regős Annamária</td><td>2</td><td>2017-02-16</td><td>2017-02-18</td><td>2</td><td>2</td></tr>",
                            "<tr><td>Sába-Ház</td><td>vendégház</td><td>0</td><td>Hartyánszky Ágnes</td><td>3</td><td>2017-02-16</td><td>2017-02-21</td><td>5</td><td>2</td></tr>",
                            "<tr><td>Fortuna Panzió</td><td>panzió</td><td>3</td><td>Csiger Bertalan</td><td>2</td><td>2017-02-16</td><td>2017-02-22</td><td>6</td><td>5</td></tr>",
                            "<tr><td>Hotel Három Hattyú</td><td>Hotel</td><td>4</td><td>Berta Dávid</td><td>3</td><td>2017-02-16</td><td>2017-02-19</td><td>3</td><td>6</td></tr>",
                            "<tr><td>Családi Ház</td><td>vendégház</td><td>0</td><td>Szedlár Krisztina</td><td>4</td><td>2017-02-16</td><td>2017-02-20</td><td>4</td><td>3</td></tr>",
                            "<tr><td>Sába-Ház</td><td>vendégház</td><td>0</td><td>Fényes Tamás</td><td>4</td><td>2017-02-16</td><td>2017-02-19</td><td>3</td><td>4</td></tr>",
                            "<tr><td>Hotel Három Hattyú</td><td>Hotel</td><td>4</td><td>Kardos Renáta</td><td>1</td><td>2017-02-16</td><td>2017-02-23</td><td>7</td><td>3</td></tr>",
                            "<tr><td>Lagúna Hotel</td><td>Hotel</td><td>4</td><td>Mile Norbert</td><td>1</td><td>2017-02-16</td><td>2017-02-17</td><td>1</td><td>7</td></tr>",
                            "<tr><td>Lagúna Hotel</td><td>Hotel</td><td>4</td><td>Iván Róbert</td><td>2</td><td>2017-02-17</td><td>2017-02-20</td><td>3</td><td>1</td></tr>",
                            "<tr><td>Fortuna Panzió</td><td>panzió</td><td>3</td><td>Sobják Dávid</td><td>3</td><td>2017-02-17</td><td>2017-02-20</td><td>3</td><td>3</td></tr>",
                            "<tr><td>Kentaur Hotel</td><td>Hotel</td><td>3</td><td>Ötvös Árpád</td><td>4</td><td>2017-02-18</td><td>2017-02-19</td><td>1</td><td>3</td></tr>",
                            "<tr><td>Szieszta Apartmanház</td><td>Apartman</td><td>0</td><td>Nagy László</td><td>3</td><td>2017-02-18</td><td>2017-02-25</td><td>7</td><td>1</td></tr>",
                            "<tr><td>Fortuna Apartman</td><td>Apartman</td><td>0</td><td>Bucskó Róza</td><td>3</td><td>2017-02-18</td><td>2017-02-21</td><td>3</td><td>7</td></tr>",
                            "<tr><td>Fortuna Panzió</td><td>panzió</td><td>3</td><td>Molnár Zsófi</td><td>3</td><td>2017-02-18</td><td>2017-02-19</td><td>1</td><td>3</td></tr>",
                            "<tr><td>Lagúna Hotel</td><td>Hotel</td><td>4</td><td>Hamvay-Kovács Anita</td><td>2</td><td>2017-02-19</td><td>2017-02-22</td><td>3</td><td>1</td></tr>",
                            "<tr><td>Fortuna Panzió</td><td>panzió</td><td>3</td><td>Hamvay-Kovács Anita</td><td>2</td><td>2017-02-20</td><td>2017-02-25</td><td>5</td><td>3</td></tr>",
                            "<tr><td>Hotel Három Hattyú</td><td>Hotel</td><td>4</td><td>Csiger Bertalan</td><td>4</td><td>2017-02-20</td><td>2017-02-24</td><td>4</td><td>5</td></tr>",
                            "<tr><td>Hotel Három Hattyú</td><td>Hotel</td><td>4</td><td>Rácz Dániel</td><td>3</td><td>2017-02-20</td><td>2017-02-23</td><td>3</td><td>4</td></tr>",
                            "<tr><td>Fortuna Panzió</td><td>panzió</td><td>3</td><td>Barabás Pál</td><td>3</td><td>2017-02-20</td><td>2017-02-22</td><td>2</td><td>3</td></tr>",
                            "<tr><td>Kentaur Hotel</td><td>Hotel</td><td>3</td><td>Szalai Péter</td><td>2</td><td>2017-02-21</td><td>2017-02-24</td><td>3</td><td>2</td></tr>",
                            "<tr><td>Lagúna Hotel</td><td>Hotel</td><td>4</td><td>Kelemen Áron</td><td>2</td><td>2017-02-21</td><td>2017-02-23</td><td>2</td><td>3</td></tr>",
                            "<tr><td>Fortuna panzió</td><td>panzió</td><td>3</td><td>Nagy Gabriella</td><td>3</td><td>2017-02-21</td><td>2017-02-27</td><td>6</td><td>2</td></tr>",
                            "<tr><td>Gold Hotel</td><td>Hotel</td><td>3</td><td>Opra Attila</td><td>3</td><td>2017-02-22</td><td>2017-02-25</td><td>3</td><td>6</td></tr>",
                            "<tr><td>Lagúna Hotel</td><td>Hotel</td><td>4</td><td>Bieniek Ádám</td><td>3</td><td>2017-02-23</td><td>2017-02-27</td><td>4</td><td>3</td></tr>",
                            "<tr><td>Hotel Három Hattyú</td><td>Hotel</td><td>4</td><td>Tóth Anikó</td><td>2</td><td>2017-02-23</td><td>2017-02-24</td><td>1</td><td>4</td></tr>",
                            "<tr><td>Gold Hotel</td><td>Hotel</td><td>3</td><td>Bárci Gusztáv</td><td>4</td><td>2017-02-23</td><td>2017-03-01</td><td>6</td><td>1</td></tr>",
                            "<tr><td>Kentaur Hotel</td><td>Hotel</td><td>3</td><td>Mohos Mónika</td><td>2</td><td>2017-02-23</td><td>2017-02-26</td><td>3</td><td>6</td></tr>",
                            "<tr><td>Hotel Három Hattyú</td><td>Hotel</td><td>4</td><td>Czérna Krisztián</td><td>2</td><td>2017-02-23</td><td>2017-03-02</td><td>7</td><td>3</td></tr>",
                            "<tr><td>Partiszél Vendégház</td><td>vendégház</td><td>0</td><td>Kozma Péter</td><td>3</td><td>2017-02-23</td><td>2017-02-26</td><td>3</td><td>7</td></tr>",
                            "<tr><td>Gold Hotel</td><td>Hotel</td><td>3</td><td>Horváth Katalin</td><td>3</td><td>2017-02-24</td><td>2017-02-27</td><td>3</td><td>3</td></tr>",
                            "<tr><td>Gold Hotel</td><td>Hotel</td><td>3</td><td>Baráth Mária</td><td>2</td><td>2017-02-24</td><td>2017-03-02</td><td>6</td><td>3</td></tr>",
                            "<tr><td>Hotel Három Hattyú</td><td>Hotel</td><td>4</td><td>Oroszi György</td><td>3</td><td>2017-02-24</td><td>2017-02-25</td><td>1</td><td>6</td></tr>",
                            "<tr><td>Hotel Három Hattyú</td><td>Hotel</td><td>4</td><td>Gyuris József</td><td>3</td><td>2017-02-24</td><td>2017-03-03</td><td>7</td><td>1</td></tr>",
                            "<tr><td>Fortuna panzió</td><td>panzió</td><td>3</td><td>Simon Bernadett</td><td>1</td><td>2017-02-24</td><td>2017-03-03</td><td>7</td><td>7</td></tr>",
                            "<tr><td>Partiszél Vendégház</td><td>vendégház</td><td>0</td><td>Vörös Dániel</td><td>3</td><td>2017-02-25</td><td>2017-03-01</td><td>4</td><td>7</td></tr>",
                            "<tr><td>Lagúna Hotel</td><td>Hotel</td><td>4</td><td>Sobják Dávid</td><td>4</td><td>2017-02-25</td><td>2017-02-27</td><td>2</td><td>4</td></tr>",
                            "<tr><td>Kentaur Hotel</td><td>Hotel</td><td>3</td><td>Jakab Áron</td><td>3</td><td>2017-02-26</td><td>2017-02-27</td><td>1</td><td>2</td></tr>",
                            "<tr><td>Hotel Három Hattyú</td><td>Hotel</td><td>4</td><td>Fülöp Eszter</td><td>3</td><td>2017-02-26</td><td>2017-02-27</td><td>1</td><td>1</td></tr>",
                            "<tr><td>Szieszta Apartmanház</td><td>Apartman</td><td>0</td><td>Szikszai Réka</td><td>2</td><td>2017-02-26</td><td>2017-03-04</td><td>6</td><td>1</td></tr>",
                            "<tr><td>Gold Hotel</td><td>Hotel</td><td>3</td><td>Szűcs Norbert</td><td>1</td><td>2017-02-26</td><td>2017-03-01</td><td>3</td><td>6</td></tr>",
                            "<tr><td>Kentaur Hotel</td><td>Hotel</td><td>3</td><td>Tóth Júlia</td><td>3</td><td>2017-02-27</td><td>2017-03-06</td><td>7</td><td>3</td></tr>",
                            "<tr><td>Lagúna Hotel</td><td>Hotel</td><td>4</td><td>Szűcs Balázs</td><td>1</td><td>2017-02-27</td><td>2017-03-06</td><td>7</td><td>7</td></tr>",
                            "<tr><td>Hotel Három Hattyú</td><td>Hotel</td><td>4</td><td>Kozma Péter</td><td>3</td><td>2017-02-28</td><td>2017-03-05</td><td>5</td><td>7</td></tr>",
                            "<tr><td>Fortuna Panzió</td><td>panzió</td><td>3</td><td>Kardos Renáta</td><td>1</td><td>2017-03-01</td><td>2017-03-06</td><td>5</td><td>5</td></tr>",
                            "<tr><td>Kentaur Hotel</td><td>Hotel</td><td>3</td><td>Keszler Dániel</td><td>4</td><td>2017-03-01</td><td>2017-03-06</td><td>5</td><td>5</td></tr>",
                            "<tr><td>Kentaur Hotel</td><td>Hotel</td><td>3</td><td>Kalacsi Márton</td><td>2</td><td>2017-03-02</td><td>2017-03-03</td><td>1</td><td>5</td></tr>",
                            "<tr><td>Kentaur Hotel</td><td>Hotel</td><td>3</td><td>Horváth Krisztina</td><td>3</td><td>2017-03-03</td><td>2017-03-04</td><td>1</td><td>1</td></tr>",
                            "<tr><td>Hotel Három Hattyú</td><td>Hotel</td><td>4</td><td>Mile Norbert</td><td>2</td><td>2017-03-03</td><td>2017-03-07</td><td>4</td><td>1</td></tr>",
                            "</table>"
                        ]
                    }
                }
            ],
            "execution_count": 19
        },
        {
            "cell_type": "code",
            "source": [
                "select year(f.mettol) as foglalas_ev, month(f.mettol) as foglalas_ho, szh.szallas_nev, sum(f.felnott_szam + f.gyermek_szam) as osszes_vendeg\r\n",
                "from Szallashely szh \r\n",
                "inner join Szoba sz on sz.szallas_fk = szh.szallas_id\r\n",
                "inner join Foglalas f on f.szoba_fk = sz.szoba_id\r\n",
                "inner join Vendeg v on v.usernev = f.ugyfel_fk \r\n",
                "group by rollup(szh.szallas_nev, f.mettol);\r\n",
                ""
            ],
            "metadata": {
                "language": "sql",
                "azdata_cell_guid": "473c44da-294d-440b-b556-c477b255dd5b"
            },
            "outputs": [
                {
                    "output_type": "display_data",
                    "data": {
                        "text/html": "(169 rows affected)"
                    },
                    "metadata": {}
                },
                {
                    "output_type": "display_data",
                    "data": {
                        "text/html": "Total execution time: 00:00:00.060"
                    },
                    "metadata": {}
                },
                {
                    "output_type": "execute_result",
                    "metadata": {},
                    "execution_count": 27,
                    "data": {
                        "application/vnd.dataresource+json": {
                            "schema": {
                                "fields": [
                                    {
                                        "name": "foglalas_ev"
                                    },
                                    {
                                        "name": "foglalas_ho"
                                    },
                                    {
                                        "name": "szallas_nev"
                                    },
                                    {
                                        "name": "osszes_vendeg"
                                    }
                                ]
                            },
                            "data": [
                                {
                                    "foglalas_ev": "2017",
                                    "foglalas_ho": "2",
                                    "szallas_nev": "Családi Ház",
                                    "osszes_vendeg": "3"
                                },
                                {
                                    "foglalas_ev": "2017",
                                    "foglalas_ho": "2",
                                    "szallas_nev": "Családi Ház",
                                    "osszes_vendeg": "4"
                                },
                                {
                                    "foglalas_ev": "NULL",
                                    "foglalas_ho": "NULL",
                                    "szallas_nev": "Családi Ház",
                                    "osszes_vendeg": "7"
                                },
                                {
                                    "foglalas_ev": "2016",
                                    "foglalas_ho": "4",
                                    "szallas_nev": "Fortuna Apartman",
                                    "osszes_vendeg": "2"
                                },
                                {
                                    "foglalas_ev": "2016",
                                    "foglalas_ho": "4",
                                    "szallas_nev": "Fortuna Apartman",
                                    "osszes_vendeg": "4"
                                },
                                {
                                    "foglalas_ev": "2016",
                                    "foglalas_ho": "5",
                                    "szallas_nev": "Fortuna Apartman",
                                    "osszes_vendeg": "2"
                                },
                                {
                                    "foglalas_ev": "2017",
                                    "foglalas_ho": "2",
                                    "szallas_nev": "Fortuna Apartman",
                                    "osszes_vendeg": "4"
                                },
                                {
                                    "foglalas_ev": "2017",
                                    "foglalas_ho": "2",
                                    "szallas_nev": "Fortuna Apartman",
                                    "osszes_vendeg": "3"
                                },
                                {
                                    "foglalas_ev": "2017",
                                    "foglalas_ho": "2",
                                    "szallas_nev": "Fortuna Apartman",
                                    "osszes_vendeg": "3"
                                },
                                {
                                    "foglalas_ev": "NULL",
                                    "foglalas_ho": "NULL",
                                    "szallas_nev": "Fortuna Apartman",
                                    "osszes_vendeg": "18"
                                },
                                {
                                    "foglalas_ev": "2016",
                                    "foglalas_ho": "4",
                                    "szallas_nev": "Fortuna Panzió",
                                    "osszes_vendeg": "2"
                                },
                                {
                                    "foglalas_ev": "2016",
                                    "foglalas_ho": "4",
                                    "szallas_nev": "Fortuna Panzió",
                                    "osszes_vendeg": "5"
                                },
                                {
                                    "foglalas_ev": "2016",
                                    "foglalas_ho": "4",
                                    "szallas_nev": "Fortuna panzió",
                                    "osszes_vendeg": "4"
                                },
                                {
                                    "foglalas_ev": "2016",
                                    "foglalas_ho": "4",
                                    "szallas_nev": "Fortuna panzió",
                                    "osszes_vendeg": "1"
                                },
                                {
                                    "foglalas_ev": "2016",
                                    "foglalas_ho": "4",
                                    "szallas_nev": "Fortuna Panzió",
                                    "osszes_vendeg": "3"
                                },
                                {
                                    "foglalas_ev": "2016",
                                    "foglalas_ho": "4",
                                    "szallas_nev": "Fortuna panzió",
                                    "osszes_vendeg": "6"
                                },
                                {
                                    "foglalas_ev": "2016",
                                    "foglalas_ho": "5",
                                    "szallas_nev": "Fortuna panzió",
                                    "osszes_vendeg": "2"
                                },
                                {
                                    "foglalas_ev": "2016",
                                    "foglalas_ho": "5",
                                    "szallas_nev": "Fortuna panzió",
                                    "osszes_vendeg": "7"
                                },
                                {
                                    "foglalas_ev": "2016",
                                    "foglalas_ho": "5",
                                    "szallas_nev": "Fortuna Panzió",
                                    "osszes_vendeg": "3"
                                },
                                {
                                    "foglalas_ev": "2017",
                                    "foglalas_ho": "2",
                                    "szallas_nev": "Fortuna Panzió",
                                    "osszes_vendeg": "3"
                                },
                                {
                                    "foglalas_ev": "2017",
                                    "foglalas_ho": "2",
                                    "szallas_nev": "Fortuna Panzió",
                                    "osszes_vendeg": "2"
                                },
                                {
                                    "foglalas_ev": "2017",
                                    "foglalas_ho": "2",
                                    "szallas_nev": "Fortuna panzió",
                                    "osszes_vendeg": "1"
                                },
                                {
                                    "foglalas_ev": "2017",
                                    "foglalas_ho": "2",
                                    "szallas_nev": "Fortuna panzió",
                                    "osszes_vendeg": "4"
                                },
                                {
                                    "foglalas_ev": "2017",
                                    "foglalas_ho": "2",
                                    "szallas_nev": "Fortuna Panzió",
                                    "osszes_vendeg": "3"
                                },
                                {
                                    "foglalas_ev": "2017",
                                    "foglalas_ho": "2",
                                    "szallas_nev": "Fortuna Panzió",
                                    "osszes_vendeg": "3"
                                },
                                {
                                    "foglalas_ev": "2017",
                                    "foglalas_ho": "2",
                                    "szallas_nev": "Fortuna Panzió",
                                    "osszes_vendeg": "5"
                                },
                                {
                                    "foglalas_ev": "2017",
                                    "foglalas_ho": "2",
                                    "szallas_nev": "Fortuna panzió",
                                    "osszes_vendeg": "3"
                                },
                                {
                                    "foglalas_ev": "2017",
                                    "foglalas_ho": "2",
                                    "szallas_nev": "Fortuna panzió",
                                    "osszes_vendeg": "1"
                                },
                                {
                                    "foglalas_ev": "2017",
                                    "foglalas_ho": "3",
                                    "szallas_nev": "Fortuna Panzió",
                                    "osszes_vendeg": "1"
                                },
                                {
                                    "foglalas_ev": "NULL",
                                    "foglalas_ho": "NULL",
                                    "szallas_nev": "Fortuna Panzió",
                                    "osszes_vendeg": "59"
                                },
                                {
                                    "foglalas_ev": "2016",
                                    "foglalas_ho": "4",
                                    "szallas_nev": "Gold Hotel",
                                    "osszes_vendeg": "7"
                                },
                                {
                                    "foglalas_ev": "2016",
                                    "foglalas_ho": "4",
                                    "szallas_nev": "Gold Hotel",
                                    "osszes_vendeg": "3"
                                },
                                {
                                    "foglalas_ev": "2016",
                                    "foglalas_ho": "4",
                                    "szallas_nev": "Gold Hotel",
                                    "osszes_vendeg": "2"
                                },
                                {
                                    "foglalas_ev": "2016",
                                    "foglalas_ho": "4",
                                    "szallas_nev": "Gold Hotel",
                                    "osszes_vendeg": "1"
                                },
                                {
                                    "foglalas_ev": "2016",
                                    "foglalas_ho": "4",
                                    "szallas_nev": "Gold Hotel",
                                    "osszes_vendeg": "2"
                                },
                                {
                                    "foglalas_ev": "2016",
                                    "foglalas_ho": "5",
                                    "szallas_nev": "Gold Hotel",
                                    "osszes_vendeg": "3"
                                },
                                {
                                    "foglalas_ev": "2016",
                                    "foglalas_ho": "5",
                                    "szallas_nev": "Gold Hotel",
                                    "osszes_vendeg": "5"
                                },
                                {
                                    "foglalas_ev": "2016",
                                    "foglalas_ho": "5",
                                    "szallas_nev": "Gold Hotel",
                                    "osszes_vendeg": "2"
                                },
                                {
                                    "foglalas_ev": "2016",
                                    "foglalas_ho": "5",
                                    "szallas_nev": "Gold Hotel",
                                    "osszes_vendeg": "2"
                                },
                                {
                                    "foglalas_ev": "2017",
                                    "foglalas_ho": "1",
                                    "szallas_nev": "Gold Hotel",
                                    "osszes_vendeg": "2"
                                },
                                {
                                    "foglalas_ev": "2017",
                                    "foglalas_ho": "2",
                                    "szallas_nev": "Gold Hotel",
                                    "osszes_vendeg": "2"
                                },
                                {
                                    "foglalas_ev": "2017",
                                    "foglalas_ho": "2",
                                    "szallas_nev": "Gold Hotel",
                                    "osszes_vendeg": "3"
                                },
                                {
                                    "foglalas_ev": "2017",
                                    "foglalas_ho": "2",
                                    "szallas_nev": "Gold Hotel",
                                    "osszes_vendeg": "5"
                                },
                                {
                                    "foglalas_ev": "2017",
                                    "foglalas_ho": "2",
                                    "szallas_nev": "Gold Hotel",
                                    "osszes_vendeg": "5"
                                },
                                {
                                    "foglalas_ev": "2017",
                                    "foglalas_ho": "2",
                                    "szallas_nev": "Gold Hotel",
                                    "osszes_vendeg": "2"
                                },
                                {
                                    "foglalas_ev": "2017",
                                    "foglalas_ho": "2",
                                    "szallas_nev": "Gold Hotel",
                                    "osszes_vendeg": "3"
                                },
                                {
                                    "foglalas_ev": "2017",
                                    "foglalas_ho": "2",
                                    "szallas_nev": "Gold Hotel",
                                    "osszes_vendeg": "3"
                                },
                                {
                                    "foglalas_ev": "2017",
                                    "foglalas_ho": "2",
                                    "szallas_nev": "Gold Hotel",
                                    "osszes_vendeg": "4"
                                },
                                {
                                    "foglalas_ev": "2017",
                                    "foglalas_ho": "2",
                                    "szallas_nev": "Gold Hotel",
                                    "osszes_vendeg": "5"
                                },
                                {
                                    "foglalas_ev": "2017",
                                    "foglalas_ho": "2",
                                    "szallas_nev": "Gold Hotel",
                                    "osszes_vendeg": "1"
                                },
                                {
                                    "foglalas_ev": "NULL",
                                    "foglalas_ho": "NULL",
                                    "szallas_nev": "Gold Hotel",
                                    "osszes_vendeg": "62"
                                },
                                {
                                    "foglalas_ev": "2016",
                                    "foglalas_ho": "4",
                                    "szallas_nev": "Hotel Három Hattyú",
                                    "osszes_vendeg": "3"
                                },
                                {
                                    "foglalas_ev": "2016",
                                    "foglalas_ho": "4",
                                    "szallas_nev": "Hotel Három Hattyú",
                                    "osszes_vendeg": "1"
                                },
                                {
                                    "foglalas_ev": "2016",
                                    "foglalas_ho": "4",
                                    "szallas_nev": "Hotel Három Hattyú",
                                    "osszes_vendeg": "1"
                                },
                                {
                                    "foglalas_ev": "2016",
                                    "foglalas_ho": "4",
                                    "szallas_nev": "Hotel Három Hattyú",
                                    "osszes_vendeg": "5"
                                },
                                {
                                    "foglalas_ev": "2016",
                                    "foglalas_ho": "4",
                                    "szallas_nev": "Hotel Három Hattyú",
                                    "osszes_vendeg": "3"
                                },
                                {
                                    "foglalas_ev": "2016",
                                    "foglalas_ho": "4",
                                    "szallas_nev": "Hotel Három Hattyú",
                                    "osszes_vendeg": "3"
                                },
                                {
                                    "foglalas_ev": "2016",
                                    "foglalas_ho": "4",
                                    "szallas_nev": "Hotel Három Hattyú",
                                    "osszes_vendeg": "1"
                                },
                                {
                                    "foglalas_ev": "2016",
                                    "foglalas_ho": "5",
                                    "szallas_nev": "Hotel Három Hattyú",
                                    "osszes_vendeg": "5"
                                },
                                {
                                    "foglalas_ev": "2016",
                                    "foglalas_ho": "5",
                                    "szallas_nev": "Hotel Három Hattyú",
                                    "osszes_vendeg": "5"
                                },
                                {
                                    "foglalas_ev": "2016",
                                    "foglalas_ho": "5",
                                    "szallas_nev": "Hotel Három Hattyú",
                                    "osszes_vendeg": "2"
                                },
                                {
                                    "foglalas_ev": "2016",
                                    "foglalas_ho": "5",
                                    "szallas_nev": "Hotel Három Hattyú",
                                    "osszes_vendeg": "2"
                                },
                                {
                                    "foglalas_ev": "2016",
                                    "foglalas_ho": "5",
                                    "szallas_nev": "Hotel Három Hattyú",
                                    "osszes_vendeg": "3"
                                },
                                {
                                    "foglalas_ev": "2016",
                                    "foglalas_ho": "5",
                                    "szallas_nev": "Hotel Három Hattyú",
                                    "osszes_vendeg": "3"
                                },
                                {
                                    "foglalas_ev": "2016",
                                    "foglalas_ho": "5",
                                    "szallas_nev": "Hotel Három Hattyú",
                                    "osszes_vendeg": "6"
                                },
                                {
                                    "foglalas_ev": "2016",
                                    "foglalas_ho": "5",
                                    "szallas_nev": "Hotel Három Hattyú",
                                    "osszes_vendeg": "2"
                                },
                                {
                                    "foglalas_ev": "2016",
                                    "foglalas_ho": "5",
                                    "szallas_nev": "Hotel Három Hattyú",
                                    "osszes_vendeg": "2"
                                },
                                {
                                    "foglalas_ev": "2017",
                                    "foglalas_ho": "1",
                                    "szallas_nev": "Hotel Három Hattyú",
                                    "osszes_vendeg": "6"
                                },
                                {
                                    "foglalas_ev": "2017",
                                    "foglalas_ho": "1",
                                    "szallas_nev": "Hotel Három Hattyú",
                                    "osszes_vendeg": "2"
                                },
                                {
                                    "foglalas_ev": "2017",
                                    "foglalas_ho": "2",
                                    "szallas_nev": "Hotel Három Hattyú",
                                    "osszes_vendeg": "2"
                                },
                                {
                                    "foglalas_ev": "2017",
                                    "foglalas_ho": "2",
                                    "szallas_nev": "Hotel Három Hattyú",
                                    "osszes_vendeg": "2"
                                },
                                {
                                    "foglalas_ev": "2017",
                                    "foglalas_ho": "2",
                                    "szallas_nev": "Hotel Három Hattyú",
                                    "osszes_vendeg": "12"
                                },
                                {
                                    "foglalas_ev": "2017",
                                    "foglalas_ho": "2",
                                    "szallas_nev": "Hotel Három Hattyú",
                                    "osszes_vendeg": "10"
                                },
                                {
                                    "foglalas_ev": "2017",
                                    "foglalas_ho": "2",
                                    "szallas_nev": "Hotel Három Hattyú",
                                    "osszes_vendeg": "5"
                                },
                                {
                                    "foglalas_ev": "2017",
                                    "foglalas_ho": "2",
                                    "szallas_nev": "Hotel Három Hattyú",
                                    "osszes_vendeg": "2"
                                },
                                {
                                    "foglalas_ev": "2017",
                                    "foglalas_ho": "2",
                                    "szallas_nev": "Hotel Három Hattyú",
                                    "osszes_vendeg": "7"
                                },
                                {
                                    "foglalas_ev": "2017",
                                    "foglalas_ho": "2",
                                    "szallas_nev": "Hotel Három Hattyú",
                                    "osszes_vendeg": "11"
                                },
                                {
                                    "foglalas_ev": "2017",
                                    "foglalas_ho": "2",
                                    "szallas_nev": "Hotel Három Hattyú",
                                    "osszes_vendeg": "2"
                                },
                                {
                                    "foglalas_ev": "2017",
                                    "foglalas_ho": "2",
                                    "szallas_nev": "Hotel Három Hattyú",
                                    "osszes_vendeg": "4"
                                },
                                {
                                    "foglalas_ev": "2017",
                                    "foglalas_ho": "2",
                                    "szallas_nev": "Hotel Három Hattyú",
                                    "osszes_vendeg": "7"
                                },
                                {
                                    "foglalas_ev": "2017",
                                    "foglalas_ho": "2",
                                    "szallas_nev": "Hotel Három Hattyú",
                                    "osszes_vendeg": "4"
                                },
                                {
                                    "foglalas_ev": "2017",
                                    "foglalas_ho": "2",
                                    "szallas_nev": "Hotel Három Hattyú",
                                    "osszes_vendeg": "6"
                                },
                                {
                                    "foglalas_ev": "2017",
                                    "foglalas_ho": "2",
                                    "szallas_nev": "Hotel Három Hattyú",
                                    "osszes_vendeg": "3"
                                },
                                {
                                    "foglalas_ev": "2017",
                                    "foglalas_ho": "2",
                                    "szallas_nev": "Hotel Három Hattyú",
                                    "osszes_vendeg": "3"
                                },
                                {
                                    "foglalas_ev": "2017",
                                    "foglalas_ho": "3",
                                    "szallas_nev": "Hotel Három Hattyú",
                                    "osszes_vendeg": "2"
                                },
                                {
                                    "foglalas_ev": "NULL",
                                    "foglalas_ho": "NULL",
                                    "szallas_nev": "Hotel Három Hattyú",
                                    "osszes_vendeg": "137"
                                },
                                {
                                    "foglalas_ev": "2016",
                                    "foglalas_ho": "4",
                                    "szallas_nev": "Jáde panzió",
                                    "osszes_vendeg": "2"
                                },
                                {
                                    "foglalas_ev": "2016",
                                    "foglalas_ho": "4",
                                    "szallas_nev": "Jáde panzió",
                                    "osszes_vendeg": "2"
                                },
                                {
                                    "foglalas_ev": "2016",
                                    "foglalas_ho": "5",
                                    "szallas_nev": "Jáde panzió",
                                    "osszes_vendeg": "2"
                                },
                                {
                                    "foglalas_ev": "2016",
                                    "foglalas_ho": "5",
                                    "szallas_nev": "Jáde panzió",
                                    "osszes_vendeg": "2"
                                },
                                {
                                    "foglalas_ev": "2017",
                                    "foglalas_ho": "2",
                                    "szallas_nev": "Jáde panzió",
                                    "osszes_vendeg": "3"
                                },
                                {
                                    "foglalas_ev": "2017",
                                    "foglalas_ho": "2",
                                    "szallas_nev": "Jáde panzió",
                                    "osszes_vendeg": "2"
                                },
                                {
                                    "foglalas_ev": "NULL",
                                    "foglalas_ho": "NULL",
                                    "szallas_nev": "Jáde panzió",
                                    "osszes_vendeg": "13"
                                },
                                {
                                    "foglalas_ev": "2016",
                                    "foglalas_ho": "4",
                                    "szallas_nev": "Kentaur Hotel",
                                    "osszes_vendeg": "4"
                                },
                                {
                                    "foglalas_ev": "2016",
                                    "foglalas_ho": "4",
                                    "szallas_nev": "Kentaur Hotel",
                                    "osszes_vendeg": "4"
                                },
                                {
                                    "foglalas_ev": "2016",
                                    "foglalas_ho": "4",
                                    "szallas_nev": "Kentaur Hotel",
                                    "osszes_vendeg": "3"
                                },
                                {
                                    "foglalas_ev": "2016",
                                    "foglalas_ho": "4",
                                    "szallas_nev": "Kentaur Hotel",
                                    "osszes_vendeg": "3"
                                },
                                {
                                    "foglalas_ev": "2016",
                                    "foglalas_ho": "4",
                                    "szallas_nev": "Kentaur Hotel",
                                    "osszes_vendeg": "3"
                                },
                                {
                                    "foglalas_ev": "2016",
                                    "foglalas_ho": "4",
                                    "szallas_nev": "Kentaur Hotel",
                                    "osszes_vendeg": "2"
                                },
                                {
                                    "foglalas_ev": "2016",
                                    "foglalas_ho": "5",
                                    "szallas_nev": "Kentaur Hotel",
                                    "osszes_vendeg": "2"
                                },
                                {
                                    "foglalas_ev": "2016",
                                    "foglalas_ho": "5",
                                    "szallas_nev": "Kentaur Hotel",
                                    "osszes_vendeg": "2"
                                },
                                {
                                    "foglalas_ev": "2016",
                                    "foglalas_ho": "5",
                                    "szallas_nev": "Kentaur Hotel",
                                    "osszes_vendeg": "1"
                                },
                                {
                                    "foglalas_ev": "2016",
                                    "foglalas_ho": "5",
                                    "szallas_nev": "Kentaur Hotel",
                                    "osszes_vendeg": "2"
                                },
                                {
                                    "foglalas_ev": "2016",
                                    "foglalas_ho": "5",
                                    "szallas_nev": "Kentaur Hotel",
                                    "osszes_vendeg": "7"
                                },
                                {
                                    "foglalas_ev": "2016",
                                    "foglalas_ho": "5",
                                    "szallas_nev": "Kentaur Hotel",
                                    "osszes_vendeg": "2"
                                },
                                {
                                    "foglalas_ev": "2017",
                                    "foglalas_ho": "2",
                                    "szallas_nev": "Kentaur Hotel",
                                    "osszes_vendeg": "3"
                                },
                                {
                                    "foglalas_ev": "2017",
                                    "foglalas_ho": "2",
                                    "szallas_nev": "Kentaur Hotel",
                                    "osszes_vendeg": "3"
                                },
                                {
                                    "foglalas_ev": "2017",
                                    "foglalas_ho": "2",
                                    "szallas_nev": "Kentaur Hotel",
                                    "osszes_vendeg": "3"
                                },
                                {
                                    "foglalas_ev": "2017",
                                    "foglalas_ho": "2",
                                    "szallas_nev": "Kentaur Hotel",
                                    "osszes_vendeg": "3"
                                },
                                {
                                    "foglalas_ev": "2017",
                                    "foglalas_ho": "2",
                                    "szallas_nev": "Kentaur Hotel",
                                    "osszes_vendeg": "3"
                                },
                                {
                                    "foglalas_ev": "2017",
                                    "foglalas_ho": "2",
                                    "szallas_nev": "Kentaur Hotel",
                                    "osszes_vendeg": "4"
                                },
                                {
                                    "foglalas_ev": "2017",
                                    "foglalas_ho": "2",
                                    "szallas_nev": "Kentaur Hotel",
                                    "osszes_vendeg": "2"
                                },
                                {
                                    "foglalas_ev": "2017",
                                    "foglalas_ho": "2",
                                    "szallas_nev": "Kentaur Hotel",
                                    "osszes_vendeg": "2"
                                },
                                {
                                    "foglalas_ev": "2017",
                                    "foglalas_ho": "2",
                                    "szallas_nev": "Kentaur Hotel",
                                    "osszes_vendeg": "3"
                                },
                                {
                                    "foglalas_ev": "2017",
                                    "foglalas_ho": "2",
                                    "szallas_nev": "Kentaur Hotel",
                                    "osszes_vendeg": "3"
                                },
                                {
                                    "foglalas_ev": "2017",
                                    "foglalas_ho": "3",
                                    "szallas_nev": "Kentaur Hotel",
                                    "osszes_vendeg": "4"
                                },
                                {
                                    "foglalas_ev": "2017",
                                    "foglalas_ho": "3",
                                    "szallas_nev": "Kentaur Hotel",
                                    "osszes_vendeg": "2"
                                },
                                {
                                    "foglalas_ev": "2017",
                                    "foglalas_ho": "3",
                                    "szallas_nev": "Kentaur Hotel",
                                    "osszes_vendeg": "3"
                                },
                                {
                                    "foglalas_ev": "NULL",
                                    "foglalas_ho": "NULL",
                                    "szallas_nev": "Kentaur Hotel",
                                    "osszes_vendeg": "73"
                                },
                                {
                                    "foglalas_ev": "2016",
                                    "foglalas_ho": "4",
                                    "szallas_nev": "Lagúna Hotel",
                                    "osszes_vendeg": "2"
                                },
                                {
                                    "foglalas_ev": "2016",
                                    "foglalas_ho": "4",
                                    "szallas_nev": "Lagúna Hotel",
                                    "osszes_vendeg": "4"
                                },
                                {
                                    "foglalas_ev": "2016",
                                    "foglalas_ho": "4",
                                    "szallas_nev": "Lagúna Hotel",
                                    "osszes_vendeg": "3"
                                },
                                {
                                    "foglalas_ev": "2016",
                                    "foglalas_ho": "4",
                                    "szallas_nev": "Lagúna Hotel",
                                    "osszes_vendeg": "2"
                                },
                                {
                                    "foglalas_ev": "2016",
                                    "foglalas_ho": "4",
                                    "szallas_nev": "Lagúna Hotel",
                                    "osszes_vendeg": "3"
                                },
                                {
                                    "foglalas_ev": "2016",
                                    "foglalas_ho": "4",
                                    "szallas_nev": "Lagúna Hotel",
                                    "osszes_vendeg": "2"
                                },
                                {
                                    "foglalas_ev": "2016",
                                    "foglalas_ho": "4",
                                    "szallas_nev": "Lagúna Hotel",
                                    "osszes_vendeg": "2"
                                },
                                {
                                    "foglalas_ev": "2016",
                                    "foglalas_ho": "4",
                                    "szallas_nev": "Lagúna Hotel",
                                    "osszes_vendeg": "4"
                                },
                                {
                                    "foglalas_ev": "2016",
                                    "foglalas_ho": "4",
                                    "szallas_nev": "Lagúna Hotel",
                                    "osszes_vendeg": "2"
                                },
                                {
                                    "foglalas_ev": "2016",
                                    "foglalas_ho": "4",
                                    "szallas_nev": "Lagúna Hotel",
                                    "osszes_vendeg": "2"
                                },
                                {
                                    "foglalas_ev": "2016",
                                    "foglalas_ho": "5",
                                    "szallas_nev": "Lagúna Hotel",
                                    "osszes_vendeg": "3"
                                },
                                {
                                    "foglalas_ev": "2016",
                                    "foglalas_ho": "5",
                                    "szallas_nev": "Lagúna Hotel",
                                    "osszes_vendeg": "1"
                                },
                                {
                                    "foglalas_ev": "2016",
                                    "foglalas_ho": "5",
                                    "szallas_nev": "Lagúna Hotel",
                                    "osszes_vendeg": "2"
                                },
                                {
                                    "foglalas_ev": "2017",
                                    "foglalas_ho": "2",
                                    "szallas_nev": "Lagúna Hotel",
                                    "osszes_vendeg": "2"
                                },
                                {
                                    "foglalas_ev": "2017",
                                    "foglalas_ho": "2",
                                    "szallas_nev": "Lagúna Hotel",
                                    "osszes_vendeg": "3"
                                },
                                {
                                    "foglalas_ev": "2017",
                                    "foglalas_ho": "2",
                                    "szallas_nev": "Lagúna Hotel",
                                    "osszes_vendeg": "2"
                                },
                                {
                                    "foglalas_ev": "2017",
                                    "foglalas_ho": "2",
                                    "szallas_nev": "Lagúna Hotel",
                                    "osszes_vendeg": "3"
                                },
                                {
                                    "foglalas_ev": "2017",
                                    "foglalas_ho": "2",
                                    "szallas_nev": "Lagúna Hotel",
                                    "osszes_vendeg": "2"
                                },
                                {
                                    "foglalas_ev": "2017",
                                    "foglalas_ho": "2",
                                    "szallas_nev": "Lagúna Hotel",
                                    "osszes_vendeg": "2"
                                },
                                {
                                    "foglalas_ev": "2017",
                                    "foglalas_ho": "2",
                                    "szallas_nev": "Lagúna Hotel",
                                    "osszes_vendeg": "2"
                                },
                                {
                                    "foglalas_ev": "2017",
                                    "foglalas_ho": "2",
                                    "szallas_nev": "Lagúna Hotel",
                                    "osszes_vendeg": "3"
                                },
                                {
                                    "foglalas_ev": "2017",
                                    "foglalas_ho": "2",
                                    "szallas_nev": "Lagúna Hotel",
                                    "osszes_vendeg": "4"
                                },
                                {
                                    "foglalas_ev": "2017",
                                    "foglalas_ho": "2",
                                    "szallas_nev": "Lagúna Hotel",
                                    "osszes_vendeg": "1"
                                },
                                {
                                    "foglalas_ev": "NULL",
                                    "foglalas_ho": "NULL",
                                    "szallas_nev": "Lagúna Hotel",
                                    "osszes_vendeg": "56"
                                },
                                {
                                    "foglalas_ev": "2016",
                                    "foglalas_ho": "4",
                                    "szallas_nev": "Partiszél Vendégház",
                                    "osszes_vendeg": "2"
                                },
                                {
                                    "foglalas_ev": "2016",
                                    "foglalas_ho": "4",
                                    "szallas_nev": "Partiszél Vendégház",
                                    "osszes_vendeg": "3"
                                },
                                {
                                    "foglalas_ev": "2016",
                                    "foglalas_ho": "5",
                                    "szallas_nev": "Partiszél Vendégház",
                                    "osszes_vendeg": "2"
                                },
                                {
                                    "foglalas_ev": "2016",
                                    "foglalas_ho": "5",
                                    "szallas_nev": "Partiszél Vendégház",
                                    "osszes_vendeg": "3"
                                },
                                {
                                    "foglalas_ev": "2017",
                                    "foglalas_ho": "2",
                                    "szallas_nev": "Partiszél Vendégház",
                                    "osszes_vendeg": "2"
                                },
                                {
                                    "foglalas_ev": "2017",
                                    "foglalas_ho": "2",
                                    "szallas_nev": "Partiszél Vendégház",
                                    "osszes_vendeg": "3"
                                },
                                {
                                    "foglalas_ev": "2017",
                                    "foglalas_ho": "2",
                                    "szallas_nev": "Partiszél Vendégház",
                                    "osszes_vendeg": "3"
                                },
                                {
                                    "foglalas_ev": "NULL",
                                    "foglalas_ho": "NULL",
                                    "szallas_nev": "Partiszél Vendégház",
                                    "osszes_vendeg": "18"
                                },
                                {
                                    "foglalas_ev": "2016",
                                    "foglalas_ho": "4",
                                    "szallas_nev": "Sába-Ház",
                                    "osszes_vendeg": "3"
                                },
                                {
                                    "foglalas_ev": "2016",
                                    "foglalas_ho": "4",
                                    "szallas_nev": "Sába-Ház",
                                    "osszes_vendeg": "2"
                                },
                                {
                                    "foglalas_ev": "2016",
                                    "foglalas_ho": "4",
                                    "szallas_nev": "Sába-Ház",
                                    "osszes_vendeg": "2"
                                },
                                {
                                    "foglalas_ev": "2016",
                                    "foglalas_ho": "4",
                                    "szallas_nev": "Sába-Ház",
                                    "osszes_vendeg": "2"
                                },
                                {
                                    "foglalas_ev": "2016",
                                    "foglalas_ho": "5",
                                    "szallas_nev": "Sába-Ház",
                                    "osszes_vendeg": "1"
                                },
                                {
                                    "foglalas_ev": "2016",
                                    "foglalas_ho": "5",
                                    "szallas_nev": "Sába-Ház",
                                    "osszes_vendeg": "3"
                                },
                                {
                                    "foglalas_ev": "2017",
                                    "foglalas_ho": "2",
                                    "szallas_nev": "Sába-Ház",
                                    "osszes_vendeg": "2"
                                },
                                {
                                    "foglalas_ev": "2017",
                                    "foglalas_ho": "2",
                                    "szallas_nev": "Sába-Ház",
                                    "osszes_vendeg": "1"
                                },
                                {
                                    "foglalas_ev": "2017",
                                    "foglalas_ho": "2",
                                    "szallas_nev": "Sába-Ház",
                                    "osszes_vendeg": "7"
                                },
                                {
                                    "foglalas_ev": "NULL",
                                    "foglalas_ho": "NULL",
                                    "szallas_nev": "Sába-Ház",
                                    "osszes_vendeg": "23"
                                },
                                {
                                    "foglalas_ev": "2016",
                                    "foglalas_ho": "4",
                                    "szallas_nev": "Szieszta Apartmanház",
                                    "osszes_vendeg": "3"
                                },
                                {
                                    "foglalas_ev": "2016",
                                    "foglalas_ho": "5",
                                    "szallas_nev": "Szieszta Apartmanház",
                                    "osszes_vendeg": "2"
                                },
                                {
                                    "foglalas_ev": "2017",
                                    "foglalas_ho": "2",
                                    "szallas_nev": "Szieszta Apartmanház",
                                    "osszes_vendeg": "2"
                                },
                                {
                                    "foglalas_ev": "2017",
                                    "foglalas_ho": "2",
                                    "szallas_nev": "Szieszta Apartmanház",
                                    "osszes_vendeg": "3"
                                },
                                {
                                    "foglalas_ev": "2017",
                                    "foglalas_ho": "2",
                                    "szallas_nev": "Szieszta Apartmanház",
                                    "osszes_vendeg": "3"
                                },
                                {
                                    "foglalas_ev": "2017",
                                    "foglalas_ho": "2",
                                    "szallas_nev": "Szieszta Apartmanház",
                                    "osszes_vendeg": "2"
                                },
                                {
                                    "foglalas_ev": "NULL",
                                    "foglalas_ho": "NULL",
                                    "szallas_nev": "Szieszta Apartmanház",
                                    "osszes_vendeg": "15"
                                },
                                {
                                    "foglalas_ev": "NULL",
                                    "foglalas_ho": "NULL",
                                    "szallas_nev": "NULL",
                                    "osszes_vendeg": "481"
                                }
                            ]
                        },
                        "text/html": [
                            "<table>",
                            "<tr><th>foglalas_ev</th><th>foglalas_ho</th><th>szallas_nev</th><th>osszes_vendeg</th></tr>",
                            "<tr><td>2017</td><td>2</td><td>Családi Ház</td><td>3</td></tr>",
                            "<tr><td>2017</td><td>2</td><td>Családi Ház</td><td>4</td></tr>",
                            "<tr><td>NULL</td><td>NULL</td><td>Családi Ház</td><td>7</td></tr>",
                            "<tr><td>2016</td><td>4</td><td>Fortuna Apartman</td><td>2</td></tr>",
                            "<tr><td>2016</td><td>4</td><td>Fortuna Apartman</td><td>4</td></tr>",
                            "<tr><td>2016</td><td>5</td><td>Fortuna Apartman</td><td>2</td></tr>",
                            "<tr><td>2017</td><td>2</td><td>Fortuna Apartman</td><td>4</td></tr>",
                            "<tr><td>2017</td><td>2</td><td>Fortuna Apartman</td><td>3</td></tr>",
                            "<tr><td>2017</td><td>2</td><td>Fortuna Apartman</td><td>3</td></tr>",
                            "<tr><td>NULL</td><td>NULL</td><td>Fortuna Apartman</td><td>18</td></tr>",
                            "<tr><td>2016</td><td>4</td><td>Fortuna Panzió</td><td>2</td></tr>",
                            "<tr><td>2016</td><td>4</td><td>Fortuna Panzió</td><td>5</td></tr>",
                            "<tr><td>2016</td><td>4</td><td>Fortuna panzió</td><td>4</td></tr>",
                            "<tr><td>2016</td><td>4</td><td>Fortuna panzió</td><td>1</td></tr>",
                            "<tr><td>2016</td><td>4</td><td>Fortuna Panzió</td><td>3</td></tr>",
                            "<tr><td>2016</td><td>4</td><td>Fortuna panzió</td><td>6</td></tr>",
                            "<tr><td>2016</td><td>5</td><td>Fortuna panzió</td><td>2</td></tr>",
                            "<tr><td>2016</td><td>5</td><td>Fortuna panzió</td><td>7</td></tr>",
                            "<tr><td>2016</td><td>5</td><td>Fortuna Panzió</td><td>3</td></tr>",
                            "<tr><td>2017</td><td>2</td><td>Fortuna Panzió</td><td>3</td></tr>",
                            "<tr><td>2017</td><td>2</td><td>Fortuna Panzió</td><td>2</td></tr>",
                            "<tr><td>2017</td><td>2</td><td>Fortuna panzió</td><td>1</td></tr>",
                            "<tr><td>2017</td><td>2</td><td>Fortuna panzió</td><td>4</td></tr>",
                            "<tr><td>2017</td><td>2</td><td>Fortuna Panzió</td><td>3</td></tr>",
                            "<tr><td>2017</td><td>2</td><td>Fortuna Panzió</td><td>3</td></tr>",
                            "<tr><td>2017</td><td>2</td><td>Fortuna Panzió</td><td>5</td></tr>",
                            "<tr><td>2017</td><td>2</td><td>Fortuna panzió</td><td>3</td></tr>",
                            "<tr><td>2017</td><td>2</td><td>Fortuna panzió</td><td>1</td></tr>",
                            "<tr><td>2017</td><td>3</td><td>Fortuna Panzió</td><td>1</td></tr>",
                            "<tr><td>NULL</td><td>NULL</td><td>Fortuna Panzió</td><td>59</td></tr>",
                            "<tr><td>2016</td><td>4</td><td>Gold Hotel</td><td>7</td></tr>",
                            "<tr><td>2016</td><td>4</td><td>Gold Hotel</td><td>3</td></tr>",
                            "<tr><td>2016</td><td>4</td><td>Gold Hotel</td><td>2</td></tr>",
                            "<tr><td>2016</td><td>4</td><td>Gold Hotel</td><td>1</td></tr>",
                            "<tr><td>2016</td><td>4</td><td>Gold Hotel</td><td>2</td></tr>",
                            "<tr><td>2016</td><td>5</td><td>Gold Hotel</td><td>3</td></tr>",
                            "<tr><td>2016</td><td>5</td><td>Gold Hotel</td><td>5</td></tr>",
                            "<tr><td>2016</td><td>5</td><td>Gold Hotel</td><td>2</td></tr>",
                            "<tr><td>2016</td><td>5</td><td>Gold Hotel</td><td>2</td></tr>",
                            "<tr><td>2017</td><td>1</td><td>Gold Hotel</td><td>2</td></tr>",
                            "<tr><td>2017</td><td>2</td><td>Gold Hotel</td><td>2</td></tr>",
                            "<tr><td>2017</td><td>2</td><td>Gold Hotel</td><td>3</td></tr>",
                            "<tr><td>2017</td><td>2</td><td>Gold Hotel</td><td>5</td></tr>",
                            "<tr><td>2017</td><td>2</td><td>Gold Hotel</td><td>5</td></tr>",
                            "<tr><td>2017</td><td>2</td><td>Gold Hotel</td><td>2</td></tr>",
                            "<tr><td>2017</td><td>2</td><td>Gold Hotel</td><td>3</td></tr>",
                            "<tr><td>2017</td><td>2</td><td>Gold Hotel</td><td>3</td></tr>",
                            "<tr><td>2017</td><td>2</td><td>Gold Hotel</td><td>4</td></tr>",
                            "<tr><td>2017</td><td>2</td><td>Gold Hotel</td><td>5</td></tr>",
                            "<tr><td>2017</td><td>2</td><td>Gold Hotel</td><td>1</td></tr>",
                            "<tr><td>NULL</td><td>NULL</td><td>Gold Hotel</td><td>62</td></tr>",
                            "<tr><td>2016</td><td>4</td><td>Hotel Három Hattyú</td><td>3</td></tr>",
                            "<tr><td>2016</td><td>4</td><td>Hotel Három Hattyú</td><td>1</td></tr>",
                            "<tr><td>2016</td><td>4</td><td>Hotel Három Hattyú</td><td>1</td></tr>",
                            "<tr><td>2016</td><td>4</td><td>Hotel Három Hattyú</td><td>5</td></tr>",
                            "<tr><td>2016</td><td>4</td><td>Hotel Három Hattyú</td><td>3</td></tr>",
                            "<tr><td>2016</td><td>4</td><td>Hotel Három Hattyú</td><td>3</td></tr>",
                            "<tr><td>2016</td><td>4</td><td>Hotel Három Hattyú</td><td>1</td></tr>",
                            "<tr><td>2016</td><td>5</td><td>Hotel Három Hattyú</td><td>5</td></tr>",
                            "<tr><td>2016</td><td>5</td><td>Hotel Három Hattyú</td><td>5</td></tr>",
                            "<tr><td>2016</td><td>5</td><td>Hotel Három Hattyú</td><td>2</td></tr>",
                            "<tr><td>2016</td><td>5</td><td>Hotel Három Hattyú</td><td>2</td></tr>",
                            "<tr><td>2016</td><td>5</td><td>Hotel Három Hattyú</td><td>3</td></tr>",
                            "<tr><td>2016</td><td>5</td><td>Hotel Három Hattyú</td><td>3</td></tr>",
                            "<tr><td>2016</td><td>5</td><td>Hotel Három Hattyú</td><td>6</td></tr>",
                            "<tr><td>2016</td><td>5</td><td>Hotel Három Hattyú</td><td>2</td></tr>",
                            "<tr><td>2016</td><td>5</td><td>Hotel Három Hattyú</td><td>2</td></tr>",
                            "<tr><td>2017</td><td>1</td><td>Hotel Három Hattyú</td><td>6</td></tr>",
                            "<tr><td>2017</td><td>1</td><td>Hotel Három Hattyú</td><td>2</td></tr>",
                            "<tr><td>2017</td><td>2</td><td>Hotel Három Hattyú</td><td>2</td></tr>",
                            "<tr><td>2017</td><td>2</td><td>Hotel Három Hattyú</td><td>2</td></tr>",
                            "<tr><td>2017</td><td>2</td><td>Hotel Három Hattyú</td><td>12</td></tr>",
                            "<tr><td>2017</td><td>2</td><td>Hotel Három Hattyú</td><td>10</td></tr>",
                            "<tr><td>2017</td><td>2</td><td>Hotel Három Hattyú</td><td>5</td></tr>",
                            "<tr><td>2017</td><td>2</td><td>Hotel Három Hattyú</td><td>2</td></tr>",
                            "<tr><td>2017</td><td>2</td><td>Hotel Három Hattyú</td><td>7</td></tr>",
                            "<tr><td>2017</td><td>2</td><td>Hotel Három Hattyú</td><td>11</td></tr>",
                            "<tr><td>2017</td><td>2</td><td>Hotel Három Hattyú</td><td>2</td></tr>",
                            "<tr><td>2017</td><td>2</td><td>Hotel Három Hattyú</td><td>4</td></tr>",
                            "<tr><td>2017</td><td>2</td><td>Hotel Három Hattyú</td><td>7</td></tr>",
                            "<tr><td>2017</td><td>2</td><td>Hotel Három Hattyú</td><td>4</td></tr>",
                            "<tr><td>2017</td><td>2</td><td>Hotel Három Hattyú</td><td>6</td></tr>",
                            "<tr><td>2017</td><td>2</td><td>Hotel Három Hattyú</td><td>3</td></tr>",
                            "<tr><td>2017</td><td>2</td><td>Hotel Három Hattyú</td><td>3</td></tr>",
                            "<tr><td>2017</td><td>3</td><td>Hotel Három Hattyú</td><td>2</td></tr>",
                            "<tr><td>NULL</td><td>NULL</td><td>Hotel Három Hattyú</td><td>137</td></tr>",
                            "<tr><td>2016</td><td>4</td><td>Jáde panzió</td><td>2</td></tr>",
                            "<tr><td>2016</td><td>4</td><td>Jáde panzió</td><td>2</td></tr>",
                            "<tr><td>2016</td><td>5</td><td>Jáde panzió</td><td>2</td></tr>",
                            "<tr><td>2016</td><td>5</td><td>Jáde panzió</td><td>2</td></tr>",
                            "<tr><td>2017</td><td>2</td><td>Jáde panzió</td><td>3</td></tr>",
                            "<tr><td>2017</td><td>2</td><td>Jáde panzió</td><td>2</td></tr>",
                            "<tr><td>NULL</td><td>NULL</td><td>Jáde panzió</td><td>13</td></tr>",
                            "<tr><td>2016</td><td>4</td><td>Kentaur Hotel</td><td>4</td></tr>",
                            "<tr><td>2016</td><td>4</td><td>Kentaur Hotel</td><td>4</td></tr>",
                            "<tr><td>2016</td><td>4</td><td>Kentaur Hotel</td><td>3</td></tr>",
                            "<tr><td>2016</td><td>4</td><td>Kentaur Hotel</td><td>3</td></tr>",
                            "<tr><td>2016</td><td>4</td><td>Kentaur Hotel</td><td>3</td></tr>",
                            "<tr><td>2016</td><td>4</td><td>Kentaur Hotel</td><td>2</td></tr>",
                            "<tr><td>2016</td><td>5</td><td>Kentaur Hotel</td><td>2</td></tr>",
                            "<tr><td>2016</td><td>5</td><td>Kentaur Hotel</td><td>2</td></tr>",
                            "<tr><td>2016</td><td>5</td><td>Kentaur Hotel</td><td>1</td></tr>",
                            "<tr><td>2016</td><td>5</td><td>Kentaur Hotel</td><td>2</td></tr>",
                            "<tr><td>2016</td><td>5</td><td>Kentaur Hotel</td><td>7</td></tr>",
                            "<tr><td>2016</td><td>5</td><td>Kentaur Hotel</td><td>2</td></tr>",
                            "<tr><td>2017</td><td>2</td><td>Kentaur Hotel</td><td>3</td></tr>",
                            "<tr><td>2017</td><td>2</td><td>Kentaur Hotel</td><td>3</td></tr>",
                            "<tr><td>2017</td><td>2</td><td>Kentaur Hotel</td><td>3</td></tr>",
                            "<tr><td>2017</td><td>2</td><td>Kentaur Hotel</td><td>3</td></tr>",
                            "<tr><td>2017</td><td>2</td><td>Kentaur Hotel</td><td>3</td></tr>",
                            "<tr><td>2017</td><td>2</td><td>Kentaur Hotel</td><td>4</td></tr>",
                            "<tr><td>2017</td><td>2</td><td>Kentaur Hotel</td><td>2</td></tr>",
                            "<tr><td>2017</td><td>2</td><td>Kentaur Hotel</td><td>2</td></tr>",
                            "<tr><td>2017</td><td>2</td><td>Kentaur Hotel</td><td>3</td></tr>",
                            "<tr><td>2017</td><td>2</td><td>Kentaur Hotel</td><td>3</td></tr>",
                            "<tr><td>2017</td><td>3</td><td>Kentaur Hotel</td><td>4</td></tr>",
                            "<tr><td>2017</td><td>3</td><td>Kentaur Hotel</td><td>2</td></tr>",
                            "<tr><td>2017</td><td>3</td><td>Kentaur Hotel</td><td>3</td></tr>",
                            "<tr><td>NULL</td><td>NULL</td><td>Kentaur Hotel</td><td>73</td></tr>",
                            "<tr><td>2016</td><td>4</td><td>Lagúna Hotel</td><td>2</td></tr>",
                            "<tr><td>2016</td><td>4</td><td>Lagúna Hotel</td><td>4</td></tr>",
                            "<tr><td>2016</td><td>4</td><td>Lagúna Hotel</td><td>3</td></tr>",
                            "<tr><td>2016</td><td>4</td><td>Lagúna Hotel</td><td>2</td></tr>",
                            "<tr><td>2016</td><td>4</td><td>Lagúna Hotel</td><td>3</td></tr>",
                            "<tr><td>2016</td><td>4</td><td>Lagúna Hotel</td><td>2</td></tr>",
                            "<tr><td>2016</td><td>4</td><td>Lagúna Hotel</td><td>2</td></tr>",
                            "<tr><td>2016</td><td>4</td><td>Lagúna Hotel</td><td>4</td></tr>",
                            "<tr><td>2016</td><td>4</td><td>Lagúna Hotel</td><td>2</td></tr>",
                            "<tr><td>2016</td><td>4</td><td>Lagúna Hotel</td><td>2</td></tr>",
                            "<tr><td>2016</td><td>5</td><td>Lagúna Hotel</td><td>3</td></tr>",
                            "<tr><td>2016</td><td>5</td><td>Lagúna Hotel</td><td>1</td></tr>",
                            "<tr><td>2016</td><td>5</td><td>Lagúna Hotel</td><td>2</td></tr>",
                            "<tr><td>2017</td><td>2</td><td>Lagúna Hotel</td><td>2</td></tr>",
                            "<tr><td>2017</td><td>2</td><td>Lagúna Hotel</td><td>3</td></tr>",
                            "<tr><td>2017</td><td>2</td><td>Lagúna Hotel</td><td>2</td></tr>",
                            "<tr><td>2017</td><td>2</td><td>Lagúna Hotel</td><td>3</td></tr>",
                            "<tr><td>2017</td><td>2</td><td>Lagúna Hotel</td><td>2</td></tr>",
                            "<tr><td>2017</td><td>2</td><td>Lagúna Hotel</td><td>2</td></tr>",
                            "<tr><td>2017</td><td>2</td><td>Lagúna Hotel</td><td>2</td></tr>",
                            "<tr><td>2017</td><td>2</td><td>Lagúna Hotel</td><td>3</td></tr>",
                            "<tr><td>2017</td><td>2</td><td>Lagúna Hotel</td><td>4</td></tr>",
                            "<tr><td>2017</td><td>2</td><td>Lagúna Hotel</td><td>1</td></tr>",
                            "<tr><td>NULL</td><td>NULL</td><td>Lagúna Hotel</td><td>56</td></tr>",
                            "<tr><td>2016</td><td>4</td><td>Partiszél Vendégház</td><td>2</td></tr>",
                            "<tr><td>2016</td><td>4</td><td>Partiszél Vendégház</td><td>3</td></tr>",
                            "<tr><td>2016</td><td>5</td><td>Partiszél Vendégház</td><td>2</td></tr>",
                            "<tr><td>2016</td><td>5</td><td>Partiszél Vendégház</td><td>3</td></tr>",
                            "<tr><td>2017</td><td>2</td><td>Partiszél Vendégház</td><td>2</td></tr>",
                            "<tr><td>2017</td><td>2</td><td>Partiszél Vendégház</td><td>3</td></tr>",
                            "<tr><td>2017</td><td>2</td><td>Partiszél Vendégház</td><td>3</td></tr>",
                            "<tr><td>NULL</td><td>NULL</td><td>Partiszél Vendégház</td><td>18</td></tr>",
                            "<tr><td>2016</td><td>4</td><td>Sába-Ház</td><td>3</td></tr>",
                            "<tr><td>2016</td><td>4</td><td>Sába-Ház</td><td>2</td></tr>",
                            "<tr><td>2016</td><td>4</td><td>Sába-Ház</td><td>2</td></tr>",
                            "<tr><td>2016</td><td>4</td><td>Sába-Ház</td><td>2</td></tr>",
                            "<tr><td>2016</td><td>5</td><td>Sába-Ház</td><td>1</td></tr>",
                            "<tr><td>2016</td><td>5</td><td>Sába-Ház</td><td>3</td></tr>",
                            "<tr><td>2017</td><td>2</td><td>Sába-Ház</td><td>2</td></tr>",
                            "<tr><td>2017</td><td>2</td><td>Sába-Ház</td><td>1</td></tr>",
                            "<tr><td>2017</td><td>2</td><td>Sába-Ház</td><td>7</td></tr>",
                            "<tr><td>NULL</td><td>NULL</td><td>Sába-Ház</td><td>23</td></tr>",
                            "<tr><td>2016</td><td>4</td><td>Szieszta Apartmanház</td><td>3</td></tr>",
                            "<tr><td>2016</td><td>5</td><td>Szieszta Apartmanház</td><td>2</td></tr>",
                            "<tr><td>2017</td><td>2</td><td>Szieszta Apartmanház</td><td>2</td></tr>",
                            "<tr><td>2017</td><td>2</td><td>Szieszta Apartmanház</td><td>3</td></tr>",
                            "<tr><td>2017</td><td>2</td><td>Szieszta Apartmanház</td><td>3</td></tr>",
                            "<tr><td>2017</td><td>2</td><td>Szieszta Apartmanház</td><td>2</td></tr>",
                            "<tr><td>NULL</td><td>NULL</td><td>Szieszta Apartmanház</td><td>15</td></tr>",
                            "<tr><td>NULL</td><td>NULL</td><td>NULL</td><td>481</td></tr>",
                            "</table>"
                        ]
                    }
                }
            ],
            "execution_count": 27
        },
        {
            "cell_type": "code",
            "source": [
                "declare @xmldata XML;\r\n",
                "drop table if exists xmlquery;\r\n",
                "\r\n",
                "create table xmlquery(\r\n",
                "    query_result xml\r\n",
                ");\r\n",
                "\r\n",
                "select @xmldata = \r\n",
                "(\r\n",
                "select * from Foglalas\r\n",
                "for xml auto, elements\r\n",
                ");\r\n",
                "\r\n",
                "insert into xmlquery(query_result) values(@xmldata);"
            ],
            "metadata": {
                "language": "sql",
                "azdata_cell_guid": "00a9a9d4-ecea-49a6-bfd7-b4ac89325dcc"
            },
            "outputs": [
                {
                    "output_type": "display_data",
                    "data": {
                        "text/html": "(1 row affected)"
                    },
                    "metadata": {}
                },
                {
                    "output_type": "display_data",
                    "data": {
                        "text/html": "(1 row affected)"
                    },
                    "metadata": {}
                },
                {
                    "output_type": "display_data",
                    "data": {
                        "text/html": "Total execution time: 00:00:00.132"
                    },
                    "metadata": {}
                },
                {
                    "output_type": "execute_result",
                    "metadata": {},
                    "execution_count": 52,
                    "data": {
                        "application/vnd.dataresource+json": {
                            "schema": {
                                "fields": [
                                    {
                                        "name": "query_result"
                                    }
                                ]
                            },
                            "data": [
                                {
                                    "query_result": "<Foglalas><FOGLALAS_PK>558</FOGLALAS_PK><UGYFEL_FK>NANDORF</UGYFEL_FK><SZOBA_FK>87</SZOBA_FK><METTOL>2016-04-06</METTOL><MEDDIG>2016-04-10</MEDDIG><FELNOTT_SZAM>2</FELNOTT_SZAM><GYERMEK_SZAM>1</GYERMEK_SZAM></Foglalas><Foglalas><FOGLALAS_PK>559</FOGLALAS_PK><UGYFEL_FK>ARONK</UGYFEL_FK><SZOBA_FK>131</SZOBA_FK><METTOL>2016-04-06</METTOL><MEDDIG>2016-04-08</MEDDIG><FELNOTT_SZAM>2</FELNOTT_SZAM><GYERMEK_SZAM>0</GYERMEK_SZAM></Foglalas><Foglalas><FOGLALAS_PK>560</FOGLALAS_PK><UGYFEL_FK>SEBASTIANF</UGYFEL_FK><SZOBA_FK>6</SZOBA_FK><METTOL>2016-04-06</METTOL><MEDDIG>2016-04-12</MEDDIG><FELNOTT_SZAM>2</FELNOTT_SZAM><GYERMEK_SZAM>0</GYERMEK_SZAM></Foglalas><Foglalas><FOGLALAS_PK>561</FOGLALAS_PK><UGYFEL_FK>laszlo2</UGYFEL_FK><SZOBA_FK>42</SZOBA_FK><METTOL>2016-04-06</METTOL><MEDDIG>2016-04-10</MEDDIG><FELNOTT_SZAM>2</FELNOTT_SZAM><GYERMEK_SZAM>0</GYERMEK_SZAM></Foglalas><Foglalas><FOGLALAS_PK>562</FOGLALAS_PK><UGYFEL_FK>PETERB</UGYFEL_FK><SZOBA_FK>7</SZOBA_FK><METTOL>2016-04-06</METTOL><MEDDIG>2016-04-10</MEDDIG><FELNOTT_SZAM>1</FELNOTT_SZAM><GYERMEK_SZAM>0</GYERMEK_SZAM></Foglalas><Foglalas><FOGLALAS_PK>563</FOGLALAS_PK><UGYFEL_FK>sebestyen</UGYFEL_FK><SZOBA_FK>68</SZOBA_FK><METTOL>2016-04-07</METTOL><MEDDIG>2016-04-12</MEDDIG><FELNOTT_SZAM>1</FELNOTT_SZAM><GYERMEK_SZAM>3</GYERMEK_SZAM></Foglalas><Foglalas><FOGLALAS_PK>564</FOGLALAS_PK><UGYFEL_FK>nikoletta4</UGYFEL_FK><SZOBA_FK>5</SZOBA_FK><METTOL>2016-04-08</METTOL><MEDDIG>2016-04-10</MEDDIG><FELNOTT_SZAM>1</FELNOTT_SZAM><GYERMEK_SZAM>1</GYERMEK_SZAM></Foglalas><Foglalas><FOGLALAS_PK>565</FOGLALAS_PK><UGYFEL_FK>kristof4</UGYFEL_FK><SZOBA_FK>141</SZOBA_FK><METTOL>2016-04-08</METTOL><MEDDIG>2016-04-14</MEDDIG><FELNOTT_SZAM>2</FELNOTT_SZAM><GYERMEK_SZAM>0</GYERMEK_SZAM></Foglalas><Foglalas><FOGLALAS_PK>566</FOGLALAS_PK><UGYFEL_FK>KRISZTIANM</UGYFEL_FK><SZOBA_FK>21</SZOBA_FK><METTOL>2016-04-09</METTOL><MEDDIG>2016-04-15</MEDDIG><FELNOTT_SZAM>1</FELNOTT_SZAM><GYERMEK_SZAM>1</GYERMEK_SZAM></Foglalas><Foglalas><FOGLALAS_PK>567</FOGLALAS_PK><UGYFEL_FK>anett3</UGYFEL_FK><SZOBA_FK>170</SZOBA_FK><METTOL>2016-04-10</METTOL><MEDDIG>2016-04-17</MEDDIG><FELNOTT_SZAM>1</FELNOTT_SZAM><GYERMEK_SZAM>0</GYERMEK_SZAM></Foglalas><Foglalas><FOGLALAS_PK>568</FOGLALAS_PK><UGYFEL_FK>kata</UGYFEL_FK><SZOBA_FK>78</SZOBA_FK><METTOL>2016-04-10</METTOL><MEDDIG>2016-04-11</MEDDIG><FELNOTT_SZAM>2</FELNOTT_SZAM><GYERMEK_SZAM>0</GYERMEK_SZAM></Foglalas><Foglalas><FOGLALAS_PK>569</FOGLALAS_PK><UGYFEL_FK>norbert4</UGYFEL_FK><SZOBA_FK>10</SZOBA_FK><METTOL>2016-04-10</METTOL><MEDDIG>2016-04-13</MEDDIG><FELNOTT_SZAM>2</FELNOTT_SZAM><GYERMEK_SZAM>0</GYERMEK_SZAM></Foglalas><Foglalas><FOGLALAS_PK>570</FOGLALAS_PK><UGYFEL_FK>BERNADETTO</UGYFEL_FK><SZOBA_FK>164</SZOBA_FK><METTOL>2016-04-10</METTOL><MEDDIG>2016-04-17</MEDDIG><FELNOTT_SZAM>2</FELNOTT_SZAM><GYERMEK_SZAM>0</GYERMEK_SZAM></Foglalas><Foglalas><FOGLALAS_PK>571</FOGLALAS_PK><UGYFEL_FK>AGNESH</UGYFEL_FK><SZOBA_FK>182</SZOBA_FK><METTOL>2016-04-10</METTOL><MEDDIG>2016-04-12</MEDDIG><FELNOTT_SZAM>1</FELNOTT_SZAM><GYERMEK_SZAM>1</GYERMEK_SZAM></Foglalas><Foglalas><FOGLALAS_PK>572</FOGLALAS_PK><UGYFEL_FK>katalin</UGYFEL_FK><SZOBA_FK>83</SZOBA_FK><METTOL>2016-04-10</METTOL><MEDDIG>2016-04-17</MEDDIG><FELNOTT_SZAM>1</FELNOTT_SZAM><GYERMEK_SZAM>1</GYERMEK_SZAM></Foglalas><Foglalas><FOGLALAS_PK>573</FOGLALAS_PK><UGYFEL_FK>daniel1</UGYFEL_FK><SZOBA_FK>169</SZOBA_FK><METTOL>2016-04-10</METTOL><MEDDIG>2016-04-15</MEDDIG><FELNOTT_SZAM>1</FELNOTT_SZAM><GYERMEK_SZAM>1</GYERMEK_SZAM></Foglalas><Foglalas><FOGLALAS_PK>574</FOGLALAS_PK><UGYFEL_FK>katka</UGYFEL_FK><SZOBA_FK>171</SZOBA_FK><METTOL>2016-04-10</METTOL><MEDDIG>2016-04-12</MEDDIG><FELNOTT_SZAM>2</FELNOTT_SZAM><GYERMEK_SZAM>0</GYERMEK_SZAM></Foglalas><Foglalas><FOGLALAS_PK>575</FOGLALAS_PK><UGYFEL_FK>daniel</UGYFEL_FK><SZOBA_FK>155</SZOBA_FK><METTOL>2016-04-10</METTOL><MEDDIG>2016-04-11</MEDDIG><FELNOTT_SZAM>1</FELNOTT_SZAM><GYERMEK_SZAM>3</GYERMEK_SZAM></Foglalas><Foglalas><FOGLALAS_PK>576</FOGLALAS_PK><UGYFEL_FK>aron2</UGYFEL_FK><SZOBA_FK>125</SZOBA_FK><METTOL>2016-04-11</METTOL><MEDDIG>2016-04-12</MEDDIG><FELNOTT_SZAM>1</FELNOTT_SZAM><GYERMEK_SZAM>2</GYERMEK_SZAM></Foglalas><Foglalas><FOGLALAS_PK>577</FOGLALAS_PK><UGYFEL_FK>peter4</UGYFEL_FK><SZOBA_FK>155</SZOBA_FK><METTOL>2016-04-12</METTOL><MEDDIG>2016-04-15</MEDDIG><FELNOTT_SZAM>2</FELNOTT_SZAM><GYERMEK_SZAM>1</GYERMEK_SZAM></Foglalas><Foglalas><FOGLALAS_PK>578</FOGLALAS_PK><UGYFEL_FK>anett3</UGYFEL_FK><SZOBA_FK>185</SZOBA_FK><METTOL>2016-04-13</METTOL><MEDDIG>2016-04-19</MEDDIG><FELNOTT_SZAM>2</FELNOTT_SZAM><GYERMEK_SZAM>1</GYERMEK_SZAM></Foglalas><Foglalas><FOGLALAS_PK>579</FOGLALAS_PK><UGYFEL_FK>ZSUZSAV</UGYFEL_FK><SZOBA_FK>139</SZOBA_FK><METTOL>2016-04-14</METTOL><MEDDIG>2016-04-16</MEDDIG><FELNOTT_SZAM>2</FELNOTT_SZAM><GYERMEK_SZAM>0</GYERMEK_SZAM></Foglalas><Foglalas><FOGLALAS_PK>580</FOGLALAS_PK><UGYFEL_FK>zsolt1</UGYFEL_FK><SZOBA_FK>130</SZOBA_FK><METTOL>2016-04-14</METTOL><MEDDIG>2016-04-17</MEDDIG><FELNOTT_SZAM>2</FELNOTT_SZAM><GYERMEK_SZAM>0</GYERMEK_SZAM></Foglalas><Foglalas><FOGLALAS_PK>581</FOGLALAS_PK><UGYFEL_FK>anett3</UGYFEL_FK><SZOBA_FK>144</SZOBA_FK><METTOL>2016-04-15</METTOL><MEDDIG>2016-04-19</MEDDIG><FELNOTT_SZAM>2</FELNOTT_SZAM><GYERMEK_SZAM>1</GYERMEK_SZAM></Foglalas><Foglalas><FOGLALAS_PK>582</FOGLALAS_PK><UGYFEL_FK>balazs2</UGYFEL_FK><SZOBA_FK>137</SZOBA_FK><METTOL>2016-04-16</METTOL><MEDDIG>2016-04-19</MEDDIG><FELNOTT_SZAM>1</FELNOTT_SZAM><GYERMEK_SZAM>1</GYERMEK_SZAM></Foglalas><Foglalas><FOGLALAS_PK>583</FOGLALAS_PK><UGYFEL_FK>istvan1</UGYFEL_FK><SZOBA_FK>79</SZOBA_FK><METTOL>2016-04-16</METTOL><MEDDIG>2016-04-22</MEDDIG><FELNOTT_SZAM>3</FELNOTT_SZAM><GYERMEK_SZAM>0</GYERMEK_SZAM></Foglalas><Foglalas><FOGLALAS_PK>584</FOGLALAS_PK><UGYFEL_FK>BERNADETTO</UGYFEL_FK><SZOBA_FK>136</SZOBA_FK><METTOL>2016-04-17</METTOL><MEDDIG>2016-04-19</MEDDIG><FELNOTT_SZAM>1</FELNOTT_SZAM><GYERMEK_SZAM>1</GYERMEK_SZAM></Foglalas><Foglalas><FOGLALAS_PK>585</FOGLALAS_PK><UGYFEL_FK>polla</UGYFEL_FK><SZOBA_FK>70</SZOBA_FK><METTOL>2016-04-17</METTOL><MEDDIG>2016-04-22</MEDDIG><FELNOTT_SZAM>1</FELNOTT_SZAM><GYERMEK_SZAM>2</GYERMEK_SZAM></Foglalas><Foglalas><FOGLALAS_PK>586</FOGLALAS_PK><UGYFEL_FK>BEATRIXS</UGYFEL_FK><SZOBA_FK>107</SZOBA_FK><METTOL>2016-04-18</METTOL><MEDDIG>2016-04-24</MEDDIG><FELNOTT_SZAM>1</FELNOTT_SZAM><GYERMEK_SZAM>0</GYERMEK_SZAM></Foglalas><Foglalas><FOGLALAS_PK>587</FOGLALAS_PK><UGYFEL_FK>norbert2</UGYFEL_FK><SZOBA_FK>123</SZOBA_FK><METTOL>2016-04-19</METTOL><MEDDIG>2016-04-26</MEDDIG><FELNOTT_SZAM>1</FELNOTT_SZAM><GYERMEK_SZAM>0</GYERMEK_SZAM></Foglalas><Foglalas><FOGLALAS_PK>588</FOGLALAS_PK><UGYFEL_FK>mark</UGYFEL_FK><SZOBA_FK>156</SZOBA_FK><METTOL>2016-04-19</METTOL><MEDDIG>2016-04-26</MEDDIG><FELNOTT_SZAM>2</FELNOTT_SZAM><GYERMEK_SZAM>2</GYERMEK_SZAM></Foglalas><Foglalas><FOGLALAS_PK>589</FOGLALAS_PK><UGYFEL_FK>miklos2</UGYFEL_FK><SZOBA_FK>44</SZOBA_FK><METTOL>2016-04-19</METTOL><MEDDIG>2016-04-21</MEDDIG><FELNOTT_SZAM>3</FELNOTT_SZAM><GYERMEK_SZAM>0</GYERMEK_SZAM></Foglalas><Foglalas><FOGLALAS_PK>590</FOGLALAS_PK><UGYFEL_FK>ANIKOS</UGYFEL_FK><SZOBA_FK>42</SZOBA_FK><METTOL>2016-04-19</METTOL><MEDDIG>2016-04-24</MEDDIG><FELNOTT_SZAM>1</FELNOTT_SZAM><GYERMEK_SZAM>1</GYERMEK_SZAM></Foglalas><Foglalas><FOGLALAS_PK>591</FOGLALAS_PK><UGYFEL_FK>beata4</UGYFEL_FK><SZOBA_FK>149</SZOBA_FK><METTOL>2016-04-20</METTOL><MEDDIG>2016-04-21</MEDDIG><FELNOTT_SZAM>1</FELNOTT_SZAM><GYERMEK_SZAM>1</GYERMEK_SZAM></Foglalas><Foglalas><FOGLALAS_PK>592</FOGLALAS_PK><UGYFEL_FK>julia</UGYFEL_FK><SZOBA_FK>176</SZOBA_FK><METTOL>2016-04-21</METTOL><MEDDIG>2016-04-26</MEDDIG><FELNOTT_SZAM>1</FELNOTT_SZAM><GYERMEK_SZAM>1</GYERMEK_SZAM></Foglalas><Foglalas><FOGLALAS_PK>593</FOGLALAS_PK><UGYFEL_FK>gabriella1</UGYFEL_FK><SZOBA_FK>77</SZOBA_FK><METTOL>2016-04-21</METTOL><MEDDIG>2016-04-24</MEDDIG><FELNOTT_SZAM>3</FELNOTT_SZAM><GYERMEK_SZAM>0</GYERMEK_SZAM></Foglalas><Foglalas><FOGLALAS_PK>594</FOGLALAS_PK><UGYFEL_FK>daniel</UGYFEL_FK><SZOBA_FK>153</SZOBA_FK><METTOL>2016-04-22</METTOL><MEDDIG>2016-04-25</MEDDIG><FELNOTT_SZAM>2</FELNOTT_SZAM><GYERMEK_SZAM>0</GYERMEK_SZAM></Foglalas><Foglalas><FOGLALAS_PK>595</FOGLALAS_PK><UGYFEL_FK>balint</UGYFEL_FK><SZOBA_FK>74</SZOBA_FK><METTOL>2016-04-22</METTOL><MEDDIG>2016-04-29</MEDDIG><FELNOTT_SZAM>2</FELNOTT_SZAM><GYERMEK_SZAM>0</GYERMEK_SZAM></Foglalas><Foglalas><FOGLALAS_PK>596</FOGLALAS_PK><UGYFEL_FK>SZILARDS</UGYFEL_FK><SZOBA_FK>115</SZOBA_FK><METTOL>2016-04-23</METTOL><MEDDIG>2016-04-30</MEDDIG><FELNOTT_SZAM>3</FELNOTT_SZAM><GYERMEK_SZAM>0</GYERMEK_SZAM></Foglalas><Foglalas><FOGLALAS_PK>597</FOGLALAS_PK><UGYFEL_FK>KRISZTINAG</UGYFEL_FK><SZOBA_FK>100</SZOBA_FK><METTOL>2016-04-23</METTOL><MEDDIG>2016-04-24</MEDDIG><FELNOTT_SZAM>2</FELNOTT_SZAM><GYERMEK_SZAM>0</GYERMEK_SZAM></Foglalas><Foglalas><FOGLALAS_PK>598</FOGLALAS_PK><UGYFEL_FK>ZSOLTJ</UGYFEL_FK><SZOBA_FK>31</SZOBA_FK><METTOL>2016-04-24</METTOL><MEDDIG>2016-04-26</MEDDIG><FELNOTT_SZAM>2</FELNOTT_SZAM><GYERMEK_SZAM>2</GYERMEK_SZAM></Foglalas><Foglalas><FOGLALAS_PK>599</FOGLALAS_PK><UGYFEL_FK>istvan1</UGYFEL_FK><SZOBA_FK>162</SZOBA_FK><METTOL>2016-04-24</METTOL><MEDDIG>2016-04-28</MEDDIG><FELNOTT_SZAM>3</FELNOTT_SZAM><GYERMEK_SZAM>0</GYERMEK_SZAM></Foglalas><Foglalas><FOGLALAS_PK>600</FOGLALAS_PK><UGYFEL_FK>ANDRASE</UGYFEL_FK><SZOBA_FK>190</SZOBA_FK><METTOL>2016-04-24</METTOL><MEDDIG>2016-05-01</MEDDIG><FELNOTT_SZAM>1</FELNOTT_SZAM><GYERMEK_SZAM>0</GYERMEK_SZAM></Foglalas><Foglalas><FOGLALAS_PK>601</FOGLALAS_PK><UGYFEL_FK>kata</UGYFEL_FK><SZOBA_FK>39</SZOBA_FK><METTOL>2016-04-25</METTOL><MEDDIG>2016-05-01</MEDDIG><FELNOTT_SZAM>1</FELNOTT_SZAM><GYERMEK_SZAM>0</GYERMEK_SZAM></Foglalas><Foglalas><FOGLALAS_PK>602</FOGLALAS_PK><UGYFEL_FK>sebestyen</UGYFEL_FK><SZOBA_FK>17</SZOBA_FK><METTOL>2016-04-26</METTOL><MEDDIG>2016-05-02</MEDDIG><FELNOTT_SZAM>3</FELNOTT_SZAM><GYERMEK_SZAM>1</GYERMEK_SZAM></Foglalas><Foglalas><FOGLALAS_PK>603</FOGLALAS_PK><UGYFEL_FK>gabor4</UGYFEL_FK><SZOBA_FK>48</SZOBA_FK><METTOL>2016-04-26</METTOL><MEDDIG>2016-04-29</MEDDIG><FELNOTT_SZAM>3</FELNOTT_SZAM><GYERMEK_SZAM>0</GYERMEK_SZAM></Foglalas><Foglalas><FOGLALAS_PK>604</FOGLALAS_PK><UGYFEL_FK>laszlo2</UGYFEL_FK><SZOBA_FK>30</SZOBA_FK><METTOL>2016-04-27</METTOL><MEDDIG>2016-04-29</MEDDIG><FELNOTT_SZAM>1</FELNOTT_SZAM><GYERMEK_SZAM>1</GYERMEK_SZAM></Foglalas><Foglalas><FOGLALAS_PK>605</FOGLALAS_PK><UGYFEL_FK>marton</UGYFEL_FK><SZOBA_FK>111</SZOBA_FK><METTOL>2016-04-27</METTOL><MEDDIG>2016-05-04</MEDDIG><FELNOTT_SZAM>2</FELNOTT_SZAM><GYERMEK_SZAM>1</GYERMEK_SZAM></Foglalas><Foglalas><FOGLALAS_PK>606</FOGLALAS_PK><UGYFEL_FK>AGNESH</UGYFEL_FK><SZOBA_FK>31</SZOBA_FK><METTOL>2016-04-27</METTOL><MEDDIG>2016-04-28</MEDDIG><FELNOTT_SZAM>1</FELNOTT_SZAM><GYERMEK_SZAM>3</GYERMEK_SZAM></Foglalas><Foglalas><FOGLALAS_PK>607</FOGLALAS_PK><UGYFEL_FK>anett3</UGYFEL_FK><SZOBA_FK>96</SZOBA_FK><METTOL>2016-04-28</METTOL><MEDDIG>2016-05-02</MEDDIG><FELNOTT_SZAM>2</FELNOTT_SZAM><GYERMEK_SZAM>1</GYERMEK_SZAM></Foglalas><Foglalas><FOGLALAS_PK>608</FOGLALAS_PK><UGYFEL_FK>krisztina1</UGYFEL_FK><SZOBA_FK>184</SZOBA_FK><METTOL>2016-04-28</METTOL><MEDDIG>2016-04-30</MEDDIG><FELNOTT_SZAM>2</FELNOTT_SZAM><GYERMEK_SZAM>0</GYERMEK_SZAM></Foglalas><Foglalas><FOGLALAS_PK>609</FOGLALAS_PK><UGYFEL_FK>MONIKAM</UGYFEL_FK><SZOBA_FK>9</SZOBA_FK><METTOL>2016-04-29</METTOL><MEDDIG>2016-05-01</MEDDIG><FELNOTT_SZAM>2</FELNOTT_SZAM><GYERMEK_SZAM>0</GYERMEK_SZAM></Foglalas><Foglalas><FOGLALAS_PK>610</FOGLALAS_PK><UGYFEL_FK>VIKTORIAU</UGYFEL_FK><SZOBA_FK>106</SZOBA_FK><METTOL>2016-04-30</METTOL><MEDDIG>2016-05-03</MEDDIG><FELNOTT_SZAM>1</FELNOTT_SZAM><GYERMEK_SZAM>0</GYERMEK_SZAM></Foglalas><Foglalas><FOGLALAS_PK>611</FOGLALAS_PK><UGYFEL_FK>andras3</UGYFEL_FK><SZOBA_FK>29</SZOBA_FK><METTOL>2016-05-01</METTOL><MEDDIG>2016-05-06</MEDDIG><FELNOTT_SZAM>1</FELNOTT_SZAM><GYERMEK_SZAM>1</GYERMEK_SZAM></Foglalas><Foglalas><FOGLALAS_PK>612</FOGLALAS_PK><UGYFEL_FK>bernadett2</UGYFEL_FK><SZOBA_FK>117</SZOBA_FK><METTOL>2016-05-01</METTOL><MEDDIG>2016-05-03</MEDDIG><FELNOTT_SZAM>1</FELNOTT_SZAM><GYERMEK_SZAM>1</GYERMEK_SZAM></Foglalas><Foglalas><FOGLALAS_PK>613</FOGLALAS_PK><UGYFEL_FK>csongor3</UGYFEL_FK><SZOBA_FK>130</SZOBA_FK><METTOL>2016-05-01</METTOL><MEDDIG>2016-05-04</MEDDIG><FELNOTT_SZAM>2</FELNOTT_SZAM><GYERMEK_SZAM>0</GYERMEK_SZAM></Foglalas><Foglalas><FOGLALAS_PK>614</FOGLALAS_PK><UGYFEL_FK>EVAV</UGYFEL_FK><SZOBA_FK>109</SZOBA_FK><METTOL>2016-05-01</METTOL><MEDDIG>2016-05-05</MEDDIG><FELNOTT_SZAM>1</FELNOTT_SZAM><GYERMEK_SZAM>2</GYERMEK_SZAM></Foglalas><Foglalas><FOGLALAS_PK>615</FOGLALAS_PK><UGYFEL_FK>ZOLTANT</UGYFEL_FK><SZOBA_FK>186</SZOBA_FK><METTOL>2016-05-01</METTOL><MEDDIG>2016-05-04</MEDDIG><FELNOTT_SZAM>2</FELNOTT_SZAM><GYERMEK_SZAM>1</GYERMEK_SZAM></Foglalas><Foglalas><FOGLALAS_PK>616</FOGLALAS_PK><UGYFEL_FK>JOZSEFG</UGYFEL_FK><SZOBA_FK>94</SZOBA_FK><METTOL>2016-05-02</METTOL><MEDDIG>2016-05-06</MEDDIG><FELNOTT_SZAM>2</FELNOTT_SZAM><GYERMEK_SZAM>0</GYERMEK_SZAM></Foglalas><Foglalas><FOGLALAS_PK>617</FOGLALAS_PK><UGYFEL_FK>vivien3</UGYFEL_FK><SZOBA_FK>117</SZOBA_FK><METTOL>2016-05-02</METTOL><MEDDIG>2016-05-05</MEDDIG><FELNOTT_SZAM>2</FELNOTT_SZAM><GYERMEK_SZAM>1</GYERMEK_SZAM></Foglalas><Foglalas><FOGLALAS_PK>618</FOGLALAS_PK><UGYFEL_FK>TAMASF</UGYFEL_FK><SZOBA_FK>105</SZOBA_FK><METTOL>2016-05-03</METTOL><MEDDIG>2016-05-04</MEDDIG><FELNOTT_SZAM>1</FELNOTT_SZAM><GYERMEK_SZAM>1</GYERMEK_SZAM></Foglalas><Foglalas><FOGLALAS_PK>619</FOGLALAS_PK><UGYFEL_FK>RENATAS</UGYFEL_FK><SZOBA_FK>132</SZOBA_FK><METTOL>2016-05-04</METTOL><MEDDIG>2016-05-11</MEDDIG><FELNOTT_SZAM>1</FELNOTT_SZAM><GYERMEK_SZAM>1</GYERMEK_SZAM></Foglalas><Foglalas><FOGLALAS_PK>620</FOGLALAS_PK><UGYFEL_FK>marton</UGYFEL_FK><SZOBA_FK>1</SZOBA_FK><METTOL>2016-05-05</METTOL><MEDDIG>2016-05-10</MEDDIG><FELNOTT_SZAM>1</FELNOTT_SZAM><GYERMEK_SZAM>0</GYERMEK_SZAM></Foglalas><Foglalas><FOGLALAS_PK>621</FOGLALAS_PK><UGYFEL_FK>gusztav</UGYFEL_FK><SZOBA_FK>109</SZOBA_FK><METTOL>2016-05-06</METTOL><MEDDIG>2016-05-13</MEDDIG><FELNOTT_SZAM>1</FELNOTT_SZAM><GYERMEK_SZAM>1</GYERMEK_SZAM></Foglalas><Foglalas><FOGLALAS_PK>622</FOGLALAS_PK><UGYFEL_FK>balazs1</UGYFEL_FK><SZOBA_FK>54</SZOBA_FK><METTOL>2016-05-07</METTOL><MEDDIG>2016-05-14</MEDDIG><FELNOTT_SZAM>1</FELNOTT_SZAM><GYERMEK_SZAM>1</GYERMEK_SZAM></Foglalas><Foglalas><FOGLALAS_PK>623</FOGLALAS_PK><UGYFEL_FK>csongor3</UGYFEL_FK><SZOBA_FK>96</SZOBA_FK><METTOL>2016-05-08</METTOL><MEDDIG>2016-05-15</MEDDIG><FELNOTT_SZAM>3</FELNOTT_SZAM><GYERMEK_SZAM>0</GYERMEK_SZAM></Foglalas><Foglalas><FOGLALAS_PK>624</FOGLALAS_PK><UGYFEL_FK>andi</UGYFEL_FK><SZOBA_FK>33</SZOBA_FK><METTOL>2016-05-08</METTOL><MEDDIG>2016-05-14</MEDDIG><FELNOTT_SZAM>1</FELNOTT_SZAM><GYERMEK_SZAM>3</GYERMEK_SZAM></Foglalas><Foglalas><FOGLALAS_PK>625</FOGLALAS_PK><UGYFEL_FK>ferenc1</UGYFEL_FK><SZOBA_FK>63</SZOBA_FK><METTOL>2016-05-08</METTOL><MEDDIG>2016-05-11</MEDDIG><FELNOTT_SZAM>1</FELNOTT_SZAM><GYERMEK_SZAM>1</GYERMEK_SZAM></Foglalas><Foglalas><FOGLALAS_PK>626</FOGLALAS_PK><UGYFEL_FK>bence</UGYFEL_FK><SZOBA_FK>18</SZOBA_FK><METTOL>2016-05-08</METTOL><MEDDIG>2016-05-11</MEDDIG><FELNOTT_SZAM>2</FELNOTT_SZAM><GYERMEK_SZAM>0</GYERMEK_SZAM></Foglalas><Foglalas><FOGLALAS_PK>627</FOGLALAS_PK><UGYFEL_FK>kornel4</UGYFEL_FK><SZOBA_FK>38</SZOBA_FK><METTOL>2016-05-08</METTOL><MEDDIG>2016-05-14</MEDDIG><FELNOTT_SZAM>1</FELNOTT_SZAM><GYERMEK_SZAM>2</GYERMEK_SZAM></Foglalas><Foglalas><FOGLALAS_PK>628</FOGLALAS_PK><UGYFEL_FK>agnes</UGYFEL_FK><SZOBA_FK>48</SZOBA_FK><METTOL>2016-05-09</METTOL><MEDDIG>2016-05-11</MEDDIG><FELNOTT_SZAM>3</FELNOTT_SZAM><GYERMEK_SZAM>0</GYERMEK_SZAM></Foglalas><Foglalas><FOGLALAS_PK>629</FOGLALAS_PK><UGYFEL_FK>daniel</UGYFEL_FK><SZOBA_FK>3</SZOBA_FK><METTOL>2016-05-09</METTOL><MEDDIG>2016-05-13</MEDDIG><FELNOTT_SZAM>1</FELNOTT_SZAM><GYERMEK_SZAM>2</GYERMEK_SZAM></Foglalas><Foglalas><FOGLALAS_PK>630</FOGLALAS_PK><UGYFEL_FK>ZSOLTJ</UGYFEL_FK><SZOBA_FK>163</SZOBA_FK><METTOL>2016-05-09</METTOL><MEDDIG>2016-05-11</MEDDIG><FELNOTT_SZAM>2</FELNOTT_SZAM><GYERMEK_SZAM>0</GYERMEK_SZAM></Foglalas><Foglalas><FOGLALAS_PK>631</FOGLALAS_PK><UGYFEL_FK>JANOSG</UGYFEL_FK><SZOBA_FK>98</SZOBA_FK><METTOL>2016-05-09</METTOL><MEDDIG>2016-05-15</MEDDIG><FELNOTT_SZAM>1</FELNOTT_SZAM><GYERMEK_SZAM>0</GYERMEK_SZAM></Foglalas><Foglalas><FOGLALAS_PK>632</FOGLALAS_PK><UGYFEL_FK>norbert2</UGYFEL_FK><SZOBA_FK>99</SZOBA_FK><METTOL>2016-05-09</METTOL><MEDDIG>2016-05-10</MEDDIG><FELNOTT_SZAM>2</FELNOTT_SZAM><GYERMEK_SZAM>0</GYERMEK_SZAM></Foglalas><Foglalas><FOGLALAS_PK>633</FOGLALAS_PK><UGYFEL_FK>katka</UGYFEL_FK><SZOBA_FK>187</SZOBA_FK><METTOL>2016-05-09</METTOL><MEDDIG>2016-05-15</MEDDIG><FELNOTT_SZAM>2</FELNOTT_SZAM><GYERMEK_SZAM>1</GYERMEK_SZAM></Foglalas><Foglalas><FOGLALAS_PK>634</FOGLALAS_PK><UGYFEL_FK>nikoletta4</UGYFEL_FK><SZOBA_FK>193</SZOBA_FK><METTOL>2016-05-09</METTOL><MEDDIG>2016-05-15</MEDDIG><FELNOTT_SZAM>1</FELNOTT_SZAM><GYERMEK_SZAM>1</GYERMEK_SZAM></Foglalas><Foglalas><FOGLALAS_PK>635</FOGLALAS_PK><UGYFEL_FK>daniel1</UGYFEL_FK><SZOBA_FK>97</SZOBA_FK><METTOL>2016-05-10</METTOL><MEDDIG>2016-05-13</MEDDIG><FELNOTT_SZAM>2</FELNOTT_SZAM><GYERMEK_SZAM>2</GYERMEK_SZAM></Foglalas><Foglalas><FOGLALAS_PK>636</FOGLALAS_PK><UGYFEL_FK>MATYASS</UGYFEL_FK><SZOBA_FK>91</SZOBA_FK><METTOL>2016-05-10</METTOL><MEDDIG>2016-05-16</MEDDIG><FELNOTT_SZAM>2</FELNOTT_SZAM><GYERMEK_SZAM>0</GYERMEK_SZAM></Foglalas><Foglalas><FOGLALAS_PK>637</FOGLALAS_PK><UGYFEL_FK>RENATAS</UGYFEL_FK><SZOBA_FK>100</SZOBA_FK><METTOL>2016-05-11</METTOL><MEDDIG>2016-05-16</MEDDIG><FELNOTT_SZAM>2</FELNOTT_SZAM><GYERMEK_SZAM>0</GYERMEK_SZAM></Foglalas><Foglalas><FOGLALAS_PK>638</FOGLALAS_PK><UGYFEL_FK>julia</UGYFEL_FK><SZOBA_FK>67</SZOBA_FK><METTOL>2016-05-12</METTOL><MEDDIG>2016-05-17</MEDDIG><FELNOTT_SZAM>1</FELNOTT_SZAM><GYERMEK_SZAM>0</GYERMEK_SZAM></Foglalas><Foglalas><FOGLALAS_PK>639</FOGLALAS_PK><UGYFEL_FK>zoltan4</UGYFEL_FK><SZOBA_FK>161</SZOBA_FK><METTOL>2016-05-12</METTOL><MEDDIG>2016-05-16</MEDDIG><FELNOTT_SZAM>1</FELNOTT_SZAM><GYERMEK_SZAM>2</GYERMEK_SZAM></Foglalas><Foglalas><FOGLALAS_PK>640</FOGLALAS_PK><UGYFEL_FK>sandor3</UGYFEL_FK><SZOBA_FK>165</SZOBA_FK><METTOL>2016-05-12</METTOL><MEDDIG>2016-05-15</MEDDIG><FELNOTT_SZAM>2</FELNOTT_SZAM><GYERMEK_SZAM>0</GYERMEK_SZAM></Foglalas><Foglalas><FOGLALAS_PK>641</FOGLALAS_PK><UGYFEL_FK>zoltan4</UGYFEL_FK><SZOBA_FK>150</SZOBA_FK><METTOL>2016-05-13</METTOL><MEDDIG>2016-05-16</MEDDIG><FELNOTT_SZAM>2</FELNOTT_SZAM><GYERMEK_SZAM>1</GYERMEK_SZAM></Foglalas><Foglalas><FOGLALAS_PK>642</FOGLALAS_PK><UGYFEL_FK>maria1</UGYFEL_FK><SZOBA_FK>54</SZOBA_FK><METTOL>2016-05-13</METTOL><MEDDIG>2016-05-18</MEDDIG><FELNOTT_SZAM>2</FELNOTT_SZAM><GYERMEK_SZAM>0</GYERMEK_SZAM></Foglalas><Foglalas><FOGLALAS_PK>643</FOGLALAS_PK><UGYFEL_FK>andras41</UGYFEL_FK><SZOBA_FK>127</SZOBA_FK><METTOL>2016-05-14</METTOL><MEDDIG>2016-05-16</MEDDIG><FELNOTT_SZAM>1</FELNOTT_SZAM><GYERMEK_SZAM>1</GYERMEK_SZAM></Foglalas><Foglalas><FOGLALAS_PK>644</FOGLALAS_PK><UGYFEL_FK>szilvia1</UGYFEL_FK><SZOBA_FK>166</SZOBA_FK><METTOL>2016-05-14</METTOL><MEDDIG>2016-05-21</MEDDIG><FELNOTT_SZAM>2</FELNOTT_SZAM><GYERMEK_SZAM>0</GYERMEK_SZAM></Foglalas><Foglalas><FOGLALAS_PK>645</FOGLALAS_PK><UGYFEL_FK>ARONK</UGYFEL_FK><SZOBA_FK>67</SZOBA_FK><METTOL>2016-05-14</METTOL><MEDDIG>2016-05-20</MEDDIG><FELNOTT_SZAM>2</FELNOTT_SZAM><GYERMEK_SZAM>2</GYERMEK_SZAM></Foglalas><Foglalas><FOGLALAS_PK>646</FOGLALAS_PK><UGYFEL_FK>BENCEB</UGYFEL_FK><SZOBA_FK>78</SZOBA_FK><METTOL>2016-05-14</METTOL><MEDDIG>2016-05-17</MEDDIG><FELNOTT_SZAM>1</FELNOTT_SZAM><GYERMEK_SZAM>2</GYERMEK_SZAM></Foglalas><Foglalas><FOGLALAS_PK>647</FOGLALAS_PK><UGYFEL_FK>robert2</UGYFEL_FK><SZOBA_FK>85</SZOBA_FK><METTOL>2016-05-15</METTOL><MEDDIG>2016-05-18</MEDDIG><FELNOTT_SZAM>2</FELNOTT_SZAM><GYERMEK_SZAM>0</GYERMEK_SZAM></Foglalas><Foglalas><FOGLALAS_PK>648</FOGLALAS_PK><UGYFEL_FK>krisztina1</UGYFEL_FK><SZOBA_FK>157</SZOBA_FK><METTOL>2016-05-16</METTOL><MEDDIG>2016-05-20</MEDDIG><FELNOTT_SZAM>1</FELNOTT_SZAM><GYERMEK_SZAM>0</GYERMEK_SZAM></Foglalas><Foglalas><FOGLALAS_PK>649</FOGLALAS_PK><UGYFEL_FK>tamas</UGYFEL_FK><SZOBA_FK>137</SZOBA_FK><METTOL>2016-05-17</METTOL><MEDDIG>2016-05-22</MEDDIG><FELNOTT_SZAM>1</FELNOTT_SZAM><GYERMEK_SZAM>1</GYERMEK_SZAM></Foglalas><Foglalas><FOGLALAS_PK>650</FOGLALAS_PK><UGYFEL_FK>zsuzsanna</UGYFEL_FK><SZOBA_FK>65</SZOBA_FK><METTOL>2016-05-17</METTOL><MEDDIG>2016-05-23</MEDDIG><FELNOTT_SZAM>1</FELNOTT_SZAM><GYERMEK_SZAM>1</GYERMEK_SZAM></Foglalas><Foglalas><FOGLALAS_PK>1483</FOGLALAS_PK><UGYFEL_FK>annamaria1</UGYFEL_FK><SZOBA_FK>120</SZOBA_FK><METTOL>2017-01-30</METTOL><MEDDIG>2017-01-31</MEDDIG><FELNOTT_SZAM>3</FELNOTT_SZAM><GYERMEK_SZAM>1</GYERMEK_SZAM></Foglalas><Foglalas><FOGLALAS_PK>1484</FOGLALAS_PK><UGYFEL_FK>emese</UGYFEL_FK><SZOBA_FK>195</SZOBA_FK><METTOL>2017-01-30</METTOL><MEDDIG>2017-01-31</MEDDIG><FELNOTT_SZAM>1</FELNOTT_SZAM><GYERMEK_SZAM>1</GYERMEK_SZAM></Foglalas><Foglalas><FOGLALAS_PK>1485</FOGLALAS_PK><UGYFEL_FK>ARONK</UGYFEL_FK><SZOBA_FK>103</SZOBA_FK><METTOL>2017-01-30</METTOL><MEDDIG>2017-02-03</MEDDIG><FELNOTT_SZAM>1</FELNOTT_SZAM><GYERMEK_SZAM>1</GYERMEK_SZAM></Foglalas><Foglalas><FOGLALAS_PK>1486</FOGLALAS_PK><UGYFEL_FK>JANOSG</UGYFEL_FK><SZOBA_FK>99</SZOBA_FK><METTOL>2017-01-31</METTOL><MEDDIG>2017-02-05</MEDDIG><FELNOTT_SZAM>2</FELNOTT_SZAM><GYERMEK_SZAM>0</GYERMEK_SZAM></Foglalas><Foglalas><FOGLALAS_PK>1487</FOGLALAS_PK><UGYFEL_FK>imre1</UGYFEL_FK><SZOBA_FK>163</SZOBA_FK><METTOL>2017-02-01</METTOL><MEDDIG>2017-02-04</MEDDIG><FELNOTT_SZAM>1</FELNOTT_SZAM><GYERMEK_SZAM>1</GYERMEK_SZAM></Foglalas><Foglalas><FOGLALAS_PK>1488</FOGLALAS_PK><UGYFEL_FK>nikoletta4</UGYFEL_FK><SZOBA_FK>119</SZOBA_FK><METTOL>2017-02-01</METTOL><MEDDIG>2017-02-04</MEDDIG><FELNOTT_SZAM>2</FELNOTT_SZAM><GYERMEK_SZAM>0</GYERMEK_SZAM></Foglalas><Foglalas><FOGLALAS_PK>1489</FOGLALAS_PK><UGYFEL_FK>andras3</UGYFEL_FK><SZOBA_FK>110</SZOBA_FK><METTOL>2017-02-02</METTOL><MEDDIG>2017-02-08</MEDDIG><FELNOTT_SZAM>2</FELNOTT_SZAM><GYERMEK_SZAM>0</GYERMEK_SZAM></Foglalas><Foglalas><FOGLALAS_PK>1490</FOGLALAS_PK><UGYFEL_FK>BEATRIXS</UGYFEL_FK><SZOBA_FK>156</SZOBA_FK><METTOL>2017-02-03</METTOL><MEDDIG>2017-02-04</MEDDIG><FELNOTT_SZAM>2</FELNOTT_SZAM><GYERMEK_SZAM>0</GYERMEK_SZAM></Foglalas><Foglalas><FOGLALAS_PK>1491</FOGLALAS_PK><UGYFEL_FK>veronika4</UGYFEL_FK><SZOBA_FK>172</SZOBA_FK><METTOL>2017-02-03</METTOL><MEDDIG>2017-02-05</MEDDIG><FELNOTT_SZAM>1</FELNOTT_SZAM><GYERMEK_SZAM>1</GYERMEK_SZAM></Foglalas><Foglalas><FOGLALAS_PK>1492</FOGLALAS_PK><UGYFEL_FK>gusztav</UGYFEL_FK><SZOBA_FK>4</SZOBA_FK><METTOL>2017-02-03</METTOL><MEDDIG>2017-02-09</MEDDIG><FELNOTT_SZAM>2</FELNOTT_SZAM><GYERMEK_SZAM>0</GYERMEK_SZAM></Foglalas><Foglalas><FOGLALAS_PK>1493</FOGLALAS_PK><UGYFEL_FK>julia4</UGYFEL_FK><SZOBA_FK>120</SZOBA_FK><METTOL>2017-02-04</METTOL><MEDDIG>2017-02-11</MEDDIG><FELNOTT_SZAM>1</FELNOTT_SZAM><GYERMEK_SZAM>3</GYERMEK_SZAM></Foglalas><Foglalas><FOGLALAS_PK>1494</FOGLALAS_PK><UGYFEL_FK>debora</UGYFEL_FK><SZOBA_FK>107</SZOBA_FK><METTOL>2017-02-04</METTOL><MEDDIG>2017-02-06</MEDDIG><FELNOTT_SZAM>2</FELNOTT_SZAM><GYERMEK_SZAM>1</GYERMEK_SZAM></Foglalas><Foglalas><FOGLALAS_PK>1495</FOGLALAS_PK><UGYFEL_FK>EVAV</UGYFEL_FK><SZOBA_FK>113</SZOBA_FK><METTOL>2017-02-04</METTOL><MEDDIG>2017-02-11</MEDDIG><FELNOTT_SZAM>1</FELNOTT_SZAM><GYERMEK_SZAM>4</GYERMEK_SZAM></Foglalas><Foglalas><FOGLALAS_PK>1496</FOGLALAS_PK><UGYFEL_FK>gabriella1</UGYFEL_FK><SZOBA_FK>61</SZOBA_FK><METTOL>2017-02-04</METTOL><MEDDIG>2017-02-11</MEDDIG><FELNOTT_SZAM>1</FELNOTT_SZAM><GYERMEK_SZAM>2</GYERMEK_SZAM></Foglalas><Foglalas><FOGLALAS_PK>1497</FOGLALAS_PK><UGYFEL_FK>SZABOLCSM</UGYFEL_FK><SZOBA_FK>179</SZOBA_FK><METTOL>2017-02-04</METTOL><MEDDIG>2017-02-05</MEDDIG><FELNOTT_SZAM>2</FELNOTT_SZAM><GYERMEK_SZAM>1</GYERMEK_SZAM></Foglalas><Foglalas><FOGLALAS_PK>1498</FOGLALAS_PK><UGYFEL_FK>kriszti</UGYFEL_FK><SZOBA_FK>16</SZOBA_FK><METTOL>2017-02-04</METTOL><MEDDIG>2017-02-11</MEDDIG><FELNOTT_SZAM>3</FELNOTT_SZAM><GYERMEK_SZAM>0</GYERMEK_SZAM></Foglalas><Foglalas><FOGLALAS_PK>1499</FOGLALAS_PK><UGYFEL_FK>imre1</UGYFEL_FK><SZOBA_FK>113</SZOBA_FK><METTOL>2017-02-05</METTOL><MEDDIG>2017-02-07</MEDDIG><FELNOTT_SZAM>3</FELNOTT_SZAM><GYERMEK_SZAM>1</GYERMEK_SZAM></Foglalas><Foglalas><FOGLALAS_PK>1500</FOGLALAS_PK><UGYFEL_FK>peter4</UGYFEL_FK><SZOBA_FK>126</SZOBA_FK><METTOL>2017-02-05</METTOL><MEDDIG>2017-02-09</MEDDIG><FELNOTT_SZAM>1</FELNOTT_SZAM><GYERMEK_SZAM>2</GYERMEK_SZAM></Foglalas><Foglalas><FOGLALAS_PK>1501</FOGLALAS_PK><UGYFEL_FK>bence</UGYFEL_FK><SZOBA_FK>116</SZOBA_FK><METTOL>2017-02-05</METTOL><MEDDIG>2017-02-09</MEDDIG><FELNOTT_SZAM>1</FELNOTT_SZAM><GYERMEK_SZAM>2</GYERMEK_SZAM></Foglalas><Foglalas><FOGLALAS_PK>1502</FOGLALAS_PK><UGYFEL_FK>krisztina</UGYFEL_FK><SZOBA_FK>191</SZOBA_FK><METTOL>2017-02-05</METTOL><MEDDIG>2017-02-07</MEDDIG><FELNOTT_SZAM>2</FELNOTT_SZAM><GYERMEK_SZAM>0</GYERMEK_SZAM></Foglalas><Foglalas><FOGLALAS_PK>1503</FOGLALAS_PK><UGYFEL_FK>NANDORF</UGYFEL_FK><SZOBA_FK>177</SZOBA_FK><METTOL>2017-02-05</METTOL><MEDDIG>2017-02-08</MEDDIG><FELNOTT_SZAM>1</FELNOTT_SZAM><GYERMEK_SZAM>2</GYERMEK_SZAM></Foglalas><Foglalas><FOGLALAS_PK>1504</FOGLALAS_PK><UGYFEL_FK>adam3</UGYFEL_FK><SZOBA_FK>57</SZOBA_FK><METTOL>2017-02-06</METTOL><MEDDIG>2017-02-10</MEDDIG><FELNOTT_SZAM>1</FELNOTT_SZAM><GYERMEK_SZAM>0</GYERMEK_SZAM></Foglalas><Foglalas><FOGLALAS_PK>1505</FOGLALAS_PK><UGYFEL_FK>MIHALYJ</UGYFEL_FK><SZOBA_FK>18</SZOBA_FK><METTOL>2017-02-06</METTOL><MEDDIG>2017-02-12</MEDDIG><FELNOTT_SZAM>2</FELNOTT_SZAM><GYERMEK_SZAM>2</GYERMEK_SZAM></Foglalas><Foglalas><FOGLALAS_PK>1506</FOGLALAS_PK><UGYFEL_FK>MONIKAM</UGYFEL_FK><SZOBA_FK>81</SZOBA_FK><METTOL>2017-02-06</METTOL><MEDDIG>2017-02-09</MEDDIG><FELNOTT_SZAM>1</FELNOTT_SZAM><GYERMEK_SZAM>1</GYERMEK_SZAM></Foglalas><Foglalas><FOGLALAS_PK>1507</FOGLALAS_PK><UGYFEL_FK>istvan1</UGYFEL_FK><SZOBA_FK>153</SZOBA_FK><METTOL>2017-02-07</METTOL><MEDDIG>2017-02-10</MEDDIG><FELNOTT_SZAM>2</FELNOTT_SZAM><GYERMEK_SZAM>1</GYERMEK_SZAM></Foglalas><Foglalas><FOGLALAS_PK>1508</FOGLALAS_PK><UGYFEL_FK>SZILARDS</UGYFEL_FK><SZOBA_FK>191</SZOBA_FK><METTOL>2017-02-08</METTOL><MEDDIG>2017-02-15</MEDDIG><FELNOTT_SZAM>1</FELNOTT_SZAM><GYERMEK_SZAM>0</GYERMEK_SZAM></Foglalas><Foglalas><FOGLALAS_PK>1509</FOGLALAS_PK><UGYFEL_FK>edit</UGYFEL_FK><SZOBA_FK>129</SZOBA_FK><METTOL>2017-02-08</METTOL><MEDDIG>2017-02-14</MEDDIG><FELNOTT_SZAM>2</FELNOTT_SZAM><GYERMEK_SZAM>1</GYERMEK_SZAM></Foglalas><Foglalas><FOGLALAS_PK>1510</FOGLALAS_PK><UGYFEL_FK>LASZLOA</UGYFEL_FK><SZOBA_FK>106</SZOBA_FK><METTOL>2017-02-08</METTOL><MEDDIG>2017-02-14</MEDDIG><FELNOTT_SZAM>1</FELNOTT_SZAM><GYERMEK_SZAM>1</GYERMEK_SZAM></Foglalas><Foglalas><FOGLALAS_PK>1511</FOGLALAS_PK><UGYFEL_FK>andras2</UGYFEL_FK><SZOBA_FK>176</SZOBA_FK><METTOL>2017-02-08</METTOL><MEDDIG>2017-02-10</MEDDIG><FELNOTT_SZAM>2</FELNOTT_SZAM><GYERMEK_SZAM>2</GYERMEK_SZAM></Foglalas><Foglalas><FOGLALAS_PK>1512</FOGLALAS_PK><UGYFEL_FK>BEATRIXK</UGYFEL_FK><SZOBA_FK>55</SZOBA_FK><METTOL>2017-02-08</METTOL><MEDDIG>2017-02-09</MEDDIG><FELNOTT_SZAM>1</FELNOTT_SZAM><GYERMEK_SZAM>2</GYERMEK_SZAM></Foglalas><Foglalas><FOGLALAS_PK>1513</FOGLALAS_PK><UGYFEL_FK>brigitta3</UGYFEL_FK><SZOBA_FK>85</SZOBA_FK><METTOL>2017-02-09</METTOL><MEDDIG>2017-02-16</MEDDIG><FELNOTT_SZAM>1</FELNOTT_SZAM><GYERMEK_SZAM>1</GYERMEK_SZAM></Foglalas><Foglalas><FOGLALAS_PK>1514</FOGLALAS_PK><UGYFEL_FK>andrea</UGYFEL_FK><SZOBA_FK>149</SZOBA_FK><METTOL>2017-02-09</METTOL><MEDDIG>2017-02-14</MEDDIG><FELNOTT_SZAM>2</FELNOTT_SZAM><GYERMEK_SZAM>0</GYERMEK_SZAM></Foglalas><Foglalas><FOGLALAS_PK>1515</FOGLALAS_PK><UGYFEL_FK>balazs1</UGYFEL_FK><SZOBA_FK>46</SZOBA_FK><METTOL>2017-02-10</METTOL><MEDDIG>2017-02-14</MEDDIG><FELNOTT_SZAM>1</FELNOTT_SZAM><GYERMEK_SZAM>2</GYERMEK_SZAM></Foglalas><Foglalas><FOGLALAS_PK>1516</FOGLALAS_PK><UGYFEL_FK>ESZTERE</UGYFEL_FK><SZOBA_FK>101</SZOBA_FK><METTOL>2017-02-10</METTOL><MEDDIG>2017-02-14</MEDDIG><FELNOTT_SZAM>1</FELNOTT_SZAM><GYERMEK_SZAM>1</GYERMEK_SZAM></Foglalas><Foglalas><FOGLALAS_PK>1517</FOGLALAS_PK><UGYFEL_FK>polla</UGYFEL_FK><SZOBA_FK>190</SZOBA_FK><METTOL>2017-02-11</METTOL><MEDDIG>2017-02-16</MEDDIG><FELNOTT_SZAM>2</FELNOTT_SZAM><GYERMEK_SZAM>0</GYERMEK_SZAM></Foglalas><Foglalas><FOGLALAS_PK>1518</FOGLALAS_PK><UGYFEL_FK>balazs1</UGYFEL_FK><SZOBA_FK>94</SZOBA_FK><METTOL>2017-02-12</METTOL><MEDDIG>2017-02-14</MEDDIG><FELNOTT_SZAM>2</FELNOTT_SZAM><GYERMEK_SZAM>0</GYERMEK_SZAM></Foglalas><Foglalas><FOGLALAS_PK>1519</FOGLALAS_PK><UGYFEL_FK>aniko</UGYFEL_FK><SZOBA_FK>132</SZOBA_FK><METTOL>2017-02-12</METTOL><MEDDIG>2017-02-14</MEDDIG><FELNOTT_SZAM>2</FELNOTT_SZAM><GYERMEK_SZAM>1</GYERMEK_SZAM></Foglalas><Foglalas><FOGLALAS_PK>1520</FOGLALAS_PK><UGYFEL_FK>daniel</UGYFEL_FK><SZOBA_FK>55</SZOBA_FK><METTOL>2017-02-12</METTOL><MEDDIG>2017-02-13</MEDDIG><FELNOTT_SZAM>2</FELNOTT_SZAM><GYERMEK_SZAM>1</GYERMEK_SZAM></Foglalas><Foglalas><FOGLALAS_PK>1521</FOGLALAS_PK><UGYFEL_FK>BENCEB</UGYFEL_FK><SZOBA_FK>89</SZOBA_FK><METTOL>2017-02-12</METTOL><MEDDIG>2017-02-19</MEDDIG><FELNOTT_SZAM>3</FELNOTT_SZAM><GYERMEK_SZAM>0</GYERMEK_SZAM></Foglalas><Foglalas><FOGLALAS_PK>1522</FOGLALAS_PK><UGYFEL_FK>ARPADM</UGYFEL_FK><SZOBA_FK>104</SZOBA_FK><METTOL>2017-02-12</METTOL><MEDDIG>2017-02-14</MEDDIG><FELNOTT_SZAM>1</FELNOTT_SZAM><GYERMEK_SZAM>2</GYERMEK_SZAM></Foglalas><Foglalas><FOGLALAS_PK>1523</FOGLALAS_PK><UGYFEL_FK>lajos</UGYFEL_FK><SZOBA_FK>11</SZOBA_FK><METTOL>2017-02-12</METTOL><MEDDIG>2017-02-13</MEDDIG><FELNOTT_SZAM>1</FELNOTT_SZAM><GYERMEK_SZAM>0</GYERMEK_SZAM></Foglalas><Foglalas><FOGLALAS_PK>1524</FOGLALAS_PK><UGYFEL_FK>gabriella1</UGYFEL_FK><SZOBA_FK>43</SZOBA_FK><METTOL>2017-02-12</METTOL><MEDDIG>2017-02-13</MEDDIG><FELNOTT_SZAM>2</FELNOTT_SZAM><GYERMEK_SZAM>0</GYERMEK_SZAM></Foglalas><Foglalas><FOGLALAS_PK>1525</FOGLALAS_PK><UGYFEL_FK>TAMASF</UGYFEL_FK><SZOBA_FK>105</SZOBA_FK><METTOL>2017-02-12</METTOL><MEDDIG>2017-02-17</MEDDIG><FELNOTT_SZAM>1</FELNOTT_SZAM><GYERMEK_SZAM>1</GYERMEK_SZAM></Foglalas><Foglalas><FOGLALAS_PK>1526</FOGLALAS_PK><UGYFEL_FK>janos3</UGYFEL_FK><SZOBA_FK>166</SZOBA_FK><METTOL>2017-02-12</METTOL><MEDDIG>2017-02-14</MEDDIG><FELNOTT_SZAM>2</FELNOTT_SZAM><GYERMEK_SZAM>1</GYERMEK_SZAM></Foglalas><Foglalas><FOGLALAS_PK>1527</FOGLALAS_PK><UGYFEL_FK>GYORGYO</UGYFEL_FK><SZOBA_FK>92</SZOBA_FK><METTOL>2017-02-13</METTOL><MEDDIG>2017-02-15</MEDDIG><FELNOTT_SZAM>1</FELNOTT_SZAM><GYERMEK_SZAM>1</GYERMEK_SZAM></Foglalas><Foglalas><FOGLALAS_PK>1528</FOGLALAS_PK><UGYFEL_FK>norbert</UGYFEL_FK><SZOBA_FK>97</SZOBA_FK><METTOL>2017-02-13</METTOL><MEDDIG>2017-02-15</MEDDIG><FELNOTT_SZAM>2</FELNOTT_SZAM><GYERMEK_SZAM>1</GYERMEK_SZAM></Foglalas><Foglalas><FOGLALAS_PK>1529</FOGLALAS_PK><UGYFEL_FK>RENATAS</UGYFEL_FK><SZOBA_FK>35</SZOBA_FK><METTOL>2017-02-13</METTOL><MEDDIG>2017-02-17</MEDDIG><FELNOTT_SZAM>1</FELNOTT_SZAM><GYERMEK_SZAM>0</GYERMEK_SZAM></Foglalas><Foglalas><FOGLALAS_PK>1530</FOGLALAS_PK><UGYFEL_FK>pal</UGYFEL_FK><SZOBA_FK>112</SZOBA_FK><METTOL>2017-02-13</METTOL><MEDDIG>2017-02-19</MEDDIG><FELNOTT_SZAM>2</FELNOTT_SZAM><GYERMEK_SZAM>1</GYERMEK_SZAM></Foglalas><Foglalas><FOGLALAS_PK>1531</FOGLALAS_PK><UGYFEL_FK>csongor3</UGYFEL_FK><SZOBA_FK>124</SZOBA_FK><METTOL>2017-02-13</METTOL><MEDDIG>2017-02-19</MEDDIG><FELNOTT_SZAM>3</FELNOTT_SZAM><GYERMEK_SZAM>0</GYERMEK_SZAM></Foglalas><Foglalas><FOGLALAS_PK>1532</FOGLALAS_PK><UGYFEL_FK>RENATAS</UGYFEL_FK><SZOBA_FK>104</SZOBA_FK><METTOL>2017-02-14</METTOL><MEDDIG>2017-02-17</MEDDIG><FELNOTT_SZAM>2</FELNOTT_SZAM><GYERMEK_SZAM>0</GYERMEK_SZAM></Foglalas><Foglalas><FOGLALAS_PK>1533</FOGLALAS_PK><UGYFEL_FK>bernadett1</UGYFEL_FK><SZOBA_FK>19</SZOBA_FK><METTOL>2017-02-14</METTOL><MEDDIG>2017-02-15</MEDDIG><FELNOTT_SZAM>1</FELNOTT_SZAM><GYERMEK_SZAM>2</GYERMEK_SZAM></Foglalas><Foglalas><FOGLALAS_PK>1534</FOGLALAS_PK><UGYFEL_FK>tamas</UGYFEL_FK><SZOBA_FK>52</SZOBA_FK><METTOL>2017-02-14</METTOL><MEDDIG>2017-02-19</MEDDIG><FELNOTT_SZAM>2</FELNOTT_SZAM><GYERMEK_SZAM>1</GYERMEK_SZAM></Foglalas><Foglalas><FOGLALAS_PK>1535</FOGLALAS_PK><UGYFEL_FK>attila4</UGYFEL_FK><SZOBA_FK>134</SZOBA_FK><METTOL>2017-02-15</METTOL><MEDDIG>2017-02-22</MEDDIG><FELNOTT_SZAM>2</FELNOTT_SZAM><GYERMEK_SZAM>0</GYERMEK_SZAM></Foglalas><Foglalas><FOGLALAS_PK>1536</FOGLALAS_PK><UGYFEL_FK>bertalan</UGYFEL_FK><SZOBA_FK>49</SZOBA_FK><METTOL>2017-02-16</METTOL><MEDDIG>2017-02-22</MEDDIG><FELNOTT_SZAM>2</FELNOTT_SZAM><GYERMEK_SZAM>0</GYERMEK_SZAM></Foglalas><Foglalas><FOGLALAS_PK>1537</FOGLALAS_PK><UGYFEL_FK>TAMASF</UGYFEL_FK><SZOBA_FK>9</SZOBA_FK><METTOL>2017-02-16</METTOL><MEDDIG>2017-02-19</MEDDIG><FELNOTT_SZAM>3</FELNOTT_SZAM><GYERMEK_SZAM>1</GYERMEK_SZAM></Foglalas><Foglalas><FOGLALAS_PK>1538</FOGLALAS_PK><UGYFEL_FK>ARPADH</UGYFEL_FK><SZOBA_FK>39</SZOBA_FK><METTOL>2017-02-16</METTOL><MEDDIG>2017-02-18</MEDDIG><FELNOTT_SZAM>1</FELNOTT_SZAM><GYERMEK_SZAM>1</GYERMEK_SZAM></Foglalas><Foglalas><FOGLALAS_PK>1539</FOGLALAS_PK><UGYFEL_FK>ANNAMARIAR</UGYFEL_FK><SZOBA_FK>154</SZOBA_FK><METTOL>2017-02-16</METTOL><MEDDIG>2017-02-18</MEDDIG><FELNOTT_SZAM>2</FELNOTT_SZAM><GYERMEK_SZAM>0</GYERMEK_SZAM></Foglalas><Foglalas><FOGLALAS_PK>1540</FOGLALAS_PK><UGYFEL_FK>david4</UGYFEL_FK><SZOBA_FK>114</SZOBA_FK><METTOL>2017-02-16</METTOL><MEDDIG>2017-02-19</MEDDIG><FELNOTT_SZAM>2</FELNOTT_SZAM><GYERMEK_SZAM>1</GYERMEK_SZAM></Foglalas><Foglalas><FOGLALAS_PK>1541</FOGLALAS_PK><UGYFEL_FK>norbert4</UGYFEL_FK><SZOBA_FK>155</SZOBA_FK><METTOL>2017-02-16</METTOL><MEDDIG>2017-02-17</MEDDIG><FELNOTT_SZAM>1</FELNOTT_SZAM><GYERMEK_SZAM>0</GYERMEK_SZAM></Foglalas><Foglalas><FOGLALAS_PK>1542</FOGLALAS_PK><UGYFEL_FK>krisztina</UGYFEL_FK><SZOBA_FK>14</SZOBA_FK><METTOL>2017-02-16</METTOL><MEDDIG>2017-02-20</MEDDIG><FELNOTT_SZAM>3</FELNOTT_SZAM><GYERMEK_SZAM>1</GYERMEK_SZAM></Foglalas><Foglalas><FOGLALAS_PK>1543</FOGLALAS_PK><UGYFEL_FK>RENATAK</UGYFEL_FK><SZOBA_FK>95</SZOBA_FK><METTOL>2017-02-16</METTOL><MEDDIG>2017-02-23</MEDDIG><FELNOTT_SZAM>1</FELNOTT_SZAM><GYERMEK_SZAM>0</GYERMEK_SZAM></Foglalas><Foglalas><FOGLALAS_PK>1544</FOGLALAS_PK><UGYFEL_FK>agnes3</UGYFEL_FK><SZOBA_FK>3</SZOBA_FK><METTOL>2017-02-16</METTOL><MEDDIG>2017-02-21</MEDDIG><FELNOTT_SZAM>3</FELNOTT_SZAM><GYERMEK_SZAM>0</GYERMEK_SZAM></Foglalas><Foglalas><FOGLALAS_PK>1545</FOGLALAS_PK><UGYFEL_FK>ROBERTI</UGYFEL_FK><SZOBA_FK>142</SZOBA_FK><METTOL>2017-02-17</METTOL><MEDDIG>2017-02-20</MEDDIG><FELNOTT_SZAM>1</FELNOTT_SZAM><GYERMEK_SZAM>1</GYERMEK_SZAM></Foglalas><Foglalas><FOGLALAS_PK>1546</FOGLALAS_PK><UGYFEL_FK>david1</UGYFEL_FK><SZOBA_FK>48</SZOBA_FK><METTOL>2017-02-17</METTOL><MEDDIG>2017-02-20</MEDDIG><FELNOTT_SZAM>1</FELNOTT_SZAM><GYERMEK_SZAM>2</GYERMEK_SZAM></Foglalas><Foglalas><FOGLALAS_PK>1547</FOGLALAS_PK><UGYFEL_FK>zsofi1</UGYFEL_FK><SZOBA_FK>48</SZOBA_FK><METTOL>2017-02-18</METTOL><MEDDIG>2017-02-19</MEDDIG><FELNOTT_SZAM>1</FELNOTT_SZAM><GYERMEK_SZAM>2</GYERMEK_SZAM></Foglalas><Foglalas><FOGLALAS_PK>1548</FOGLALAS_PK><UGYFEL_FK>LASZLON</UGYFEL_FK><SZOBA_FK>88</SZOBA_FK><METTOL>2017-02-18</METTOL><MEDDIG>2017-02-25</MEDDIG><FELNOTT_SZAM>2</FELNOTT_SZAM><GYERMEK_SZAM>1</GYERMEK_SZAM></Foglalas><Foglalas><FOGLALAS_PK>1549</FOGLALAS_PK><UGYFEL_FK>roza2</UGYFEL_FK><SZOBA_FK>17</SZOBA_FK><METTOL>2017-02-18</METTOL><MEDDIG>2017-02-21</MEDDIG><FELNOTT_SZAM>1</FELNOTT_SZAM><GYERMEK_SZAM>2</GYERMEK_SZAM></Foglalas><Foglalas><FOGLALAS_PK>1550</FOGLALAS_PK><UGYFEL_FK>arpad2</UGYFEL_FK><SZOBA_FK>51</SZOBA_FK><METTOL>2017-02-18</METTOL><MEDDIG>2017-02-19</MEDDIG><FELNOTT_SZAM>3</FELNOTT_SZAM><GYERMEK_SZAM>1</GYERMEK_SZAM></Foglalas><Foglalas><FOGLALAS_PK>1551</FOGLALAS_PK><UGYFEL_FK>anita</UGYFEL_FK><SZOBA_FK>157</SZOBA_FK><METTOL>2017-02-19</METTOL><MEDDIG>2017-02-22</MEDDIG><FELNOTT_SZAM>1</FELNOTT_SZAM><GYERMEK_SZAM>1</GYERMEK_SZAM></Foglalas><Foglalas><FOGLALAS_PK>1552</FOGLALAS_PK><UGYFEL_FK>pal</UGYFEL_FK><SZOBA_FK>44</SZOBA_FK><METTOL>2017-02-20</METTOL><MEDDIG>2017-02-22</MEDDIG><FELNOTT_SZAM>3</FELNOTT_SZAM><GYERMEK_SZAM>0</GYERMEK_SZAM></Foglalas><Foglalas><FOGLALAS_PK>1553</FOGLALAS_PK><UGYFEL_FK>anita</UGYFEL_FK><SZOBA_FK>43</SZOBA_FK><METTOL>2017-02-20</METTOL><MEDDIG>2017-02-25</MEDDIG><FELNOTT_SZAM>1</FELNOTT_SZAM><GYERMEK_SZAM>1</GYERMEK_SZAM></Foglalas><Foglalas><FOGLALAS_PK>1554</FOGLALAS_PK><UGYFEL_FK>daniel</UGYFEL_FK><SZOBA_FK>115</SZOBA_FK><METTOL>2017-02-20</METTOL><MEDDIG>2017-02-23</MEDDIG><FELNOTT_SZAM>1</FELNOTT_SZAM><GYERMEK_SZAM>2</GYERMEK_SZAM></Foglalas><Foglalas><FOGLALAS_PK>1555</FOGLALAS_PK><UGYFEL_FK>bertalan</UGYFEL_FK><SZOBA_FK>92</SZOBA_FK><METTOL>2017-02-20</METTOL><MEDDIG>2017-02-24</MEDDIG><FELNOTT_SZAM>3</FELNOTT_SZAM><GYERMEK_SZAM>1</GYERMEK_SZAM></Foglalas><Foglalas><FOGLALAS_PK>1556</FOGLALAS_PK><UGYFEL_FK>gabriella1</UGYFEL_FK><SZOBA_FK>38</SZOBA_FK><METTOL>2017-02-21</METTOL><MEDDIG>2017-02-27</MEDDIG><FELNOTT_SZAM>2</FELNOTT_SZAM><GYERMEK_SZAM>1</GYERMEK_SZAM></Foglalas><Foglalas><FOGLALAS_PK>1557</FOGLALAS_PK><UGYFEL_FK>peter3</UGYFEL_FK><SZOBA_FK>76</SZOBA_FK><METTOL>2017-02-21</METTOL><MEDDIG>2017-02-24</MEDDIG><FELNOTT_SZAM>2</FELNOTT_SZAM><GYERMEK_SZAM>0</GYERMEK_SZAM></Foglalas><Foglalas><FOGLALAS_PK>1558</FOGLALAS_PK><UGYFEL_FK>ARONK</UGYFEL_FK><SZOBA_FK>152</SZOBA_FK><METTOL>2017-02-21</METTOL><MEDDIG>2017-02-23</MEDDIG><FELNOTT_SZAM>2</FELNOTT_SZAM><GYERMEK_SZAM>0</GYERMEK_SZAM></Foglalas><Foglalas><FOGLALAS_PK>1559</FOGLALAS_PK><UGYFEL_FK>ATTILAO</UGYFEL_FK><SZOBA_FK>180</SZOBA_FK><METTOL>2017-02-22</METTOL><MEDDIG>2017-02-25</MEDDIG><FELNOTT_SZAM>2</FELNOTT_SZAM><GYERMEK_SZAM>1</GYERMEK_SZAM></Foglalas><Foglalas><FOGLALAS_PK>1560</FOGLALAS_PK><UGYFEL_FK>aniko</UGYFEL_FK><SZOBA_FK>109</SZOBA_FK><METTOL>2017-02-23</METTOL><MEDDIG>2017-02-24</MEDDIG><FELNOTT_SZAM>2</FELNOTT_SZAM><GYERMEK_SZAM>0</GYERMEK_SZAM></Foglalas><Foglalas><FOGLALAS_PK>1561</FOGLALAS_PK><UGYFEL_FK>adam4</UGYFEL_FK><SZOBA_FK>156</SZOBA_FK><METTOL>2017-02-23</METTOL><MEDDIG>2017-02-27</MEDDIG><FELNOTT_SZAM>1</FELNOTT_SZAM><GYERMEK_SZAM>2</GYERMEK_SZAM></Foglalas><Foglalas><FOGLALAS_PK>1562</FOGLALAS_PK><UGYFEL_FK>MONIKAM</UGYFEL_FK><SZOBA_FK>81</SZOBA_FK><METTOL>2017-02-23</METTOL><MEDDIG>2017-02-26</MEDDIG><FELNOTT_SZAM>1</FELNOTT_SZAM><GYERMEK_SZAM>1</GYERMEK_SZAM></Foglalas><Foglalas><FOGLALAS_PK>1563</FOGLALAS_PK><UGYFEL_FK>gusztav</UGYFEL_FK><SZOBA_FK>180</SZOBA_FK><METTOL>2017-02-23</METTOL><MEDDIG>2017-03-01</MEDDIG><FELNOTT_SZAM>2</FELNOTT_SZAM><GYERMEK_SZAM>2</GYERMEK_SZAM></Foglalas><Foglalas><FOGLALAS_PK>1564</FOGLALAS_PK><UGYFEL_FK>krisztian4</UGYFEL_FK><SZOBA_FK>94</SZOBA_FK><METTOL>2017-02-23</METTOL><MEDDIG>2017-03-02</MEDDIG><FELNOTT_SZAM>1</FELNOTT_SZAM><GYERMEK_SZAM>1</GYERMEK_SZAM></Foglalas><Foglalas><FOGLALAS_PK>1565</FOGLALAS_PK><UGYFEL_FK>peter1</UGYFEL_FK><SZOBA_FK>160</SZOBA_FK><METTOL>2017-02-23</METTOL><MEDDIG>2017-02-26</MEDDIG><FELNOTT_SZAM>2</FELNOTT_SZAM><GYERMEK_SZAM>1</GYERMEK_SZAM></Foglalas><Foglalas><FOGLALAS_PK>1566</FOGLALAS_PK><UGYFEL_FK>GYORGYO</UGYFEL_FK><SZOBA_FK>115</SZOBA_FK><METTOL>2017-02-24</METTOL><MEDDIG>2017-02-25</MEDDIG><FELNOTT_SZAM>3</FELNOTT_SZAM><GYERMEK_SZAM>0</GYERMEK_SZAM></Foglalas><Foglalas><FOGLALAS_PK>1567</FOGLALAS_PK><UGYFEL_FK>maria1</UGYFEL_FK><SZOBA_FK>171</SZOBA_FK><METTOL>2017-02-24</METTOL><MEDDIG>2017-03-02</MEDDIG><FELNOTT_SZAM>2</FELNOTT_SZAM><GYERMEK_SZAM>0</GYERMEK_SZAM></Foglalas><Foglalas><FOGLALAS_PK>1568</FOGLALAS_PK><UGYFEL_FK>bernadett1</UGYFEL_FK><SZOBA_FK>29</SZOBA_FK><METTOL>2017-02-24</METTOL><MEDDIG>2017-03-03</MEDDIG><FELNOTT_SZAM>1</FELNOTT_SZAM><GYERMEK_SZAM>0</GYERMEK_SZAM></Foglalas><Foglalas><FOGLALAS_PK>1569</FOGLALAS_PK><UGYFEL_FK>JOZSEFG</UGYFEL_FK><SZOBA_FK>96</SZOBA_FK><METTOL>2017-02-24</METTOL><MEDDIG>2017-03-03</MEDDIG><FELNOTT_SZAM>3</FELNOTT_SZAM><GYERMEK_SZAM>0</GYERMEK_SZAM></Foglalas><Foglalas><FOGLALAS_PK>1570</FOGLALAS_PK><UGYFEL_FK>katalin</UGYFEL_FK><SZOBA_FK>176</SZOBA_FK><METTOL>2017-02-24</METTOL><MEDDIG>2017-02-27</MEDDIG><FELNOTT_SZAM>1</FELNOTT_SZAM><GYERMEK_SZAM>2</GYERMEK_SZAM></Foglalas><Foglalas><FOGLALAS_PK>1571</FOGLALAS_PK><UGYFEL_FK>dani</UGYFEL_FK><SZOBA_FK>161</SZOBA_FK><METTOL>2017-02-25</METTOL><MEDDIG>2017-03-01</MEDDIG><FELNOTT_SZAM>2</FELNOTT_SZAM><GYERMEK_SZAM>1</GYERMEK_SZAM></Foglalas><Foglalas><FOGLALAS_PK>1572</FOGLALAS_PK><UGYFEL_FK>david1</UGYFEL_FK><SZOBA_FK>144</SZOBA_FK><METTOL>2017-02-25</METTOL><MEDDIG>2017-02-27</MEDDIG><FELNOTT_SZAM>2</FELNOTT_SZAM><GYERMEK_SZAM>2</GYERMEK_SZAM></Foglalas><Foglalas><FOGLALAS_PK>1573</FOGLALAS_PK><UGYFEL_FK>aron2</UGYFEL_FK><SZOBA_FK>59</SZOBA_FK><METTOL>2017-02-26</METTOL><MEDDIG>2017-02-27</MEDDIG><FELNOTT_SZAM>2</FELNOTT_SZAM><GYERMEK_SZAM>1</GYERMEK_SZAM></Foglalas><Foglalas><FOGLALAS_PK>1574</FOGLALAS_PK><UGYFEL_FK>eszter4</UGYFEL_FK><SZOBA_FK>128</SZOBA_FK><METTOL>2017-02-26</METTOL><MEDDIG>2017-02-27</MEDDIG><FELNOTT_SZAM>1</FELNOTT_SZAM><GYERMEK_SZAM>2</GYERMEK_SZAM></Foglalas><Foglalas><FOGLALAS_PK>1575</FOGLALAS_PK><UGYFEL_FK>reka4</UGYFEL_FK><SZOBA_FK>88</SZOBA_FK><METTOL>2017-02-26</METTOL><MEDDIG>2017-03-04</MEDDIG><FELNOTT_SZAM>1</FELNOTT_SZAM><GYERMEK_SZAM>1</GYERMEK_SZAM></Foglalas><Foglalas><FOGLALAS_PK>1576</FOGLALAS_PK><UGYFEL_FK>norbert</UGYFEL_FK><SZOBA_FK>189</SZOBA_FK><METTOL>2017-02-26</METTOL><MEDDIG>2017-03-01</MEDDIG><FELNOTT_SZAM>1</FELNOTT_SZAM><GYERMEK_SZAM>0</GYERMEK_SZAM></Foglalas><Foglalas><FOGLALAS_PK>1577</FOGLALAS_PK><UGYFEL_FK>julia</UGYFEL_FK><SZOBA_FK>78</SZOBA_FK><METTOL>2017-02-27</METTOL><MEDDIG>2017-03-06</MEDDIG><FELNOTT_SZAM>2</FELNOTT_SZAM><GYERMEK_SZAM>1</GYERMEK_SZAM></Foglalas><Foglalas><FOGLALAS_PK>1578</FOGLALAS_PK><UGYFEL_FK>balazs2</UGYFEL_FK><SZOBA_FK>148</SZOBA_FK><METTOL>2017-02-27</METTOL><MEDDIG>2017-03-06</MEDDIG><FELNOTT_SZAM>1</FELNOTT_SZAM><GYERMEK_SZAM>0</GYERMEK_SZAM></Foglalas><Foglalas><FOGLALAS_PK>1579</FOGLALAS_PK><UGYFEL_FK>peter1</UGYFEL_FK><SZOBA_FK>127</SZOBA_FK><METTOL>2017-02-28</METTOL><MEDDIG>2017-03-05</MEDDIG><FELNOTT_SZAM>2</FELNOTT_SZAM><GYERMEK_SZAM>1</GYERMEK_SZAM></Foglalas><Foglalas><FOGLALAS_PK>1580</FOGLALAS_PK><UGYFEL_FK>daniel1</UGYFEL_FK><SZOBA_FK>67</SZOBA_FK><METTOL>2017-03-01</METTOL><MEDDIG>2017-03-06</MEDDIG><FELNOTT_SZAM>2</FELNOTT_SZAM><GYERMEK_SZAM>2</GYERMEK_SZAM></Foglalas><Foglalas><FOGLALAS_PK>1581</FOGLALAS_PK><UGYFEL_FK>RENATAK</UGYFEL_FK><SZOBA_FK>48</SZOBA_FK><METTOL>2017-03-01</METTOL><MEDDIG>2017-03-06</MEDDIG><FELNOTT_SZAM>1</FELNOTT_SZAM><GYERMEK_SZAM>0</GYERMEK_SZAM></Foglalas><Foglalas><FOGLALAS_PK>1582</FOGLALAS_PK><UGYFEL_FK>marton</UGYFEL_FK><SZOBA_FK>64</SZOBA_FK><METTOL>2017-03-02</METTOL><MEDDIG>2017-03-03</MEDDIG><FELNOTT_SZAM>2</FELNOTT_SZAM><GYERMEK_SZAM>0</GYERMEK_SZAM></Foglalas><Foglalas><FOGLALAS_PK>1583</FOGLALAS_PK><UGYFEL_FK>norbert4</UGYFEL_FK><SZOBA_FK>128</SZOBA_FK><METTOL>2017-03-03</METTOL><MEDDIG>2017-03-07</MEDDIG><FELNOTT_SZAM>1</FELNOTT_SZAM><GYERMEK_SZAM>1</GYERMEK_SZAM></Foglalas><Foglalas><FOGLALAS_PK>1584</FOGLALAS_PK><UGYFEL_FK>kriszti</UGYFEL_FK><SZOBA_FK>67</SZOBA_FK><METTOL>2017-03-03</METTOL><MEDDIG>2017-03-04</MEDDIG><FELNOTT_SZAM>1</FELNOTT_SZAM><GYERMEK_SZAM>2</GYERMEK_SZAM></Foglalas>"
                                }
                            ]
                        },
                        "text/html": [
                            "<table>",
                            "<tr><th>query_result</th></tr>",
                            "<tr><td>&lt;Foglalas&gt;&lt;FOGLALAS_PK&gt;558&lt;/FOGLALAS_PK&gt;&lt;UGYFEL_FK&gt;NANDORF&lt;/UGYFEL_FK&gt;&lt;SZOBA_FK&gt;87&lt;/SZOBA_FK&gt;&lt;METTOL&gt;2016-04-06&lt;/METTOL&gt;&lt;MEDDIG&gt;2016-04-10&lt;/MEDDIG&gt;&lt;FELNOTT_SZAM&gt;2&lt;/FELNOTT_SZAM&gt;&lt;GYERMEK_SZAM&gt;1&lt;/GYERMEK_SZAM&gt;&lt;/Foglalas&gt;&lt;Foglalas&gt;&lt;FOGLALAS_PK&gt;559&lt;/FOGLALAS_PK&gt;&lt;UGYFEL_FK&gt;ARONK&lt;/UGYFEL_FK&gt;&lt;SZOBA_FK&gt;131&lt;/SZOBA_FK&gt;&lt;METTOL&gt;2016-04-06&lt;/METTOL&gt;&lt;MEDDIG&gt;2016-04-08&lt;/MEDDIG&gt;&lt;FELNOTT_SZAM&gt;2&lt;/FELNOTT_SZAM&gt;&lt;GYERMEK_SZAM&gt;0&lt;/GYERMEK_SZAM&gt;&lt;/Foglalas&gt;&lt;Foglalas&gt;&lt;FOGLALAS_PK&gt;560&lt;/FOGLALAS_PK&gt;&lt;UGYFEL_FK&gt;SEBASTIANF&lt;/UGYFEL_FK&gt;&lt;SZOBA_FK&gt;6&lt;/SZOBA_FK&gt;&lt;METTOL&gt;2016-04-06&lt;/METTOL&gt;&lt;MEDDIG&gt;2016-04-12&lt;/MEDDIG&gt;&lt;FELNOTT_SZAM&gt;2&lt;/FELNOTT_SZAM&gt;&lt;GYERMEK_SZAM&gt;0&lt;/GYERMEK_SZAM&gt;&lt;/Foglalas&gt;&lt;Foglalas&gt;&lt;FOGLALAS_PK&gt;561&lt;/FOGLALAS_PK&gt;&lt;UGYFEL_FK&gt;laszlo2&lt;/UGYFEL_FK&gt;&lt;SZOBA_FK&gt;42&lt;/SZOBA_FK&gt;&lt;METTOL&gt;2016-04-06&lt;/METTOL&gt;&lt;MEDDIG&gt;2016-04-10&lt;/MEDDIG&gt;&lt;FELNOTT_SZAM&gt;2&lt;/FELNOTT_SZAM&gt;&lt;GYERMEK_SZAM&gt;0&lt;/GYERMEK_SZAM&gt;&lt;/Foglalas&gt;&lt;Foglalas&gt;&lt;FOGLALAS_PK&gt;562&lt;/FOGLALAS_PK&gt;&lt;UGYFEL_FK&gt;PETERB&lt;/UGYFEL_FK&gt;&lt;SZOBA_FK&gt;7&lt;/SZOBA_FK&gt;&lt;METTOL&gt;2016-04-06&lt;/METTOL&gt;&lt;MEDDIG&gt;2016-04-10&lt;/MEDDIG&gt;&lt;FELNOTT_SZAM&gt;1&lt;/FELNOTT_SZAM&gt;&lt;GYERMEK_SZAM&gt;0&lt;/GYERMEK_SZAM&gt;&lt;/Foglalas&gt;&lt;Foglalas&gt;&lt;FOGLALAS_PK&gt;563&lt;/FOGLALAS_PK&gt;&lt;UGYFEL_FK&gt;sebestyen&lt;/UGYFEL_FK&gt;&lt;SZOBA_FK&gt;68&lt;/SZOBA_FK&gt;&lt;METTOL&gt;2016-04-07&lt;/METTOL&gt;&lt;MEDDIG&gt;2016-04-12&lt;/MEDDIG&gt;&lt;FELNOTT_SZAM&gt;1&lt;/FELNOTT_SZAM&gt;&lt;GYERMEK_SZAM&gt;3&lt;/GYERMEK_SZAM&gt;&lt;/Foglalas&gt;&lt;Foglalas&gt;&lt;FOGLALAS_PK&gt;564&lt;/FOGLALAS_PK&gt;&lt;UGYFEL_FK&gt;nikoletta4&lt;/UGYFEL_FK&gt;&lt;SZOBA_FK&gt;5&lt;/SZOBA_FK&gt;&lt;METTOL&gt;2016-04-08&lt;/METTOL&gt;&lt;MEDDIG&gt;2016-04-10&lt;/MEDDIG&gt;&lt;FELNOTT_SZAM&gt;1&lt;/FELNOTT_SZAM&gt;&lt;GYERMEK_SZAM&gt;1&lt;/GYERMEK_SZAM&gt;&lt;/Foglalas&gt;&lt;Foglalas&gt;&lt;FOGLALAS_PK&gt;565&lt;/FOGLALAS_PK&gt;&lt;UGYFEL_FK&gt;kristof4&lt;/UGYFEL_FK&gt;&lt;SZOBA_FK&gt;141&lt;/SZOBA_FK&gt;&lt;METTOL&gt;2016-04-08&lt;/METTOL&gt;&lt;MEDDIG&gt;2016-04-14&lt;/MEDDIG&gt;&lt;FELNOTT_SZAM&gt;2&lt;/FELNOTT_SZAM&gt;&lt;GYERMEK_SZAM&gt;0&lt;/GYERMEK_SZAM&gt;&lt;/Foglalas&gt;&lt;Foglalas&gt;&lt;FOGLALAS_PK&gt;566&lt;/FOGLALAS_PK&gt;&lt;UGYFEL_FK&gt;KRISZTIANM&lt;/UGYFEL_FK&gt;&lt;SZOBA_FK&gt;21&lt;/SZOBA_FK&gt;&lt;METTOL&gt;2016-04-09&lt;/METTOL&gt;&lt;MEDDIG&gt;2016-04-15&lt;/MEDDIG&gt;&lt;FELNOTT_SZAM&gt;1&lt;/FELNOTT_SZAM&gt;&lt;GYERMEK_SZAM&gt;1&lt;/GYERMEK_SZAM&gt;&lt;/Foglalas&gt;&lt;Foglalas&gt;&lt;FOGLALAS_PK&gt;567&lt;/FOGLALAS_PK&gt;&lt;UGYFEL_FK&gt;anett3&lt;/UGYFEL_FK&gt;&lt;SZOBA_FK&gt;170&lt;/SZOBA_FK&gt;&lt;METTOL&gt;2016-04-10&lt;/METTOL&gt;&lt;MEDDIG&gt;2016-04-17&lt;/MEDDIG&gt;&lt;FELNOTT_SZAM&gt;1&lt;/FELNOTT_SZAM&gt;&lt;GYERMEK_SZAM&gt;0&lt;/GYERMEK_SZAM&gt;&lt;/Foglalas&gt;&lt;Foglalas&gt;&lt;FOGLALAS_PK&gt;568&lt;/FOGLALAS_PK&gt;&lt;UGYFEL_FK&gt;kata&lt;/UGYFEL_FK&gt;&lt;SZOBA_FK&gt;78&lt;/SZOBA_FK&gt;&lt;METTOL&gt;2016-04-10&lt;/METTOL&gt;&lt;MEDDIG&gt;2016-04-11&lt;/MEDDIG&gt;&lt;FELNOTT_SZAM&gt;2&lt;/FELNOTT_SZAM&gt;&lt;GYERMEK_SZAM&gt;0&lt;/GYERMEK_SZAM&gt;&lt;/Foglalas&gt;&lt;Foglalas&gt;&lt;FOGLALAS_PK&gt;569&lt;/FOGLALAS_PK&gt;&lt;UGYFEL_FK&gt;norbert4&lt;/UGYFEL_FK&gt;&lt;SZOBA_FK&gt;10&lt;/SZOBA_FK&gt;&lt;METTOL&gt;2016-04-10&lt;/METTOL&gt;&lt;MEDDIG&gt;2016-04-13&lt;/MEDDIG&gt;&lt;FELNOTT_SZAM&gt;2&lt;/FELNOTT_SZAM&gt;&lt;GYERMEK_SZAM&gt;0&lt;/GYERMEK_SZAM&gt;&lt;/Foglalas&gt;&lt;Foglalas&gt;&lt;FOGLALAS_PK&gt;570&lt;/FOGLALAS_PK&gt;&lt;UGYFEL_FK&gt;BERNADETTO&lt;/UGYFEL_FK&gt;&lt;SZOBA_FK&gt;164&lt;/SZOBA_FK&gt;&lt;METTOL&gt;2016-04-10&lt;/METTOL&gt;&lt;MEDDIG&gt;2016-04-17&lt;/MEDDIG&gt;&lt;FELNOTT_SZAM&gt;2&lt;/FELNOTT_SZAM&gt;&lt;GYERMEK_SZAM&gt;0&lt;/GYERMEK_SZAM&gt;&lt;/Foglalas&gt;&lt;Foglalas&gt;&lt;FOGLALAS_PK&gt;571&lt;/FOGLALAS_PK&gt;&lt;UGYFEL_FK&gt;AGNESH&lt;/UGYFEL_FK&gt;&lt;SZOBA_FK&gt;182&lt;/SZOBA_FK&gt;&lt;METTOL&gt;2016-04-10&lt;/METTOL&gt;&lt;MEDDIG&gt;2016-04-12&lt;/MEDDIG&gt;&lt;FELNOTT_SZAM&gt;1&lt;/FELNOTT_SZAM&gt;&lt;GYERMEK_SZAM&gt;1&lt;/GYERMEK_SZAM&gt;&lt;/Foglalas&gt;&lt;Foglalas&gt;&lt;FOGLALAS_PK&gt;572&lt;/FOGLALAS_PK&gt;&lt;UGYFEL_FK&gt;katalin&lt;/UGYFEL_FK&gt;&lt;SZOBA_FK&gt;83&lt;/SZOBA_FK&gt;&lt;METTOL&gt;2016-04-10&lt;/METTOL&gt;&lt;MEDDIG&gt;2016-04-17&lt;/MEDDIG&gt;&lt;FELNOTT_SZAM&gt;1&lt;/FELNOTT_SZAM&gt;&lt;GYERMEK_SZAM&gt;1&lt;/GYERMEK_SZAM&gt;&lt;/Foglalas&gt;&lt;Foglalas&gt;&lt;FOGLALAS_PK&gt;573&lt;/FOGLALAS_PK&gt;&lt;UGYFEL_FK&gt;daniel1&lt;/UGYFEL_FK&gt;&lt;SZOBA_FK&gt;169&lt;/SZOBA_FK&gt;&lt;METTOL&gt;2016-04-10&lt;/METTOL&gt;&lt;MEDDIG&gt;2016-04-15&lt;/MEDDIG&gt;&lt;FELNOTT_SZAM&gt;1&lt;/FELNOTT_SZAM&gt;&lt;GYERMEK_SZAM&gt;1&lt;/GYERMEK_SZAM&gt;&lt;/Foglalas&gt;&lt;Foglalas&gt;&lt;FOGLALAS_PK&gt;574&lt;/FOGLALAS_PK&gt;&lt;UGYFEL_FK&gt;katka&lt;/UGYFEL_FK&gt;&lt;SZOBA_FK&gt;171&lt;/SZOBA_FK&gt;&lt;METTOL&gt;2016-04-10&lt;/METTOL&gt;&lt;MEDDIG&gt;2016-04-12&lt;/MEDDIG&gt;&lt;FELNOTT_SZAM&gt;2&lt;/FELNOTT_SZAM&gt;&lt;GYERMEK_SZAM&gt;0&lt;/GYERMEK_SZAM&gt;&lt;/Foglalas&gt;&lt;Foglalas&gt;&lt;FOGLALAS_PK&gt;575&lt;/FOGLALAS_PK&gt;&lt;UGYFEL_FK&gt;daniel&lt;/UGYFEL_FK&gt;&lt;SZOBA_FK&gt;155&lt;/SZOBA_FK&gt;&lt;METTOL&gt;2016-04-10&lt;/METTOL&gt;&lt;MEDDIG&gt;2016-04-11&lt;/MEDDIG&gt;&lt;FELNOTT_SZAM&gt;1&lt;/FELNOTT_SZAM&gt;&lt;GYERMEK_SZAM&gt;3&lt;/GYERMEK_SZAM&gt;&lt;/Foglalas&gt;&lt;Foglalas&gt;&lt;FOGLALAS_PK&gt;576&lt;/FOGLALAS_PK&gt;&lt;UGYFEL_FK&gt;aron2&lt;/UGYFEL_FK&gt;&lt;SZOBA_FK&gt;125&lt;/SZOBA_FK&gt;&lt;METTOL&gt;2016-04-11&lt;/METTOL&gt;&lt;MEDDIG&gt;2016-04-12&lt;/MEDDIG&gt;&lt;FELNOTT_SZAM&gt;1&lt;/FELNOTT_SZAM&gt;&lt;GYERMEK_SZAM&gt;2&lt;/GYERMEK_SZAM&gt;&lt;/Foglalas&gt;&lt;Foglalas&gt;&lt;FOGLALAS_PK&gt;577&lt;/FOGLALAS_PK&gt;&lt;UGYFEL_FK&gt;peter4&lt;/UGYFEL_FK&gt;&lt;SZOBA_FK&gt;155&lt;/SZOBA_FK&gt;&lt;METTOL&gt;2016-04-12&lt;/METTOL&gt;&lt;MEDDIG&gt;2016-04-15&lt;/MEDDIG&gt;&lt;FELNOTT_SZAM&gt;2&lt;/FELNOTT_SZAM&gt;&lt;GYERMEK_SZAM&gt;1&lt;/GYERMEK_SZAM&gt;&lt;/Foglalas&gt;&lt;Foglalas&gt;&lt;FOGLALAS_PK&gt;578&lt;/FOGLALAS_PK&gt;&lt;UGYFEL_FK&gt;anett3&lt;/UGYFEL_FK&gt;&lt;SZOBA_FK&gt;185&lt;/SZOBA_FK&gt;&lt;METTOL&gt;2016-04-13&lt;/METTOL&gt;&lt;MEDDIG&gt;2016-04-19&lt;/MEDDIG&gt;&lt;FELNOTT_SZAM&gt;2&lt;/FELNOTT_SZAM&gt;&lt;GYERMEK_SZAM&gt;1&lt;/GYERMEK_SZAM&gt;&lt;/Foglalas&gt;&lt;Foglalas&gt;&lt;FOGLALAS_PK&gt;579&lt;/FOGLALAS_PK&gt;&lt;UGYFEL_FK&gt;ZSUZSAV&lt;/UGYFEL_FK&gt;&lt;SZOBA_FK&gt;139&lt;/SZOBA_FK&gt;&lt;METTOL&gt;2016-04-14&lt;/METTOL&gt;&lt;MEDDIG&gt;2016-04-16&lt;/MEDDIG&gt;&lt;FELNOTT_SZAM&gt;2&lt;/FELNOTT_SZAM&gt;&lt;GYERMEK_SZAM&gt;0&lt;/GYERMEK_SZAM&gt;&lt;/Foglalas&gt;&lt;Foglalas&gt;&lt;FOGLALAS_PK&gt;580&lt;/FOGLALAS_PK&gt;&lt;UGYFEL_FK&gt;zsolt1&lt;/UGYFEL_FK&gt;&lt;SZOBA_FK&gt;130&lt;/SZOBA_FK&gt;&lt;METTOL&gt;2016-04-14&lt;/METTOL&gt;&lt;MEDDIG&gt;2016-04-17&lt;/MEDDIG&gt;&lt;FELNOTT_SZAM&gt;2&lt;/FELNOTT_SZAM&gt;&lt;GYERMEK_SZAM&gt;0&lt;/GYERMEK_SZAM&gt;&lt;/Foglalas&gt;&lt;Foglalas&gt;&lt;FOGLALAS_PK&gt;581&lt;/FOGLALAS_PK&gt;&lt;UGYFEL_FK&gt;anett3&lt;/UGYFEL_FK&gt;&lt;SZOBA_FK&gt;144&lt;/SZOBA_FK&gt;&lt;METTOL&gt;2016-04-15&lt;/METTOL&gt;&lt;MEDDIG&gt;2016-04-19&lt;/MEDDIG&gt;&lt;FELNOTT_SZAM&gt;2&lt;/FELNOTT_SZAM&gt;&lt;GYERMEK_SZAM&gt;1&lt;/GYERMEK_SZAM&gt;&lt;/Foglalas&gt;&lt;Foglalas&gt;&lt;FOGLALAS_PK&gt;582&lt;/FOGLALAS_PK&gt;&lt;UGYFEL_FK&gt;balazs2&lt;/UGYFEL_FK&gt;&lt;SZOBA_FK&gt;137&lt;/SZOBA_FK&gt;&lt;METTOL&gt;2016-04-16&lt;/METTOL&gt;&lt;MEDDIG&gt;2016-04-19&lt;/MEDDIG&gt;&lt;FELNOTT_SZAM&gt;1&lt;/FELNOTT_SZAM&gt;&lt;GYERMEK_SZAM&gt;1&lt;/GYERMEK_SZAM&gt;&lt;/Foglalas&gt;&lt;Foglalas&gt;&lt;FOGLALAS_PK&gt;583&lt;/FOGLALAS_PK&gt;&lt;UGYFEL_FK&gt;istvan1&lt;/UGYFEL_FK&gt;&lt;SZOBA_FK&gt;79&lt;/SZOBA_FK&gt;&lt;METTOL&gt;2016-04-16&lt;/METTOL&gt;&lt;MEDDIG&gt;2016-04-22&lt;/MEDDIG&gt;&lt;FELNOTT_SZAM&gt;3&lt;/FELNOTT_SZAM&gt;&lt;GYERMEK_SZAM&gt;0&lt;/GYERMEK_SZAM&gt;&lt;/Foglalas&gt;&lt;Foglalas&gt;&lt;FOGLALAS_PK&gt;584&lt;/FOGLALAS_PK&gt;&lt;UGYFEL_FK&gt;BERNADETTO&lt;/UGYFEL_FK&gt;&lt;SZOBA_FK&gt;136&lt;/SZOBA_FK&gt;&lt;METTOL&gt;2016-04-17&lt;/METTOL&gt;&lt;MEDDIG&gt;2016-04-19&lt;/MEDDIG&gt;&lt;FELNOTT_SZAM&gt;1&lt;/FELNOTT_SZAM&gt;&lt;GYERMEK_SZAM&gt;1&lt;/GYERMEK_SZAM&gt;&lt;/Foglalas&gt;&lt;Foglalas&gt;&lt;FOGLALAS_PK&gt;585&lt;/FOGLALAS_PK&gt;&lt;UGYFEL_FK&gt;polla&lt;/UGYFEL_FK&gt;&lt;SZOBA_FK&gt;70&lt;/SZOBA_FK&gt;&lt;METTOL&gt;2016-04-17&lt;/METTOL&gt;&lt;MEDDIG&gt;2016-04-22&lt;/MEDDIG&gt;&lt;FELNOTT_SZAM&gt;1&lt;/FELNOTT_SZAM&gt;&lt;GYERMEK_SZAM&gt;2&lt;/GYERMEK_SZAM&gt;&lt;/Foglalas&gt;&lt;Foglalas&gt;&lt;FOGLALAS_PK&gt;586&lt;/FOGLALAS_PK&gt;&lt;UGYFEL_FK&gt;BEATRIXS&lt;/UGYFEL_FK&gt;&lt;SZOBA_FK&gt;107&lt;/SZOBA_FK&gt;&lt;METTOL&gt;2016-04-18&lt;/METTOL&gt;&lt;MEDDIG&gt;2016-04-24&lt;/MEDDIG&gt;&lt;FELNOTT_SZAM&gt;1&lt;/FELNOTT_SZAM&gt;&lt;GYERMEK_SZAM&gt;0&lt;/GYERMEK_SZAM&gt;&lt;/Foglalas&gt;&lt;Foglalas&gt;&lt;FOGLALAS_PK&gt;587&lt;/FOGLALAS_PK&gt;&lt;UGYFEL_FK&gt;norbert2&lt;/UGYFEL_FK&gt;&lt;SZOBA_FK&gt;123&lt;/SZOBA_FK&gt;&lt;METTOL&gt;2016-04-19&lt;/METTOL&gt;&lt;MEDDIG&gt;2016-04-26&lt;/MEDDIG&gt;&lt;FELNOTT_SZAM&gt;1&lt;/FELNOTT_SZAM&gt;&lt;GYERMEK_SZAM&gt;0&lt;/GYERMEK_SZAM&gt;&lt;/Foglalas&gt;&lt;Foglalas&gt;&lt;FOGLALAS_PK&gt;588&lt;/FOGLALAS_PK&gt;&lt;UGYFEL_FK&gt;mark&lt;/UGYFEL_FK&gt;&lt;SZOBA_FK&gt;156&lt;/SZOBA_FK&gt;&lt;METTOL&gt;2016-04-19&lt;/METTOL&gt;&lt;MEDDIG&gt;2016-04-26&lt;/MEDDIG&gt;&lt;FELNOTT_SZAM&gt;2&lt;/FELNOTT_SZAM&gt;&lt;GYERMEK_SZAM&gt;2&lt;/GYERMEK_SZAM&gt;&lt;/Foglalas&gt;&lt;Foglalas&gt;&lt;FOGLALAS_PK&gt;589&lt;/FOGLALAS_PK&gt;&lt;UGYFEL_FK&gt;miklos2&lt;/UGYFEL_FK&gt;&lt;SZOBA_FK&gt;44&lt;/SZOBA_FK&gt;&lt;METTOL&gt;2016-04-19&lt;/METTOL&gt;&lt;MEDDIG&gt;2016-04-21&lt;/MEDDIG&gt;&lt;FELNOTT_SZAM&gt;3&lt;/FELNOTT_SZAM&gt;&lt;GYERMEK_SZAM&gt;0&lt;/GYERMEK_SZAM&gt;&lt;/Foglalas&gt;&lt;Foglalas&gt;&lt;FOGLALAS_PK&gt;590&lt;/FOGLALAS_PK&gt;&lt;UGYFEL_FK&gt;ANIKOS&lt;/UGYFEL_FK&gt;&lt;SZOBA_FK&gt;42&lt;/SZOBA_FK&gt;&lt;METTOL&gt;2016-04-19&lt;/METTOL&gt;&lt;MEDDIG&gt;2016-04-24&lt;/MEDDIG&gt;&lt;FELNOTT_SZAM&gt;1&lt;/FELNOTT_SZAM&gt;&lt;GYERMEK_SZAM&gt;1&lt;/GYERMEK_SZAM&gt;&lt;/Foglalas&gt;&lt;Foglalas&gt;&lt;FOGLALAS_PK&gt;591&lt;/FOGLALAS_PK&gt;&lt;UGYFEL_FK&gt;beata4&lt;/UGYFEL_FK&gt;&lt;SZOBA_FK&gt;149&lt;/SZOBA_FK&gt;&lt;METTOL&gt;2016-04-20&lt;/METTOL&gt;&lt;MEDDIG&gt;2016-04-21&lt;/MEDDIG&gt;&lt;FELNOTT_SZAM&gt;1&lt;/FELNOTT_SZAM&gt;&lt;GYERMEK_SZAM&gt;1&lt;/GYERMEK_SZAM&gt;&lt;/Foglalas&gt;&lt;Foglalas&gt;&lt;FOGLALAS_PK&gt;592&lt;/FOGLALAS_PK&gt;&lt;UGYFEL_FK&gt;julia&lt;/UGYFEL_FK&gt;&lt;SZOBA_FK&gt;176&lt;/SZOBA_FK&gt;&lt;METTOL&gt;2016-04-21&lt;/METTOL&gt;&lt;MEDDIG&gt;2016-04-26&lt;/MEDDIG&gt;&lt;FELNOTT_SZAM&gt;1&lt;/FELNOTT_SZAM&gt;&lt;GYERMEK_SZAM&gt;1&lt;/GYERMEK_SZAM&gt;&lt;/Foglalas&gt;&lt;Foglalas&gt;&lt;FOGLALAS_PK&gt;593&lt;/FOGLALAS_PK&gt;&lt;UGYFEL_FK&gt;gabriella1&lt;/UGYFEL_FK&gt;&lt;SZOBA_FK&gt;77&lt;/SZOBA_FK&gt;&lt;METTOL&gt;2016-04-21&lt;/METTOL&gt;&lt;MEDDIG&gt;2016-04-24&lt;/MEDDIG&gt;&lt;FELNOTT_SZAM&gt;3&lt;/FELNOTT_SZAM&gt;&lt;GYERMEK_SZAM&gt;0&lt;/GYERMEK_SZAM&gt;&lt;/Foglalas&gt;&lt;Foglalas&gt;&lt;FOGLALAS_PK&gt;594&lt;/FOGLALAS_PK&gt;&lt;UGYFEL_FK&gt;daniel&lt;/UGYFEL_FK&gt;&lt;SZOBA_FK&gt;153&lt;/SZOBA_FK&gt;&lt;METTOL&gt;2016-04-22&lt;/METTOL&gt;&lt;MEDDIG&gt;2016-04-25&lt;/MEDDIG&gt;&lt;FELNOTT_SZAM&gt;2&lt;/FELNOTT_SZAM&gt;&lt;GYERMEK_SZAM&gt;0&lt;/GYERMEK_SZAM&gt;&lt;/Foglalas&gt;&lt;Foglalas&gt;&lt;FOGLALAS_PK&gt;595&lt;/FOGLALAS_PK&gt;&lt;UGYFEL_FK&gt;balint&lt;/UGYFEL_FK&gt;&lt;SZOBA_FK&gt;74&lt;/SZOBA_FK&gt;&lt;METTOL&gt;2016-04-22&lt;/METTOL&gt;&lt;MEDDIG&gt;2016-04-29&lt;/MEDDIG&gt;&lt;FELNOTT_SZAM&gt;2&lt;/FELNOTT_SZAM&gt;&lt;GYERMEK_SZAM&gt;0&lt;/GYERMEK_SZAM&gt;&lt;/Foglalas&gt;&lt;Foglalas&gt;&lt;FOGLALAS_PK&gt;596&lt;/FOGLALAS_PK&gt;&lt;UGYFEL_FK&gt;SZILARDS&lt;/UGYFEL_FK&gt;&lt;SZOBA_FK&gt;115&lt;/SZOBA_FK&gt;&lt;METTOL&gt;2016-04-23&lt;/METTOL&gt;&lt;MEDDIG&gt;2016-04-30&lt;/MEDDIG&gt;&lt;FELNOTT_SZAM&gt;3&lt;/FELNOTT_SZAM&gt;&lt;GYERMEK_SZAM&gt;0&lt;/GYERMEK_SZAM&gt;&lt;/Foglalas&gt;&lt;Foglalas&gt;&lt;FOGLALAS_PK&gt;597&lt;/FOGLALAS_PK&gt;&lt;UGYFEL_FK&gt;KRISZTINAG&lt;/UGYFEL_FK&gt;&lt;SZOBA_FK&gt;100&lt;/SZOBA_FK&gt;&lt;METTOL&gt;2016-04-23&lt;/METTOL&gt;&lt;MEDDIG&gt;2016-04-24&lt;/MEDDIG&gt;&lt;FELNOTT_SZAM&gt;2&lt;/FELNOTT_SZAM&gt;&lt;GYERMEK_SZAM&gt;0&lt;/GYERMEK_SZAM&gt;&lt;/Foglalas&gt;&lt;Foglalas&gt;&lt;FOGLALAS_PK&gt;598&lt;/FOGLALAS_PK&gt;&lt;UGYFEL_FK&gt;ZSOLTJ&lt;/UGYFEL_FK&gt;&lt;SZOBA_FK&gt;31&lt;/SZOBA_FK&gt;&lt;METTOL&gt;2016-04-24&lt;/METTOL&gt;&lt;MEDDIG&gt;2016-04-26&lt;/MEDDIG&gt;&lt;FELNOTT_SZAM&gt;2&lt;/FELNOTT_SZAM&gt;&lt;GYERMEK_SZAM&gt;2&lt;/GYERMEK_SZAM&gt;&lt;/Foglalas&gt;&lt;Foglalas&gt;&lt;FOGLALAS_PK&gt;599&lt;/FOGLALAS_PK&gt;&lt;UGYFEL_FK&gt;istvan1&lt;/UGYFEL_FK&gt;&lt;SZOBA_FK&gt;162&lt;/SZOBA_FK&gt;&lt;METTOL&gt;2016-04-24&lt;/METTOL&gt;&lt;MEDDIG&gt;2016-04-28&lt;/MEDDIG&gt;&lt;FELNOTT_SZAM&gt;3&lt;/FELNOTT_SZAM&gt;&lt;GYERMEK_SZAM&gt;0&lt;/GYERMEK_SZAM&gt;&lt;/Foglalas&gt;&lt;Foglalas&gt;&lt;FOGLALAS_PK&gt;600&lt;/FOGLALAS_PK&gt;&lt;UGYFEL_FK&gt;ANDRASE&lt;/UGYFEL_FK&gt;&lt;SZOBA_FK&gt;190&lt;/SZOBA_FK&gt;&lt;METTOL&gt;2016-04-24&lt;/METTOL&gt;&lt;MEDDIG&gt;2016-05-01&lt;/MEDDIG&gt;&lt;FELNOTT_SZAM&gt;1&lt;/FELNOTT_SZAM&gt;&lt;GYERMEK_SZAM&gt;0&lt;/GYERMEK_SZAM&gt;&lt;/Foglalas&gt;&lt;Foglalas&gt;&lt;FOGLALAS_PK&gt;601&lt;/FOGLALAS_PK&gt;&lt;UGYFEL_FK&gt;kata&lt;/UGYFEL_FK&gt;&lt;SZOBA_FK&gt;39&lt;/SZOBA_FK&gt;&lt;METTOL&gt;2016-04-25&lt;/METTOL&gt;&lt;MEDDIG&gt;2016-05-01&lt;/MEDDIG&gt;&lt;FELNOTT_SZAM&gt;1&lt;/FELNOTT_SZAM&gt;&lt;GYERMEK_SZAM&gt;0&lt;/GYERMEK_SZAM&gt;&lt;/Foglalas&gt;&lt;Foglalas&gt;&lt;FOGLALAS_PK&gt;602&lt;/FOGLALAS_PK&gt;&lt;UGYFEL_FK&gt;sebestyen&lt;/UGYFEL_FK&gt;&lt;SZOBA_FK&gt;17&lt;/SZOBA_FK&gt;&lt;METTOL&gt;2016-04-26&lt;/METTOL&gt;&lt;MEDDIG&gt;2016-05-02&lt;/MEDDIG&gt;&lt;FELNOTT_SZAM&gt;3&lt;/FELNOTT_SZAM&gt;&lt;GYERMEK_SZAM&gt;1&lt;/GYERMEK_SZAM&gt;&lt;/Foglalas&gt;&lt;Foglalas&gt;&lt;FOGLALAS_PK&gt;603&lt;/FOGLALAS_PK&gt;&lt;UGYFEL_FK&gt;gabor4&lt;/UGYFEL_FK&gt;&lt;SZOBA_FK&gt;48&lt;/SZOBA_FK&gt;&lt;METTOL&gt;2016-04-26&lt;/METTOL&gt;&lt;MEDDIG&gt;2016-04-29&lt;/MEDDIG&gt;&lt;FELNOTT_SZAM&gt;3&lt;/FELNOTT_SZAM&gt;&lt;GYERMEK_SZAM&gt;0&lt;/GYERMEK_SZAM&gt;&lt;/Foglalas&gt;&lt;Foglalas&gt;&lt;FOGLALAS_PK&gt;604&lt;/FOGLALAS_PK&gt;&lt;UGYFEL_FK&gt;laszlo2&lt;/UGYFEL_FK&gt;&lt;SZOBA_FK&gt;30&lt;/SZOBA_FK&gt;&lt;METTOL&gt;2016-04-27&lt;/METTOL&gt;&lt;MEDDIG&gt;2016-04-29&lt;/MEDDIG&gt;&lt;FELNOTT_SZAM&gt;1&lt;/FELNOTT_SZAM&gt;&lt;GYERMEK_SZAM&gt;1&lt;/GYERMEK_SZAM&gt;&lt;/Foglalas&gt;&lt;Foglalas&gt;&lt;FOGLALAS_PK&gt;605&lt;/FOGLALAS_PK&gt;&lt;UGYFEL_FK&gt;marton&lt;/UGYFEL_FK&gt;&lt;SZOBA_FK&gt;111&lt;/SZOBA_FK&gt;&lt;METTOL&gt;2016-04-27&lt;/METTOL&gt;&lt;MEDDIG&gt;2016-05-04&lt;/MEDDIG&gt;&lt;FELNOTT_SZAM&gt;2&lt;/FELNOTT_SZAM&gt;&lt;GYERMEK_SZAM&gt;1&lt;/GYERMEK_SZAM&gt;&lt;/Foglalas&gt;&lt;Foglalas&gt;&lt;FOGLALAS_PK&gt;606&lt;/FOGLALAS_PK&gt;&lt;UGYFEL_FK&gt;AGNESH&lt;/UGYFEL_FK&gt;&lt;SZOBA_FK&gt;31&lt;/SZOBA_FK&gt;&lt;METTOL&gt;2016-04-27&lt;/METTOL&gt;&lt;MEDDIG&gt;2016-04-28&lt;/MEDDIG&gt;&lt;FELNOTT_SZAM&gt;1&lt;/FELNOTT_SZAM&gt;&lt;GYERMEK_SZAM&gt;3&lt;/GYERMEK_SZAM&gt;&lt;/Foglalas&gt;&lt;Foglalas&gt;&lt;FOGLALAS_PK&gt;607&lt;/FOGLALAS_PK&gt;&lt;UGYFEL_FK&gt;anett3&lt;/UGYFEL_FK&gt;&lt;SZOBA_FK&gt;96&lt;/SZOBA_FK&gt;&lt;METTOL&gt;2016-04-28&lt;/METTOL&gt;&lt;MEDDIG&gt;2016-05-02&lt;/MEDDIG&gt;&lt;FELNOTT_SZAM&gt;2&lt;/FELNOTT_SZAM&gt;&lt;GYERMEK_SZAM&gt;1&lt;/GYERMEK_SZAM&gt;&lt;/Foglalas&gt;&lt;Foglalas&gt;&lt;FOGLALAS_PK&gt;608&lt;/FOGLALAS_PK&gt;&lt;UGYFEL_FK&gt;krisztina1&lt;/UGYFEL_FK&gt;&lt;SZOBA_FK&gt;184&lt;/SZOBA_FK&gt;&lt;METTOL&gt;2016-04-28&lt;/METTOL&gt;&lt;MEDDIG&gt;2016-04-30&lt;/MEDDIG&gt;&lt;FELNOTT_SZAM&gt;2&lt;/FELNOTT_SZAM&gt;&lt;GYERMEK_SZAM&gt;0&lt;/GYERMEK_SZAM&gt;&lt;/Foglalas&gt;&lt;Foglalas&gt;&lt;FOGLALAS_PK&gt;609&lt;/FOGLALAS_PK&gt;&lt;UGYFEL_FK&gt;MONIKAM&lt;/UGYFEL_FK&gt;&lt;SZOBA_FK&gt;9&lt;/SZOBA_FK&gt;&lt;METTOL&gt;2016-04-29&lt;/METTOL&gt;&lt;MEDDIG&gt;2016-05-01&lt;/MEDDIG&gt;&lt;FELNOTT_SZAM&gt;2&lt;/FELNOTT_SZAM&gt;&lt;GYERMEK_SZAM&gt;0&lt;/GYERMEK_SZAM&gt;&lt;/Foglalas&gt;&lt;Foglalas&gt;&lt;FOGLALAS_PK&gt;610&lt;/FOGLALAS_PK&gt;&lt;UGYFEL_FK&gt;VIKTORIAU&lt;/UGYFEL_FK&gt;&lt;SZOBA_FK&gt;106&lt;/SZOBA_FK&gt;&lt;METTOL&gt;2016-04-30&lt;/METTOL&gt;&lt;MEDDIG&gt;2016-05-03&lt;/MEDDIG&gt;&lt;FELNOTT_SZAM&gt;1&lt;/FELNOTT_SZAM&gt;&lt;GYERMEK_SZAM&gt;0&lt;/GYERMEK_SZAM&gt;&lt;/Foglalas&gt;&lt;Foglalas&gt;&lt;FOGLALAS_PK&gt;611&lt;/FOGLALAS_PK&gt;&lt;UGYFEL_FK&gt;andras3&lt;/UGYFEL_FK&gt;&lt;SZOBA_FK&gt;29&lt;/SZOBA_FK&gt;&lt;METTOL&gt;2016-05-01&lt;/METTOL&gt;&lt;MEDDIG&gt;2016-05-06&lt;/MEDDIG&gt;&lt;FELNOTT_SZAM&gt;1&lt;/FELNOTT_SZAM&gt;&lt;GYERMEK_SZAM&gt;1&lt;/GYERMEK_SZAM&gt;&lt;/Foglalas&gt;&lt;Foglalas&gt;&lt;FOGLALAS_PK&gt;612&lt;/FOGLALAS_PK&gt;&lt;UGYFEL_FK&gt;bernadett2&lt;/UGYFEL_FK&gt;&lt;SZOBA_FK&gt;117&lt;/SZOBA_FK&gt;&lt;METTOL&gt;2016-05-01&lt;/METTOL&gt;&lt;MEDDIG&gt;2016-05-03&lt;/MEDDIG&gt;&lt;FELNOTT_SZAM&gt;1&lt;/FELNOTT_SZAM&gt;&lt;GYERMEK_SZAM&gt;1&lt;/GYERMEK_SZAM&gt;&lt;/Foglalas&gt;&lt;Foglalas&gt;&lt;FOGLALAS_PK&gt;613&lt;/FOGLALAS_PK&gt;&lt;UGYFEL_FK&gt;csongor3&lt;/UGYFEL_FK&gt;&lt;SZOBA_FK&gt;130&lt;/SZOBA_FK&gt;&lt;METTOL&gt;2016-05-01&lt;/METTOL&gt;&lt;MEDDIG&gt;2016-05-04&lt;/MEDDIG&gt;&lt;FELNOTT_SZAM&gt;2&lt;/FELNOTT_SZAM&gt;&lt;GYERMEK_SZAM&gt;0&lt;/GYERMEK_SZAM&gt;&lt;/Foglalas&gt;&lt;Foglalas&gt;&lt;FOGLALAS_PK&gt;614&lt;/FOGLALAS_PK&gt;&lt;UGYFEL_FK&gt;EVAV&lt;/UGYFEL_FK&gt;&lt;SZOBA_FK&gt;109&lt;/SZOBA_FK&gt;&lt;METTOL&gt;2016-05-01&lt;/METTOL&gt;&lt;MEDDIG&gt;2016-05-05&lt;/MEDDIG&gt;&lt;FELNOTT_SZAM&gt;1&lt;/FELNOTT_SZAM&gt;&lt;GYERMEK_SZAM&gt;2&lt;/GYERMEK_SZAM&gt;&lt;/Foglalas&gt;&lt;Foglalas&gt;&lt;FOGLALAS_PK&gt;615&lt;/FOGLALAS_PK&gt;&lt;UGYFEL_FK&gt;ZOLTANT&lt;/UGYFEL_FK&gt;&lt;SZOBA_FK&gt;186&lt;/SZOBA_FK&gt;&lt;METTOL&gt;2016-05-01&lt;/METTOL&gt;&lt;MEDDIG&gt;2016-05-04&lt;/MEDDIG&gt;&lt;FELNOTT_SZAM&gt;2&lt;/FELNOTT_SZAM&gt;&lt;GYERMEK_SZAM&gt;1&lt;/GYERMEK_SZAM&gt;&lt;/Foglalas&gt;&lt;Foglalas&gt;&lt;FOGLALAS_PK&gt;616&lt;/FOGLALAS_PK&gt;&lt;UGYFEL_FK&gt;JOZSEFG&lt;/UGYFEL_FK&gt;&lt;SZOBA_FK&gt;94&lt;/SZOBA_FK&gt;&lt;METTOL&gt;2016-05-02&lt;/METTOL&gt;&lt;MEDDIG&gt;2016-05-06&lt;/MEDDIG&gt;&lt;FELNOTT_SZAM&gt;2&lt;/FELNOTT_SZAM&gt;&lt;GYERMEK_SZAM&gt;0&lt;/GYERMEK_SZAM&gt;&lt;/Foglalas&gt;&lt;Foglalas&gt;&lt;FOGLALAS_PK&gt;617&lt;/FOGLALAS_PK&gt;&lt;UGYFEL_FK&gt;vivien3&lt;/UGYFEL_FK&gt;&lt;SZOBA_FK&gt;117&lt;/SZOBA_FK&gt;&lt;METTOL&gt;2016-05-02&lt;/METTOL&gt;&lt;MEDDIG&gt;2016-05-05&lt;/MEDDIG&gt;&lt;FELNOTT_SZAM&gt;2&lt;/FELNOTT_SZAM&gt;&lt;GYERMEK_SZAM&gt;1&lt;/GYERMEK_SZAM&gt;&lt;/Foglalas&gt;&lt;Foglalas&gt;&lt;FOGLALAS_PK&gt;618&lt;/FOGLALAS_PK&gt;&lt;UGYFEL_FK&gt;TAMASF&lt;/UGYFEL_FK&gt;&lt;SZOBA_FK&gt;105&lt;/SZOBA_FK&gt;&lt;METTOL&gt;2016-05-03&lt;/METTOL&gt;&lt;MEDDIG&gt;2016-05-04&lt;/MEDDIG&gt;&lt;FELNOTT_SZAM&gt;1&lt;/FELNOTT_SZAM&gt;&lt;GYERMEK_SZAM&gt;1&lt;/GYERMEK_SZAM&gt;&lt;/Foglalas&gt;&lt;Foglalas&gt;&lt;FOGLALAS_PK&gt;619&lt;/FOGLALAS_PK&gt;&lt;UGYFEL_FK&gt;RENATAS&lt;/UGYFEL_FK&gt;&lt;SZOBA_FK&gt;132&lt;/SZOBA_FK&gt;&lt;METTOL&gt;2016-05-04&lt;/METTOL&gt;&lt;MEDDIG&gt;2016-05-11&lt;/MEDDIG&gt;&lt;FELNOTT_SZAM&gt;1&lt;/FELNOTT_SZAM&gt;&lt;GYERMEK_SZAM&gt;1&lt;/GYERMEK_SZAM&gt;&lt;/Foglalas&gt;&lt;Foglalas&gt;&lt;FOGLALAS_PK&gt;620&lt;/FOGLALAS_PK&gt;&lt;UGYFEL_FK&gt;marton&lt;/UGYFEL_FK&gt;&lt;SZOBA_FK&gt;1&lt;/SZOBA_FK&gt;&lt;METTOL&gt;2016-05-05&lt;/METTOL&gt;&lt;MEDDIG&gt;2016-05-10&lt;/MEDDIG&gt;&lt;FELNOTT_SZAM&gt;1&lt;/FELNOTT_SZAM&gt;&lt;GYERMEK_SZAM&gt;0&lt;/GYERMEK_SZAM&gt;&lt;/Foglalas&gt;&lt;Foglalas&gt;&lt;FOGLALAS_PK&gt;621&lt;/FOGLALAS_PK&gt;&lt;UGYFEL_FK&gt;gusztav&lt;/UGYFEL_FK&gt;&lt;SZOBA_FK&gt;109&lt;/SZOBA_FK&gt;&lt;METTOL&gt;2016-05-06&lt;/METTOL&gt;&lt;MEDDIG&gt;2016-05-13&lt;/MEDDIG&gt;&lt;FELNOTT_SZAM&gt;1&lt;/FELNOTT_SZAM&gt;&lt;GYERMEK_SZAM&gt;1&lt;/GYERMEK_SZAM&gt;&lt;/Foglalas&gt;&lt;Foglalas&gt;&lt;FOGLALAS_PK&gt;622&lt;/FOGLALAS_PK&gt;&lt;UGYFEL_FK&gt;balazs1&lt;/UGYFEL_FK&gt;&lt;SZOBA_FK&gt;54&lt;/SZOBA_FK&gt;&lt;METTOL&gt;2016-05-07&lt;/METTOL&gt;&lt;MEDDIG&gt;2016-05-14&lt;/MEDDIG&gt;&lt;FELNOTT_SZAM&gt;1&lt;/FELNOTT_SZAM&gt;&lt;GYERMEK_SZAM&gt;1&lt;/GYERMEK_SZAM&gt;&lt;/Foglalas&gt;&lt;Foglalas&gt;&lt;FOGLALAS_PK&gt;623&lt;/FOGLALAS_PK&gt;&lt;UGYFEL_FK&gt;csongor3&lt;/UGYFEL_FK&gt;&lt;SZOBA_FK&gt;96&lt;/SZOBA_FK&gt;&lt;METTOL&gt;2016-05-08&lt;/METTOL&gt;&lt;MEDDIG&gt;2016-05-15&lt;/MEDDIG&gt;&lt;FELNOTT_SZAM&gt;3&lt;/FELNOTT_SZAM&gt;&lt;GYERMEK_SZAM&gt;0&lt;/GYERMEK_SZAM&gt;&lt;/Foglalas&gt;&lt;Foglalas&gt;&lt;FOGLALAS_PK&gt;624&lt;/FOGLALAS_PK&gt;&lt;UGYFEL_FK&gt;andi&lt;/UGYFEL_FK&gt;&lt;SZOBA_FK&gt;33&lt;/SZOBA_FK&gt;&lt;METTOL&gt;2016-05-08&lt;/METTOL&gt;&lt;MEDDIG&gt;2016-05-14&lt;/MEDDIG&gt;&lt;FELNOTT_SZAM&gt;1&lt;/FELNOTT_SZAM&gt;&lt;GYERMEK_SZAM&gt;3&lt;/GYERMEK_SZAM&gt;&lt;/Foglalas&gt;&lt;Foglalas&gt;&lt;FOGLALAS_PK&gt;625&lt;/FOGLALAS_PK&gt;&lt;UGYFEL_FK&gt;ferenc1&lt;/UGYFEL_FK&gt;&lt;SZOBA_FK&gt;63&lt;/SZOBA_FK&gt;&lt;METTOL&gt;2016-05-08&lt;/METTOL&gt;&lt;MEDDIG&gt;2016-05-11&lt;/MEDDIG&gt;&lt;FELNOTT_SZAM&gt;1&lt;/FELNOTT_SZAM&gt;&lt;GYERMEK_SZAM&gt;1&lt;/GYERMEK_SZAM&gt;&lt;/Foglalas&gt;&lt;Foglalas&gt;&lt;FOGLALAS_PK&gt;626&lt;/FOGLALAS_PK&gt;&lt;UGYFEL_FK&gt;bence&lt;/UGYFEL_FK&gt;&lt;SZOBA_FK&gt;18&lt;/SZOBA_FK&gt;&lt;METTOL&gt;2016-05-08&lt;/METTOL&gt;&lt;MEDDIG&gt;2016-05-11&lt;/MEDDIG&gt;&lt;FELNOTT_SZAM&gt;2&lt;/FELNOTT_SZAM&gt;&lt;GYERMEK_SZAM&gt;0&lt;/GYERMEK_SZAM&gt;&lt;/Foglalas&gt;&lt;Foglalas&gt;&lt;FOGLALAS_PK&gt;627&lt;/FOGLALAS_PK&gt;&lt;UGYFEL_FK&gt;kornel4&lt;/UGYFEL_FK&gt;&lt;SZOBA_FK&gt;38&lt;/SZOBA_FK&gt;&lt;METTOL&gt;2016-05-08&lt;/METTOL&gt;&lt;MEDDIG&gt;2016-05-14&lt;/MEDDIG&gt;&lt;FELNOTT_SZAM&gt;1&lt;/FELNOTT_SZAM&gt;&lt;GYERMEK_SZAM&gt;2&lt;/GYERMEK_SZAM&gt;&lt;/Foglalas&gt;&lt;Foglalas&gt;&lt;FOGLALAS_PK&gt;628&lt;/FOGLALAS_PK&gt;&lt;UGYFEL_FK&gt;agnes&lt;/UGYFEL_FK&gt;&lt;SZOBA_FK&gt;48&lt;/SZOBA_FK&gt;&lt;METTOL&gt;2016-05-09&lt;/METTOL&gt;&lt;MEDDIG&gt;2016-05-11&lt;/MEDDIG&gt;&lt;FELNOTT_SZAM&gt;3&lt;/FELNOTT_SZAM&gt;&lt;GYERMEK_SZAM&gt;0&lt;/GYERMEK_SZAM&gt;&lt;/Foglalas&gt;&lt;Foglalas&gt;&lt;FOGLALAS_PK&gt;629&lt;/FOGLALAS_PK&gt;&lt;UGYFEL_FK&gt;daniel&lt;/UGYFEL_FK&gt;&lt;SZOBA_FK&gt;3&lt;/SZOBA_FK&gt;&lt;METTOL&gt;2016-05-09&lt;/METTOL&gt;&lt;MEDDIG&gt;2016-05-13&lt;/MEDDIG&gt;&lt;FELNOTT_SZAM&gt;1&lt;/FELNOTT_SZAM&gt;&lt;GYERMEK_SZAM&gt;2&lt;/GYERMEK_SZAM&gt;&lt;/Foglalas&gt;&lt;Foglalas&gt;&lt;FOGLALAS_PK&gt;630&lt;/FOGLALAS_PK&gt;&lt;UGYFEL_FK&gt;ZSOLTJ&lt;/UGYFEL_FK&gt;&lt;SZOBA_FK&gt;163&lt;/SZOBA_FK&gt;&lt;METTOL&gt;2016-05-09&lt;/METTOL&gt;&lt;MEDDIG&gt;2016-05-11&lt;/MEDDIG&gt;&lt;FELNOTT_SZAM&gt;2&lt;/FELNOTT_SZAM&gt;&lt;GYERMEK_SZAM&gt;0&lt;/GYERMEK_SZAM&gt;&lt;/Foglalas&gt;&lt;Foglalas&gt;&lt;FOGLALAS_PK&gt;631&lt;/FOGLALAS_PK&gt;&lt;UGYFEL_FK&gt;JANOSG&lt;/UGYFEL_FK&gt;&lt;SZOBA_FK&gt;98&lt;/SZOBA_FK&gt;&lt;METTOL&gt;2016-05-09&lt;/METTOL&gt;&lt;MEDDIG&gt;2016-05-15&lt;/MEDDIG&gt;&lt;FELNOTT_SZAM&gt;1&lt;/FELNOTT_SZAM&gt;&lt;GYERMEK_SZAM&gt;0&lt;/GYERMEK_SZAM&gt;&lt;/Foglalas&gt;&lt;Foglalas&gt;&lt;FOGLALAS_PK&gt;632&lt;/FOGLALAS_PK&gt;&lt;UGYFEL_FK&gt;norbert2&lt;/UGYFEL_FK&gt;&lt;SZOBA_FK&gt;99&lt;/SZOBA_FK&gt;&lt;METTOL&gt;2016-05-09&lt;/METTOL&gt;&lt;MEDDIG&gt;2016-05-10&lt;/MEDDIG&gt;&lt;FELNOTT_SZAM&gt;2&lt;/FELNOTT_SZAM&gt;&lt;GYERMEK_SZAM&gt;0&lt;/GYERMEK_SZAM&gt;&lt;/Foglalas&gt;&lt;Foglalas&gt;&lt;FOGLALAS_PK&gt;633&lt;/FOGLALAS_PK&gt;&lt;UGYFEL_FK&gt;katka&lt;/UGYFEL_FK&gt;&lt;SZOBA_FK&gt;187&lt;/SZOBA_FK&gt;&lt;METTOL&gt;2016-05-09&lt;/METTOL&gt;&lt;MEDDIG&gt;2016-05-15&lt;/MEDDIG&gt;&lt;FELNOTT_SZAM&gt;2&lt;/FELNOTT_SZAM&gt;&lt;GYERMEK_SZAM&gt;1&lt;/GYERMEK_SZAM&gt;&lt;/Foglalas&gt;&lt;Foglalas&gt;&lt;FOGLALAS_PK&gt;634&lt;/FOGLALAS_PK&gt;&lt;UGYFEL_FK&gt;nikoletta4&lt;/UGYFEL_FK&gt;&lt;SZOBA_FK&gt;193&lt;/SZOBA_FK&gt;&lt;METTOL&gt;2016-05-09&lt;/METTOL&gt;&lt;MEDDIG&gt;2016-05-15&lt;/MEDDIG&gt;&lt;FELNOTT_SZAM&gt;1&lt;/FELNOTT_SZAM&gt;&lt;GYERMEK_SZAM&gt;1&lt;/GYERMEK_SZAM&gt;&lt;/Foglalas&gt;&lt;Foglalas&gt;&lt;FOGLALAS_PK&gt;635&lt;/FOGLALAS_PK&gt;&lt;UGYFEL_FK&gt;daniel1&lt;/UGYFEL_FK&gt;&lt;SZOBA_FK&gt;97&lt;/SZOBA_FK&gt;&lt;METTOL&gt;2016-05-10&lt;/METTOL&gt;&lt;MEDDIG&gt;2016-05-13&lt;/MEDDIG&gt;&lt;FELNOTT_SZAM&gt;2&lt;/FELNOTT_SZAM&gt;&lt;GYERMEK_SZAM&gt;2&lt;/GYERMEK_SZAM&gt;&lt;/Foglalas&gt;&lt;Foglalas&gt;&lt;FOGLALAS_PK&gt;636&lt;/FOGLALAS_PK&gt;&lt;UGYFEL_FK&gt;MATYASS&lt;/UGYFEL_FK&gt;&lt;SZOBA_FK&gt;91&lt;/SZOBA_FK&gt;&lt;METTOL&gt;2016-05-10&lt;/METTOL&gt;&lt;MEDDIG&gt;2016-05-16&lt;/MEDDIG&gt;&lt;FELNOTT_SZAM&gt;2&lt;/FELNOTT_SZAM&gt;&lt;GYERMEK_SZAM&gt;0&lt;/GYERMEK_SZAM&gt;&lt;/Foglalas&gt;&lt;Foglalas&gt;&lt;FOGLALAS_PK&gt;637&lt;/FOGLALAS_PK&gt;&lt;UGYFEL_FK&gt;RENATAS&lt;/UGYFEL_FK&gt;&lt;SZOBA_FK&gt;100&lt;/SZOBA_FK&gt;&lt;METTOL&gt;2016-05-11&lt;/METTOL&gt;&lt;MEDDIG&gt;2016-05-16&lt;/MEDDIG&gt;&lt;FELNOTT_SZAM&gt;2&lt;/FELNOTT_SZAM&gt;&lt;GYERMEK_SZAM&gt;0&lt;/GYERMEK_SZAM&gt;&lt;/Foglalas&gt;&lt;Foglalas&gt;&lt;FOGLALAS_PK&gt;638&lt;/FOGLALAS_PK&gt;&lt;UGYFEL_FK&gt;julia&lt;/UGYFEL_FK&gt;&lt;SZOBA_FK&gt;67&lt;/SZOBA_FK&gt;&lt;METTOL&gt;2016-05-12&lt;/METTOL&gt;&lt;MEDDIG&gt;2016-05-17&lt;/MEDDIG&gt;&lt;FELNOTT_SZAM&gt;1&lt;/FELNOTT_SZAM&gt;&lt;GYERMEK_SZAM&gt;0&lt;/GYERMEK_SZAM&gt;&lt;/Foglalas&gt;&lt;Foglalas&gt;&lt;FOGLALAS_PK&gt;639&lt;/FOGLALAS_PK&gt;&lt;UGYFEL_FK&gt;zoltan4&lt;/UGYFEL_FK&gt;&lt;SZOBA_FK&gt;161&lt;/SZOBA_FK&gt;&lt;METTOL&gt;2016-05-12&lt;/METTOL&gt;&lt;MEDDIG&gt;2016-05-16&lt;/MEDDIG&gt;&lt;FELNOTT_SZAM&gt;1&lt;/FELNOTT_SZAM&gt;&lt;GYERMEK_SZAM&gt;2&lt;/GYERMEK_SZAM&gt;&lt;/Foglalas&gt;&lt;Foglalas&gt;&lt;FOGLALAS_PK&gt;640&lt;/FOGLALAS_PK&gt;&lt;UGYFEL_FK&gt;sandor3&lt;/UGYFEL_FK&gt;&lt;SZOBA_FK&gt;165&lt;/SZOBA_FK&gt;&lt;METTOL&gt;2016-05-12&lt;/METTOL&gt;&lt;MEDDIG&gt;2016-05-15&lt;/MEDDIG&gt;&lt;FELNOTT_SZAM&gt;2&lt;/FELNOTT_SZAM&gt;&lt;GYERMEK_SZAM&gt;0&lt;/GYERMEK_SZAM&gt;&lt;/Foglalas&gt;&lt;Foglalas&gt;&lt;FOGLALAS_PK&gt;641&lt;/FOGLALAS_PK&gt;&lt;UGYFEL_FK&gt;zoltan4&lt;/UGYFEL_FK&gt;&lt;SZOBA_FK&gt;150&lt;/SZOBA_FK&gt;&lt;METTOL&gt;2016-05-13&lt;/METTOL&gt;&lt;MEDDIG&gt;2016-05-16&lt;/MEDDIG&gt;&lt;FELNOTT_SZAM&gt;2&lt;/FELNOTT_SZAM&gt;&lt;GYERMEK_SZAM&gt;1&lt;/GYERMEK_SZAM&gt;&lt;/Foglalas&gt;&lt;Foglalas&gt;&lt;FOGLALAS_PK&gt;642&lt;/FOGLALAS_PK&gt;&lt;UGYFEL_FK&gt;maria1&lt;/UGYFEL_FK&gt;&lt;SZOBA_FK&gt;54&lt;/SZOBA_FK&gt;&lt;METTOL&gt;2016-05-13&lt;/METTOL&gt;&lt;MEDDIG&gt;2016-05-18&lt;/MEDDIG&gt;&lt;FELNOTT_SZAM&gt;2&lt;/FELNOTT_SZAM&gt;&lt;GYERMEK_SZAM&gt;0&lt;/GYERMEK_SZAM&gt;&lt;/Foglalas&gt;&lt;Foglalas&gt;&lt;FOGLALAS_PK&gt;643&lt;/FOGLALAS_PK&gt;&lt;UGYFEL_FK&gt;andras41&lt;/UGYFEL_FK&gt;&lt;SZOBA_FK&gt;127&lt;/SZOBA_FK&gt;&lt;METTOL&gt;2016-05-14&lt;/METTOL&gt;&lt;MEDDIG&gt;2016-05-16&lt;/MEDDIG&gt;&lt;FELNOTT_SZAM&gt;1&lt;/FELNOTT_SZAM&gt;&lt;GYERMEK_SZAM&gt;1&lt;/GYERMEK_SZAM&gt;&lt;/Foglalas&gt;&lt;Foglalas&gt;&lt;FOGLALAS_PK&gt;644&lt;/FOGLALAS_PK&gt;&lt;UGYFEL_FK&gt;szilvia1&lt;/UGYFEL_FK&gt;&lt;SZOBA_FK&gt;166&lt;/SZOBA_FK&gt;&lt;METTOL&gt;2016-05-14&lt;/METTOL&gt;&lt;MEDDIG&gt;2016-05-21&lt;/MEDDIG&gt;&lt;FELNOTT_SZAM&gt;2&lt;/FELNOTT_SZAM&gt;&lt;GYERMEK_SZAM&gt;0&lt;/GYERMEK_SZAM&gt;&lt;/Foglalas&gt;&lt;Foglalas&gt;&lt;FOGLALAS_PK&gt;645&lt;/FOGLALAS_PK&gt;&lt;UGYFEL_FK&gt;ARONK&lt;/UGYFEL_FK&gt;&lt;SZOBA_FK&gt;67&lt;/SZOBA_FK&gt;&lt;METTOL&gt;2016-05-14&lt;/METTOL&gt;&lt;MEDDIG&gt;2016-05-20&lt;/MEDDIG&gt;&lt;FELNOTT_SZAM&gt;2&lt;/FELNOTT_SZAM&gt;&lt;GYERMEK_SZAM&gt;2&lt;/GYERMEK_SZAM&gt;&lt;/Foglalas&gt;&lt;Foglalas&gt;&lt;FOGLALAS_PK&gt;646&lt;/FOGLALAS_PK&gt;&lt;UGYFEL_FK&gt;BENCEB&lt;/UGYFEL_FK&gt;&lt;SZOBA_FK&gt;78&lt;/SZOBA_FK&gt;&lt;METTOL&gt;2016-05-14&lt;/METTOL&gt;&lt;MEDDIG&gt;2016-05-17&lt;/MEDDIG&gt;&lt;FELNOTT_SZAM&gt;1&lt;/FELNOTT_SZAM&gt;&lt;GYERMEK_SZAM&gt;2&lt;/GYERMEK_SZAM&gt;&lt;/Foglalas&gt;&lt;Foglalas&gt;&lt;FOGLALAS_PK&gt;647&lt;/FOGLALAS_PK&gt;&lt;UGYFEL_FK&gt;robert2&lt;/UGYFEL_FK&gt;&lt;SZOBA_FK&gt;85&lt;/SZOBA_FK&gt;&lt;METTOL&gt;2016-05-15&lt;/METTOL&gt;&lt;MEDDIG&gt;2016-05-18&lt;/MEDDIG&gt;&lt;FELNOTT_SZAM&gt;2&lt;/FELNOTT_SZAM&gt;&lt;GYERMEK_SZAM&gt;0&lt;/GYERMEK_SZAM&gt;&lt;/Foglalas&gt;&lt;Foglalas&gt;&lt;FOGLALAS_PK&gt;648&lt;/FOGLALAS_PK&gt;&lt;UGYFEL_FK&gt;krisztina1&lt;/UGYFEL_FK&gt;&lt;SZOBA_FK&gt;157&lt;/SZOBA_FK&gt;&lt;METTOL&gt;2016-05-16&lt;/METTOL&gt;&lt;MEDDIG&gt;2016-05-20&lt;/MEDDIG&gt;&lt;FELNOTT_SZAM&gt;1&lt;/FELNOTT_SZAM&gt;&lt;GYERMEK_SZAM&gt;0&lt;/GYERMEK_SZAM&gt;&lt;/Foglalas&gt;&lt;Foglalas&gt;&lt;FOGLALAS_PK&gt;649&lt;/FOGLALAS_PK&gt;&lt;UGYFEL_FK&gt;tamas&lt;/UGYFEL_FK&gt;&lt;SZOBA_FK&gt;137&lt;/SZOBA_FK&gt;&lt;METTOL&gt;2016-05-17&lt;/METTOL&gt;&lt;MEDDIG&gt;2016-05-22&lt;/MEDDIG&gt;&lt;FELNOTT_SZAM&gt;1&lt;/FELNOTT_SZAM&gt;&lt;GYERMEK_SZAM&gt;1&lt;/GYERMEK_SZAM&gt;&lt;/Foglalas&gt;&lt;Foglalas&gt;&lt;FOGLALAS_PK&gt;650&lt;/FOGLALAS_PK&gt;&lt;UGYFEL_FK&gt;zsuzsanna&lt;/UGYFEL_FK&gt;&lt;SZOBA_FK&gt;65&lt;/SZOBA_FK&gt;&lt;METTOL&gt;2016-05-17&lt;/METTOL&gt;&lt;MEDDIG&gt;2016-05-23&lt;/MEDDIG&gt;&lt;FELNOTT_SZAM&gt;1&lt;/FELNOTT_SZAM&gt;&lt;GYERMEK_SZAM&gt;1&lt;/GYERMEK_SZAM&gt;&lt;/Foglalas&gt;&lt;Foglalas&gt;&lt;FOGLALAS_PK&gt;1483&lt;/FOGLALAS_PK&gt;&lt;UGYFEL_FK&gt;annamaria1&lt;/UGYFEL_FK&gt;&lt;SZOBA_FK&gt;120&lt;/SZOBA_FK&gt;&lt;METTOL&gt;2017-01-30&lt;/METTOL&gt;&lt;MEDDIG&gt;2017-01-31&lt;/MEDDIG&gt;&lt;FELNOTT_SZAM&gt;3&lt;/FELNOTT_SZAM&gt;&lt;GYERMEK_SZAM&gt;1&lt;/GYERMEK_SZAM&gt;&lt;/Foglalas&gt;&lt;Foglalas&gt;&lt;FOGLALAS_PK&gt;1484&lt;/FOGLALAS_PK&gt;&lt;UGYFEL_FK&gt;emese&lt;/UGYFEL_FK&gt;&lt;SZOBA_FK&gt;195&lt;/SZOBA_FK&gt;&lt;METTOL&gt;2017-01-30&lt;/METTOL&gt;&lt;MEDDIG&gt;2017-01-31&lt;/MEDDIG&gt;&lt;FELNOTT_SZAM&gt;1&lt;/FELNOTT_SZAM&gt;&lt;GYERMEK_SZAM&gt;1&lt;/GYERMEK_SZAM&gt;&lt;/Foglalas&gt;&lt;Foglalas&gt;&lt;FOGLALAS_PK&gt;1485&lt;/FOGLALAS_PK&gt;&lt;UGYFEL_FK&gt;ARONK&lt;/UGYFEL_FK&gt;&lt;SZOBA_FK&gt;103&lt;/SZOBA_FK&gt;&lt;METTOL&gt;2017-01-30&lt;/METTOL&gt;&lt;MEDDIG&gt;2017-02-03&lt;/MEDDIG&gt;&lt;FELNOTT_SZAM&gt;1&lt;/FELNOTT_SZAM&gt;&lt;GYERMEK_SZAM&gt;1&lt;/GYERMEK_SZAM&gt;&lt;/Foglalas&gt;&lt;Foglalas&gt;&lt;FOGLALAS_PK&gt;1486&lt;/FOGLALAS_PK&gt;&lt;UGYFEL_FK&gt;JANOSG&lt;/UGYFEL_FK&gt;&lt;SZOBA_FK&gt;99&lt;/SZOBA_FK&gt;&lt;METTOL&gt;2017-01-31&lt;/METTOL&gt;&lt;MEDDIG&gt;2017-02-05&lt;/MEDDIG&gt;&lt;FELNOTT_SZAM&gt;2&lt;/FELNOTT_SZAM&gt;&lt;GYERMEK_SZAM&gt;0&lt;/GYERMEK_SZAM&gt;&lt;/Foglalas&gt;&lt;Foglalas&gt;&lt;FOGLALAS_PK&gt;1487&lt;/FOGLALAS_PK&gt;&lt;UGYFEL_FK&gt;imre1&lt;/UGYFEL_FK&gt;&lt;SZOBA_FK&gt;163&lt;/SZOBA_FK&gt;&lt;METTOL&gt;2017-02-01&lt;/METTOL&gt;&lt;MEDDIG&gt;2017-02-04&lt;/MEDDIG&gt;&lt;FELNOTT_SZAM&gt;1&lt;/FELNOTT_SZAM&gt;&lt;GYERMEK_SZAM&gt;1&lt;/GYERMEK_SZAM&gt;&lt;/Foglalas&gt;&lt;Foglalas&gt;&lt;FOGLALAS_PK&gt;1488&lt;/FOGLALAS_PK&gt;&lt;UGYFEL_FK&gt;nikoletta4&lt;/UGYFEL_FK&gt;&lt;SZOBA_FK&gt;119&lt;/SZOBA_FK&gt;&lt;METTOL&gt;2017-02-01&lt;/METTOL&gt;&lt;MEDDIG&gt;2017-02-04&lt;/MEDDIG&gt;&lt;FELNOTT_SZAM&gt;2&lt;/FELNOTT_SZAM&gt;&lt;GYERMEK_SZAM&gt;0&lt;/GYERMEK_SZAM&gt;&lt;/Foglalas&gt;&lt;Foglalas&gt;&lt;FOGLALAS_PK&gt;1489&lt;/FOGLALAS_PK&gt;&lt;UGYFEL_FK&gt;andras3&lt;/UGYFEL_FK&gt;&lt;SZOBA_FK&gt;110&lt;/SZOBA_FK&gt;&lt;METTOL&gt;2017-02-02&lt;/METTOL&gt;&lt;MEDDIG&gt;2017-02-08&lt;/MEDDIG&gt;&lt;FELNOTT_SZAM&gt;2&lt;/FELNOTT_SZAM&gt;&lt;GYERMEK_SZAM&gt;0&lt;/GYERMEK_SZAM&gt;&lt;/Foglalas&gt;&lt;Foglalas&gt;&lt;FOGLALAS_PK&gt;1490&lt;/FOGLALAS_PK&gt;&lt;UGYFEL_FK&gt;BEATRIXS&lt;/UGYFEL_FK&gt;&lt;SZOBA_FK&gt;156&lt;/SZOBA_FK&gt;&lt;METTOL&gt;2017-02-03&lt;/METTOL&gt;&lt;MEDDIG&gt;2017-02-04&lt;/MEDDIG&gt;&lt;FELNOTT_SZAM&gt;2&lt;/FELNOTT_SZAM&gt;&lt;GYERMEK_SZAM&gt;0&lt;/GYERMEK_SZAM&gt;&lt;/Foglalas&gt;&lt;Foglalas&gt;&lt;FOGLALAS_PK&gt;1491&lt;/FOGLALAS_PK&gt;&lt;UGYFEL_FK&gt;veronika4&lt;/UGYFEL_FK&gt;&lt;SZOBA_FK&gt;172&lt;/SZOBA_FK&gt;&lt;METTOL&gt;2017-02-03&lt;/METTOL&gt;&lt;MEDDIG&gt;2017-02-05&lt;/MEDDIG&gt;&lt;FELNOTT_SZAM&gt;1&lt;/FELNOTT_SZAM&gt;&lt;GYERMEK_SZAM&gt;1&lt;/GYERMEK_SZAM&gt;&lt;/Foglalas&gt;&lt;Foglalas&gt;&lt;FOGLALAS_PK&gt;1492&lt;/FOGLALAS_PK&gt;&lt;UGYFEL_FK&gt;gusztav&lt;/UGYFEL_FK&gt;&lt;SZOBA_FK&gt;4&lt;/SZOBA_FK&gt;&lt;METTOL&gt;2017-02-03&lt;/METTOL&gt;&lt;MEDDIG&gt;2017-02-09&lt;/MEDDIG&gt;&lt;FELNOTT_SZAM&gt;2&lt;/FELNOTT_SZAM&gt;&lt;GYERMEK_SZAM&gt;0&lt;/GYERMEK_SZAM&gt;&lt;/Foglalas&gt;&lt;Foglalas&gt;&lt;FOGLALAS_PK&gt;1493&lt;/FOGLALAS_PK&gt;&lt;UGYFEL_FK&gt;julia4&lt;/UGYFEL_FK&gt;&lt;SZOBA_FK&gt;120&lt;/SZOBA_FK&gt;&lt;METTOL&gt;2017-02-04&lt;/METTOL&gt;&lt;MEDDIG&gt;2017-02-11&lt;/MEDDIG&gt;&lt;FELNOTT_SZAM&gt;1&lt;/FELNOTT_SZAM&gt;&lt;GYERMEK_SZAM&gt;3&lt;/GYERMEK_SZAM&gt;&lt;/Foglalas&gt;&lt;Foglalas&gt;&lt;FOGLALAS_PK&gt;1494&lt;/FOGLALAS_PK&gt;&lt;UGYFEL_FK&gt;debora&lt;/UGYFEL_FK&gt;&lt;SZOBA_FK&gt;107&lt;/SZOBA_FK&gt;&lt;METTOL&gt;2017-02-04&lt;/METTOL&gt;&lt;MEDDIG&gt;2017-02-06&lt;/MEDDIG&gt;&lt;FELNOTT_SZAM&gt;2&lt;/FELNOTT_SZAM&gt;&lt;GYERMEK_SZAM&gt;1&lt;/GYERMEK_SZAM&gt;&lt;/Foglalas&gt;&lt;Foglalas&gt;&lt;FOGLALAS_PK&gt;1495&lt;/FOGLALAS_PK&gt;&lt;UGYFEL_FK&gt;EVAV&lt;/UGYFEL_FK&gt;&lt;SZOBA_FK&gt;113&lt;/SZOBA_FK&gt;&lt;METTOL&gt;2017-02-04&lt;/METTOL&gt;&lt;MEDDIG&gt;2017-02-11&lt;/MEDDIG&gt;&lt;FELNOTT_SZAM&gt;1&lt;/FELNOTT_SZAM&gt;&lt;GYERMEK_SZAM&gt;4&lt;/GYERMEK_SZAM&gt;&lt;/Foglalas&gt;&lt;Foglalas&gt;&lt;FOGLALAS_PK&gt;1496&lt;/FOGLALAS_PK&gt;&lt;UGYFEL_FK&gt;gabriella1&lt;/UGYFEL_FK&gt;&lt;SZOBA_FK&gt;61&lt;/SZOBA_FK&gt;&lt;METTOL&gt;2017-02-04&lt;/METTOL&gt;&lt;MEDDIG&gt;2017-02-11&lt;/MEDDIG&gt;&lt;FELNOTT_SZAM&gt;1&lt;/FELNOTT_SZAM&gt;&lt;GYERMEK_SZAM&gt;2&lt;/GYERMEK_SZAM&gt;&lt;/Foglalas&gt;&lt;Foglalas&gt;&lt;FOGLALAS_PK&gt;1497&lt;/FOGLALAS_PK&gt;&lt;UGYFEL_FK&gt;SZABOLCSM&lt;/UGYFEL_FK&gt;&lt;SZOBA_FK&gt;179&lt;/SZOBA_FK&gt;&lt;METTOL&gt;2017-02-04&lt;/METTOL&gt;&lt;MEDDIG&gt;2017-02-05&lt;/MEDDIG&gt;&lt;FELNOTT_SZAM&gt;2&lt;/FELNOTT_SZAM&gt;&lt;GYERMEK_SZAM&gt;1&lt;/GYERMEK_SZAM&gt;&lt;/Foglalas&gt;&lt;Foglalas&gt;&lt;FOGLALAS_PK&gt;1498&lt;/FOGLALAS_PK&gt;&lt;UGYFEL_FK&gt;kriszti&lt;/UGYFEL_FK&gt;&lt;SZOBA_FK&gt;16&lt;/SZOBA_FK&gt;&lt;METTOL&gt;2017-02-04&lt;/METTOL&gt;&lt;MEDDIG&gt;2017-02-11&lt;/MEDDIG&gt;&lt;FELNOTT_SZAM&gt;3&lt;/FELNOTT_SZAM&gt;&lt;GYERMEK_SZAM&gt;0&lt;/GYERMEK_SZAM&gt;&lt;/Foglalas&gt;&lt;Foglalas&gt;&lt;FOGLALAS_PK&gt;1499&lt;/FOGLALAS_PK&gt;&lt;UGYFEL_FK&gt;imre1&lt;/UGYFEL_FK&gt;&lt;SZOBA_FK&gt;113&lt;/SZOBA_FK&gt;&lt;METTOL&gt;2017-02-05&lt;/METTOL&gt;&lt;MEDDIG&gt;2017-02-07&lt;/MEDDIG&gt;&lt;FELNOTT_SZAM&gt;3&lt;/FELNOTT_SZAM&gt;&lt;GYERMEK_SZAM&gt;1&lt;/GYERMEK_SZAM&gt;&lt;/Foglalas&gt;&lt;Foglalas&gt;&lt;FOGLALAS_PK&gt;1500&lt;/FOGLALAS_PK&gt;&lt;UGYFEL_FK&gt;peter4&lt;/UGYFEL_FK&gt;&lt;SZOBA_FK&gt;126&lt;/SZOBA_FK&gt;&lt;METTOL&gt;2017-02-05&lt;/METTOL&gt;&lt;MEDDIG&gt;2017-02-09&lt;/MEDDIG&gt;&lt;FELNOTT_SZAM&gt;1&lt;/FELNOTT_SZAM&gt;&lt;GYERMEK_SZAM&gt;2&lt;/GYERMEK_SZAM&gt;&lt;/Foglalas&gt;&lt;Foglalas&gt;&lt;FOGLALAS_PK&gt;1501&lt;/FOGLALAS_PK&gt;&lt;UGYFEL_FK&gt;bence&lt;/UGYFEL_FK&gt;&lt;SZOBA_FK&gt;116&lt;/SZOBA_FK&gt;&lt;METTOL&gt;2017-02-05&lt;/METTOL&gt;&lt;MEDDIG&gt;2017-02-09&lt;/MEDDIG&gt;&lt;FELNOTT_SZAM&gt;1&lt;/FELNOTT_SZAM&gt;&lt;GYERMEK_SZAM&gt;2&lt;/GYERMEK_SZAM&gt;&lt;/Foglalas&gt;&lt;Foglalas&gt;&lt;FOGLALAS_PK&gt;1502&lt;/FOGLALAS_PK&gt;&lt;UGYFEL_FK&gt;krisztina&lt;/UGYFEL_FK&gt;&lt;SZOBA_FK&gt;191&lt;/SZOBA_FK&gt;&lt;METTOL&gt;2017-02-05&lt;/METTOL&gt;&lt;MEDDIG&gt;2017-02-07&lt;/MEDDIG&gt;&lt;FELNOTT_SZAM&gt;2&lt;/FELNOTT_SZAM&gt;&lt;GYERMEK_SZAM&gt;0&lt;/GYERMEK_SZAM&gt;&lt;/Foglalas&gt;&lt;Foglalas&gt;&lt;FOGLALAS_PK&gt;1503&lt;/FOGLALAS_PK&gt;&lt;UGYFEL_FK&gt;NANDORF&lt;/UGYFEL_FK&gt;&lt;SZOBA_FK&gt;177&lt;/SZOBA_FK&gt;&lt;METTOL&gt;2017-02-05&lt;/METTOL&gt;&lt;MEDDIG&gt;2017-02-08&lt;/MEDDIG&gt;&lt;FELNOTT_SZAM&gt;1&lt;/FELNOTT_SZAM&gt;&lt;GYERMEK_SZAM&gt;2&lt;/GYERMEK_SZAM&gt;&lt;/Foglalas&gt;&lt;Foglalas&gt;&lt;FOGLALAS_PK&gt;1504&lt;/FOGLALAS_PK&gt;&lt;UGYFEL_FK&gt;adam3&lt;/UGYFEL_FK&gt;&lt;SZOBA_FK&gt;57&lt;/SZOBA_FK&gt;&lt;METTOL&gt;2017-02-06&lt;/METTOL&gt;&lt;MEDDIG&gt;2017-02-10&lt;/MEDDIG&gt;&lt;FELNOTT_SZAM&gt;1&lt;/FELNOTT_SZAM&gt;&lt;GYERMEK_SZAM&gt;0&lt;/GYERMEK_SZAM&gt;&lt;/Foglalas&gt;&lt;Foglalas&gt;&lt;FOGLALAS_PK&gt;1505&lt;/FOGLALAS_PK&gt;&lt;UGYFEL_FK&gt;MIHALYJ&lt;/UGYFEL_FK&gt;&lt;SZOBA_FK&gt;18&lt;/SZOBA_FK&gt;&lt;METTOL&gt;2017-02-06&lt;/METTOL&gt;&lt;MEDDIG&gt;2017-02-12&lt;/MEDDIG&gt;&lt;FELNOTT_SZAM&gt;2&lt;/FELNOTT_SZAM&gt;&lt;GYERMEK_SZAM&gt;2&lt;/GYERMEK_SZAM&gt;&lt;/Foglalas&gt;&lt;Foglalas&gt;&lt;FOGLALAS_PK&gt;1506&lt;/FOGLALAS_PK&gt;&lt;UGYFEL_FK&gt;MONIKAM&lt;/UGYFEL_FK&gt;&lt;SZOBA_FK&gt;81&lt;/SZOBA_FK&gt;&lt;METTOL&gt;2017-02-06&lt;/METTOL&gt;&lt;MEDDIG&gt;2017-02-09&lt;/MEDDIG&gt;&lt;FELNOTT_SZAM&gt;1&lt;/FELNOTT_SZAM&gt;&lt;GYERMEK_SZAM&gt;1&lt;/GYERMEK_SZAM&gt;&lt;/Foglalas&gt;&lt;Foglalas&gt;&lt;FOGLALAS_PK&gt;1507&lt;/FOGLALAS_PK&gt;&lt;UGYFEL_FK&gt;istvan1&lt;/UGYFEL_FK&gt;&lt;SZOBA_FK&gt;153&lt;/SZOBA_FK&gt;&lt;METTOL&gt;2017-02-07&lt;/METTOL&gt;&lt;MEDDIG&gt;2017-02-10&lt;/MEDDIG&gt;&lt;FELNOTT_SZAM&gt;2&lt;/FELNOTT_SZAM&gt;&lt;GYERMEK_SZAM&gt;1&lt;/GYERMEK_SZAM&gt;&lt;/Foglalas&gt;&lt;Foglalas&gt;&lt;FOGLALAS_PK&gt;1508&lt;/FOGLALAS_PK&gt;&lt;UGYFEL_FK&gt;SZILARDS&lt;/UGYFEL_FK&gt;&lt;SZOBA_FK&gt;191&lt;/SZOBA_FK&gt;&lt;METTOL&gt;2017-02-08&lt;/METTOL&gt;&lt;MEDDIG&gt;2017-02-15&lt;/MEDDIG&gt;&lt;FELNOTT_SZAM&gt;1&lt;/FELNOTT_SZAM&gt;&lt;GYERMEK_SZAM&gt;0&lt;/GYERMEK_SZAM&gt;&lt;/Foglalas&gt;&lt;Foglalas&gt;&lt;FOGLALAS_PK&gt;1509&lt;/FOGLALAS_PK&gt;&lt;UGYFEL_FK&gt;edit&lt;/UGYFEL_FK&gt;&lt;SZOBA_FK&gt;129&lt;/SZOBA_FK&gt;&lt;METTOL&gt;2017-02-08&lt;/METTOL&gt;&lt;MEDDIG&gt;2017-02-14&lt;/MEDDIG&gt;&lt;FELNOTT_SZAM&gt;2&lt;/FELNOTT_SZAM&gt;&lt;GYERMEK_SZAM&gt;1&lt;/GYERMEK_SZAM&gt;&lt;/Foglalas&gt;&lt;Foglalas&gt;&lt;FOGLALAS_PK&gt;1510&lt;/FOGLALAS_PK&gt;&lt;UGYFEL_FK&gt;LASZLOA&lt;/UGYFEL_FK&gt;&lt;SZOBA_FK&gt;106&lt;/SZOBA_FK&gt;&lt;METTOL&gt;2017-02-08&lt;/METTOL&gt;&lt;MEDDIG&gt;2017-02-14&lt;/MEDDIG&gt;&lt;FELNOTT_SZAM&gt;1&lt;/FELNOTT_SZAM&gt;&lt;GYERMEK_SZAM&gt;1&lt;/GYERMEK_SZAM&gt;&lt;/Foglalas&gt;&lt;Foglalas&gt;&lt;FOGLALAS_PK&gt;1511&lt;/FOGLALAS_PK&gt;&lt;UGYFEL_FK&gt;andras2&lt;/UGYFEL_FK&gt;&lt;SZOBA_FK&gt;176&lt;/SZOBA_FK&gt;&lt;METTOL&gt;2017-02-08&lt;/METTOL&gt;&lt;MEDDIG&gt;2017-02-10&lt;/MEDDIG&gt;&lt;FELNOTT_SZAM&gt;2&lt;/FELNOTT_SZAM&gt;&lt;GYERMEK_SZAM&gt;2&lt;/GYERMEK_SZAM&gt;&lt;/Foglalas&gt;&lt;Foglalas&gt;&lt;FOGLALAS_PK&gt;1512&lt;/FOGLALAS_PK&gt;&lt;UGYFEL_FK&gt;BEATRIXK&lt;/UGYFEL_FK&gt;&lt;SZOBA_FK&gt;55&lt;/SZOBA_FK&gt;&lt;METTOL&gt;2017-02-08&lt;/METTOL&gt;&lt;MEDDIG&gt;2017-02-09&lt;/MEDDIG&gt;&lt;FELNOTT_SZAM&gt;1&lt;/FELNOTT_SZAM&gt;&lt;GYERMEK_SZAM&gt;2&lt;/GYERMEK_SZAM&gt;&lt;/Foglalas&gt;&lt;Foglalas&gt;&lt;FOGLALAS_PK&gt;1513&lt;/FOGLALAS_PK&gt;&lt;UGYFEL_FK&gt;brigitta3&lt;/UGYFEL_FK&gt;&lt;SZOBA_FK&gt;85&lt;/SZOBA_FK&gt;&lt;METTOL&gt;2017-02-09&lt;/METTOL&gt;&lt;MEDDIG&gt;2017-02-16&lt;/MEDDIG&gt;&lt;FELNOTT_SZAM&gt;1&lt;/FELNOTT_SZAM&gt;&lt;GYERMEK_SZAM&gt;1&lt;/GYERMEK_SZAM&gt;&lt;/Foglalas&gt;&lt;Foglalas&gt;&lt;FOGLALAS_PK&gt;1514&lt;/FOGLALAS_PK&gt;&lt;UGYFEL_FK&gt;andrea&lt;/UGYFEL_FK&gt;&lt;SZOBA_FK&gt;149&lt;/SZOBA_FK&gt;&lt;METTOL&gt;2017-02-09&lt;/METTOL&gt;&lt;MEDDIG&gt;2017-02-14&lt;/MEDDIG&gt;&lt;FELNOTT_SZAM&gt;2&lt;/FELNOTT_SZAM&gt;&lt;GYERMEK_SZAM&gt;0&lt;/GYERMEK_SZAM&gt;&lt;/Foglalas&gt;&lt;Foglalas&gt;&lt;FOGLALAS_PK&gt;1515&lt;/FOGLALAS_PK&gt;&lt;UGYFEL_FK&gt;balazs1&lt;/UGYFEL_FK&gt;&lt;SZOBA_FK&gt;46&lt;/SZOBA_FK&gt;&lt;METTOL&gt;2017-02-10&lt;/METTOL&gt;&lt;MEDDIG&gt;2017-02-14&lt;/MEDDIG&gt;&lt;FELNOTT_SZAM&gt;1&lt;/FELNOTT_SZAM&gt;&lt;GYERMEK_SZAM&gt;2&lt;/GYERMEK_SZAM&gt;&lt;/Foglalas&gt;&lt;Foglalas&gt;&lt;FOGLALAS_PK&gt;1516&lt;/FOGLALAS_PK&gt;&lt;UGYFEL_FK&gt;ESZTERE&lt;/UGYFEL_FK&gt;&lt;SZOBA_FK&gt;101&lt;/SZOBA_FK&gt;&lt;METTOL&gt;2017-02-10&lt;/METTOL&gt;&lt;MEDDIG&gt;2017-02-14&lt;/MEDDIG&gt;&lt;FELNOTT_SZAM&gt;1&lt;/FELNOTT_SZAM&gt;&lt;GYERMEK_SZAM&gt;1&lt;/GYERMEK_SZAM&gt;&lt;/Foglalas&gt;&lt;Foglalas&gt;&lt;FOGLALAS_PK&gt;1517&lt;/FOGLALAS_PK&gt;&lt;UGYFEL_FK&gt;polla&lt;/UGYFEL_FK&gt;&lt;SZOBA_FK&gt;190&lt;/SZOBA_FK&gt;&lt;METTOL&gt;2017-02-11&lt;/METTOL&gt;&lt;MEDDIG&gt;2017-02-16&lt;/MEDDIG&gt;&lt;FELNOTT_SZAM&gt;2&lt;/FELNOTT_SZAM&gt;&lt;GYERMEK_SZAM&gt;0&lt;/GYERMEK_SZAM&gt;&lt;/Foglalas&gt;&lt;Foglalas&gt;&lt;FOGLALAS_PK&gt;1518&lt;/FOGLALAS_PK&gt;&lt;UGYFEL_FK&gt;balazs1&lt;/UGYFEL_FK&gt;&lt;SZOBA_FK&gt;94&lt;/SZOBA_FK&gt;&lt;METTOL&gt;2017-02-12&lt;/METTOL&gt;&lt;MEDDIG&gt;2017-02-14&lt;/MEDDIG&gt;&lt;FELNOTT_SZAM&gt;2&lt;/FELNOTT_SZAM&gt;&lt;GYERMEK_SZAM&gt;0&lt;/GYERMEK_SZAM&gt;&lt;/Foglalas&gt;&lt;Foglalas&gt;&lt;FOGLALAS_PK&gt;1519&lt;/FOGLALAS_PK&gt;&lt;UGYFEL_FK&gt;aniko&lt;/UGYFEL_FK&gt;&lt;SZOBA_FK&gt;132&lt;/SZOBA_FK&gt;&lt;METTOL&gt;2017-02-12&lt;/METTOL&gt;&lt;MEDDIG&gt;2017-02-14&lt;/MEDDIG&gt;&lt;FELNOTT_SZAM&gt;2&lt;/FELNOTT_SZAM&gt;&lt;GYERMEK_SZAM&gt;1&lt;/GYERMEK_SZAM&gt;&lt;/Foglalas&gt;&lt;Foglalas&gt;&lt;FOGLALAS_PK&gt;1520&lt;/FOGLALAS_PK&gt;&lt;UGYFEL_FK&gt;daniel&lt;/UGYFEL_FK&gt;&lt;SZOBA_FK&gt;55&lt;/SZOBA_FK&gt;&lt;METTOL&gt;2017-02-12&lt;/METTOL&gt;&lt;MEDDIG&gt;2017-02-13&lt;/MEDDIG&gt;&lt;FELNOTT_SZAM&gt;2&lt;/FELNOTT_SZAM&gt;&lt;GYERMEK_SZAM&gt;1&lt;/GYERMEK_SZAM&gt;&lt;/Foglalas&gt;&lt;Foglalas&gt;&lt;FOGLALAS_PK&gt;1521&lt;/FOGLALAS_PK&gt;&lt;UGYFEL_FK&gt;BENCEB&lt;/UGYFEL_FK&gt;&lt;SZOBA_FK&gt;89&lt;/SZOBA_FK&gt;&lt;METTOL&gt;2017-02-12&lt;/METTOL&gt;&lt;MEDDIG&gt;2017-02-19&lt;/MEDDIG&gt;&lt;FELNOTT_SZAM&gt;3&lt;/FELNOTT_SZAM&gt;&lt;GYERMEK_SZAM&gt;0&lt;/GYERMEK_SZAM&gt;&lt;/Foglalas&gt;&lt;Foglalas&gt;&lt;FOGLALAS_PK&gt;1522&lt;/FOGLALAS_PK&gt;&lt;UGYFEL_FK&gt;ARPADM&lt;/UGYFEL_FK&gt;&lt;SZOBA_FK&gt;104&lt;/SZOBA_FK&gt;&lt;METTOL&gt;2017-02-12&lt;/METTOL&gt;&lt;MEDDIG&gt;2017-02-14&lt;/MEDDIG&gt;&lt;FELNOTT_SZAM&gt;1&lt;/FELNOTT_SZAM&gt;&lt;GYERMEK_SZAM&gt;2&lt;/GYERMEK_SZAM&gt;&lt;/Foglalas&gt;&lt;Foglalas&gt;&lt;FOGLALAS_PK&gt;1523&lt;/FOGLALAS_PK&gt;&lt;UGYFEL_FK&gt;lajos&lt;/UGYFEL_FK&gt;&lt;SZOBA_FK&gt;11&lt;/SZOBA_FK&gt;&lt;METTOL&gt;2017-02-12&lt;/METTOL&gt;&lt;MEDDIG&gt;2017-02-13&lt;/MEDDIG&gt;&lt;FELNOTT_SZAM&gt;1&lt;/FELNOTT_SZAM&gt;&lt;GYERMEK_SZAM&gt;0&lt;/GYERMEK_SZAM&gt;&lt;/Foglalas&gt;&lt;Foglalas&gt;&lt;FOGLALAS_PK&gt;1524&lt;/FOGLALAS_PK&gt;&lt;UGYFEL_FK&gt;gabriella1&lt;/UGYFEL_FK&gt;&lt;SZOBA_FK&gt;43&lt;/SZOBA_FK&gt;&lt;METTOL&gt;2017-02-12&lt;/METTOL&gt;&lt;MEDDIG&gt;2017-02-13&lt;/MEDDIG&gt;&lt;FELNOTT_SZAM&gt;2&lt;/FELNOTT_SZAM&gt;&lt;GYERMEK_SZAM&gt;0&lt;/GYERMEK_SZAM&gt;&lt;/Foglalas&gt;&lt;Foglalas&gt;&lt;FOGLALAS_PK&gt;1525&lt;/FOGLALAS_PK&gt;&lt;UGYFEL_FK&gt;TAMASF&lt;/UGYFEL_FK&gt;&lt;SZOBA_FK&gt;105&lt;/SZOBA_FK&gt;&lt;METTOL&gt;2017-02-12&lt;/METTOL&gt;&lt;MEDDIG&gt;2017-02-17&lt;/MEDDIG&gt;&lt;FELNOTT_SZAM&gt;1&lt;/FELNOTT_SZAM&gt;&lt;GYERMEK_SZAM&gt;1&lt;/GYERMEK_SZAM&gt;&lt;/Foglalas&gt;&lt;Foglalas&gt;&lt;FOGLALAS_PK&gt;1526&lt;/FOGLALAS_PK&gt;&lt;UGYFEL_FK&gt;janos3&lt;/UGYFEL_FK&gt;&lt;SZOBA_FK&gt;166&lt;/SZOBA_FK&gt;&lt;METTOL&gt;2017-02-12&lt;/METTOL&gt;&lt;MEDDIG&gt;2017-02-14&lt;/MEDDIG&gt;&lt;FELNOTT_SZAM&gt;2&lt;/FELNOTT_SZAM&gt;&lt;GYERMEK_SZAM&gt;1&lt;/GYERMEK_SZAM&gt;&lt;/Foglalas&gt;&lt;Foglalas&gt;&lt;FOGLALAS_PK&gt;1527&lt;/FOGLALAS_PK&gt;&lt;UGYFEL_FK&gt;GYORGYO&lt;/UGYFEL_FK&gt;&lt;SZOBA_FK&gt;92&lt;/SZOBA_FK&gt;&lt;METTOL&gt;2017-02-13&lt;/METTOL&gt;&lt;MEDDIG&gt;2017-02-15&lt;/MEDDIG&gt;&lt;FELNOTT_SZAM&gt;1&lt;/FELNOTT_SZAM&gt;&lt;GYERMEK_SZAM&gt;1&lt;/GYERMEK_SZAM&gt;&lt;/Foglalas&gt;&lt;Foglalas&gt;&lt;FOGLALAS_PK&gt;1528&lt;/FOGLALAS_PK&gt;&lt;UGYFEL_FK&gt;norbert&lt;/UGYFEL_FK&gt;&lt;SZOBA_FK&gt;97&lt;/SZOBA_FK&gt;&lt;METTOL&gt;2017-02-13&lt;/METTOL&gt;&lt;MEDDIG&gt;2017-02-15&lt;/MEDDIG&gt;&lt;FELNOTT_SZAM&gt;2&lt;/FELNOTT_SZAM&gt;&lt;GYERMEK_SZAM&gt;1&lt;/GYERMEK_SZAM&gt;&lt;/Foglalas&gt;&lt;Foglalas&gt;&lt;FOGLALAS_PK&gt;1529&lt;/FOGLALAS_PK&gt;&lt;UGYFEL_FK&gt;RENATAS&lt;/UGYFEL_FK&gt;&lt;SZOBA_FK&gt;35&lt;/SZOBA_FK&gt;&lt;METTOL&gt;2017-02-13&lt;/METTOL&gt;&lt;MEDDIG&gt;2017-02-17&lt;/MEDDIG&gt;&lt;FELNOTT_SZAM&gt;1&lt;/FELNOTT_SZAM&gt;&lt;GYERMEK_SZAM&gt;0&lt;/GYERMEK_SZAM&gt;&lt;/Foglalas&gt;&lt;Foglalas&gt;&lt;FOGLALAS_PK&gt;1530&lt;/FOGLALAS_PK&gt;&lt;UGYFEL_FK&gt;pal&lt;/UGYFEL_FK&gt;&lt;SZOBA_FK&gt;112&lt;/SZOBA_FK&gt;&lt;METTOL&gt;2017-02-13&lt;/METTOL&gt;&lt;MEDDIG&gt;2017-02-19&lt;/MEDDIG&gt;&lt;FELNOTT_SZAM&gt;2&lt;/FELNOTT_SZAM&gt;&lt;GYERMEK_SZAM&gt;1&lt;/GYERMEK_SZAM&gt;&lt;/Foglalas&gt;&lt;Foglalas&gt;&lt;FOGLALAS_PK&gt;1531&lt;/FOGLALAS_PK&gt;&lt;UGYFEL_FK&gt;csongor3&lt;/UGYFEL_FK&gt;&lt;SZOBA_FK&gt;124&lt;/SZOBA_FK&gt;&lt;METTOL&gt;2017-02-13&lt;/METTOL&gt;&lt;MEDDIG&gt;2017-02-19&lt;/MEDDIG&gt;&lt;FELNOTT_SZAM&gt;3&lt;/FELNOTT_SZAM&gt;&lt;GYERMEK_SZAM&gt;0&lt;/GYERMEK_SZAM&gt;&lt;/Foglalas&gt;&lt;Foglalas&gt;&lt;FOGLALAS_PK&gt;1532&lt;/FOGLALAS_PK&gt;&lt;UGYFEL_FK&gt;RENATAS&lt;/UGYFEL_FK&gt;&lt;SZOBA_FK&gt;104&lt;/SZOBA_FK&gt;&lt;METTOL&gt;2017-02-14&lt;/METTOL&gt;&lt;MEDDIG&gt;2017-02-17&lt;/MEDDIG&gt;&lt;FELNOTT_SZAM&gt;2&lt;/FELNOTT_SZAM&gt;&lt;GYERMEK_SZAM&gt;0&lt;/GYERMEK_SZAM&gt;&lt;/Foglalas&gt;&lt;Foglalas&gt;&lt;FOGLALAS_PK&gt;1533&lt;/FOGLALAS_PK&gt;&lt;UGYFEL_FK&gt;bernadett1&lt;/UGYFEL_FK&gt;&lt;SZOBA_FK&gt;19&lt;/SZOBA_FK&gt;&lt;METTOL&gt;2017-02-14&lt;/METTOL&gt;&lt;MEDDIG&gt;2017-02-15&lt;/MEDDIG&gt;&lt;FELNOTT_SZAM&gt;1&lt;/FELNOTT_SZAM&gt;&lt;GYERMEK_SZAM&gt;2&lt;/GYERMEK_SZAM&gt;&lt;/Foglalas&gt;&lt;Foglalas&gt;&lt;FOGLALAS_PK&gt;1534&lt;/FOGLALAS_PK&gt;&lt;UGYFEL_FK&gt;tamas&lt;/UGYFEL_FK&gt;&lt;SZOBA_FK&gt;52&lt;/SZOBA_FK&gt;&lt;METTOL&gt;2017-02-14&lt;/METTOL&gt;&lt;MEDDIG&gt;2017-02-19&lt;/MEDDIG&gt;&lt;FELNOTT_SZAM&gt;2&lt;/FELNOTT_SZAM&gt;&lt;GYERMEK_SZAM&gt;1&lt;/GYERMEK_SZAM&gt;&lt;/Foglalas&gt;&lt;Foglalas&gt;&lt;FOGLALAS_PK&gt;1535&lt;/FOGLALAS_PK&gt;&lt;UGYFEL_FK&gt;attila4&lt;/UGYFEL_FK&gt;&lt;SZOBA_FK&gt;134&lt;/SZOBA_FK&gt;&lt;METTOL&gt;2017-02-15&lt;/METTOL&gt;&lt;MEDDIG&gt;2017-02-22&lt;/MEDDIG&gt;&lt;FELNOTT_SZAM&gt;2&lt;/FELNOTT_SZAM&gt;&lt;GYERMEK_SZAM&gt;0&lt;/GYERMEK_SZAM&gt;&lt;/Foglalas&gt;&lt;Foglalas&gt;&lt;FOGLALAS_PK&gt;1536&lt;/FOGLALAS_PK&gt;&lt;UGYFEL_FK&gt;bertalan&lt;/UGYFEL_FK&gt;&lt;SZOBA_FK&gt;49&lt;/SZOBA_FK&gt;&lt;METTOL&gt;2017-02-16&lt;/METTOL&gt;&lt;MEDDIG&gt;2017-02-22&lt;/MEDDIG&gt;&lt;FELNOTT_SZAM&gt;2&lt;/FELNOTT_SZAM&gt;&lt;GYERMEK_SZAM&gt;0&lt;/GYERMEK_SZAM&gt;&lt;/Foglalas&gt;&lt;Foglalas&gt;&lt;FOGLALAS_PK&gt;1537&lt;/FOGLALAS_PK&gt;&lt;UGYFEL_FK&gt;TAMASF&lt;/UGYFEL_FK&gt;&lt;SZOBA_FK&gt;9&lt;/SZOBA_FK&gt;&lt;METTOL&gt;2017-02-16&lt;/METTOL&gt;&lt;MEDDIG&gt;2017-02-19&lt;/MEDDIG&gt;&lt;FELNOTT_SZAM&gt;3&lt;/FELNOTT_SZAM&gt;&lt;GYERMEK_SZAM&gt;1&lt;/GYERMEK_SZAM&gt;&lt;/Foglalas&gt;&lt;Foglalas&gt;&lt;FOGLALAS_PK&gt;1538&lt;/FOGLALAS_PK&gt;&lt;UGYFEL_FK&gt;ARPADH&lt;/UGYFEL_FK&gt;&lt;SZOBA_FK&gt;39&lt;/SZOBA_FK&gt;&lt;METTOL&gt;2017-02-16&lt;/METTOL&gt;&lt;MEDDIG&gt;2017-02-18&lt;/MEDDIG&gt;&lt;FELNOTT_SZAM&gt;1&lt;/FELNOTT_SZAM&gt;&lt;GYERMEK_SZAM&gt;1&lt;/GYERMEK_SZAM&gt;&lt;/Foglalas&gt;&lt;Foglalas&gt;&lt;FOGLALAS_PK&gt;1539&lt;/FOGLALAS_PK&gt;&lt;UGYFEL_FK&gt;ANNAMARIAR&lt;/UGYFEL_FK&gt;&lt;SZOBA_FK&gt;154&lt;/SZOBA_FK&gt;&lt;METTOL&gt;2017-02-16&lt;/METTOL&gt;&lt;MEDDIG&gt;2017-02-18&lt;/MEDDIG&gt;&lt;FELNOTT_SZAM&gt;2&lt;/FELNOTT_SZAM&gt;&lt;GYERMEK_SZAM&gt;0&lt;/GYERMEK_SZAM&gt;&lt;/Foglalas&gt;&lt;Foglalas&gt;&lt;FOGLALAS_PK&gt;1540&lt;/FOGLALAS_PK&gt;&lt;UGYFEL_FK&gt;david4&lt;/UGYFEL_FK&gt;&lt;SZOBA_FK&gt;114&lt;/SZOBA_FK&gt;&lt;METTOL&gt;2017-02-16&lt;/METTOL&gt;&lt;MEDDIG&gt;2017-02-19&lt;/MEDDIG&gt;&lt;FELNOTT_SZAM&gt;2&lt;/FELNOTT_SZAM&gt;&lt;GYERMEK_SZAM&gt;1&lt;/GYERMEK_SZAM&gt;&lt;/Foglalas&gt;&lt;Foglalas&gt;&lt;FOGLALAS_PK&gt;1541&lt;/FOGLALAS_PK&gt;&lt;UGYFEL_FK&gt;norbert4&lt;/UGYFEL_FK&gt;&lt;SZOBA_FK&gt;155&lt;/SZOBA_FK&gt;&lt;METTOL&gt;2017-02-16&lt;/METTOL&gt;&lt;MEDDIG&gt;2017-02-17&lt;/MEDDIG&gt;&lt;FELNOTT_SZAM&gt;1&lt;/FELNOTT_SZAM&gt;&lt;GYERMEK_SZAM&gt;0&lt;/GYERMEK_SZAM&gt;&lt;/Foglalas&gt;&lt;Foglalas&gt;&lt;FOGLALAS_PK&gt;1542&lt;/FOGLALAS_PK&gt;&lt;UGYFEL_FK&gt;krisztina&lt;/UGYFEL_FK&gt;&lt;SZOBA_FK&gt;14&lt;/SZOBA_FK&gt;&lt;METTOL&gt;2017-02-16&lt;/METTOL&gt;&lt;MEDDIG&gt;2017-02-20&lt;/MEDDIG&gt;&lt;FELNOTT_SZAM&gt;3&lt;/FELNOTT_SZAM&gt;&lt;GYERMEK_SZAM&gt;1&lt;/GYERMEK_SZAM&gt;&lt;/Foglalas&gt;&lt;Foglalas&gt;&lt;FOGLALAS_PK&gt;1543&lt;/FOGLALAS_PK&gt;&lt;UGYFEL_FK&gt;RENATAK&lt;/UGYFEL_FK&gt;&lt;SZOBA_FK&gt;95&lt;/SZOBA_FK&gt;&lt;METTOL&gt;2017-02-16&lt;/METTOL&gt;&lt;MEDDIG&gt;2017-02-23&lt;/MEDDIG&gt;&lt;FELNOTT_SZAM&gt;1&lt;/FELNOTT_SZAM&gt;&lt;GYERMEK_SZAM&gt;0&lt;/GYERMEK_SZAM&gt;&lt;/Foglalas&gt;&lt;Foglalas&gt;&lt;FOGLALAS_PK&gt;1544&lt;/FOGLALAS_PK&gt;&lt;UGYFEL_FK&gt;agnes3&lt;/UGYFEL_FK&gt;&lt;SZOBA_FK&gt;3&lt;/SZOBA_FK&gt;&lt;METTOL&gt;2017-02-16&lt;/METTOL&gt;&lt;MEDDIG&gt;2017-02-21&lt;/MEDDIG&gt;&lt;FELNOTT_SZAM&gt;3&lt;/FELNOTT_SZAM&gt;&lt;GYERMEK_SZAM&gt;0&lt;/GYERMEK_SZAM&gt;&lt;/Foglalas&gt;&lt;Foglalas&gt;&lt;FOGLALAS_PK&gt;1545&lt;/FOGLALAS_PK&gt;&lt;UGYFEL_FK&gt;ROBERTI&lt;/UGYFEL_FK&gt;&lt;SZOBA_FK&gt;142&lt;/SZOBA_FK&gt;&lt;METTOL&gt;2017-02-17&lt;/METTOL&gt;&lt;MEDDIG&gt;2017-02-20&lt;/MEDDIG&gt;&lt;FELNOTT_SZAM&gt;1&lt;/FELNOTT_SZAM&gt;&lt;GYERMEK_SZAM&gt;1&lt;/GYERMEK_SZAM&gt;&lt;/Foglalas&gt;&lt;Foglalas&gt;&lt;FOGLALAS_PK&gt;1546&lt;/FOGLALAS_PK&gt;&lt;UGYFEL_FK&gt;david1&lt;/UGYFEL_FK&gt;&lt;SZOBA_FK&gt;48&lt;/SZOBA_FK&gt;&lt;METTOL&gt;2017-02-17&lt;/METTOL&gt;&lt;MEDDIG&gt;2017-02-20&lt;/MEDDIG&gt;&lt;FELNOTT_SZAM&gt;1&lt;/FELNOTT_SZAM&gt;&lt;GYERMEK_SZAM&gt;2&lt;/GYERMEK_SZAM&gt;&lt;/Foglalas&gt;&lt;Foglalas&gt;&lt;FOGLALAS_PK&gt;1547&lt;/FOGLALAS_PK&gt;&lt;UGYFEL_FK&gt;zsofi1&lt;/UGYFEL_FK&gt;&lt;SZOBA_FK&gt;48&lt;/SZOBA_FK&gt;&lt;METTOL&gt;2017-02-18&lt;/METTOL&gt;&lt;MEDDIG&gt;2017-02-19&lt;/MEDDIG&gt;&lt;FELNOTT_SZAM&gt;1&lt;/FELNOTT_SZAM&gt;&lt;GYERMEK_SZAM&gt;2&lt;/GYERMEK_SZAM&gt;&lt;/Foglalas&gt;&lt;Foglalas&gt;&lt;FOGLALAS_PK&gt;1548&lt;/FOGLALAS_PK&gt;&lt;UGYFEL_FK&gt;LASZLON&lt;/UGYFEL_FK&gt;&lt;SZOBA_FK&gt;88&lt;/SZOBA_FK&gt;&lt;METTOL&gt;2017-02-18&lt;/METTOL&gt;&lt;MEDDIG&gt;2017-02-25&lt;/MEDDIG&gt;&lt;FELNOTT_SZAM&gt;2&lt;/FELNOTT_SZAM&gt;&lt;GYERMEK_SZAM&gt;1&lt;/GYERMEK_SZAM&gt;&lt;/Foglalas&gt;&lt;Foglalas&gt;&lt;FOGLALAS_PK&gt;1549&lt;/FOGLALAS_PK&gt;&lt;UGYFEL_FK&gt;roza2&lt;/UGYFEL_FK&gt;&lt;SZOBA_FK&gt;17&lt;/SZOBA_FK&gt;&lt;METTOL&gt;2017-02-18&lt;/METTOL&gt;&lt;MEDDIG&gt;2017-02-21&lt;/MEDDIG&gt;&lt;FELNOTT_SZAM&gt;1&lt;/FELNOTT_SZAM&gt;&lt;GYERMEK_SZAM&gt;2&lt;/GYERMEK_SZAM&gt;&lt;/Foglalas&gt;&lt;Foglalas&gt;&lt;FOGLALAS_PK&gt;1550&lt;/FOGLALAS_PK&gt;&lt;UGYFEL_FK&gt;arpad2&lt;/UGYFEL_FK&gt;&lt;SZOBA_FK&gt;51&lt;/SZOBA_FK&gt;&lt;METTOL&gt;2017-02-18&lt;/METTOL&gt;&lt;MEDDIG&gt;2017-02-19&lt;/MEDDIG&gt;&lt;FELNOTT_SZAM&gt;3&lt;/FELNOTT_SZAM&gt;&lt;GYERMEK_SZAM&gt;1&lt;/GYERMEK_SZAM&gt;&lt;/Foglalas&gt;&lt;Foglalas&gt;&lt;FOGLALAS_PK&gt;1551&lt;/FOGLALAS_PK&gt;&lt;UGYFEL_FK&gt;anita&lt;/UGYFEL_FK&gt;&lt;SZOBA_FK&gt;157&lt;/SZOBA_FK&gt;&lt;METTOL&gt;2017-02-19&lt;/METTOL&gt;&lt;MEDDIG&gt;2017-02-22&lt;/MEDDIG&gt;&lt;FELNOTT_SZAM&gt;1&lt;/FELNOTT_SZAM&gt;&lt;GYERMEK_SZAM&gt;1&lt;/GYERMEK_SZAM&gt;&lt;/Foglalas&gt;&lt;Foglalas&gt;&lt;FOGLALAS_PK&gt;1552&lt;/FOGLALAS_PK&gt;&lt;UGYFEL_FK&gt;pal&lt;/UGYFEL_FK&gt;&lt;SZOBA_FK&gt;44&lt;/SZOBA_FK&gt;&lt;METTOL&gt;2017-02-20&lt;/METTOL&gt;&lt;MEDDIG&gt;2017-02-22&lt;/MEDDIG&gt;&lt;FELNOTT_SZAM&gt;3&lt;/FELNOTT_SZAM&gt;&lt;GYERMEK_SZAM&gt;0&lt;/GYERMEK_SZAM&gt;&lt;/Foglalas&gt;&lt;Foglalas&gt;&lt;FOGLALAS_PK&gt;1553&lt;/FOGLALAS_PK&gt;&lt;UGYFEL_FK&gt;anita&lt;/UGYFEL_FK&gt;&lt;SZOBA_FK&gt;43&lt;/SZOBA_FK&gt;&lt;METTOL&gt;2017-02-20&lt;/METTOL&gt;&lt;MEDDIG&gt;2017-02-25&lt;/MEDDIG&gt;&lt;FELNOTT_SZAM&gt;1&lt;/FELNOTT_SZAM&gt;&lt;GYERMEK_SZAM&gt;1&lt;/GYERMEK_SZAM&gt;&lt;/Foglalas&gt;&lt;Foglalas&gt;&lt;FOGLALAS_PK&gt;1554&lt;/FOGLALAS_PK&gt;&lt;UGYFEL_FK&gt;daniel&lt;/UGYFEL_FK&gt;&lt;SZOBA_FK&gt;115&lt;/SZOBA_FK&gt;&lt;METTOL&gt;2017-02-20&lt;/METTOL&gt;&lt;MEDDIG&gt;2017-02-23&lt;/MEDDIG&gt;&lt;FELNOTT_SZAM&gt;1&lt;/FELNOTT_SZAM&gt;&lt;GYERMEK_SZAM&gt;2&lt;/GYERMEK_SZAM&gt;&lt;/Foglalas&gt;&lt;Foglalas&gt;&lt;FOGLALAS_PK&gt;1555&lt;/FOGLALAS_PK&gt;&lt;UGYFEL_FK&gt;bertalan&lt;/UGYFEL_FK&gt;&lt;SZOBA_FK&gt;92&lt;/SZOBA_FK&gt;&lt;METTOL&gt;2017-02-20&lt;/METTOL&gt;&lt;MEDDIG&gt;2017-02-24&lt;/MEDDIG&gt;&lt;FELNOTT_SZAM&gt;3&lt;/FELNOTT_SZAM&gt;&lt;GYERMEK_SZAM&gt;1&lt;/GYERMEK_SZAM&gt;&lt;/Foglalas&gt;&lt;Foglalas&gt;&lt;FOGLALAS_PK&gt;1556&lt;/FOGLALAS_PK&gt;&lt;UGYFEL_FK&gt;gabriella1&lt;/UGYFEL_FK&gt;&lt;SZOBA_FK&gt;38&lt;/SZOBA_FK&gt;&lt;METTOL&gt;2017-02-21&lt;/METTOL&gt;&lt;MEDDIG&gt;2017-02-27&lt;/MEDDIG&gt;&lt;FELNOTT_SZAM&gt;2&lt;/FELNOTT_SZAM&gt;&lt;GYERMEK_SZAM&gt;1&lt;/GYERMEK_SZAM&gt;&lt;/Foglalas&gt;&lt;Foglalas&gt;&lt;FOGLALAS_PK&gt;1557&lt;/FOGLALAS_PK&gt;&lt;UGYFEL_FK&gt;peter3&lt;/UGYFEL_FK&gt;&lt;SZOBA_FK&gt;76&lt;/SZOBA_FK&gt;&lt;METTOL&gt;2017-02-21&lt;/METTOL&gt;&lt;MEDDIG&gt;2017-02-24&lt;/MEDDIG&gt;&lt;FELNOTT_SZAM&gt;2&lt;/FELNOTT_SZAM&gt;&lt;GYERMEK_SZAM&gt;0&lt;/GYERMEK_SZAM&gt;&lt;/Foglalas&gt;&lt;Foglalas&gt;&lt;FOGLALAS_PK&gt;1558&lt;/FOGLALAS_PK&gt;&lt;UGYFEL_FK&gt;ARONK&lt;/UGYFEL_FK&gt;&lt;SZOBA_FK&gt;152&lt;/SZOBA_FK&gt;&lt;METTOL&gt;2017-02-21&lt;/METTOL&gt;&lt;MEDDIG&gt;2017-02-23&lt;/MEDDIG&gt;&lt;FELNOTT_SZAM&gt;2&lt;/FELNOTT_SZAM&gt;&lt;GYERMEK_SZAM&gt;0&lt;/GYERMEK_SZAM&gt;&lt;/Foglalas&gt;&lt;Foglalas&gt;&lt;FOGLALAS_PK&gt;1559&lt;/FOGLALAS_PK&gt;&lt;UGYFEL_FK&gt;ATTILAO&lt;/UGYFEL_FK&gt;&lt;SZOBA_FK&gt;180&lt;/SZOBA_FK&gt;&lt;METTOL&gt;2017-02-22&lt;/METTOL&gt;&lt;MEDDIG&gt;2017-02-25&lt;/MEDDIG&gt;&lt;FELNOTT_SZAM&gt;2&lt;/FELNOTT_SZAM&gt;&lt;GYERMEK_SZAM&gt;1&lt;/GYERMEK_SZAM&gt;&lt;/Foglalas&gt;&lt;Foglalas&gt;&lt;FOGLALAS_PK&gt;1560&lt;/FOGLALAS_PK&gt;&lt;UGYFEL_FK&gt;aniko&lt;/UGYFEL_FK&gt;&lt;SZOBA_FK&gt;109&lt;/SZOBA_FK&gt;&lt;METTOL&gt;2017-02-23&lt;/METTOL&gt;&lt;MEDDIG&gt;2017-02-24&lt;/MEDDIG&gt;&lt;FELNOTT_SZAM&gt;2&lt;/FELNOTT_SZAM&gt;&lt;GYERMEK_SZAM&gt;0&lt;/GYERMEK_SZAM&gt;&lt;/Foglalas&gt;&lt;Foglalas&gt;&lt;FOGLALAS_PK&gt;1561&lt;/FOGLALAS_PK&gt;&lt;UGYFEL_FK&gt;adam4&lt;/UGYFEL_FK&gt;&lt;SZOBA_FK&gt;156&lt;/SZOBA_FK&gt;&lt;METTOL&gt;2017-02-23&lt;/METTOL&gt;&lt;MEDDIG&gt;2017-02-27&lt;/MEDDIG&gt;&lt;FELNOTT_SZAM&gt;1&lt;/FELNOTT_SZAM&gt;&lt;GYERMEK_SZAM&gt;2&lt;/GYERMEK_SZAM&gt;&lt;/Foglalas&gt;&lt;Foglalas&gt;&lt;FOGLALAS_PK&gt;1562&lt;/FOGLALAS_PK&gt;&lt;UGYFEL_FK&gt;MONIKAM&lt;/UGYFEL_FK&gt;&lt;SZOBA_FK&gt;81&lt;/SZOBA_FK&gt;&lt;METTOL&gt;2017-02-23&lt;/METTOL&gt;&lt;MEDDIG&gt;2017-02-26&lt;/MEDDIG&gt;&lt;FELNOTT_SZAM&gt;1&lt;/FELNOTT_SZAM&gt;&lt;GYERMEK_SZAM&gt;1&lt;/GYERMEK_SZAM&gt;&lt;/Foglalas&gt;&lt;Foglalas&gt;&lt;FOGLALAS_PK&gt;1563&lt;/FOGLALAS_PK&gt;&lt;UGYFEL_FK&gt;gusztav&lt;/UGYFEL_FK&gt;&lt;SZOBA_FK&gt;180&lt;/SZOBA_FK&gt;&lt;METTOL&gt;2017-02-23&lt;/METTOL&gt;&lt;MEDDIG&gt;2017-03-01&lt;/MEDDIG&gt;&lt;FELNOTT_SZAM&gt;2&lt;/FELNOTT_SZAM&gt;&lt;GYERMEK_SZAM&gt;2&lt;/GYERMEK_SZAM&gt;&lt;/Foglalas&gt;&lt;Foglalas&gt;&lt;FOGLALAS_PK&gt;1564&lt;/FOGLALAS_PK&gt;&lt;UGYFEL_FK&gt;krisztian4&lt;/UGYFEL_FK&gt;&lt;SZOBA_FK&gt;94&lt;/SZOBA_FK&gt;&lt;METTOL&gt;2017-02-23&lt;/METTOL&gt;&lt;MEDDIG&gt;2017-03-02&lt;/MEDDIG&gt;&lt;FELNOTT_SZAM&gt;1&lt;/FELNOTT_SZAM&gt;&lt;GYERMEK_SZAM&gt;1&lt;/GYERMEK_SZAM&gt;&lt;/Foglalas&gt;&lt;Foglalas&gt;&lt;FOGLALAS_PK&gt;1565&lt;/FOGLALAS_PK&gt;&lt;UGYFEL_FK&gt;peter1&lt;/UGYFEL_FK&gt;&lt;SZOBA_FK&gt;160&lt;/SZOBA_FK&gt;&lt;METTOL&gt;2017-02-23&lt;/METTOL&gt;&lt;MEDDIG&gt;2017-02-26&lt;/MEDDIG&gt;&lt;FELNOTT_SZAM&gt;2&lt;/FELNOTT_SZAM&gt;&lt;GYERMEK_SZAM&gt;1&lt;/GYERMEK_SZAM&gt;&lt;/Foglalas&gt;&lt;Foglalas&gt;&lt;FOGLALAS_PK&gt;1566&lt;/FOGLALAS_PK&gt;&lt;UGYFEL_FK&gt;GYORGYO&lt;/UGYFEL_FK&gt;&lt;SZOBA_FK&gt;115&lt;/SZOBA_FK&gt;&lt;METTOL&gt;2017-02-24&lt;/METTOL&gt;&lt;MEDDIG&gt;2017-02-25&lt;/MEDDIG&gt;&lt;FELNOTT_SZAM&gt;3&lt;/FELNOTT_SZAM&gt;&lt;GYERMEK_SZAM&gt;0&lt;/GYERMEK_SZAM&gt;&lt;/Foglalas&gt;&lt;Foglalas&gt;&lt;FOGLALAS_PK&gt;1567&lt;/FOGLALAS_PK&gt;&lt;UGYFEL_FK&gt;maria1&lt;/UGYFEL_FK&gt;&lt;SZOBA_FK&gt;171&lt;/SZOBA_FK&gt;&lt;METTOL&gt;2017-02-24&lt;/METTOL&gt;&lt;MEDDIG&gt;2017-03-02&lt;/MEDDIG&gt;&lt;FELNOTT_SZAM&gt;2&lt;/FELNOTT_SZAM&gt;&lt;GYERMEK_SZAM&gt;0&lt;/GYERMEK_SZAM&gt;&lt;/Foglalas&gt;&lt;Foglalas&gt;&lt;FOGLALAS_PK&gt;1568&lt;/FOGLALAS_PK&gt;&lt;UGYFEL_FK&gt;bernadett1&lt;/UGYFEL_FK&gt;&lt;SZOBA_FK&gt;29&lt;/SZOBA_FK&gt;&lt;METTOL&gt;2017-02-24&lt;/METTOL&gt;&lt;MEDDIG&gt;2017-03-03&lt;/MEDDIG&gt;&lt;FELNOTT_SZAM&gt;1&lt;/FELNOTT_SZAM&gt;&lt;GYERMEK_SZAM&gt;0&lt;/GYERMEK_SZAM&gt;&lt;/Foglalas&gt;&lt;Foglalas&gt;&lt;FOGLALAS_PK&gt;1569&lt;/FOGLALAS_PK&gt;&lt;UGYFEL_FK&gt;JOZSEFG&lt;/UGYFEL_FK&gt;&lt;SZOBA_FK&gt;96&lt;/SZOBA_FK&gt;&lt;METTOL&gt;2017-02-24&lt;/METTOL&gt;&lt;MEDDIG&gt;2017-03-03&lt;/MEDDIG&gt;&lt;FELNOTT_SZAM&gt;3&lt;/FELNOTT_SZAM&gt;&lt;GYERMEK_SZAM&gt;0&lt;/GYERMEK_SZAM&gt;&lt;/Foglalas&gt;&lt;Foglalas&gt;&lt;FOGLALAS_PK&gt;1570&lt;/FOGLALAS_PK&gt;&lt;UGYFEL_FK&gt;katalin&lt;/UGYFEL_FK&gt;&lt;SZOBA_FK&gt;176&lt;/SZOBA_FK&gt;&lt;METTOL&gt;2017-02-24&lt;/METTOL&gt;&lt;MEDDIG&gt;2017-02-27&lt;/MEDDIG&gt;&lt;FELNOTT_SZAM&gt;1&lt;/FELNOTT_SZAM&gt;&lt;GYERMEK_SZAM&gt;2&lt;/GYERMEK_SZAM&gt;&lt;/Foglalas&gt;&lt;Foglalas&gt;&lt;FOGLALAS_PK&gt;1571&lt;/FOGLALAS_PK&gt;&lt;UGYFEL_FK&gt;dani&lt;/UGYFEL_FK&gt;&lt;SZOBA_FK&gt;161&lt;/SZOBA_FK&gt;&lt;METTOL&gt;2017-02-25&lt;/METTOL&gt;&lt;MEDDIG&gt;2017-03-01&lt;/MEDDIG&gt;&lt;FELNOTT_SZAM&gt;2&lt;/FELNOTT_SZAM&gt;&lt;GYERMEK_SZAM&gt;1&lt;/GYERMEK_SZAM&gt;&lt;/Foglalas&gt;&lt;Foglalas&gt;&lt;FOGLALAS_PK&gt;1572&lt;/FOGLALAS_PK&gt;&lt;UGYFEL_FK&gt;david1&lt;/UGYFEL_FK&gt;&lt;SZOBA_FK&gt;144&lt;/SZOBA_FK&gt;&lt;METTOL&gt;2017-02-25&lt;/METTOL&gt;&lt;MEDDIG&gt;2017-02-27&lt;/MEDDIG&gt;&lt;FELNOTT_SZAM&gt;2&lt;/FELNOTT_SZAM&gt;&lt;GYERMEK_SZAM&gt;2&lt;/GYERMEK_SZAM&gt;&lt;/Foglalas&gt;&lt;Foglalas&gt;&lt;FOGLALAS_PK&gt;1573&lt;/FOGLALAS_PK&gt;&lt;UGYFEL_FK&gt;aron2&lt;/UGYFEL_FK&gt;&lt;SZOBA_FK&gt;59&lt;/SZOBA_FK&gt;&lt;METTOL&gt;2017-02-26&lt;/METTOL&gt;&lt;MEDDIG&gt;2017-02-27&lt;/MEDDIG&gt;&lt;FELNOTT_SZAM&gt;2&lt;/FELNOTT_SZAM&gt;&lt;GYERMEK_SZAM&gt;1&lt;/GYERMEK_SZAM&gt;&lt;/Foglalas&gt;&lt;Foglalas&gt;&lt;FOGLALAS_PK&gt;1574&lt;/FOGLALAS_PK&gt;&lt;UGYFEL_FK&gt;eszter4&lt;/UGYFEL_FK&gt;&lt;SZOBA_FK&gt;128&lt;/SZOBA_FK&gt;&lt;METTOL&gt;2017-02-26&lt;/METTOL&gt;&lt;MEDDIG&gt;2017-02-27&lt;/MEDDIG&gt;&lt;FELNOTT_SZAM&gt;1&lt;/FELNOTT_SZAM&gt;&lt;GYERMEK_SZAM&gt;2&lt;/GYERMEK_SZAM&gt;&lt;/Foglalas&gt;&lt;Foglalas&gt;&lt;FOGLALAS_PK&gt;1575&lt;/FOGLALAS_PK&gt;&lt;UGYFEL_FK&gt;reka4&lt;/UGYFEL_FK&gt;&lt;SZOBA_FK&gt;88&lt;/SZOBA_FK&gt;&lt;METTOL&gt;2017-02-26&lt;/METTOL&gt;&lt;MEDDIG&gt;2017-03-04&lt;/MEDDIG&gt;&lt;FELNOTT_SZAM&gt;1&lt;/FELNOTT_SZAM&gt;&lt;GYERMEK_SZAM&gt;1&lt;/GYERMEK_SZAM&gt;&lt;/Foglalas&gt;&lt;Foglalas&gt;&lt;FOGLALAS_PK&gt;1576&lt;/FOGLALAS_PK&gt;&lt;UGYFEL_FK&gt;norbert&lt;/UGYFEL_FK&gt;&lt;SZOBA_FK&gt;189&lt;/SZOBA_FK&gt;&lt;METTOL&gt;2017-02-26&lt;/METTOL&gt;&lt;MEDDIG&gt;2017-03-01&lt;/MEDDIG&gt;&lt;FELNOTT_SZAM&gt;1&lt;/FELNOTT_SZAM&gt;&lt;GYERMEK_SZAM&gt;0&lt;/GYERMEK_SZAM&gt;&lt;/Foglalas&gt;&lt;Foglalas&gt;&lt;FOGLALAS_PK&gt;1577&lt;/FOGLALAS_PK&gt;&lt;UGYFEL_FK&gt;julia&lt;/UGYFEL_FK&gt;&lt;SZOBA_FK&gt;78&lt;/SZOBA_FK&gt;&lt;METTOL&gt;2017-02-27&lt;/METTOL&gt;&lt;MEDDIG&gt;2017-03-06&lt;/MEDDIG&gt;&lt;FELNOTT_SZAM&gt;2&lt;/FELNOTT_SZAM&gt;&lt;GYERMEK_SZAM&gt;1&lt;/GYERMEK_SZAM&gt;&lt;/Foglalas&gt;&lt;Foglalas&gt;&lt;FOGLALAS_PK&gt;1578&lt;/FOGLALAS_PK&gt;&lt;UGYFEL_FK&gt;balazs2&lt;/UGYFEL_FK&gt;&lt;SZOBA_FK&gt;148&lt;/SZOBA_FK&gt;&lt;METTOL&gt;2017-02-27&lt;/METTOL&gt;&lt;MEDDIG&gt;2017-03-06&lt;/MEDDIG&gt;&lt;FELNOTT_SZAM&gt;1&lt;/FELNOTT_SZAM&gt;&lt;GYERMEK_SZAM&gt;0&lt;/GYERMEK_SZAM&gt;&lt;/Foglalas&gt;&lt;Foglalas&gt;&lt;FOGLALAS_PK&gt;1579&lt;/FOGLALAS_PK&gt;&lt;UGYFEL_FK&gt;peter1&lt;/UGYFEL_FK&gt;&lt;SZOBA_FK&gt;127&lt;/SZOBA_FK&gt;&lt;METTOL&gt;2017-02-28&lt;/METTOL&gt;&lt;MEDDIG&gt;2017-03-05&lt;/MEDDIG&gt;&lt;FELNOTT_SZAM&gt;2&lt;/FELNOTT_SZAM&gt;&lt;GYERMEK_SZAM&gt;1&lt;/GYERMEK_SZAM&gt;&lt;/Foglalas&gt;&lt;Foglalas&gt;&lt;FOGLALAS_PK&gt;1580&lt;/FOGLALAS_PK&gt;&lt;UGYFEL_FK&gt;daniel1&lt;/UGYFEL_FK&gt;&lt;SZOBA_FK&gt;67&lt;/SZOBA_FK&gt;&lt;METTOL&gt;2017-03-01&lt;/METTOL&gt;&lt;MEDDIG&gt;2017-03-06&lt;/MEDDIG&gt;&lt;FELNOTT_SZAM&gt;2&lt;/FELNOTT_SZAM&gt;&lt;GYERMEK_SZAM&gt;2&lt;/GYERMEK_SZAM&gt;&lt;/Foglalas&gt;&lt;Foglalas&gt;&lt;FOGLALAS_PK&gt;1581&lt;/FOGLALAS_PK&gt;&lt;UGYFEL_FK&gt;RENATAK&lt;/UGYFEL_FK&gt;&lt;SZOBA_FK&gt;48&lt;/SZOBA_FK&gt;&lt;METTOL&gt;2017-03-01&lt;/METTOL&gt;&lt;MEDDIG&gt;2017-03-06&lt;/MEDDIG&gt;&lt;FELNOTT_SZAM&gt;1&lt;/FELNOTT_SZAM&gt;&lt;GYERMEK_SZAM&gt;0&lt;/GYERMEK_SZAM&gt;&lt;/Foglalas&gt;&lt;Foglalas&gt;&lt;FOGLALAS_PK&gt;1582&lt;/FOGLALAS_PK&gt;&lt;UGYFEL_FK&gt;marton&lt;/UGYFEL_FK&gt;&lt;SZOBA_FK&gt;64&lt;/SZOBA_FK&gt;&lt;METTOL&gt;2017-03-02&lt;/METTOL&gt;&lt;MEDDIG&gt;2017-03-03&lt;/MEDDIG&gt;&lt;FELNOTT_SZAM&gt;2&lt;/FELNOTT_SZAM&gt;&lt;GYERMEK_SZAM&gt;0&lt;/GYERMEK_SZAM&gt;&lt;/Foglalas&gt;&lt;Foglalas&gt;&lt;FOGLALAS_PK&gt;1583&lt;/FOGLALAS_PK&gt;&lt;UGYFEL_FK&gt;norbert4&lt;/UGYFEL_FK&gt;&lt;SZOBA_FK&gt;128&lt;/SZOBA_FK&gt;&lt;METTOL&gt;2017-03-03&lt;/METTOL&gt;&lt;MEDDIG&gt;2017-03-07&lt;/MEDDIG&gt;&lt;FELNOTT_SZAM&gt;1&lt;/FELNOTT_SZAM&gt;&lt;GYERMEK_SZAM&gt;1&lt;/GYERMEK_SZAM&gt;&lt;/Foglalas&gt;&lt;Foglalas&gt;&lt;FOGLALAS_PK&gt;1584&lt;/FOGLALAS_PK&gt;&lt;UGYFEL_FK&gt;kriszti&lt;/UGYFEL_FK&gt;&lt;SZOBA_FK&gt;67&lt;/SZOBA_FK&gt;&lt;METTOL&gt;2017-03-03&lt;/METTOL&gt;&lt;MEDDIG&gt;2017-03-04&lt;/MEDDIG&gt;&lt;FELNOTT_SZAM&gt;1&lt;/FELNOTT_SZAM&gt;&lt;GYERMEK_SZAM&gt;2&lt;/GYERMEK_SZAM&gt;&lt;/Foglalas&gt;</td></tr>",
                            "</table>"
                        ]
                    }
                }
            ],
            "execution_count": 52
        }
    ]
}