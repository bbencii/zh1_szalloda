{
    "metadata": {
        "kernelspec": {
            "name": "SQL",
            "display_name": "SQL",
            "language": "sql"
        },
        "language_info": {
            "name": "sql",
            "version": ""
        }
    },
    "nbformat_minor": 2,
    "nbformat": 4,
    "cells": [
        {
            "cell_type": "code",
            "source": [
                "select szh.szallas_nev, szh.tipus, szh.csillagok_szama, v.nev as vendeg_neve,\r\n",
                "f.gyermek_szam + f.felnott_szam as vendegek_szama, f.mettol as erkezes_napja, f.meddig as tavozas_napja, \r\n",
                "datediff(day, f.mettol, f.meddig) as mostani_foglalas_hossza, \r\n",
                "lag(datediff(day, f.mettol, f.meddig)) over(order by f.mettol) as elozo_foglalas_hossza\r\n",
                "from Vendeg v \r\n",
                "inner join Foglalas f on f.ugyfel_fk = v.usernev\r\n",
                "inner join Szoba sz on f.szoba_fk = sz.szoba_id\r\n",
                "inner join Szallashely szh on sz.szallas_fk = szh.szallas_id;"
            ],
            "metadata": {
                "azdata_cell_guid": "2567237f-fc5a-4f45-b241-e8adf5bb4b70",
                "language": "sql"
            },
            "outputs": [
                {
                    "output_type": "display_data",
                    "data": {
                        "text/html": "(195 rows affected)"
                    },
                    "metadata": {}
                },
                {
                    "output_type": "display_data",
                    "data": {
                        "text/html": "Total execution time: 00:00:00.076"
                    },
                    "metadata": {}
                },
                {
                    "output_type": "execute_result",
                    "metadata": {},
                    "execution_count": 19,
                    "data": {
                        "application/vnd.dataresource+json": {
                            "schema": {
                                "fields": [
                                    {
                                        "name": "szallas_nev"
                                    },
                                    {
                                        "name": "tipus"
                                    },
                                    {
                                        "name": "csillagok_szama"
                                    },
                                    {
                                        "name": "vendeg_neve"
                                    },
                                    {
                                        "name": "vendegek_szama"
                                    },
                                    {
                                        "name": "erkezes_napja"
                                    },
                                    {
                                        "name": "tavozas_napja"
                                    },
                                    {
                                        "name": "mostani_foglalas_hossza"
                                    },
                                    {
                                        "name": "elozo_foglalas_hossza"
                                    }
                                ]
                            },
                            "data": [
                                {
                                    "szallas_nev": "Jáde panzió",
                                    "tipus": "panzió",
                                    "csillagok_szama": "3",
                                    "vendeg_neve": "Kelemen Áron",
                                    "vendegek_szama": "2",
                                    "erkezes_napja": "2016-04-06",
                                    "tavozas_napja": "2016-04-08",
                                    "mostani_foglalas_hossza": "2",
                                    "elozo_foglalas_hossza": "NULL"
                                },
                                {
                                    "szallas_nev": "Fortuna Panzió",
                                    "tipus": "panzió",
                                    "csillagok_szama": "3",
                                    "vendeg_neve": "Móra László",
                                    "vendegek_szama": "2",
                                    "erkezes_napja": "2016-04-06",
                                    "tavozas_napja": "2016-04-10",
                                    "mostani_foglalas_hossza": "4",
                                    "elozo_foglalas_hossza": "2"
                                },
                                {
                                    "szallas_nev": "Szieszta Apartmanház",
                                    "tipus": "Apartman",
                                    "csillagok_szama": "0",
                                    "vendeg_neve": "Fő Nándor",
                                    "vendegek_szama": "3",
                                    "erkezes_napja": "2016-04-06",
                                    "tavozas_napja": "2016-04-10",
                                    "mostani_foglalas_hossza": "4",
                                    "elozo_foglalas_hossza": "4"
                                },
                                {
                                    "szallas_nev": "Sába-Ház",
                                    "tipus": "vendégház",
                                    "csillagok_szama": "0",
                                    "vendeg_neve": "Berendi Péter",
                                    "vendegek_szama": "1",
                                    "erkezes_napja": "2016-04-06",
                                    "tavozas_napja": "2016-04-10",
                                    "mostani_foglalas_hossza": "4",
                                    "elozo_foglalas_hossza": "4"
                                },
                                {
                                    "szallas_nev": "Sába-Ház",
                                    "tipus": "vendégház",
                                    "csillagok_szama": "0",
                                    "vendeg_neve": "Foltényi Sebastián",
                                    "vendegek_szama": "2",
                                    "erkezes_napja": "2016-04-06",
                                    "tavozas_napja": "2016-04-12",
                                    "mostani_foglalas_hossza": "6",
                                    "elozo_foglalas_hossza": "4"
                                },
                                {
                                    "szallas_nev": "Kentaur Hotel",
                                    "tipus": "Hotel",
                                    "csillagok_szama": "3",
                                    "vendeg_neve": "Rab Sebestyén",
                                    "vendegek_szama": "4",
                                    "erkezes_napja": "2016-04-07",
                                    "tavozas_napja": "2016-04-12",
                                    "mostani_foglalas_hossza": "5",
                                    "elozo_foglalas_hossza": "6"
                                },
                                {
                                    "szallas_nev": "Sába-Ház",
                                    "tipus": "vendégház",
                                    "csillagok_szama": "0",
                                    "vendeg_neve": "Kő Nikoletta",
                                    "vendegek_szama": "2",
                                    "erkezes_napja": "2016-04-08",
                                    "tavozas_napja": "2016-04-10",
                                    "mostani_foglalas_hossza": "2",
                                    "elozo_foglalas_hossza": "5"
                                },
                                {
                                    "szallas_nev": "Lagúna Hotel",
                                    "tipus": "Hotel",
                                    "csillagok_szama": "4",
                                    "vendeg_neve": "Poprádi Kristóf",
                                    "vendegek_szama": "2",
                                    "erkezes_napja": "2016-04-08",
                                    "tavozas_napja": "2016-04-14",
                                    "mostani_foglalas_hossza": "6",
                                    "elozo_foglalas_hossza": "2"
                                },
                                {
                                    "szallas_nev": "Fortuna Apartman",
                                    "tipus": "Apartman",
                                    "csillagok_szama": "0",
                                    "vendeg_neve": "Mogyródi Krisztián",
                                    "vendegek_szama": "2",
                                    "erkezes_napja": "2016-04-09",
                                    "tavozas_napja": "2016-04-15",
                                    "mostani_foglalas_hossza": "6",
                                    "elozo_foglalas_hossza": "6"
                                },
                                {
                                    "szallas_nev": "Kentaur Hotel",
                                    "tipus": "Hotel",
                                    "csillagok_szama": "3",
                                    "vendeg_neve": "Gondos Katalin",
                                    "vendegek_szama": "2",
                                    "erkezes_napja": "2016-04-10",
                                    "tavozas_napja": "2016-04-11",
                                    "mostani_foglalas_hossza": "1",
                                    "elozo_foglalas_hossza": "6"
                                },
                                {
                                    "szallas_nev": "Kentaur Hotel",
                                    "tipus": "Hotel",
                                    "csillagok_szama": "3",
                                    "vendeg_neve": "Horváth Katalin",
                                    "vendegek_szama": "2",
                                    "erkezes_napja": "2016-04-10",
                                    "tavozas_napja": "2016-04-17",
                                    "mostani_foglalas_hossza": "7",
                                    "elozo_foglalas_hossza": "1"
                                },
                                {
                                    "szallas_nev": "Gold Hotel",
                                    "tipus": "Hotel",
                                    "csillagok_szama": "3",
                                    "vendeg_neve": "Kovács Katalin",
                                    "vendegek_szama": "2",
                                    "erkezes_napja": "2016-04-10",
                                    "tavozas_napja": "2016-04-12",
                                    "mostani_foglalas_hossza": "2",
                                    "elozo_foglalas_hossza": "7"
                                },
                                {
                                    "szallas_nev": "Gold Hotel",
                                    "tipus": "Hotel",
                                    "csillagok_szama": "3",
                                    "vendeg_neve": "Horváth Ágnes",
                                    "vendegek_szama": "2",
                                    "erkezes_napja": "2016-04-10",
                                    "tavozas_napja": "2016-04-12",
                                    "mostani_foglalas_hossza": "2",
                                    "elozo_foglalas_hossza": "2"
                                },
                                {
                                    "szallas_nev": "Gold Hotel",
                                    "tipus": "Hotel",
                                    "csillagok_szama": "3",
                                    "vendeg_neve": "Pivarcsi Anett",
                                    "vendegek_szama": "1",
                                    "erkezes_napja": "2016-04-10",
                                    "tavozas_napja": "2016-04-17",
                                    "mostani_foglalas_hossza": "7",
                                    "elozo_foglalas_hossza": "2"
                                },
                                {
                                    "szallas_nev": "Partiszél Vendégház",
                                    "tipus": "vendégház",
                                    "csillagok_szama": "0",
                                    "vendeg_neve": "Orbán Bernadett",
                                    "vendegek_szama": "2",
                                    "erkezes_napja": "2016-04-10",
                                    "tavozas_napja": "2016-04-17",
                                    "mostani_foglalas_hossza": "7",
                                    "elozo_foglalas_hossza": "7"
                                },
                                {
                                    "szallas_nev": "Lagúna Hotel",
                                    "tipus": "Hotel",
                                    "csillagok_szama": "4",
                                    "vendeg_neve": "Rácz Dániel",
                                    "vendegek_szama": "4",
                                    "erkezes_napja": "2016-04-10",
                                    "tavozas_napja": "2016-04-11",
                                    "mostani_foglalas_hossza": "1",
                                    "elozo_foglalas_hossza": "7"
                                },
                                {
                                    "szallas_nev": "Gold Hotel",
                                    "tipus": "Hotel",
                                    "csillagok_szama": "3",
                                    "vendeg_neve": "Keszler Dániel",
                                    "vendegek_szama": "2",
                                    "erkezes_napja": "2016-04-10",
                                    "tavozas_napja": "2016-04-15",
                                    "mostani_foglalas_hossza": "5",
                                    "elozo_foglalas_hossza": "1"
                                },
                                {
                                    "szallas_nev": "Sába-Ház",
                                    "tipus": "vendégház",
                                    "csillagok_szama": "0",
                                    "vendeg_neve": "Mile Norbert",
                                    "vendegek_szama": "2",
                                    "erkezes_napja": "2016-04-10",
                                    "tavozas_napja": "2016-04-13",
                                    "mostani_foglalas_hossza": "3",
                                    "elozo_foglalas_hossza": "5"
                                },
                                {
                                    "szallas_nev": "Hotel Három Hattyú",
                                    "tipus": "Hotel",
                                    "csillagok_szama": "4",
                                    "vendeg_neve": "Jakab Áron",
                                    "vendegek_szama": "3",
                                    "erkezes_napja": "2016-04-11",
                                    "tavozas_napja": "2016-04-12",
                                    "mostani_foglalas_hossza": "1",
                                    "elozo_foglalas_hossza": "3"
                                },
                                {
                                    "szallas_nev": "Lagúna Hotel",
                                    "tipus": "Hotel",
                                    "csillagok_szama": "4",
                                    "vendeg_neve": "Bíró Péter",
                                    "vendegek_szama": "3",
                                    "erkezes_napja": "2016-04-12",
                                    "tavozas_napja": "2016-04-15",
                                    "mostani_foglalas_hossza": "3",
                                    "elozo_foglalas_hossza": "1"
                                },
                                {
                                    "szallas_nev": "Gold Hotel",
                                    "tipus": "Hotel",
                                    "csillagok_szama": "3",
                                    "vendeg_neve": "Pivarcsi Anett",
                                    "vendegek_szama": "3",
                                    "erkezes_napja": "2016-04-13",
                                    "tavozas_napja": "2016-04-19",
                                    "mostani_foglalas_hossza": "6",
                                    "elozo_foglalas_hossza": "3"
                                },
                                {
                                    "szallas_nev": "Jáde panzió",
                                    "tipus": "panzió",
                                    "csillagok_szama": "3",
                                    "vendeg_neve": "Pulai Zsolt",
                                    "vendegek_szama": "2",
                                    "erkezes_napja": "2016-04-14",
                                    "tavozas_napja": "2016-04-17",
                                    "mostani_foglalas_hossza": "3",
                                    "elozo_foglalas_hossza": "6"
                                },
                                {
                                    "szallas_nev": "Lagúna Hotel",
                                    "tipus": "Hotel",
                                    "csillagok_szama": "4",
                                    "vendeg_neve": "Vajda Zsuzsa",
                                    "vendegek_szama": "2",
                                    "erkezes_napja": "2016-04-14",
                                    "tavozas_napja": "2016-04-16",
                                    "mostani_foglalas_hossza": "2",
                                    "elozo_foglalas_hossza": "3"
                                },
                                {
                                    "szallas_nev": "Lagúna Hotel",
                                    "tipus": "Hotel",
                                    "csillagok_szama": "4",
                                    "vendeg_neve": "Pivarcsi Anett",
                                    "vendegek_szama": "3",
                                    "erkezes_napja": "2016-04-15",
                                    "tavozas_napja": "2016-04-19",
                                    "mostani_foglalas_hossza": "4",
                                    "elozo_foglalas_hossza": "2"
                                },
                                {
                                    "szallas_nev": "Lagúna Hotel",
                                    "tipus": "Hotel",
                                    "csillagok_szama": "4",
                                    "vendeg_neve": "Szűcs Balázs",
                                    "vendegek_szama": "2",
                                    "erkezes_napja": "2016-04-16",
                                    "tavozas_napja": "2016-04-19",
                                    "mostani_foglalas_hossza": "3",
                                    "elozo_foglalas_hossza": "4"
                                },
                                {
                                    "szallas_nev": "Kentaur Hotel",
                                    "tipus": "Hotel",
                                    "csillagok_szama": "3",
                                    "vendeg_neve": "Vizi István",
                                    "vendegek_szama": "3",
                                    "erkezes_napja": "2016-04-16",
                                    "tavozas_napja": "2016-04-22",
                                    "mostani_foglalas_hossza": "6",
                                    "elozo_foglalas_hossza": "3"
                                },
                                {
                                    "szallas_nev": "Lagúna Hotel",
                                    "tipus": "Hotel",
                                    "csillagok_szama": "4",
                                    "vendeg_neve": "Orbán Bernadett",
                                    "vendegek_szama": "2",
                                    "erkezes_napja": "2016-04-17",
                                    "tavozas_napja": "2016-04-19",
                                    "mostani_foglalas_hossza": "2",
                                    "elozo_foglalas_hossza": "6"
                                },
                                {
                                    "szallas_nev": "Kentaur Hotel",
                                    "tipus": "Hotel",
                                    "csillagok_szama": "3",
                                    "vendeg_neve": "Palágyi Polla",
                                    "vendegek_szama": "3",
                                    "erkezes_napja": "2016-04-17",
                                    "tavozas_napja": "2016-04-22",
                                    "mostani_foglalas_hossza": "5",
                                    "elozo_foglalas_hossza": "2"
                                },
                                {
                                    "szallas_nev": "Hotel Három Hattyú",
                                    "tipus": "Hotel",
                                    "csillagok_szama": "4",
                                    "vendeg_neve": "Szekendi Beatrix",
                                    "vendegek_szama": "1",
                                    "erkezes_napja": "2016-04-18",
                                    "tavozas_napja": "2016-04-24",
                                    "mostani_foglalas_hossza": "6",
                                    "elozo_foglalas_hossza": "5"
                                },
                                {
                                    "szallas_nev": "Fortuna Panzió",
                                    "tipus": "panzió",
                                    "csillagok_szama": "3",
                                    "vendeg_neve": "Simon Anikó",
                                    "vendegek_szama": "2",
                                    "erkezes_napja": "2016-04-19",
                                    "tavozas_napja": "2016-04-24",
                                    "mostani_foglalas_hossza": "5",
                                    "elozo_foglalas_hossza": "6"
                                },
                                {
                                    "szallas_nev": "Fortuna Panzió",
                                    "tipus": "panzió",
                                    "csillagok_szama": "3",
                                    "vendeg_neve": "Gondos Miklós",
                                    "vendegek_szama": "3",
                                    "erkezes_napja": "2016-04-19",
                                    "tavozas_napja": "2016-04-21",
                                    "mostani_foglalas_hossza": "2",
                                    "elozo_foglalas_hossza": "5"
                                },
                                {
                                    "szallas_nev": "Lagúna Hotel",
                                    "tipus": "Hotel",
                                    "csillagok_szama": "4",
                                    "vendeg_neve": "Kispál Márk",
                                    "vendegek_szama": "4",
                                    "erkezes_napja": "2016-04-19",
                                    "tavozas_napja": "2016-04-26",
                                    "mostani_foglalas_hossza": "7",
                                    "elozo_foglalas_hossza": "2"
                                },
                                {
                                    "szallas_nev": "Hotel Három Hattyú",
                                    "tipus": "Hotel",
                                    "csillagok_szama": "4",
                                    "vendeg_neve": "Hegedűs Norbert",
                                    "vendegek_szama": "1",
                                    "erkezes_napja": "2016-04-19",
                                    "tavozas_napja": "2016-04-26",
                                    "mostani_foglalas_hossza": "7",
                                    "elozo_foglalas_hossza": "7"
                                },
                                {
                                    "szallas_nev": "Lagúna Hotel",
                                    "tipus": "Hotel",
                                    "csillagok_szama": "4",
                                    "vendeg_neve": "Bagi Beáta",
                                    "vendegek_szama": "2",
                                    "erkezes_napja": "2016-04-20",
                                    "tavozas_napja": "2016-04-21",
                                    "mostani_foglalas_hossza": "1",
                                    "elozo_foglalas_hossza": "7"
                                },
                                {
                                    "szallas_nev": "Gold Hotel",
                                    "tipus": "Hotel",
                                    "csillagok_szama": "3",
                                    "vendeg_neve": "Tóth Júlia",
                                    "vendegek_szama": "2",
                                    "erkezes_napja": "2016-04-21",
                                    "tavozas_napja": "2016-04-26",
                                    "mostani_foglalas_hossza": "5",
                                    "elozo_foglalas_hossza": "1"
                                },
                                {
                                    "szallas_nev": "Kentaur Hotel",
                                    "tipus": "Hotel",
                                    "csillagok_szama": "3",
                                    "vendeg_neve": "Nagy Gabriella",
                                    "vendegek_szama": "3",
                                    "erkezes_napja": "2016-04-21",
                                    "tavozas_napja": "2016-04-24",
                                    "mostani_foglalas_hossza": "3",
                                    "elozo_foglalas_hossza": "5"
                                },
                                {
                                    "szallas_nev": "Kentaur Hotel",
                                    "tipus": "Hotel",
                                    "csillagok_szama": "3",
                                    "vendeg_neve": "Horváth Bálint",
                                    "vendegek_szama": "2",
                                    "erkezes_napja": "2016-04-22",
                                    "tavozas_napja": "2016-04-29",
                                    "mostani_foglalas_hossza": "7",
                                    "elozo_foglalas_hossza": "3"
                                },
                                {
                                    "szallas_nev": "Lagúna Hotel",
                                    "tipus": "Hotel",
                                    "csillagok_szama": "4",
                                    "vendeg_neve": "Rácz Dániel",
                                    "vendegek_szama": "2",
                                    "erkezes_napja": "2016-04-22",
                                    "tavozas_napja": "2016-04-25",
                                    "mostani_foglalas_hossza": "3",
                                    "elozo_foglalas_hossza": "7"
                                },
                                {
                                    "szallas_nev": "Hotel Három Hattyú",
                                    "tipus": "Hotel",
                                    "csillagok_szama": "4",
                                    "vendeg_neve": "Gyárfás Krisztina",
                                    "vendegek_szama": "2",
                                    "erkezes_napja": "2016-04-23",
                                    "tavozas_napja": "2016-04-24",
                                    "mostani_foglalas_hossza": "1",
                                    "elozo_foglalas_hossza": "3"
                                },
                                {
                                    "szallas_nev": "Hotel Három Hattyú",
                                    "tipus": "Hotel",
                                    "csillagok_szama": "4",
                                    "vendeg_neve": "Szalai Szilárd",
                                    "vendegek_szama": "3",
                                    "erkezes_napja": "2016-04-23",
                                    "tavozas_napja": "2016-04-30",
                                    "mostani_foglalas_hossza": "7",
                                    "elozo_foglalas_hossza": "1"
                                },
                                {
                                    "szallas_nev": "Fortuna panzió",
                                    "tipus": "panzió",
                                    "csillagok_szama": "3",
                                    "vendeg_neve": "Józsa Zsolt",
                                    "vendegek_szama": "4",
                                    "erkezes_napja": "2016-04-24",
                                    "tavozas_napja": "2016-04-26",
                                    "mostani_foglalas_hossza": "2",
                                    "elozo_foglalas_hossza": "7"
                                },
                                {
                                    "szallas_nev": "Partiszél Vendégház",
                                    "tipus": "vendégház",
                                    "csillagok_szama": "0",
                                    "vendeg_neve": "Vizi István",
                                    "vendegek_szama": "3",
                                    "erkezes_napja": "2016-04-24",
                                    "tavozas_napja": "2016-04-28",
                                    "mostani_foglalas_hossza": "4",
                                    "elozo_foglalas_hossza": "2"
                                },
                                {
                                    "szallas_nev": "Gold Hotel",
                                    "tipus": "Hotel",
                                    "csillagok_szama": "3",
                                    "vendeg_neve": "Erdei András",
                                    "vendegek_szama": "1",
                                    "erkezes_napja": "2016-04-24",
                                    "tavozas_napja": "2016-05-01",
                                    "mostani_foglalas_hossza": "7",
                                    "elozo_foglalas_hossza": "4"
                                },
                                {
                                    "szallas_nev": "Fortuna panzió",
                                    "tipus": "panzió",
                                    "csillagok_szama": "3",
                                    "vendeg_neve": "Gondos Katalin",
                                    "vendegek_szama": "1",
                                    "erkezes_napja": "2016-04-25",
                                    "tavozas_napja": "2016-05-01",
                                    "mostani_foglalas_hossza": "6",
                                    "elozo_foglalas_hossza": "7"
                                },
                                {
                                    "szallas_nev": "Fortuna Panzió",
                                    "tipus": "panzió",
                                    "csillagok_szama": "3",
                                    "vendeg_neve": "Telek Gábor",
                                    "vendegek_szama": "3",
                                    "erkezes_napja": "2016-04-26",
                                    "tavozas_napja": "2016-04-29",
                                    "mostani_foglalas_hossza": "3",
                                    "elozo_foglalas_hossza": "6"
                                },
                                {
                                    "szallas_nev": "Fortuna Apartman",
                                    "tipus": "Apartman",
                                    "csillagok_szama": "0",
                                    "vendeg_neve": "Rab Sebestyén",
                                    "vendegek_szama": "4",
                                    "erkezes_napja": "2016-04-26",
                                    "tavozas_napja": "2016-05-02",
                                    "mostani_foglalas_hossza": "6",
                                    "elozo_foglalas_hossza": "3"
                                },
                                {
                                    "szallas_nev": "Fortuna panzió",
                                    "tipus": "panzió",
                                    "csillagok_szama": "3",
                                    "vendeg_neve": "Móra László",
                                    "vendegek_szama": "2",
                                    "erkezes_napja": "2016-04-27",
                                    "tavozas_napja": "2016-04-29",
                                    "mostani_foglalas_hossza": "2",
                                    "elozo_foglalas_hossza": "6"
                                },
                                {
                                    "szallas_nev": "Hotel Három Hattyú",
                                    "tipus": "Hotel",
                                    "csillagok_szama": "4",
                                    "vendeg_neve": "Kalacsi Márton",
                                    "vendegek_szama": "3",
                                    "erkezes_napja": "2016-04-27",
                                    "tavozas_napja": "2016-05-04",
                                    "mostani_foglalas_hossza": "7",
                                    "elozo_foglalas_hossza": "2"
                                },
                                {
                                    "szallas_nev": "Fortuna panzió",
                                    "tipus": "panzió",
                                    "csillagok_szama": "3",
                                    "vendeg_neve": "Horváth Ágnes",
                                    "vendegek_szama": "4",
                                    "erkezes_napja": "2016-04-27",
                                    "tavozas_napja": "2016-04-28",
                                    "mostani_foglalas_hossza": "1",
                                    "elozo_foglalas_hossza": "7"
                                },
                                {
                                    "szallas_nev": "Hotel Három Hattyú",
                                    "tipus": "Hotel",
                                    "csillagok_szama": "4",
                                    "vendeg_neve": "Pivarcsi Anett",
                                    "vendegek_szama": "3",
                                    "erkezes_napja": "2016-04-28",
                                    "tavozas_napja": "2016-05-02",
                                    "mostani_foglalas_hossza": "4",
                                    "elozo_foglalas_hossza": "1"
                                },
                                {
                                    "szallas_nev": "Gold Hotel",
                                    "tipus": "Hotel",
                                    "csillagok_szama": "3",
                                    "vendeg_neve": "Bori Krisztina",
                                    "vendegek_szama": "2",
                                    "erkezes_napja": "2016-04-28",
                                    "tavozas_napja": "2016-04-30",
                                    "mostani_foglalas_hossza": "2",
                                    "elozo_foglalas_hossza": "4"
                                },
                                {
                                    "szallas_nev": "Sába-Ház",
                                    "tipus": "vendégház",
                                    "csillagok_szama": "0",
                                    "vendeg_neve": "Mohos Mónika",
                                    "vendegek_szama": "2",
                                    "erkezes_napja": "2016-04-29",
                                    "tavozas_napja": "2016-05-01",
                                    "mostani_foglalas_hossza": "2",
                                    "elozo_foglalas_hossza": "2"
                                },
                                {
                                    "szallas_nev": "Hotel Három Hattyú",
                                    "tipus": "Hotel",
                                    "csillagok_szama": "4",
                                    "vendeg_neve": "Urbán Viktoria",
                                    "vendegek_szama": "1",
                                    "erkezes_napja": "2016-04-30",
                                    "tavozas_napja": "2016-05-03",
                                    "mostani_foglalas_hossza": "3",
                                    "elozo_foglalas_hossza": "2"
                                },
                                {
                                    "szallas_nev": "Gold Hotel",
                                    "tipus": "Hotel",
                                    "csillagok_szama": "3",
                                    "vendeg_neve": "Tóth Zoltán",
                                    "vendegek_szama": "3",
                                    "erkezes_napja": "2016-05-01",
                                    "tavozas_napja": "2016-05-04",
                                    "mostani_foglalas_hossza": "3",
                                    "elozo_foglalas_hossza": "3"
                                },
                                {
                                    "szallas_nev": "Hotel Három Hattyú",
                                    "tipus": "Hotel",
                                    "csillagok_szama": "4",
                                    "vendeg_neve": "Viktor Éva",
                                    "vendegek_szama": "3",
                                    "erkezes_napja": "2016-05-01",
                                    "tavozas_napja": "2016-05-05",
                                    "mostani_foglalas_hossza": "4",
                                    "elozo_foglalas_hossza": "3"
                                },
                                {
                                    "szallas_nev": "Fortuna panzió",
                                    "tipus": "panzió",
                                    "csillagok_szama": "3",
                                    "vendeg_neve": "Vígh András",
                                    "vendegek_szama": "2",
                                    "erkezes_napja": "2016-05-01",
                                    "tavozas_napja": "2016-05-06",
                                    "mostani_foglalas_hossza": "5",
                                    "elozo_foglalas_hossza": "4"
                                },
                                {
                                    "szallas_nev": "Jáde panzió",
                                    "tipus": "panzió",
                                    "csillagok_szama": "3",
                                    "vendeg_neve": "Nagymihály Csongor",
                                    "vendegek_szama": "2",
                                    "erkezes_napja": "2016-05-01",
                                    "tavozas_napja": "2016-05-04",
                                    "mostani_foglalas_hossza": "3",
                                    "elozo_foglalas_hossza": "5"
                                },
                                {
                                    "szallas_nev": "Hotel Három Hattyú",
                                    "tipus": "Hotel",
                                    "csillagok_szama": "4",
                                    "vendeg_neve": "Kovács Bernadett",
                                    "vendegek_szama": "2",
                                    "erkezes_napja": "2016-05-01",
                                    "tavozas_napja": "2016-05-03",
                                    "mostani_foglalas_hossza": "2",
                                    "elozo_foglalas_hossza": "3"
                                },
                                {
                                    "szallas_nev": "Hotel Három Hattyú",
                                    "tipus": "Hotel",
                                    "csillagok_szama": "4",
                                    "vendeg_neve": "Gyuris József",
                                    "vendegek_szama": "2",
                                    "erkezes_napja": "2016-05-02",
                                    "tavozas_napja": "2016-05-06",
                                    "mostani_foglalas_hossza": "4",
                                    "elozo_foglalas_hossza": "2"
                                },
                                {
                                    "szallas_nev": "Hotel Három Hattyú",
                                    "tipus": "Hotel",
                                    "csillagok_szama": "4",
                                    "vendeg_neve": "Boros Vivien",
                                    "vendegek_szama": "3",
                                    "erkezes_napja": "2016-05-02",
                                    "tavozas_napja": "2016-05-05",
                                    "mostani_foglalas_hossza": "3",
                                    "elozo_foglalas_hossza": "4"
                                },
                                {
                                    "szallas_nev": "Hotel Három Hattyú",
                                    "tipus": "Hotel",
                                    "csillagok_szama": "4",
                                    "vendeg_neve": "Fényes Tamás",
                                    "vendegek_szama": "2",
                                    "erkezes_napja": "2016-05-03",
                                    "tavozas_napja": "2016-05-04",
                                    "mostani_foglalas_hossza": "1",
                                    "elozo_foglalas_hossza": "3"
                                },
                                {
                                    "szallas_nev": "Jáde panzió",
                                    "tipus": "panzió",
                                    "csillagok_szama": "3",
                                    "vendeg_neve": "Szirmai Renáta",
                                    "vendegek_szama": "2",
                                    "erkezes_napja": "2016-05-04",
                                    "tavozas_napja": "2016-05-11",
                                    "mostani_foglalas_hossza": "7",
                                    "elozo_foglalas_hossza": "1"
                                },
                                {
                                    "szallas_nev": "Sába-Ház",
                                    "tipus": "vendégház",
                                    "csillagok_szama": "0",
                                    "vendeg_neve": "Kalacsi Márton",
                                    "vendegek_szama": "1",
                                    "erkezes_napja": "2016-05-05",
                                    "tavozas_napja": "2016-05-10",
                                    "mostani_foglalas_hossza": "5",
                                    "elozo_foglalas_hossza": "7"
                                },
                                {
                                    "szallas_nev": "Hotel Három Hattyú",
                                    "tipus": "Hotel",
                                    "csillagok_szama": "4",
                                    "vendeg_neve": "Bárci Gusztáv",
                                    "vendegek_szama": "2",
                                    "erkezes_napja": "2016-05-06",
                                    "tavozas_napja": "2016-05-13",
                                    "mostani_foglalas_hossza": "7",
                                    "elozo_foglalas_hossza": "5"
                                },
                                {
                                    "szallas_nev": "Kentaur Hotel",
                                    "tipus": "Hotel",
                                    "csillagok_szama": "3",
                                    "vendeg_neve": "Bozsik Balázs",
                                    "vendegek_szama": "2",
                                    "erkezes_napja": "2016-05-07",
                                    "tavozas_napja": "2016-05-14",
                                    "mostani_foglalas_hossza": "7",
                                    "elozo_foglalas_hossza": "7"
                                },
                                {
                                    "szallas_nev": "Fortuna panzió",
                                    "tipus": "panzió",
                                    "csillagok_szama": "3",
                                    "vendeg_neve": "Maródi Andrea",
                                    "vendegek_szama": "4",
                                    "erkezes_napja": "2016-05-08",
                                    "tavozas_napja": "2016-05-14",
                                    "mostani_foglalas_hossza": "6",
                                    "elozo_foglalas_hossza": "7"
                                },
                                {
                                    "szallas_nev": "Fortuna Apartman",
                                    "tipus": "Apartman",
                                    "csillagok_szama": "0",
                                    "vendeg_neve": "Győrffy Bence",
                                    "vendegek_szama": "2",
                                    "erkezes_napja": "2016-05-08",
                                    "tavozas_napja": "2016-05-11",
                                    "mostani_foglalas_hossza": "3",
                                    "elozo_foglalas_hossza": "6"
                                },
                                {
                                    "szallas_nev": "Hotel Három Hattyú",
                                    "tipus": "Hotel",
                                    "csillagok_szama": "4",
                                    "vendeg_neve": "Nagymihály Csongor",
                                    "vendegek_szama": "3",
                                    "erkezes_napja": "2016-05-08",
                                    "tavozas_napja": "2016-05-15",
                                    "mostani_foglalas_hossza": "7",
                                    "elozo_foglalas_hossza": "3"
                                },
                                {
                                    "szallas_nev": "Kentaur Hotel",
                                    "tipus": "Hotel",
                                    "csillagok_szama": "3",
                                    "vendeg_neve": "Orosz Ferenc",
                                    "vendegek_szama": "2",
                                    "erkezes_napja": "2016-05-08",
                                    "tavozas_napja": "2016-05-11",
                                    "mostani_foglalas_hossza": "3",
                                    "elozo_foglalas_hossza": "7"
                                },
                                {
                                    "szallas_nev": "Fortuna panzió",
                                    "tipus": "panzió",
                                    "csillagok_szama": "3",
                                    "vendeg_neve": "Lukács Kornél",
                                    "vendegek_szama": "3",
                                    "erkezes_napja": "2016-05-08",
                                    "tavozas_napja": "2016-05-14",
                                    "mostani_foglalas_hossza": "6",
                                    "elozo_foglalas_hossza": "3"
                                },
                                {
                                    "szallas_nev": "Gold Hotel",
                                    "tipus": "Hotel",
                                    "csillagok_szama": "3",
                                    "vendeg_neve": "Kovács Katalin",
                                    "vendegek_szama": "3",
                                    "erkezes_napja": "2016-05-09",
                                    "tavozas_napja": "2016-05-15",
                                    "mostani_foglalas_hossza": "6",
                                    "elozo_foglalas_hossza": "6"
                                },
                                {
                                    "szallas_nev": "Hotel Három Hattyú",
                                    "tipus": "Hotel",
                                    "csillagok_szama": "4",
                                    "vendeg_neve": "Giliga János",
                                    "vendegek_szama": "1",
                                    "erkezes_napja": "2016-05-09",
                                    "tavozas_napja": "2016-05-15",
                                    "mostani_foglalas_hossza": "6",
                                    "elozo_foglalas_hossza": "6"
                                },
                                {
                                    "szallas_nev": "Sába-Ház",
                                    "tipus": "vendégház",
                                    "csillagok_szama": "0",
                                    "vendeg_neve": "Rácz Dániel",
                                    "vendegek_szama": "3",
                                    "erkezes_napja": "2016-05-09",
                                    "tavozas_napja": "2016-05-13",
                                    "mostani_foglalas_hossza": "4",
                                    "elozo_foglalas_hossza": "6"
                                },
                                {
                                    "szallas_nev": "Fortuna Panzió",
                                    "tipus": "panzió",
                                    "csillagok_szama": "3",
                                    "vendeg_neve": "Lengyel Ágnes",
                                    "vendegek_szama": "3",
                                    "erkezes_napja": "2016-05-09",
                                    "tavozas_napja": "2016-05-11",
                                    "mostani_foglalas_hossza": "2",
                                    "elozo_foglalas_hossza": "4"
                                },
                                {
                                    "szallas_nev": "Hotel Három Hattyú",
                                    "tipus": "Hotel",
                                    "csillagok_szama": "4",
                                    "vendeg_neve": "Hegedűs Norbert",
                                    "vendegek_szama": "2",
                                    "erkezes_napja": "2016-05-09",
                                    "tavozas_napja": "2016-05-10",
                                    "mostani_foglalas_hossza": "1",
                                    "elozo_foglalas_hossza": "2"
                                },
                                {
                                    "szallas_nev": "Gold Hotel",
                                    "tipus": "Hotel",
                                    "csillagok_szama": "3",
                                    "vendeg_neve": "Kő Nikoletta",
                                    "vendegek_szama": "2",
                                    "erkezes_napja": "2016-05-09",
                                    "tavozas_napja": "2016-05-15",
                                    "mostani_foglalas_hossza": "6",
                                    "elozo_foglalas_hossza": "1"
                                },
                                {
                                    "szallas_nev": "Partiszél Vendégház",
                                    "tipus": "vendégház",
                                    "csillagok_szama": "0",
                                    "vendeg_neve": "Józsa Zsolt",
                                    "vendegek_szama": "2",
                                    "erkezes_napja": "2016-05-09",
                                    "tavozas_napja": "2016-05-11",
                                    "mostani_foglalas_hossza": "2",
                                    "elozo_foglalas_hossza": "6"
                                },
                                {
                                    "szallas_nev": "Hotel Három Hattyú",
                                    "tipus": "Hotel",
                                    "csillagok_szama": "4",
                                    "vendeg_neve": "Keszler Dániel",
                                    "vendegek_szama": "4",
                                    "erkezes_napja": "2016-05-10",
                                    "tavozas_napja": "2016-05-13",
                                    "mostani_foglalas_hossza": "3",
                                    "elozo_foglalas_hossza": "2"
                                },
                                {
                                    "szallas_nev": "Hotel Három Hattyú",
                                    "tipus": "Hotel",
                                    "csillagok_szama": "4",
                                    "vendeg_neve": "Szilágyi Mátyás",
                                    "vendegek_szama": "2",
                                    "erkezes_napja": "2016-05-10",
                                    "tavozas_napja": "2016-05-16",
                                    "mostani_foglalas_hossza": "6",
                                    "elozo_foglalas_hossza": "3"
                                },
                                {
                                    "szallas_nev": "Hotel Három Hattyú",
                                    "tipus": "Hotel",
                                    "csillagok_szama": "4",
                                    "vendeg_neve": "Szirmai Renáta",
                                    "vendegek_szama": "2",
                                    "erkezes_napja": "2016-05-11",
                                    "tavozas_napja": "2016-05-16",
                                    "mostani_foglalas_hossza": "5",
                                    "elozo_foglalas_hossza": "6"
                                },
                                {
                                    "szallas_nev": "Gold Hotel",
                                    "tipus": "Hotel",
                                    "csillagok_szama": "3",
                                    "vendeg_neve": "Farkas Sándor",
                                    "vendegek_szama": "2",
                                    "erkezes_napja": "2016-05-12",
                                    "tavozas_napja": "2016-05-15",
                                    "mostani_foglalas_hossza": "3",
                                    "elozo_foglalas_hossza": "5"
                                },
                                {
                                    "szallas_nev": "Partiszél Vendégház",
                                    "tipus": "vendégház",
                                    "csillagok_szama": "0",
                                    "vendeg_neve": "Barna Zoltán",
                                    "vendegek_szama": "3",
                                    "erkezes_napja": "2016-05-12",
                                    "tavozas_napja": "2016-05-16",
                                    "mostani_foglalas_hossza": "4",
                                    "elozo_foglalas_hossza": "3"
                                },
                                {
                                    "szallas_nev": "Kentaur Hotel",
                                    "tipus": "Hotel",
                                    "csillagok_szama": "3",
                                    "vendeg_neve": "Tóth Júlia",
                                    "vendegek_szama": "1",
                                    "erkezes_napja": "2016-05-12",
                                    "tavozas_napja": "2016-05-17",
                                    "mostani_foglalas_hossza": "5",
                                    "elozo_foglalas_hossza": "4"
                                },
                                {
                                    "szallas_nev": "Kentaur Hotel",
                                    "tipus": "Hotel",
                                    "csillagok_szama": "3",
                                    "vendeg_neve": "Baráth Mária",
                                    "vendegek_szama": "2",
                                    "erkezes_napja": "2016-05-13",
                                    "tavozas_napja": "2016-05-18",
                                    "mostani_foglalas_hossza": "5",
                                    "elozo_foglalas_hossza": "5"
                                },
                                {
                                    "szallas_nev": "Lagúna Hotel",
                                    "tipus": "Hotel",
                                    "csillagok_szama": "4",
                                    "vendeg_neve": "Barna Zoltán",
                                    "vendegek_szama": "3",
                                    "erkezes_napja": "2016-05-13",
                                    "tavozas_napja": "2016-05-16",
                                    "mostani_foglalas_hossza": "3",
                                    "elozo_foglalas_hossza": "5"
                                },
                                {
                                    "szallas_nev": "Gold Hotel",
                                    "tipus": "Hotel",
                                    "csillagok_szama": "3",
                                    "vendeg_neve": "Tari Szilvia",
                                    "vendegek_szama": "2",
                                    "erkezes_napja": "2016-05-14",
                                    "tavozas_napja": "2016-05-21",
                                    "mostani_foglalas_hossza": "7",
                                    "elozo_foglalas_hossza": "3"
                                },
                                {
                                    "szallas_nev": "Kentaur Hotel",
                                    "tipus": "Hotel",
                                    "csillagok_szama": "3",
                                    "vendeg_neve": "Bajusz Bence",
                                    "vendegek_szama": "3",
                                    "erkezes_napja": "2016-05-14",
                                    "tavozas_napja": "2016-05-17",
                                    "mostani_foglalas_hossza": "3",
                                    "elozo_foglalas_hossza": "7"
                                },
                                {
                                    "szallas_nev": "Hotel Három Hattyú",
                                    "tipus": "Hotel",
                                    "csillagok_szama": "4",
                                    "vendeg_neve": "Komjáti András",
                                    "vendegek_szama": "2",
                                    "erkezes_napja": "2016-05-14",
                                    "tavozas_napja": "2016-05-16",
                                    "mostani_foglalas_hossza": "2",
                                    "elozo_foglalas_hossza": "3"
                                },
                                {
                                    "szallas_nev": "Kentaur Hotel",
                                    "tipus": "Hotel",
                                    "csillagok_szama": "3",
                                    "vendeg_neve": "Kelemen Áron",
                                    "vendegek_szama": "4",
                                    "erkezes_napja": "2016-05-14",
                                    "tavozas_napja": "2016-05-20",
                                    "mostani_foglalas_hossza": "6",
                                    "elozo_foglalas_hossza": "2"
                                },
                                {
                                    "szallas_nev": "Szieszta Apartmanház",
                                    "tipus": "Apartman",
                                    "csillagok_szama": "0",
                                    "vendeg_neve": "Patay Róbert",
                                    "vendegek_szama": "2",
                                    "erkezes_napja": "2016-05-15",
                                    "tavozas_napja": "2016-05-18",
                                    "mostani_foglalas_hossza": "3",
                                    "elozo_foglalas_hossza": "6"
                                },
                                {
                                    "szallas_nev": "Lagúna Hotel",
                                    "tipus": "Hotel",
                                    "csillagok_szama": "4",
                                    "vendeg_neve": "Bori Krisztina",
                                    "vendegek_szama": "1",
                                    "erkezes_napja": "2016-05-16",
                                    "tavozas_napja": "2016-05-20",
                                    "mostani_foglalas_hossza": "4",
                                    "elozo_foglalas_hossza": "3"
                                },
                                {
                                    "szallas_nev": "Lagúna Hotel",
                                    "tipus": "Hotel",
                                    "csillagok_szama": "4",
                                    "vendeg_neve": "Antal Tamás",
                                    "vendegek_szama": "2",
                                    "erkezes_napja": "2016-05-17",
                                    "tavozas_napja": "2016-05-22",
                                    "mostani_foglalas_hossza": "5",
                                    "elozo_foglalas_hossza": "4"
                                },
                                {
                                    "szallas_nev": "Kentaur Hotel",
                                    "tipus": "Hotel",
                                    "csillagok_szama": "3",
                                    "vendeg_neve": "Barta Zsuzsanna",
                                    "vendegek_szama": "2",
                                    "erkezes_napja": "2016-05-17",
                                    "tavozas_napja": "2016-05-23",
                                    "mostani_foglalas_hossza": "6",
                                    "elozo_foglalas_hossza": "5"
                                },
                                {
                                    "szallas_nev": "Gold Hotel",
                                    "tipus": "Hotel",
                                    "csillagok_szama": "3",
                                    "vendeg_neve": "Kuruc Emese",
                                    "vendegek_szama": "2",
                                    "erkezes_napja": "2017-01-30",
                                    "tavozas_napja": "2017-01-31",
                                    "mostani_foglalas_hossza": "1",
                                    "elozo_foglalas_hossza": "6"
                                },
                                {
                                    "szallas_nev": "Hotel Három Hattyú",
                                    "tipus": "Hotel",
                                    "csillagok_szama": "4",
                                    "vendeg_neve": "Kelemen Áron",
                                    "vendegek_szama": "2",
                                    "erkezes_napja": "2017-01-30",
                                    "tavozas_napja": "2017-02-03",
                                    "mostani_foglalas_hossza": "4",
                                    "elozo_foglalas_hossza": "1"
                                },
                                {
                                    "szallas_nev": "Hotel Három Hattyú",
                                    "tipus": "Hotel",
                                    "csillagok_szama": "4",
                                    "vendeg_neve": "Szűcs Annamária",
                                    "vendegek_szama": "4",
                                    "erkezes_napja": "2017-01-30",
                                    "tavozas_napja": "2017-01-31",
                                    "mostani_foglalas_hossza": "1",
                                    "elozo_foglalas_hossza": "4"
                                },
                                {
                                    "szallas_nev": "Hotel Három Hattyú",
                                    "tipus": "Hotel",
                                    "csillagok_szama": "4",
                                    "vendeg_neve": "Giliga János",
                                    "vendegek_szama": "2",
                                    "erkezes_napja": "2017-01-31",
                                    "tavozas_napja": "2017-02-05",
                                    "mostani_foglalas_hossza": "5",
                                    "elozo_foglalas_hossza": "1"
                                },
                                {
                                    "szallas_nev": "Partiszél Vendégház",
                                    "tipus": "vendégház",
                                    "csillagok_szama": "0",
                                    "vendeg_neve": "Papp Imre",
                                    "vendegek_szama": "2",
                                    "erkezes_napja": "2017-02-01",
                                    "tavozas_napja": "2017-02-04",
                                    "mostani_foglalas_hossza": "3",
                                    "elozo_foglalas_hossza": "5"
                                },
                                {
                                    "szallas_nev": "Hotel Három Hattyú",
                                    "tipus": "Hotel",
                                    "csillagok_szama": "4",
                                    "vendeg_neve": "Kő Nikoletta",
                                    "vendegek_szama": "2",
                                    "erkezes_napja": "2017-02-01",
                                    "tavozas_napja": "2017-02-04",
                                    "mostani_foglalas_hossza": "3",
                                    "elozo_foglalas_hossza": "3"
                                },
                                {
                                    "szallas_nev": "Hotel Három Hattyú",
                                    "tipus": "Hotel",
                                    "csillagok_szama": "4",
                                    "vendeg_neve": "Vígh András",
                                    "vendegek_szama": "2",
                                    "erkezes_napja": "2017-02-02",
                                    "tavozas_napja": "2017-02-08",
                                    "mostani_foglalas_hossza": "6",
                                    "elozo_foglalas_hossza": "3"
                                },
                                {
                                    "szallas_nev": "Lagúna Hotel",
                                    "tipus": "Hotel",
                                    "csillagok_szama": "4",
                                    "vendeg_neve": "Szekendi Beatrix",
                                    "vendegek_szama": "2",
                                    "erkezes_napja": "2017-02-03",
                                    "tavozas_napja": "2017-02-04",
                                    "mostani_foglalas_hossza": "1",
                                    "elozo_foglalas_hossza": "6"
                                },
                                {
                                    "szallas_nev": "Sába-Ház",
                                    "tipus": "vendégház",
                                    "csillagok_szama": "0",
                                    "vendeg_neve": "Bárci Gusztáv",
                                    "vendegek_szama": "2",
                                    "erkezes_napja": "2017-02-03",
                                    "tavozas_napja": "2017-02-09",
                                    "mostani_foglalas_hossza": "6",
                                    "elozo_foglalas_hossza": "1"
                                },
                                {
                                    "szallas_nev": "Gold Hotel",
                                    "tipus": "Hotel",
                                    "csillagok_szama": "3",
                                    "vendeg_neve": "Tankó Veronika",
                                    "vendegek_szama": "2",
                                    "erkezes_napja": "2017-02-03",
                                    "tavozas_napja": "2017-02-05",
                                    "mostani_foglalas_hossza": "2",
                                    "elozo_foglalas_hossza": "6"
                                },
                                {
                                    "szallas_nev": "Gold Hotel",
                                    "tipus": "Hotel",
                                    "csillagok_szama": "3",
                                    "vendeg_neve": "Miklós Szabolcs",
                                    "vendegek_szama": "3",
                                    "erkezes_napja": "2017-02-04",
                                    "tavozas_napja": "2017-02-05",
                                    "mostani_foglalas_hossza": "1",
                                    "elozo_foglalas_hossza": "2"
                                },
                                {
                                    "szallas_nev": "Kentaur Hotel",
                                    "tipus": "Hotel",
                                    "csillagok_szama": "3",
                                    "vendeg_neve": "Nagy Gabriella",
                                    "vendegek_szama": "3",
                                    "erkezes_napja": "2017-02-04",
                                    "tavozas_napja": "2017-02-11",
                                    "mostani_foglalas_hossza": "7",
                                    "elozo_foglalas_hossza": "1"
                                },
                                {
                                    "szallas_nev": "Hotel Három Hattyú",
                                    "tipus": "Hotel",
                                    "csillagok_szama": "4",
                                    "vendeg_neve": "Barna Debóra",
                                    "vendegek_szama": "3",
                                    "erkezes_napja": "2017-02-04",
                                    "tavozas_napja": "2017-02-06",
                                    "mostani_foglalas_hossza": "2",
                                    "elozo_foglalas_hossza": "7"
                                },
                                {
                                    "szallas_nev": "Hotel Három Hattyú",
                                    "tipus": "Hotel",
                                    "csillagok_szama": "4",
                                    "vendeg_neve": "Viktor Éva",
                                    "vendegek_szama": "5",
                                    "erkezes_napja": "2017-02-04",
                                    "tavozas_napja": "2017-02-11",
                                    "mostani_foglalas_hossza": "7",
                                    "elozo_foglalas_hossza": "2"
                                },
                                {
                                    "szallas_nev": "Hotel Három Hattyú",
                                    "tipus": "Hotel",
                                    "csillagok_szama": "4",
                                    "vendeg_neve": "Nagy Júlia",
                                    "vendegek_szama": "4",
                                    "erkezes_napja": "2017-02-04",
                                    "tavozas_napja": "2017-02-11",
                                    "mostani_foglalas_hossza": "7",
                                    "elozo_foglalas_hossza": "7"
                                },
                                {
                                    "szallas_nev": "Családi Ház",
                                    "tipus": "vendégház",
                                    "csillagok_szama": "0",
                                    "vendeg_neve": "Horváth Krisztina",
                                    "vendegek_szama": "3",
                                    "erkezes_napja": "2017-02-04",
                                    "tavozas_napja": "2017-02-11",
                                    "mostani_foglalas_hossza": "7",
                                    "elozo_foglalas_hossza": "7"
                                },
                                {
                                    "szallas_nev": "Gold Hotel",
                                    "tipus": "Hotel",
                                    "csillagok_szama": "3",
                                    "vendeg_neve": "Szedlár Krisztina",
                                    "vendegek_szama": "2",
                                    "erkezes_napja": "2017-02-05",
                                    "tavozas_napja": "2017-02-07",
                                    "mostani_foglalas_hossza": "2",
                                    "elozo_foglalas_hossza": "7"
                                },
                                {
                                    "szallas_nev": "Gold Hotel",
                                    "tipus": "Hotel",
                                    "csillagok_szama": "3",
                                    "vendeg_neve": "Fő Nándor",
                                    "vendegek_szama": "3",
                                    "erkezes_napja": "2017-02-05",
                                    "tavozas_napja": "2017-02-08",
                                    "mostani_foglalas_hossza": "3",
                                    "elozo_foglalas_hossza": "2"
                                },
                                {
                                    "szallas_nev": "Hotel Három Hattyú",
                                    "tipus": "Hotel",
                                    "csillagok_szama": "4",
                                    "vendeg_neve": "Papp Imre",
                                    "vendegek_szama": "4",
                                    "erkezes_napja": "2017-02-05",
                                    "tavozas_napja": "2017-02-07",
                                    "mostani_foglalas_hossza": "2",
                                    "elozo_foglalas_hossza": "3"
                                },
                                {
                                    "szallas_nev": "Hotel Három Hattyú",
                                    "tipus": "Hotel",
                                    "csillagok_szama": "4",
                                    "vendeg_neve": "Győrffy Bence",
                                    "vendegek_szama": "3",
                                    "erkezes_napja": "2017-02-05",
                                    "tavozas_napja": "2017-02-09",
                                    "mostani_foglalas_hossza": "4",
                                    "elozo_foglalas_hossza": "2"
                                },
                                {
                                    "szallas_nev": "Hotel Három Hattyú",
                                    "tipus": "Hotel",
                                    "csillagok_szama": "4",
                                    "vendeg_neve": "Bíró Péter",
                                    "vendegek_szama": "3",
                                    "erkezes_napja": "2017-02-05",
                                    "tavozas_napja": "2017-02-09",
                                    "mostani_foglalas_hossza": "4",
                                    "elozo_foglalas_hossza": "4"
                                },
                                {
                                    "szallas_nev": "Kentaur Hotel",
                                    "tipus": "Hotel",
                                    "csillagok_szama": "3",
                                    "vendeg_neve": "Barkóci Ádám",
                                    "vendegek_szama": "1",
                                    "erkezes_napja": "2017-02-06",
                                    "tavozas_napja": "2017-02-10",
                                    "mostani_foglalas_hossza": "4",
                                    "elozo_foglalas_hossza": "4"
                                },
                                {
                                    "szallas_nev": "Kentaur Hotel",
                                    "tipus": "Hotel",
                                    "csillagok_szama": "3",
                                    "vendeg_neve": "Mohos Mónika",
                                    "vendegek_szama": "2",
                                    "erkezes_napja": "2017-02-06",
                                    "tavozas_napja": "2017-02-09",
                                    "mostani_foglalas_hossza": "3",
                                    "elozo_foglalas_hossza": "4"
                                },
                                {
                                    "szallas_nev": "Fortuna Apartman",
                                    "tipus": "Apartman",
                                    "csillagok_szama": "0",
                                    "vendeg_neve": "Juhász Mihály",
                                    "vendegek_szama": "4",
                                    "erkezes_napja": "2017-02-06",
                                    "tavozas_napja": "2017-02-12",
                                    "mostani_foglalas_hossza": "6",
                                    "elozo_foglalas_hossza": "3"
                                },
                                {
                                    "szallas_nev": "Lagúna Hotel",
                                    "tipus": "Hotel",
                                    "csillagok_szama": "4",
                                    "vendeg_neve": "Vizi István",
                                    "vendegek_szama": "3",
                                    "erkezes_napja": "2017-02-07",
                                    "tavozas_napja": "2017-02-10",
                                    "mostani_foglalas_hossza": "3",
                                    "elozo_foglalas_hossza": "6"
                                },
                                {
                                    "szallas_nev": "Hotel Három Hattyú",
                                    "tipus": "Hotel",
                                    "csillagok_szama": "4",
                                    "vendeg_neve": "Bittmann Edit",
                                    "vendegek_szama": "3",
                                    "erkezes_napja": "2017-02-08",
                                    "tavozas_napja": "2017-02-14",
                                    "mostani_foglalas_hossza": "6",
                                    "elozo_foglalas_hossza": "3"
                                },
                                {
                                    "szallas_nev": "Hotel Három Hattyú",
                                    "tipus": "Hotel",
                                    "csillagok_szama": "4",
                                    "vendeg_neve": "Antal László",
                                    "vendegek_szama": "2",
                                    "erkezes_napja": "2017-02-08",
                                    "tavozas_napja": "2017-02-14",
                                    "mostani_foglalas_hossza": "6",
                                    "elozo_foglalas_hossza": "6"
                                },
                                {
                                    "szallas_nev": "Gold Hotel",
                                    "tipus": "Hotel",
                                    "csillagok_szama": "3",
                                    "vendeg_neve": "Tóth András",
                                    "vendegek_szama": "4",
                                    "erkezes_napja": "2017-02-08",
                                    "tavozas_napja": "2017-02-10",
                                    "mostani_foglalas_hossza": "2",
                                    "elozo_foglalas_hossza": "6"
                                },
                                {
                                    "szallas_nev": "Kentaur Hotel",
                                    "tipus": "Hotel",
                                    "csillagok_szama": "3",
                                    "vendeg_neve": "Kerényi Beatrix",
                                    "vendegek_szama": "3",
                                    "erkezes_napja": "2017-02-08",
                                    "tavozas_napja": "2017-02-09",
                                    "mostani_foglalas_hossza": "1",
                                    "elozo_foglalas_hossza": "2"
                                },
                                {
                                    "szallas_nev": "Gold Hotel",
                                    "tipus": "Hotel",
                                    "csillagok_szama": "3",
                                    "vendeg_neve": "Szalai Szilárd",
                                    "vendegek_szama": "1",
                                    "erkezes_napja": "2017-02-08",
                                    "tavozas_napja": "2017-02-15",
                                    "mostani_foglalas_hossza": "7",
                                    "elozo_foglalas_hossza": "1"
                                },
                                {
                                    "szallas_nev": "Szieszta Apartmanház",
                                    "tipus": "Apartman",
                                    "csillagok_szama": "0",
                                    "vendeg_neve": "Pataki Brigitta",
                                    "vendegek_szama": "2",
                                    "erkezes_napja": "2017-02-09",
                                    "tavozas_napja": "2017-02-16",
                                    "mostani_foglalas_hossza": "7",
                                    "elozo_foglalas_hossza": "7"
                                },
                                {
                                    "szallas_nev": "Lagúna Hotel",
                                    "tipus": "Hotel",
                                    "csillagok_szama": "4",
                                    "vendeg_neve": "Kiss Andrea",
                                    "vendegek_szama": "2",
                                    "erkezes_napja": "2017-02-09",
                                    "tavozas_napja": "2017-02-14",
                                    "mostani_foglalas_hossza": "5",
                                    "elozo_foglalas_hossza": "7"
                                },
                                {
                                    "szallas_nev": "Fortuna Panzió",
                                    "tipus": "panzió",
                                    "csillagok_szama": "3",
                                    "vendeg_neve": "Bozsik Balázs",
                                    "vendegek_szama": "3",
                                    "erkezes_napja": "2017-02-10",
                                    "tavozas_napja": "2017-02-14",
                                    "mostani_foglalas_hossza": "4",
                                    "elozo_foglalas_hossza": "5"
                                },
                                {
                                    "szallas_nev": "Hotel Három Hattyú",
                                    "tipus": "Hotel",
                                    "csillagok_szama": "4",
                                    "vendeg_neve": "Érsek Eszter",
                                    "vendegek_szama": "2",
                                    "erkezes_napja": "2017-02-10",
                                    "tavozas_napja": "2017-02-14",
                                    "mostani_foglalas_hossza": "4",
                                    "elozo_foglalas_hossza": "4"
                                },
                                {
                                    "szallas_nev": "Gold Hotel",
                                    "tipus": "Hotel",
                                    "csillagok_szama": "3",
                                    "vendeg_neve": "Palágyi Polla",
                                    "vendegek_szama": "2",
                                    "erkezes_napja": "2017-02-11",
                                    "tavozas_napja": "2017-02-16",
                                    "mostani_foglalas_hossza": "5",
                                    "elozo_foglalas_hossza": "4"
                                },
                                {
                                    "szallas_nev": "Hotel Három Hattyú",
                                    "tipus": "Hotel",
                                    "csillagok_szama": "4",
                                    "vendeg_neve": "Fényes Tamás",
                                    "vendegek_szama": "2",
                                    "erkezes_napja": "2017-02-12",
                                    "tavozas_napja": "2017-02-17",
                                    "mostani_foglalas_hossza": "5",
                                    "elozo_foglalas_hossza": "5"
                                },
                                {
                                    "szallas_nev": "Fortuna Panzió",
                                    "tipus": "panzió",
                                    "csillagok_szama": "3",
                                    "vendeg_neve": "Nagy Gabriella",
                                    "vendegek_szama": "2",
                                    "erkezes_napja": "2017-02-12",
                                    "tavozas_napja": "2017-02-13",
                                    "mostani_foglalas_hossza": "1",
                                    "elozo_foglalas_hossza": "5"
                                },
                                {
                                    "szallas_nev": "Gold Hotel",
                                    "tipus": "Hotel",
                                    "csillagok_szama": "3",
                                    "vendeg_neve": "Harangozó János",
                                    "vendegek_szama": "3",
                                    "erkezes_napja": "2017-02-12",
                                    "tavozas_napja": "2017-02-14",
                                    "mostani_foglalas_hossza": "2",
                                    "elozo_foglalas_hossza": "1"
                                },
                                {
                                    "szallas_nev": "Sába-Ház",
                                    "tipus": "vendégház",
                                    "csillagok_szama": "0",
                                    "vendeg_neve": "Kiss Lajos",
                                    "vendegek_szama": "1",
                                    "erkezes_napja": "2017-02-12",
                                    "tavozas_napja": "2017-02-13",
                                    "mostani_foglalas_hossza": "1",
                                    "elozo_foglalas_hossza": "2"
                                },
                                {
                                    "szallas_nev": "Szieszta Apartmanház",
                                    "tipus": "Apartman",
                                    "csillagok_szama": "0",
                                    "vendeg_neve": "Bajusz Bence",
                                    "vendegek_szama": "3",
                                    "erkezes_napja": "2017-02-12",
                                    "tavozas_napja": "2017-02-19",
                                    "mostani_foglalas_hossza": "7",
                                    "elozo_foglalas_hossza": "1"
                                },
                                {
                                    "szallas_nev": "Kentaur Hotel",
                                    "tipus": "Hotel",
                                    "csillagok_szama": "3",
                                    "vendeg_neve": "Rácz Dániel",
                                    "vendegek_szama": "3",
                                    "erkezes_napja": "2017-02-12",
                                    "tavozas_napja": "2017-02-13",
                                    "mostani_foglalas_hossza": "1",
                                    "elozo_foglalas_hossza": "7"
                                },
                                {
                                    "szallas_nev": "Jáde panzió",
                                    "tipus": "panzió",
                                    "csillagok_szama": "3",
                                    "vendeg_neve": "Tóth Anikó",
                                    "vendegek_szama": "3",
                                    "erkezes_napja": "2017-02-12",
                                    "tavozas_napja": "2017-02-14",
                                    "mostani_foglalas_hossza": "2",
                                    "elozo_foglalas_hossza": "1"
                                },
                                {
                                    "szallas_nev": "Hotel Három Hattyú",
                                    "tipus": "Hotel",
                                    "csillagok_szama": "4",
                                    "vendeg_neve": "Bozsik Balázs",
                                    "vendegek_szama": "2",
                                    "erkezes_napja": "2017-02-12",
                                    "tavozas_napja": "2017-02-14",
                                    "mostani_foglalas_hossza": "2",
                                    "elozo_foglalas_hossza": "2"
                                },
                                {
                                    "szallas_nev": "Hotel Három Hattyú",
                                    "tipus": "Hotel",
                                    "csillagok_szama": "4",
                                    "vendeg_neve": "Móricz Árpád",
                                    "vendegek_szama": "3",
                                    "erkezes_napja": "2017-02-12",
                                    "tavozas_napja": "2017-02-14",
                                    "mostani_foglalas_hossza": "2",
                                    "elozo_foglalas_hossza": "2"
                                },
                                {
                                    "szallas_nev": "Hotel Három Hattyú",
                                    "tipus": "Hotel",
                                    "csillagok_szama": "4",
                                    "vendeg_neve": "Nagymihály Csongor",
                                    "vendegek_szama": "3",
                                    "erkezes_napja": "2017-02-13",
                                    "tavozas_napja": "2017-02-19",
                                    "mostani_foglalas_hossza": "6",
                                    "elozo_foglalas_hossza": "2"
                                },
                                {
                                    "szallas_nev": "Hotel Három Hattyú",
                                    "tipus": "Hotel",
                                    "csillagok_szama": "4",
                                    "vendeg_neve": "Oroszi György",
                                    "vendegek_szama": "2",
                                    "erkezes_napja": "2017-02-13",
                                    "tavozas_napja": "2017-02-15",
                                    "mostani_foglalas_hossza": "2",
                                    "elozo_foglalas_hossza": "6"
                                },
                                {
                                    "szallas_nev": "Hotel Három Hattyú",
                                    "tipus": "Hotel",
                                    "csillagok_szama": "4",
                                    "vendeg_neve": "Barabás Pál",
                                    "vendegek_szama": "3",
                                    "erkezes_napja": "2017-02-13",
                                    "tavozas_napja": "2017-02-19",
                                    "mostani_foglalas_hossza": "6",
                                    "elozo_foglalas_hossza": "2"
                                },
                                {
                                    "szallas_nev": "Hotel Három Hattyú",
                                    "tipus": "Hotel",
                                    "csillagok_szama": "4",
                                    "vendeg_neve": "Szűcs Norbert",
                                    "vendegek_szama": "3",
                                    "erkezes_napja": "2017-02-13",
                                    "tavozas_napja": "2017-02-15",
                                    "mostani_foglalas_hossza": "2",
                                    "elozo_foglalas_hossza": "6"
                                },
                                {
                                    "szallas_nev": "Fortuna panzió",
                                    "tipus": "panzió",
                                    "csillagok_szama": "3",
                                    "vendeg_neve": "Szirmai Renáta",
                                    "vendegek_szama": "1",
                                    "erkezes_napja": "2017-02-13",
                                    "tavozas_napja": "2017-02-17",
                                    "mostani_foglalas_hossza": "4",
                                    "elozo_foglalas_hossza": "2"
                                },
                                {
                                    "szallas_nev": "Hotel Három Hattyú",
                                    "tipus": "Hotel",
                                    "csillagok_szama": "4",
                                    "vendeg_neve": "Szirmai Renáta",
                                    "vendegek_szama": "2",
                                    "erkezes_napja": "2017-02-14",
                                    "tavozas_napja": "2017-02-17",
                                    "mostani_foglalas_hossza": "3",
                                    "elozo_foglalas_hossza": "4"
                                },
                                {
                                    "szallas_nev": "Kentaur Hotel",
                                    "tipus": "Hotel",
                                    "csillagok_szama": "3",
                                    "vendeg_neve": "Antal Tamás",
                                    "vendegek_szama": "3",
                                    "erkezes_napja": "2017-02-14",
                                    "tavozas_napja": "2017-02-19",
                                    "mostani_foglalas_hossza": "5",
                                    "elozo_foglalas_hossza": "3"
                                },
                                {
                                    "szallas_nev": "Fortuna Apartman",
                                    "tipus": "Apartman",
                                    "csillagok_szama": "0",
                                    "vendeg_neve": "Simon Bernadett",
                                    "vendegek_szama": "3",
                                    "erkezes_napja": "2017-02-14",
                                    "tavozas_napja": "2017-02-15",
                                    "mostani_foglalas_hossza": "1",
                                    "elozo_foglalas_hossza": "5"
                                },
                                {
                                    "szallas_nev": "Jáde panzió",
                                    "tipus": "panzió",
                                    "csillagok_szama": "3",
                                    "vendeg_neve": "Baróti Attila",
                                    "vendegek_szama": "2",
                                    "erkezes_napja": "2017-02-15",
                                    "tavozas_napja": "2017-02-22",
                                    "mostani_foglalas_hossza": "7",
                                    "elozo_foglalas_hossza": "1"
                                },
                                {
                                    "szallas_nev": "Fortuna panzió",
                                    "tipus": "panzió",
                                    "csillagok_szama": "3",
                                    "vendeg_neve": "Horváth Árpád",
                                    "vendegek_szama": "2",
                                    "erkezes_napja": "2017-02-16",
                                    "tavozas_napja": "2017-02-18",
                                    "mostani_foglalas_hossza": "2",
                                    "elozo_foglalas_hossza": "7"
                                },
                                {
                                    "szallas_nev": "Lagúna Hotel",
                                    "tipus": "Hotel",
                                    "csillagok_szama": "4",
                                    "vendeg_neve": "Regős Annamária",
                                    "vendegek_szama": "2",
                                    "erkezes_napja": "2017-02-16",
                                    "tavozas_napja": "2017-02-18",
                                    "mostani_foglalas_hossza": "2",
                                    "elozo_foglalas_hossza": "2"
                                },
                                {
                                    "szallas_nev": "Sába-Ház",
                                    "tipus": "vendégház",
                                    "csillagok_szama": "0",
                                    "vendeg_neve": "Hartyánszky Ágnes",
                                    "vendegek_szama": "3",
                                    "erkezes_napja": "2017-02-16",
                                    "tavozas_napja": "2017-02-21",
                                    "mostani_foglalas_hossza": "5",
                                    "elozo_foglalas_hossza": "2"
                                },
                                {
                                    "szallas_nev": "Fortuna Panzió",
                                    "tipus": "panzió",
                                    "csillagok_szama": "3",
                                    "vendeg_neve": "Csiger Bertalan",
                                    "vendegek_szama": "2",
                                    "erkezes_napja": "2017-02-16",
                                    "tavozas_napja": "2017-02-22",
                                    "mostani_foglalas_hossza": "6",
                                    "elozo_foglalas_hossza": "5"
                                },
                                {
                                    "szallas_nev": "Hotel Három Hattyú",
                                    "tipus": "Hotel",
                                    "csillagok_szama": "4",
                                    "vendeg_neve": "Berta Dávid",
                                    "vendegek_szama": "3",
                                    "erkezes_napja": "2017-02-16",
                                    "tavozas_napja": "2017-02-19",
                                    "mostani_foglalas_hossza": "3",
                                    "elozo_foglalas_hossza": "6"
                                },
                                {
                                    "szallas_nev": "Családi Ház",
                                    "tipus": "vendégház",
                                    "csillagok_szama": "0",
                                    "vendeg_neve": "Szedlár Krisztina",
                                    "vendegek_szama": "4",
                                    "erkezes_napja": "2017-02-16",
                                    "tavozas_napja": "2017-02-20",
                                    "mostani_foglalas_hossza": "4",
                                    "elozo_foglalas_hossza": "3"
                                },
                                {
                                    "szallas_nev": "Sába-Ház",
                                    "tipus": "vendégház",
                                    "csillagok_szama": "0",
                                    "vendeg_neve": "Fényes Tamás",
                                    "vendegek_szama": "4",
                                    "erkezes_napja": "2017-02-16",
                                    "tavozas_napja": "2017-02-19",
                                    "mostani_foglalas_hossza": "3",
                                    "elozo_foglalas_hossza": "4"
                                },
                                {
                                    "szallas_nev": "Hotel Három Hattyú",
                                    "tipus": "Hotel",
                                    "csillagok_szama": "4",
                                    "vendeg_neve": "Kardos Renáta",
                                    "vendegek_szama": "1",
                                    "erkezes_napja": "2017-02-16",
                                    "tavozas_napja": "2017-02-23",
                                    "mostani_foglalas_hossza": "7",
                                    "elozo_foglalas_hossza": "3"
                                },
                                {
                                    "szallas_nev": "Lagúna Hotel",
                                    "tipus": "Hotel",
                                    "csillagok_szama": "4",
                                    "vendeg_neve": "Mile Norbert",
                                    "vendegek_szama": "1",
                                    "erkezes_napja": "2017-02-16",
                                    "tavozas_napja": "2017-02-17",
                                    "mostani_foglalas_hossza": "1",
                                    "elozo_foglalas_hossza": "7"
                                },
                                {
                                    "szallas_nev": "Lagúna Hotel",
                                    "tipus": "Hotel",
                                    "csillagok_szama": "4",
                                    "vendeg_neve": "Iván Róbert",
                                    "vendegek_szama": "2",
                                    "erkezes_napja": "2017-02-17",
                                    "tavozas_napja": "2017-02-20",
                                    "mostani_foglalas_hossza": "3",
                                    "elozo_foglalas_hossza": "1"
                                },
                                {
                                    "szallas_nev": "Fortuna Panzió",
                                    "tipus": "panzió",
                                    "csillagok_szama": "3",
                                    "vendeg_neve": "Sobják Dávid",
                                    "vendegek_szama": "3",
                                    "erkezes_napja": "2017-02-17",
                                    "tavozas_napja": "2017-02-20",
                                    "mostani_foglalas_hossza": "3",
                                    "elozo_foglalas_hossza": "3"
                                },
                                {
                                    "szallas_nev": "Kentaur Hotel",
                                    "tipus": "Hotel",
                                    "csillagok_szama": "3",
                                    "vendeg_neve": "Ötvös Árpád",
                                    "vendegek_szama": "4",
                                    "erkezes_napja": "2017-02-18",
                                    "tavozas_napja": "2017-02-19",
                                    "mostani_foglalas_hossza": "1",
                                    "elozo_foglalas_hossza": "3"
                                },
                                {
                                    "szallas_nev": "Szieszta Apartmanház",
                                    "tipus": "Apartman",
                                    "csillagok_szama": "0",
                                    "vendeg_neve": "Nagy László",
                                    "vendegek_szama": "3",
                                    "erkezes_napja": "2017-02-18",
                                    "tavozas_napja": "2017-02-25",
                                    "mostani_foglalas_hossza": "7",
                                    "elozo_foglalas_hossza": "1"
                                },
                                {
                                    "szallas_nev": "Fortuna Apartman",
                                    "tipus": "Apartman",
                                    "csillagok_szama": "0",
                                    "vendeg_neve": "Bucskó Róza",
                                    "vendegek_szama": "3",
                                    "erkezes_napja": "2017-02-18",
                                    "tavozas_napja": "2017-02-21",
                                    "mostani_foglalas_hossza": "3",
                                    "elozo_foglalas_hossza": "7"
                                },
                                {
                                    "szallas_nev": "Fortuna Panzió",
                                    "tipus": "panzió",
                                    "csillagok_szama": "3",
                                    "vendeg_neve": "Molnár Zsófi",
                                    "vendegek_szama": "3",
                                    "erkezes_napja": "2017-02-18",
                                    "tavozas_napja": "2017-02-19",
                                    "mostani_foglalas_hossza": "1",
                                    "elozo_foglalas_hossza": "3"
                                },
                                {
                                    "szallas_nev": "Lagúna Hotel",
                                    "tipus": "Hotel",
                                    "csillagok_szama": "4",
                                    "vendeg_neve": "Hamvay-Kovács Anita",
                                    "vendegek_szama": "2",
                                    "erkezes_napja": "2017-02-19",
                                    "tavozas_napja": "2017-02-22",
                                    "mostani_foglalas_hossza": "3",
                                    "elozo_foglalas_hossza": "1"
                                },
                                {
                                    "szallas_nev": "Fortuna Panzió",
                                    "tipus": "panzió",
                                    "csillagok_szama": "3",
                                    "vendeg_neve": "Hamvay-Kovács Anita",
                                    "vendegek_szama": "2",
                                    "erkezes_napja": "2017-02-20",
                                    "tavozas_napja": "2017-02-25",
                                    "mostani_foglalas_hossza": "5",
                                    "elozo_foglalas_hossza": "3"
                                },
                                {
                                    "szallas_nev": "Hotel Három Hattyú",
                                    "tipus": "Hotel",
                                    "csillagok_szama": "4",
                                    "vendeg_neve": "Csiger Bertalan",
                                    "vendegek_szama": "4",
                                    "erkezes_napja": "2017-02-20",
                                    "tavozas_napja": "2017-02-24",
                                    "mostani_foglalas_hossza": "4",
                                    "elozo_foglalas_hossza": "5"
                                },
                                {
                                    "szallas_nev": "Hotel Három Hattyú",
                                    "tipus": "Hotel",
                                    "csillagok_szama": "4",
                                    "vendeg_neve": "Rácz Dániel",
                                    "vendegek_szama": "3",
                                    "erkezes_napja": "2017-02-20",
                                    "tavozas_napja": "2017-02-23",
                                    "mostani_foglalas_hossza": "3",
                                    "elozo_foglalas_hossza": "4"
                                },
                                {
                                    "szallas_nev": "Fortuna Panzió",
                                    "tipus": "panzió",
                                    "csillagok_szama": "3",
                                    "vendeg_neve": "Barabás Pál",
                                    "vendegek_szama": "3",
                                    "erkezes_napja": "2017-02-20",
                                    "tavozas_napja": "2017-02-22",
                                    "mostani_foglalas_hossza": "2",
                                    "elozo_foglalas_hossza": "3"
                                },
                                {
                                    "szallas_nev": "Kentaur Hotel",
                                    "tipus": "Hotel",
                                    "csillagok_szama": "3",
                                    "vendeg_neve": "Szalai Péter",
                                    "vendegek_szama": "2",
                                    "erkezes_napja": "2017-02-21",
                                    "tavozas_napja": "2017-02-24",
                                    "mostani_foglalas_hossza": "3",
                                    "elozo_foglalas_hossza": "2"
                                },
                                {
                                    "szallas_nev": "Lagúna Hotel",
                                    "tipus": "Hotel",
                                    "csillagok_szama": "4",
                                    "vendeg_neve": "Kelemen Áron",
                                    "vendegek_szama": "2",
                                    "erkezes_napja": "2017-02-21",
                                    "tavozas_napja": "2017-02-23",
                                    "mostani_foglalas_hossza": "2",
                                    "elozo_foglalas_hossza": "3"
                                },
                                {
                                    "szallas_nev": "Fortuna panzió",
                                    "tipus": "panzió",
                                    "csillagok_szama": "3",
                                    "vendeg_neve": "Nagy Gabriella",
                                    "vendegek_szama": "3",
                                    "erkezes_napja": "2017-02-21",
                                    "tavozas_napja": "2017-02-27",
                                    "mostani_foglalas_hossza": "6",
                                    "elozo_foglalas_hossza": "2"
                                },
                                {
                                    "szallas_nev": "Gold Hotel",
                                    "tipus": "Hotel",
                                    "csillagok_szama": "3",
                                    "vendeg_neve": "Opra Attila",
                                    "vendegek_szama": "3",
                                    "erkezes_napja": "2017-02-22",
                                    "tavozas_napja": "2017-02-25",
                                    "mostani_foglalas_hossza": "3",
                                    "elozo_foglalas_hossza": "6"
                                },
                                {
                                    "szallas_nev": "Lagúna Hotel",
                                    "tipus": "Hotel",
                                    "csillagok_szama": "4",
                                    "vendeg_neve": "Bieniek Ádám",
                                    "vendegek_szama": "3",
                                    "erkezes_napja": "2017-02-23",
                                    "tavozas_napja": "2017-02-27",
                                    "mostani_foglalas_hossza": "4",
                                    "elozo_foglalas_hossza": "3"
                                },
                                {
                                    "szallas_nev": "Hotel Három Hattyú",
                                    "tipus": "Hotel",
                                    "csillagok_szama": "4",
                                    "vendeg_neve": "Tóth Anikó",
                                    "vendegek_szama": "2",
                                    "erkezes_napja": "2017-02-23",
                                    "tavozas_napja": "2017-02-24",
                                    "mostani_foglalas_hossza": "1",
                                    "elozo_foglalas_hossza": "4"
                                },
                                {
                                    "szallas_nev": "Gold Hotel",
                                    "tipus": "Hotel",
                                    "csillagok_szama": "3",
                                    "vendeg_neve": "Bárci Gusztáv",
                                    "vendegek_szama": "4",
                                    "erkezes_napja": "2017-02-23",
                                    "tavozas_napja": "2017-03-01",
                                    "mostani_foglalas_hossza": "6",
                                    "elozo_foglalas_hossza": "1"
                                },
                                {
                                    "szallas_nev": "Kentaur Hotel",
                                    "tipus": "Hotel",
                                    "csillagok_szama": "3",
                                    "vendeg_neve": "Mohos Mónika",
                                    "vendegek_szama": "2",
                                    "erkezes_napja": "2017-02-23",
                                    "tavozas_napja": "2017-02-26",
                                    "mostani_foglalas_hossza": "3",
                                    "elozo_foglalas_hossza": "6"
                                },
                                {
                                    "szallas_nev": "Hotel Három Hattyú",
                                    "tipus": "Hotel",
                                    "csillagok_szama": "4",
                                    "vendeg_neve": "Czérna Krisztián",
                                    "vendegek_szama": "2",
                                    "erkezes_napja": "2017-02-23",
                                    "tavozas_napja": "2017-03-02",
                                    "mostani_foglalas_hossza": "7",
                                    "elozo_foglalas_hossza": "3"
                                },
                                {
                                    "szallas_nev": "Partiszél Vendégház",
                                    "tipus": "vendégház",
                                    "csillagok_szama": "0",
                                    "vendeg_neve": "Kozma Péter",
                                    "vendegek_szama": "3",
                                    "erkezes_napja": "2017-02-23",
                                    "tavozas_napja": "2017-02-26",
                                    "mostani_foglalas_hossza": "3",
                                    "elozo_foglalas_hossza": "7"
                                },
                                {
                                    "szallas_nev": "Gold Hotel",
                                    "tipus": "Hotel",
                                    "csillagok_szama": "3",
                                    "vendeg_neve": "Horváth Katalin",
                                    "vendegek_szama": "3",
                                    "erkezes_napja": "2017-02-24",
                                    "tavozas_napja": "2017-02-27",
                                    "mostani_foglalas_hossza": "3",
                                    "elozo_foglalas_hossza": "3"
                                },
                                {
                                    "szallas_nev": "Gold Hotel",
                                    "tipus": "Hotel",
                                    "csillagok_szama": "3",
                                    "vendeg_neve": "Baráth Mária",
                                    "vendegek_szama": "2",
                                    "erkezes_napja": "2017-02-24",
                                    "tavozas_napja": "2017-03-02",
                                    "mostani_foglalas_hossza": "6",
                                    "elozo_foglalas_hossza": "3"
                                },
                                {
                                    "szallas_nev": "Hotel Három Hattyú",
                                    "tipus": "Hotel",
                                    "csillagok_szama": "4",
                                    "vendeg_neve": "Oroszi György",
                                    "vendegek_szama": "3",
                                    "erkezes_napja": "2017-02-24",
                                    "tavozas_napja": "2017-02-25",
                                    "mostani_foglalas_hossza": "1",
                                    "elozo_foglalas_hossza": "6"
                                },
                                {
                                    "szallas_nev": "Hotel Három Hattyú",
                                    "tipus": "Hotel",
                                    "csillagok_szama": "4",
                                    "vendeg_neve": "Gyuris József",
                                    "vendegek_szama": "3",
                                    "erkezes_napja": "2017-02-24",
                                    "tavozas_napja": "2017-03-03",
                                    "mostani_foglalas_hossza": "7",
                                    "elozo_foglalas_hossza": "1"
                                },
                                {
                                    "szallas_nev": "Fortuna panzió",
                                    "tipus": "panzió",
                                    "csillagok_szama": "3",
                                    "vendeg_neve": "Simon Bernadett",
                                    "vendegek_szama": "1",
                                    "erkezes_napja": "2017-02-24",
                                    "tavozas_napja": "2017-03-03",
                                    "mostani_foglalas_hossza": "7",
                                    "elozo_foglalas_hossza": "7"
                                },
                                {
                                    "szallas_nev": "Partiszél Vendégház",
                                    "tipus": "vendégház",
                                    "csillagok_szama": "0",
                                    "vendeg_neve": "Vörös Dániel",
                                    "vendegek_szama": "3",
                                    "erkezes_napja": "2017-02-25",
                                    "tavozas_napja": "2017-03-01",
                                    "mostani_foglalas_hossza": "4",
                                    "elozo_foglalas_hossza": "7"
                                },
                                {
                                    "szallas_nev": "Lagúna Hotel",
                                    "tipus": "Hotel",
                                    "csillagok_szama": "4",
                                    "vendeg_neve": "Sobják Dávid",
                                    "vendegek_szama": "4",
                                    "erkezes_napja": "2017-02-25",
                                    "tavozas_napja": "2017-02-27",
                                    "mostani_foglalas_hossza": "2",
                                    "elozo_foglalas_hossza": "4"
                                },
                                {
                                    "szallas_nev": "Kentaur Hotel",
                                    "tipus": "Hotel",
                                    "csillagok_szama": "3",
                                    "vendeg_neve": "Jakab Áron",
                                    "vendegek_szama": "3",
                                    "erkezes_napja": "2017-02-26",
                                    "tavozas_napja": "2017-02-27",
                                    "mostani_foglalas_hossza": "1",
                                    "elozo_foglalas_hossza": "2"
                                },
                                {
                                    "szallas_nev": "Hotel Három Hattyú",
                                    "tipus": "Hotel",
                                    "csillagok_szama": "4",
                                    "vendeg_neve": "Fülöp Eszter",
                                    "vendegek_szama": "3",
                                    "erkezes_napja": "2017-02-26",
                                    "tavozas_napja": "2017-02-27",
                                    "mostani_foglalas_hossza": "1",
                                    "elozo_foglalas_hossza": "1"
                                },
                                {
                                    "szallas_nev": "Szieszta Apartmanház",
                                    "tipus": "Apartman",
                                    "csillagok_szama": "0",
                                    "vendeg_neve": "Szikszai Réka",
                                    "vendegek_szama": "2",
                                    "erkezes_napja": "2017-02-26",
                                    "tavozas_napja": "2017-03-04",
                                    "mostani_foglalas_hossza": "6",
                                    "elozo_foglalas_hossza": "1"
                                },
                                {
                                    "szallas_nev": "Gold Hotel",
                                    "tipus": "Hotel",
                                    "csillagok_szama": "3",
                                    "vendeg_neve": "Szűcs Norbert",
                                    "vendegek_szama": "1",
                                    "erkezes_napja": "2017-02-26",
                                    "tavozas_napja": "2017-03-01",
                                    "mostani_foglalas_hossza": "3",
                                    "elozo_foglalas_hossza": "6"
                                },
                                {
                                    "szallas_nev": "Kentaur Hotel",
                                    "tipus": "Hotel",
                                    "csillagok_szama": "3",
                                    "vendeg_neve": "Tóth Júlia",
                                    "vendegek_szama": "3",
                                    "erkezes_napja": "2017-02-27",
                                    "tavozas_napja": "2017-03-06",
                                    "mostani_foglalas_hossza": "7",
                                    "elozo_foglalas_hossza": "3"
                                },
                                {
                                    "szallas_nev": "Lagúna Hotel",
                                    "tipus": "Hotel",
                                    "csillagok_szama": "4",
                                    "vendeg_neve": "Szűcs Balázs",
                                    "vendegek_szama": "1",
                                    "erkezes_napja": "2017-02-27",
                                    "tavozas_napja": "2017-03-06",
                                    "mostani_foglalas_hossza": "7",
                                    "elozo_foglalas_hossza": "7"
                                },
                                {
                                    "szallas_nev": "Hotel Három Hattyú",
                                    "tipus": "Hotel",
                                    "csillagok_szama": "4",
                                    "vendeg_neve": "Kozma Péter",
                                    "vendegek_szama": "3",
                                    "erkezes_napja": "2017-02-28",
                                    "tavozas_napja": "2017-03-05",
                                    "mostani_foglalas_hossza": "5",
                                    "elozo_foglalas_hossza": "7"
                                },
                                {
                                    "szallas_nev": "Fortuna Panzió",
                                    "tipus": "panzió",
                                    "csillagok_szama": "3",
                                    "vendeg_neve": "Kardos Renáta",
                                    "vendegek_szama": "1",
                                    "erkezes_napja": "2017-03-01",
                                    "tavozas_napja": "2017-03-06",
                                    "mostani_foglalas_hossza": "5",
                                    "elozo_foglalas_hossza": "5"
                                },
                                {
                                    "szallas_nev": "Kentaur Hotel",
                                    "tipus": "Hotel",
                                    "csillagok_szama": "3",
                                    "vendeg_neve": "Keszler Dániel",
                                    "vendegek_szama": "4",
                                    "erkezes_napja": "2017-03-01",
                                    "tavozas_napja": "2017-03-06",
                                    "mostani_foglalas_hossza": "5",
                                    "elozo_foglalas_hossza": "5"
                                },
                                {
                                    "szallas_nev": "Kentaur Hotel",
                                    "tipus": "Hotel",
                                    "csillagok_szama": "3",
                                    "vendeg_neve": "Kalacsi Márton",
                                    "vendegek_szama": "2",
                                    "erkezes_napja": "2017-03-02",
                                    "tavozas_napja": "2017-03-03",
                                    "mostani_foglalas_hossza": "1",
                                    "elozo_foglalas_hossza": "5"
                                },
                                {
                                    "szallas_nev": "Kentaur Hotel",
                                    "tipus": "Hotel",
                                    "csillagok_szama": "3",
                                    "vendeg_neve": "Horváth Krisztina",
                                    "vendegek_szama": "3",
                                    "erkezes_napja": "2017-03-03",
                                    "tavozas_napja": "2017-03-04",
                                    "mostani_foglalas_hossza": "1",
                                    "elozo_foglalas_hossza": "1"
                                },
                                {
                                    "szallas_nev": "Hotel Három Hattyú",
                                    "tipus": "Hotel",
                                    "csillagok_szama": "4",
                                    "vendeg_neve": "Mile Norbert",
                                    "vendegek_szama": "2",
                                    "erkezes_napja": "2017-03-03",
                                    "tavozas_napja": "2017-03-07",
                                    "mostani_foglalas_hossza": "4",
                                    "elozo_foglalas_hossza": "1"
                                }
                            ]
                        },
                        "text/html": [
                            "<table>",
                            "<tr><th>szallas_nev</th><th>tipus</th><th>csillagok_szama</th><th>vendeg_neve</th><th>vendegek_szama</th><th>erkezes_napja</th><th>tavozas_napja</th><th>mostani_foglalas_hossza</th><th>elozo_foglalas_hossza</th></tr>",
                            "<tr><td>Jáde panzió</td><td>panzió</td><td>3</td><td>Kelemen Áron</td><td>2</td><td>2016-04-06</td><td>2016-04-08</td><td>2</td><td>NULL</td></tr>",
                            "<tr><td>Fortuna Panzió</td><td>panzió</td><td>3</td><td>Móra László</td><td>2</td><td>2016-04-06</td><td>2016-04-10</td><td>4</td><td>2</td></tr>",
                            "<tr><td>Szieszta Apartmanház</td><td>Apartman</td><td>0</td><td>Fő Nándor</td><td>3</td><td>2016-04-06</td><td>2016-04-10</td><td>4</td><td>4</td></tr>",
                            "<tr><td>Sába-Ház</td><td>vendégház</td><td>0</td><td>Berendi Péter</td><td>1</td><td>2016-04-06</td><td>2016-04-10</td><td>4</td><td>4</td></tr>",
                            "<tr><td>Sába-Ház</td><td>vendégház</td><td>0</td><td>Foltényi Sebastián</td><td>2</td><td>2016-04-06</td><td>2016-04-12</td><td>6</td><td>4</td></tr>",
                            "<tr><td>Kentaur Hotel</td><td>Hotel</td><td>3</td><td>Rab Sebestyén</td><td>4</td><td>2016-04-07</td><td>2016-04-12</td><td>5</td><td>6</td></tr>",
                            "<tr><td>Sába-Ház</td><td>vendégház</td><td>0</td><td>Kő Nikoletta</td><td>2</td><td>2016-04-08</td><td>2016-04-10</td><td>2</td><td>5</td></tr>",
                            "<tr><td>Lagúna Hotel</td><td>Hotel</td><td>4</td><td>Poprádi Kristóf</td><td>2</td><td>2016-04-08</td><td>2016-04-14</td><td>6</td><td>2</td></tr>",
                            "<tr><td>Fortuna Apartman</td><td>Apartman</td><td>0</td><td>Mogyródi Krisztián</td><td>2</td><td>2016-04-09</td><td>2016-04-15</td><td>6</td><td>6</td></tr>",
                            "<tr><td>Kentaur Hotel</td><td>Hotel</td><td>3</td><td>Gondos Katalin</td><td>2</td><td>2016-04-10</td><td>2016-04-11</td><td>1</td><td>6</td></tr>",
                            "<tr><td>Kentaur Hotel</td><td>Hotel</td><td>3</td><td>Horváth Katalin</td><td>2</td><td>2016-04-10</td><td>2016-04-17</td><td>7</td><td>1</td></tr>",
                            "<tr><td>Gold Hotel</td><td>Hotel</td><td>3</td><td>Kovács Katalin</td><td>2</td><td>2016-04-10</td><td>2016-04-12</td><td>2</td><td>7</td></tr>",
                            "<tr><td>Gold Hotel</td><td>Hotel</td><td>3</td><td>Horváth Ágnes</td><td>2</td><td>2016-04-10</td><td>2016-04-12</td><td>2</td><td>2</td></tr>",
                            "<tr><td>Gold Hotel</td><td>Hotel</td><td>3</td><td>Pivarcsi Anett</td><td>1</td><td>2016-04-10</td><td>2016-04-17</td><td>7</td><td>2</td></tr>",
                            "<tr><td>Partiszél Vendégház</td><td>vendégház</td><td>0</td><td>Orbán Bernadett</td><td>2</td><td>2016-04-10</td><td>2016-04-17</td><td>7</td><td>7</td></tr>",
                            "<tr><td>Lagúna Hotel</td><td>Hotel</td><td>4</td><td>Rácz Dániel</td><td>4</td><td>2016-04-10</td><td>2016-04-11</td><td>1</td><td>7</td></tr>",
                            "<tr><td>Gold Hotel</td><td>Hotel</td><td>3</td><td>Keszler Dániel</td><td>2</td><td>2016-04-10</td><td>2016-04-15</td><td>5</td><td>1</td></tr>",
                            "<tr><td>Sába-Ház</td><td>vendégház</td><td>0</td><td>Mile Norbert</td><td>2</td><td>2016-04-10</td><td>2016-04-13</td><td>3</td><td>5</td></tr>",
                            "<tr><td>Hotel Három Hattyú</td><td>Hotel</td><td>4</td><td>Jakab Áron</td><td>3</td><td>2016-04-11</td><td>2016-04-12</td><td>1</td><td>3</td></tr>",
                            "<tr><td>Lagúna Hotel</td><td>Hotel</td><td>4</td><td>Bíró Péter</td><td>3</td><td>2016-04-12</td><td>2016-04-15</td><td>3</td><td>1</td></tr>",
                            "<tr><td>Gold Hotel</td><td>Hotel</td><td>3</td><td>Pivarcsi Anett</td><td>3</td><td>2016-04-13</td><td>2016-04-19</td><td>6</td><td>3</td></tr>",
                            "<tr><td>Jáde panzió</td><td>panzió</td><td>3</td><td>Pulai Zsolt</td><td>2</td><td>2016-04-14</td><td>2016-04-17</td><td>3</td><td>6</td></tr>",
                            "<tr><td>Lagúna Hotel</td><td>Hotel</td><td>4</td><td>Vajda Zsuzsa</td><td>2</td><td>2016-04-14</td><td>2016-04-16</td><td>2</td><td>3</td></tr>",
                            "<tr><td>Lagúna Hotel</td><td>Hotel</td><td>4</td><td>Pivarcsi Anett</td><td>3</td><td>2016-04-15</td><td>2016-04-19</td><td>4</td><td>2</td></tr>",
                            "<tr><td>Lagúna Hotel</td><td>Hotel</td><td>4</td><td>Szűcs Balázs</td><td>2</td><td>2016-04-16</td><td>2016-04-19</td><td>3</td><td>4</td></tr>",
                            "<tr><td>Kentaur Hotel</td><td>Hotel</td><td>3</td><td>Vizi István</td><td>3</td><td>2016-04-16</td><td>2016-04-22</td><td>6</td><td>3</td></tr>",
                            "<tr><td>Lagúna Hotel</td><td>Hotel</td><td>4</td><td>Orbán Bernadett</td><td>2</td><td>2016-04-17</td><td>2016-04-19</td><td>2</td><td>6</td></tr>",
                            "<tr><td>Kentaur Hotel</td><td>Hotel</td><td>3</td><td>Palágyi Polla</td><td>3</td><td>2016-04-17</td><td>2016-04-22</td><td>5</td><td>2</td></tr>",
                            "<tr><td>Hotel Három Hattyú</td><td>Hotel</td><td>4</td><td>Szekendi Beatrix</td><td>1</td><td>2016-04-18</td><td>2016-04-24</td><td>6</td><td>5</td></tr>",
                            "<tr><td>Fortuna Panzió</td><td>panzió</td><td>3</td><td>Simon Anikó</td><td>2</td><td>2016-04-19</td><td>2016-04-24</td><td>5</td><td>6</td></tr>",
                            "<tr><td>Fortuna Panzió</td><td>panzió</td><td>3</td><td>Gondos Miklós</td><td>3</td><td>2016-04-19</td><td>2016-04-21</td><td>2</td><td>5</td></tr>",
                            "<tr><td>Lagúna Hotel</td><td>Hotel</td><td>4</td><td>Kispál Márk</td><td>4</td><td>2016-04-19</td><td>2016-04-26</td><td>7</td><td>2</td></tr>",
                            "<tr><td>Hotel Három Hattyú</td><td>Hotel</td><td>4</td><td>Hegedűs Norbert</td><td>1</td><td>2016-04-19</td><td>2016-04-26</td><td>7</td><td>7</td></tr>",
                            "<tr><td>Lagúna Hotel</td><td>Hotel</td><td>4</td><td>Bagi Beáta</td><td>2</td><td>2016-04-20</td><td>2016-04-21</td><td>1</td><td>7</td></tr>",
                            "<tr><td>Gold Hotel</td><td>Hotel</td><td>3</td><td>Tóth Júlia</td><td>2</td><td>2016-04-21</td><td>2016-04-26</td><td>5</td><td>1</td></tr>",
                            "<tr><td>Kentaur Hotel</td><td>Hotel</td><td>3</td><td>Nagy Gabriella</td><td>3</td><td>2016-04-21</td><td>2016-04-24</td><td>3</td><td>5</td></tr>",
                            "<tr><td>Kentaur Hotel</td><td>Hotel</td><td>3</td><td>Horváth Bálint</td><td>2</td><td>2016-04-22</td><td>2016-04-29</td><td>7</td><td>3</td></tr>",
                            "<tr><td>Lagúna Hotel</td><td>Hotel</td><td>4</td><td>Rácz Dániel</td><td>2</td><td>2016-04-22</td><td>2016-04-25</td><td>3</td><td>7</td></tr>",
                            "<tr><td>Hotel Három Hattyú</td><td>Hotel</td><td>4</td><td>Gyárfás Krisztina</td><td>2</td><td>2016-04-23</td><td>2016-04-24</td><td>1</td><td>3</td></tr>",
                            "<tr><td>Hotel Három Hattyú</td><td>Hotel</td><td>4</td><td>Szalai Szilárd</td><td>3</td><td>2016-04-23</td><td>2016-04-30</td><td>7</td><td>1</td></tr>",
                            "<tr><td>Fortuna panzió</td><td>panzió</td><td>3</td><td>Józsa Zsolt</td><td>4</td><td>2016-04-24</td><td>2016-04-26</td><td>2</td><td>7</td></tr>",
                            "<tr><td>Partiszél Vendégház</td><td>vendégház</td><td>0</td><td>Vizi István</td><td>3</td><td>2016-04-24</td><td>2016-04-28</td><td>4</td><td>2</td></tr>",
                            "<tr><td>Gold Hotel</td><td>Hotel</td><td>3</td><td>Erdei András</td><td>1</td><td>2016-04-24</td><td>2016-05-01</td><td>7</td><td>4</td></tr>",
                            "<tr><td>Fortuna panzió</td><td>panzió</td><td>3</td><td>Gondos Katalin</td><td>1</td><td>2016-04-25</td><td>2016-05-01</td><td>6</td><td>7</td></tr>",
                            "<tr><td>Fortuna Panzió</td><td>panzió</td><td>3</td><td>Telek Gábor</td><td>3</td><td>2016-04-26</td><td>2016-04-29</td><td>3</td><td>6</td></tr>",
                            "<tr><td>Fortuna Apartman</td><td>Apartman</td><td>0</td><td>Rab Sebestyén</td><td>4</td><td>2016-04-26</td><td>2016-05-02</td><td>6</td><td>3</td></tr>",
                            "<tr><td>Fortuna panzió</td><td>panzió</td><td>3</td><td>Móra László</td><td>2</td><td>2016-04-27</td><td>2016-04-29</td><td>2</td><td>6</td></tr>",
                            "<tr><td>Hotel Három Hattyú</td><td>Hotel</td><td>4</td><td>Kalacsi Márton</td><td>3</td><td>2016-04-27</td><td>2016-05-04</td><td>7</td><td>2</td></tr>",
                            "<tr><td>Fortuna panzió</td><td>panzió</td><td>3</td><td>Horváth Ágnes</td><td>4</td><td>2016-04-27</td><td>2016-04-28</td><td>1</td><td>7</td></tr>",
                            "<tr><td>Hotel Három Hattyú</td><td>Hotel</td><td>4</td><td>Pivarcsi Anett</td><td>3</td><td>2016-04-28</td><td>2016-05-02</td><td>4</td><td>1</td></tr>",
                            "<tr><td>Gold Hotel</td><td>Hotel</td><td>3</td><td>Bori Krisztina</td><td>2</td><td>2016-04-28</td><td>2016-04-30</td><td>2</td><td>4</td></tr>",
                            "<tr><td>Sába-Ház</td><td>vendégház</td><td>0</td><td>Mohos Mónika</td><td>2</td><td>2016-04-29</td><td>2016-05-01</td><td>2</td><td>2</td></tr>",
                            "<tr><td>Hotel Három Hattyú</td><td>Hotel</td><td>4</td><td>Urbán Viktoria</td><td>1</td><td>2016-04-30</td><td>2016-05-03</td><td>3</td><td>2</td></tr>",
                            "<tr><td>Gold Hotel</td><td>Hotel</td><td>3</td><td>Tóth Zoltán</td><td>3</td><td>2016-05-01</td><td>2016-05-04</td><td>3</td><td>3</td></tr>",
                            "<tr><td>Hotel Három Hattyú</td><td>Hotel</td><td>4</td><td>Viktor Éva</td><td>3</td><td>2016-05-01</td><td>2016-05-05</td><td>4</td><td>3</td></tr>",
                            "<tr><td>Fortuna panzió</td><td>panzió</td><td>3</td><td>Vígh András</td><td>2</td><td>2016-05-01</td><td>2016-05-06</td><td>5</td><td>4</td></tr>",
                            "<tr><td>Jáde panzió</td><td>panzió</td><td>3</td><td>Nagymihály Csongor</td><td>2</td><td>2016-05-01</td><td>2016-05-04</td><td>3</td><td>5</td></tr>",
                            "<tr><td>Hotel Három Hattyú</td><td>Hotel</td><td>4</td><td>Kovács Bernadett</td><td>2</td><td>2016-05-01</td><td>2016-05-03</td><td>2</td><td>3</td></tr>",
                            "<tr><td>Hotel Három Hattyú</td><td>Hotel</td><td>4</td><td>Gyuris József</td><td>2</td><td>2016-05-02</td><td>2016-05-06</td><td>4</td><td>2</td></tr>",
                            "<tr><td>Hotel Három Hattyú</td><td>Hotel</td><td>4</td><td>Boros Vivien</td><td>3</td><td>2016-05-02</td><td>2016-05-05</td><td>3</td><td>4</td></tr>",
                            "<tr><td>Hotel Három Hattyú</td><td>Hotel</td><td>4</td><td>Fényes Tamás</td><td>2</td><td>2016-05-03</td><td>2016-05-04</td><td>1</td><td>3</td></tr>",
                            "<tr><td>Jáde panzió</td><td>panzió</td><td>3</td><td>Szirmai Renáta</td><td>2</td><td>2016-05-04</td><td>2016-05-11</td><td>7</td><td>1</td></tr>",
                            "<tr><td>Sába-Ház</td><td>vendégház</td><td>0</td><td>Kalacsi Márton</td><td>1</td><td>2016-05-05</td><td>2016-05-10</td><td>5</td><td>7</td></tr>",
                            "<tr><td>Hotel Három Hattyú</td><td>Hotel</td><td>4</td><td>Bárci Gusztáv</td><td>2</td><td>2016-05-06</td><td>2016-05-13</td><td>7</td><td>5</td></tr>",
                            "<tr><td>Kentaur Hotel</td><td>Hotel</td><td>3</td><td>Bozsik Balázs</td><td>2</td><td>2016-05-07</td><td>2016-05-14</td><td>7</td><td>7</td></tr>",
                            "<tr><td>Fortuna panzió</td><td>panzió</td><td>3</td><td>Maródi Andrea</td><td>4</td><td>2016-05-08</td><td>2016-05-14</td><td>6</td><td>7</td></tr>",
                            "<tr><td>Fortuna Apartman</td><td>Apartman</td><td>0</td><td>Győrffy Bence</td><td>2</td><td>2016-05-08</td><td>2016-05-11</td><td>3</td><td>6</td></tr>",
                            "<tr><td>Hotel Három Hattyú</td><td>Hotel</td><td>4</td><td>Nagymihály Csongor</td><td>3</td><td>2016-05-08</td><td>2016-05-15</td><td>7</td><td>3</td></tr>",
                            "<tr><td>Kentaur Hotel</td><td>Hotel</td><td>3</td><td>Orosz Ferenc</td><td>2</td><td>2016-05-08</td><td>2016-05-11</td><td>3</td><td>7</td></tr>",
                            "<tr><td>Fortuna panzió</td><td>panzió</td><td>3</td><td>Lukács Kornél</td><td>3</td><td>2016-05-08</td><td>2016-05-14</td><td>6</td><td>3</td></tr>",
                            "<tr><td>Gold Hotel</td><td>Hotel</td><td>3</td><td>Kovács Katalin</td><td>3</td><td>2016-05-09</td><td>2016-05-15</td><td>6</td><td>6</td></tr>",
                            "<tr><td>Hotel Három Hattyú</td><td>Hotel</td><td>4</td><td>Giliga János</td><td>1</td><td>2016-05-09</td><td>2016-05-15</td><td>6</td><td>6</td></tr>",
                            "<tr><td>Sába-Ház</td><td>vendégház</td><td>0</td><td>Rácz Dániel</td><td>3</td><td>2016-05-09</td><td>2016-05-13</td><td>4</td><td>6</td></tr>",
                            "<tr><td>Fortuna Panzió</td><td>panzió</td><td>3</td><td>Lengyel Ágnes</td><td>3</td><td>2016-05-09</td><td>2016-05-11</td><td>2</td><td>4</td></tr>",
                            "<tr><td>Hotel Három Hattyú</td><td>Hotel</td><td>4</td><td>Hegedűs Norbert</td><td>2</td><td>2016-05-09</td><td>2016-05-10</td><td>1</td><td>2</td></tr>",
                            "<tr><td>Gold Hotel</td><td>Hotel</td><td>3</td><td>Kő Nikoletta</td><td>2</td><td>2016-05-09</td><td>2016-05-15</td><td>6</td><td>1</td></tr>",
                            "<tr><td>Partiszél Vendégház</td><td>vendégház</td><td>0</td><td>Józsa Zsolt</td><td>2</td><td>2016-05-09</td><td>2016-05-11</td><td>2</td><td>6</td></tr>",
                            "<tr><td>Hotel Három Hattyú</td><td>Hotel</td><td>4</td><td>Keszler Dániel</td><td>4</td><td>2016-05-10</td><td>2016-05-13</td><td>3</td><td>2</td></tr>",
                            "<tr><td>Hotel Három Hattyú</td><td>Hotel</td><td>4</td><td>Szilágyi Mátyás</td><td>2</td><td>2016-05-10</td><td>2016-05-16</td><td>6</td><td>3</td></tr>",
                            "<tr><td>Hotel Három Hattyú</td><td>Hotel</td><td>4</td><td>Szirmai Renáta</td><td>2</td><td>2016-05-11</td><td>2016-05-16</td><td>5</td><td>6</td></tr>",
                            "<tr><td>Gold Hotel</td><td>Hotel</td><td>3</td><td>Farkas Sándor</td><td>2</td><td>2016-05-12</td><td>2016-05-15</td><td>3</td><td>5</td></tr>",
                            "<tr><td>Partiszél Vendégház</td><td>vendégház</td><td>0</td><td>Barna Zoltán</td><td>3</td><td>2016-05-12</td><td>2016-05-16</td><td>4</td><td>3</td></tr>",
                            "<tr><td>Kentaur Hotel</td><td>Hotel</td><td>3</td><td>Tóth Júlia</td><td>1</td><td>2016-05-12</td><td>2016-05-17</td><td>5</td><td>4</td></tr>",
                            "<tr><td>Kentaur Hotel</td><td>Hotel</td><td>3</td><td>Baráth Mária</td><td>2</td><td>2016-05-13</td><td>2016-05-18</td><td>5</td><td>5</td></tr>",
                            "<tr><td>Lagúna Hotel</td><td>Hotel</td><td>4</td><td>Barna Zoltán</td><td>3</td><td>2016-05-13</td><td>2016-05-16</td><td>3</td><td>5</td></tr>",
                            "<tr><td>Gold Hotel</td><td>Hotel</td><td>3</td><td>Tari Szilvia</td><td>2</td><td>2016-05-14</td><td>2016-05-21</td><td>7</td><td>3</td></tr>",
                            "<tr><td>Kentaur Hotel</td><td>Hotel</td><td>3</td><td>Bajusz Bence</td><td>3</td><td>2016-05-14</td><td>2016-05-17</td><td>3</td><td>7</td></tr>",
                            "<tr><td>Hotel Három Hattyú</td><td>Hotel</td><td>4</td><td>Komjáti András</td><td>2</td><td>2016-05-14</td><td>2016-05-16</td><td>2</td><td>3</td></tr>",
                            "<tr><td>Kentaur Hotel</td><td>Hotel</td><td>3</td><td>Kelemen Áron</td><td>4</td><td>2016-05-14</td><td>2016-05-20</td><td>6</td><td>2</td></tr>",
                            "<tr><td>Szieszta Apartmanház</td><td>Apartman</td><td>0</td><td>Patay Róbert</td><td>2</td><td>2016-05-15</td><td>2016-05-18</td><td>3</td><td>6</td></tr>",
                            "<tr><td>Lagúna Hotel</td><td>Hotel</td><td>4</td><td>Bori Krisztina</td><td>1</td><td>2016-05-16</td><td>2016-05-20</td><td>4</td><td>3</td></tr>",
                            "<tr><td>Lagúna Hotel</td><td>Hotel</td><td>4</td><td>Antal Tamás</td><td>2</td><td>2016-05-17</td><td>2016-05-22</td><td>5</td><td>4</td></tr>",
                            "<tr><td>Kentaur Hotel</td><td>Hotel</td><td>3</td><td>Barta Zsuzsanna</td><td>2</td><td>2016-05-17</td><td>2016-05-23</td><td>6</td><td>5</td></tr>",
                            "<tr><td>Gold Hotel</td><td>Hotel</td><td>3</td><td>Kuruc Emese</td><td>2</td><td>2017-01-30</td><td>2017-01-31</td><td>1</td><td>6</td></tr>",
                            "<tr><td>Hotel Három Hattyú</td><td>Hotel</td><td>4</td><td>Kelemen Áron</td><td>2</td><td>2017-01-30</td><td>2017-02-03</td><td>4</td><td>1</td></tr>",
                            "<tr><td>Hotel Három Hattyú</td><td>Hotel</td><td>4</td><td>Szűcs Annamária</td><td>4</td><td>2017-01-30</td><td>2017-01-31</td><td>1</td><td>4</td></tr>",
                            "<tr><td>Hotel Három Hattyú</td><td>Hotel</td><td>4</td><td>Giliga János</td><td>2</td><td>2017-01-31</td><td>2017-02-05</td><td>5</td><td>1</td></tr>",
                            "<tr><td>Partiszél Vendégház</td><td>vendégház</td><td>0</td><td>Papp Imre</td><td>2</td><td>2017-02-01</td><td>2017-02-04</td><td>3</td><td>5</td></tr>",
                            "<tr><td>Hotel Három Hattyú</td><td>Hotel</td><td>4</td><td>Kő Nikoletta</td><td>2</td><td>2017-02-01</td><td>2017-02-04</td><td>3</td><td>3</td></tr>",
                            "<tr><td>Hotel Három Hattyú</td><td>Hotel</td><td>4</td><td>Vígh András</td><td>2</td><td>2017-02-02</td><td>2017-02-08</td><td>6</td><td>3</td></tr>",
                            "<tr><td>Lagúna Hotel</td><td>Hotel</td><td>4</td><td>Szekendi Beatrix</td><td>2</td><td>2017-02-03</td><td>2017-02-04</td><td>1</td><td>6</td></tr>",
                            "<tr><td>Sába-Ház</td><td>vendégház</td><td>0</td><td>Bárci Gusztáv</td><td>2</td><td>2017-02-03</td><td>2017-02-09</td><td>6</td><td>1</td></tr>",
                            "<tr><td>Gold Hotel</td><td>Hotel</td><td>3</td><td>Tankó Veronika</td><td>2</td><td>2017-02-03</td><td>2017-02-05</td><td>2</td><td>6</td></tr>",
                            "<tr><td>Gold Hotel</td><td>Hotel</td><td>3</td><td>Miklós Szabolcs</td><td>3</td><td>2017-02-04</td><td>2017-02-05</td><td>1</td><td>2</td></tr>",
                            "<tr><td>Kentaur Hotel</td><td>Hotel</td><td>3</td><td>Nagy Gabriella</td><td>3</td><td>2017-02-04</td><td>2017-02-11</td><td>7</td><td>1</td></tr>",
                            "<tr><td>Hotel Három Hattyú</td><td>Hotel</td><td>4</td><td>Barna Debóra</td><td>3</td><td>2017-02-04</td><td>2017-02-06</td><td>2</td><td>7</td></tr>",
                            "<tr><td>Hotel Három Hattyú</td><td>Hotel</td><td>4</td><td>Viktor Éva</td><td>5</td><td>2017-02-04</td><td>2017-02-11</td><td>7</td><td>2</td></tr>",
                            "<tr><td>Hotel Három Hattyú</td><td>Hotel</td><td>4</td><td>Nagy Júlia</td><td>4</td><td>2017-02-04</td><td>2017-02-11</td><td>7</td><td>7</td></tr>",
                            "<tr><td>Családi Ház</td><td>vendégház</td><td>0</td><td>Horváth Krisztina</td><td>3</td><td>2017-02-04</td><td>2017-02-11</td><td>7</td><td>7</td></tr>",
                            "<tr><td>Gold Hotel</td><td>Hotel</td><td>3</td><td>Szedlár Krisztina</td><td>2</td><td>2017-02-05</td><td>2017-02-07</td><td>2</td><td>7</td></tr>",
                            "<tr><td>Gold Hotel</td><td>Hotel</td><td>3</td><td>Fő Nándor</td><td>3</td><td>2017-02-05</td><td>2017-02-08</td><td>3</td><td>2</td></tr>",
                            "<tr><td>Hotel Három Hattyú</td><td>Hotel</td><td>4</td><td>Papp Imre</td><td>4</td><td>2017-02-05</td><td>2017-02-07</td><td>2</td><td>3</td></tr>",
                            "<tr><td>Hotel Három Hattyú</td><td>Hotel</td><td>4</td><td>Győrffy Bence</td><td>3</td><td>2017-02-05</td><td>2017-02-09</td><td>4</td><td>2</td></tr>",
                            "<tr><td>Hotel Három Hattyú</td><td>Hotel</td><td>4</td><td>Bíró Péter</td><td>3</td><td>2017-02-05</td><td>2017-02-09</td><td>4</td><td>4</td></tr>",
                            "<tr><td>Kentaur Hotel</td><td>Hotel</td><td>3</td><td>Barkóci Ádám</td><td>1</td><td>2017-02-06</td><td>2017-02-10</td><td>4</td><td>4</td></tr>",
                            "<tr><td>Kentaur Hotel</td><td>Hotel</td><td>3</td><td>Mohos Mónika</td><td>2</td><td>2017-02-06</td><td>2017-02-09</td><td>3</td><td>4</td></tr>",
                            "<tr><td>Fortuna Apartman</td><td>Apartman</td><td>0</td><td>Juhász Mihály</td><td>4</td><td>2017-02-06</td><td>2017-02-12</td><td>6</td><td>3</td></tr>",
                            "<tr><td>Lagúna Hotel</td><td>Hotel</td><td>4</td><td>Vizi István</td><td>3</td><td>2017-02-07</td><td>2017-02-10</td><td>3</td><td>6</td></tr>",
                            "<tr><td>Hotel Három Hattyú</td><td>Hotel</td><td>4</td><td>Bittmann Edit</td><td>3</td><td>2017-02-08</td><td>2017-02-14</td><td>6</td><td>3</td></tr>",
                            "<tr><td>Hotel Három Hattyú</td><td>Hotel</td><td>4</td><td>Antal László</td><td>2</td><td>2017-02-08</td><td>2017-02-14</td><td>6</td><td>6</td></tr>",
                            "<tr><td>Gold Hotel</td><td>Hotel</td><td>3</td><td>Tóth András</td><td>4</td><td>2017-02-08</td><td>2017-02-10</td><td>2</td><td>6</td></tr>",
                            "<tr><td>Kentaur Hotel</td><td>Hotel</td><td>3</td><td>Kerényi Beatrix</td><td>3</td><td>2017-02-08</td><td>2017-02-09</td><td>1</td><td>2</td></tr>",
                            "<tr><td>Gold Hotel</td><td>Hotel</td><td>3</td><td>Szalai Szilárd</td><td>1</td><td>2017-02-08</td><td>2017-02-15</td><td>7</td><td>1</td></tr>",
                            "<tr><td>Szieszta Apartmanház</td><td>Apartman</td><td>0</td><td>Pataki Brigitta</td><td>2</td><td>2017-02-09</td><td>2017-02-16</td><td>7</td><td>7</td></tr>",
                            "<tr><td>Lagúna Hotel</td><td>Hotel</td><td>4</td><td>Kiss Andrea</td><td>2</td><td>2017-02-09</td><td>2017-02-14</td><td>5</td><td>7</td></tr>",
                            "<tr><td>Fortuna Panzió</td><td>panzió</td><td>3</td><td>Bozsik Balázs</td><td>3</td><td>2017-02-10</td><td>2017-02-14</td><td>4</td><td>5</td></tr>",
                            "<tr><td>Hotel Három Hattyú</td><td>Hotel</td><td>4</td><td>Érsek Eszter</td><td>2</td><td>2017-02-10</td><td>2017-02-14</td><td>4</td><td>4</td></tr>",
                            "<tr><td>Gold Hotel</td><td>Hotel</td><td>3</td><td>Palágyi Polla</td><td>2</td><td>2017-02-11</td><td>2017-02-16</td><td>5</td><td>4</td></tr>",
                            "<tr><td>Hotel Három Hattyú</td><td>Hotel</td><td>4</td><td>Fényes Tamás</td><td>2</td><td>2017-02-12</td><td>2017-02-17</td><td>5</td><td>5</td></tr>",
                            "<tr><td>Fortuna Panzió</td><td>panzió</td><td>3</td><td>Nagy Gabriella</td><td>2</td><td>2017-02-12</td><td>2017-02-13</td><td>1</td><td>5</td></tr>",
                            "<tr><td>Gold Hotel</td><td>Hotel</td><td>3</td><td>Harangozó János</td><td>3</td><td>2017-02-12</td><td>2017-02-14</td><td>2</td><td>1</td></tr>",
                            "<tr><td>Sába-Ház</td><td>vendégház</td><td>0</td><td>Kiss Lajos</td><td>1</td><td>2017-02-12</td><td>2017-02-13</td><td>1</td><td>2</td></tr>",
                            "<tr><td>Szieszta Apartmanház</td><td>Apartman</td><td>0</td><td>Bajusz Bence</td><td>3</td><td>2017-02-12</td><td>2017-02-19</td><td>7</td><td>1</td></tr>",
                            "<tr><td>Kentaur Hotel</td><td>Hotel</td><td>3</td><td>Rácz Dániel</td><td>3</td><td>2017-02-12</td><td>2017-02-13</td><td>1</td><td>7</td></tr>",
                            "<tr><td>Jáde panzió</td><td>panzió</td><td>3</td><td>Tóth Anikó</td><td>3</td><td>2017-02-12</td><td>2017-02-14</td><td>2</td><td>1</td></tr>",
                            "<tr><td>Hotel Három Hattyú</td><td>Hotel</td><td>4</td><td>Bozsik Balázs</td><td>2</td><td>2017-02-12</td><td>2017-02-14</td><td>2</td><td>2</td></tr>",
                            "<tr><td>Hotel Három Hattyú</td><td>Hotel</td><td>4</td><td>Móricz Árpád</td><td>3</td><td>2017-02-12</td><td>2017-02-14</td><td>2</td><td>2</td></tr>",
                            "<tr><td>Hotel Három Hattyú</td><td>Hotel</td><td>4</td><td>Nagymihály Csongor</td><td>3</td><td>2017-02-13</td><td>2017-02-19</td><td>6</td><td>2</td></tr>",
                            "<tr><td>Hotel Három Hattyú</td><td>Hotel</td><td>4</td><td>Oroszi György</td><td>2</td><td>2017-02-13</td><td>2017-02-15</td><td>2</td><td>6</td></tr>",
                            "<tr><td>Hotel Három Hattyú</td><td>Hotel</td><td>4</td><td>Barabás Pál</td><td>3</td><td>2017-02-13</td><td>2017-02-19</td><td>6</td><td>2</td></tr>",
                            "<tr><td>Hotel Három Hattyú</td><td>Hotel</td><td>4</td><td>Szűcs Norbert</td><td>3</td><td>2017-02-13</td><td>2017-02-15</td><td>2</td><td>6</td></tr>",
                            "<tr><td>Fortuna panzió</td><td>panzió</td><td>3</td><td>Szirmai Renáta</td><td>1</td><td>2017-02-13</td><td>2017-02-17</td><td>4</td><td>2</td></tr>",
                            "<tr><td>Hotel Három Hattyú</td><td>Hotel</td><td>4</td><td>Szirmai Renáta</td><td>2</td><td>2017-02-14</td><td>2017-02-17</td><td>3</td><td>4</td></tr>",
                            "<tr><td>Kentaur Hotel</td><td>Hotel</td><td>3</td><td>Antal Tamás</td><td>3</td><td>2017-02-14</td><td>2017-02-19</td><td>5</td><td>3</td></tr>",
                            "<tr><td>Fortuna Apartman</td><td>Apartman</td><td>0</td><td>Simon Bernadett</td><td>3</td><td>2017-02-14</td><td>2017-02-15</td><td>1</td><td>5</td></tr>",
                            "<tr><td>Jáde panzió</td><td>panzió</td><td>3</td><td>Baróti Attila</td><td>2</td><td>2017-02-15</td><td>2017-02-22</td><td>7</td><td>1</td></tr>",
                            "<tr><td>Fortuna panzió</td><td>panzió</td><td>3</td><td>Horváth Árpád</td><td>2</td><td>2017-02-16</td><td>2017-02-18</td><td>2</td><td>7</td></tr>",
                            "<tr><td>Lagúna Hotel</td><td>Hotel</td><td>4</td><td>Regős Annamária</td><td>2</td><td>2017-02-16</td><td>2017-02-18</td><td>2</td><td>2</td></tr>",
                            "<tr><td>Sába-Ház</td><td>vendégház</td><td>0</td><td>Hartyánszky Ágnes</td><td>3</td><td>2017-02-16</td><td>2017-02-21</td><td>5</td><td>2</td></tr>",
                            "<tr><td>Fortuna Panzió</td><td>panzió</td><td>3</td><td>Csiger Bertalan</td><td>2</td><td>2017-02-16</td><td>2017-02-22</td><td>6</td><td>5</td></tr>",
                            "<tr><td>Hotel Három Hattyú</td><td>Hotel</td><td>4</td><td>Berta Dávid</td><td>3</td><td>2017-02-16</td><td>2017-02-19</td><td>3</td><td>6</td></tr>",
                            "<tr><td>Családi Ház</td><td>vendégház</td><td>0</td><td>Szedlár Krisztina</td><td>4</td><td>2017-02-16</td><td>2017-02-20</td><td>4</td><td>3</td></tr>",
                            "<tr><td>Sába-Ház</td><td>vendégház</td><td>0</td><td>Fényes Tamás</td><td>4</td><td>2017-02-16</td><td>2017-02-19</td><td>3</td><td>4</td></tr>",
                            "<tr><td>Hotel Három Hattyú</td><td>Hotel</td><td>4</td><td>Kardos Renáta</td><td>1</td><td>2017-02-16</td><td>2017-02-23</td><td>7</td><td>3</td></tr>",
                            "<tr><td>Lagúna Hotel</td><td>Hotel</td><td>4</td><td>Mile Norbert</td><td>1</td><td>2017-02-16</td><td>2017-02-17</td><td>1</td><td>7</td></tr>",
                            "<tr><td>Lagúna Hotel</td><td>Hotel</td><td>4</td><td>Iván Róbert</td><td>2</td><td>2017-02-17</td><td>2017-02-20</td><td>3</td><td>1</td></tr>",
                            "<tr><td>Fortuna Panzió</td><td>panzió</td><td>3</td><td>Sobják Dávid</td><td>3</td><td>2017-02-17</td><td>2017-02-20</td><td>3</td><td>3</td></tr>",
                            "<tr><td>Kentaur Hotel</td><td>Hotel</td><td>3</td><td>Ötvös Árpád</td><td>4</td><td>2017-02-18</td><td>2017-02-19</td><td>1</td><td>3</td></tr>",
                            "<tr><td>Szieszta Apartmanház</td><td>Apartman</td><td>0</td><td>Nagy László</td><td>3</td><td>2017-02-18</td><td>2017-02-25</td><td>7</td><td>1</td></tr>",
                            "<tr><td>Fortuna Apartman</td><td>Apartman</td><td>0</td><td>Bucskó Róza</td><td>3</td><td>2017-02-18</td><td>2017-02-21</td><td>3</td><td>7</td></tr>",
                            "<tr><td>Fortuna Panzió</td><td>panzió</td><td>3</td><td>Molnár Zsófi</td><td>3</td><td>2017-02-18</td><td>2017-02-19</td><td>1</td><td>3</td></tr>",
                            "<tr><td>Lagúna Hotel</td><td>Hotel</td><td>4</td><td>Hamvay-Kovács Anita</td><td>2</td><td>2017-02-19</td><td>2017-02-22</td><td>3</td><td>1</td></tr>",
                            "<tr><td>Fortuna Panzió</td><td>panzió</td><td>3</td><td>Hamvay-Kovács Anita</td><td>2</td><td>2017-02-20</td><td>2017-02-25</td><td>5</td><td>3</td></tr>",
                            "<tr><td>Hotel Három Hattyú</td><td>Hotel</td><td>4</td><td>Csiger Bertalan</td><td>4</td><td>2017-02-20</td><td>2017-02-24</td><td>4</td><td>5</td></tr>",
                            "<tr><td>Hotel Három Hattyú</td><td>Hotel</td><td>4</td><td>Rácz Dániel</td><td>3</td><td>2017-02-20</td><td>2017-02-23</td><td>3</td><td>4</td></tr>",
                            "<tr><td>Fortuna Panzió</td><td>panzió</td><td>3</td><td>Barabás Pál</td><td>3</td><td>2017-02-20</td><td>2017-02-22</td><td>2</td><td>3</td></tr>",
                            "<tr><td>Kentaur Hotel</td><td>Hotel</td><td>3</td><td>Szalai Péter</td><td>2</td><td>2017-02-21</td><td>2017-02-24</td><td>3</td><td>2</td></tr>",
                            "<tr><td>Lagúna Hotel</td><td>Hotel</td><td>4</td><td>Kelemen Áron</td><td>2</td><td>2017-02-21</td><td>2017-02-23</td><td>2</td><td>3</td></tr>",
                            "<tr><td>Fortuna panzió</td><td>panzió</td><td>3</td><td>Nagy Gabriella</td><td>3</td><td>2017-02-21</td><td>2017-02-27</td><td>6</td><td>2</td></tr>",
                            "<tr><td>Gold Hotel</td><td>Hotel</td><td>3</td><td>Opra Attila</td><td>3</td><td>2017-02-22</td><td>2017-02-25</td><td>3</td><td>6</td></tr>",
                            "<tr><td>Lagúna Hotel</td><td>Hotel</td><td>4</td><td>Bieniek Ádám</td><td>3</td><td>2017-02-23</td><td>2017-02-27</td><td>4</td><td>3</td></tr>",
                            "<tr><td>Hotel Három Hattyú</td><td>Hotel</td><td>4</td><td>Tóth Anikó</td><td>2</td><td>2017-02-23</td><td>2017-02-24</td><td>1</td><td>4</td></tr>",
                            "<tr><td>Gold Hotel</td><td>Hotel</td><td>3</td><td>Bárci Gusztáv</td><td>4</td><td>2017-02-23</td><td>2017-03-01</td><td>6</td><td>1</td></tr>",
                            "<tr><td>Kentaur Hotel</td><td>Hotel</td><td>3</td><td>Mohos Mónika</td><td>2</td><td>2017-02-23</td><td>2017-02-26</td><td>3</td><td>6</td></tr>",
                            "<tr><td>Hotel Három Hattyú</td><td>Hotel</td><td>4</td><td>Czérna Krisztián</td><td>2</td><td>2017-02-23</td><td>2017-03-02</td><td>7</td><td>3</td></tr>",
                            "<tr><td>Partiszél Vendégház</td><td>vendégház</td><td>0</td><td>Kozma Péter</td><td>3</td><td>2017-02-23</td><td>2017-02-26</td><td>3</td><td>7</td></tr>",
                            "<tr><td>Gold Hotel</td><td>Hotel</td><td>3</td><td>Horváth Katalin</td><td>3</td><td>2017-02-24</td><td>2017-02-27</td><td>3</td><td>3</td></tr>",
                            "<tr><td>Gold Hotel</td><td>Hotel</td><td>3</td><td>Baráth Mária</td><td>2</td><td>2017-02-24</td><td>2017-03-02</td><td>6</td><td>3</td></tr>",
                            "<tr><td>Hotel Három Hattyú</td><td>Hotel</td><td>4</td><td>Oroszi György</td><td>3</td><td>2017-02-24</td><td>2017-02-25</td><td>1</td><td>6</td></tr>",
                            "<tr><td>Hotel Három Hattyú</td><td>Hotel</td><td>4</td><td>Gyuris József</td><td>3</td><td>2017-02-24</td><td>2017-03-03</td><td>7</td><td>1</td></tr>",
                            "<tr><td>Fortuna panzió</td><td>panzió</td><td>3</td><td>Simon Bernadett</td><td>1</td><td>2017-02-24</td><td>2017-03-03</td><td>7</td><td>7</td></tr>",
                            "<tr><td>Partiszél Vendégház</td><td>vendégház</td><td>0</td><td>Vörös Dániel</td><td>3</td><td>2017-02-25</td><td>2017-03-01</td><td>4</td><td>7</td></tr>",
                            "<tr><td>Lagúna Hotel</td><td>Hotel</td><td>4</td><td>Sobják Dávid</td><td>4</td><td>2017-02-25</td><td>2017-02-27</td><td>2</td><td>4</td></tr>",
                            "<tr><td>Kentaur Hotel</td><td>Hotel</td><td>3</td><td>Jakab Áron</td><td>3</td><td>2017-02-26</td><td>2017-02-27</td><td>1</td><td>2</td></tr>",
                            "<tr><td>Hotel Három Hattyú</td><td>Hotel</td><td>4</td><td>Fülöp Eszter</td><td>3</td><td>2017-02-26</td><td>2017-02-27</td><td>1</td><td>1</td></tr>",
                            "<tr><td>Szieszta Apartmanház</td><td>Apartman</td><td>0</td><td>Szikszai Réka</td><td>2</td><td>2017-02-26</td><td>2017-03-04</td><td>6</td><td>1</td></tr>",
                            "<tr><td>Gold Hotel</td><td>Hotel</td><td>3</td><td>Szűcs Norbert</td><td>1</td><td>2017-02-26</td><td>2017-03-01</td><td>3</td><td>6</td></tr>",
                            "<tr><td>Kentaur Hotel</td><td>Hotel</td><td>3</td><td>Tóth Júlia</td><td>3</td><td>2017-02-27</td><td>2017-03-06</td><td>7</td><td>3</td></tr>",
                            "<tr><td>Lagúna Hotel</td><td>Hotel</td><td>4</td><td>Szűcs Balázs</td><td>1</td><td>2017-02-27</td><td>2017-03-06</td><td>7</td><td>7</td></tr>",
                            "<tr><td>Hotel Három Hattyú</td><td>Hotel</td><td>4</td><td>Kozma Péter</td><td>3</td><td>2017-02-28</td><td>2017-03-05</td><td>5</td><td>7</td></tr>",
                            "<tr><td>Fortuna Panzió</td><td>panzió</td><td>3</td><td>Kardos Renáta</td><td>1</td><td>2017-03-01</td><td>2017-03-06</td><td>5</td><td>5</td></tr>",
                            "<tr><td>Kentaur Hotel</td><td>Hotel</td><td>3</td><td>Keszler Dániel</td><td>4</td><td>2017-03-01</td><td>2017-03-06</td><td>5</td><td>5</td></tr>",
                            "<tr><td>Kentaur Hotel</td><td>Hotel</td><td>3</td><td>Kalacsi Márton</td><td>2</td><td>2017-03-02</td><td>2017-03-03</td><td>1</td><td>5</td></tr>",
                            "<tr><td>Kentaur Hotel</td><td>Hotel</td><td>3</td><td>Horváth Krisztina</td><td>3</td><td>2017-03-03</td><td>2017-03-04</td><td>1</td><td>1</td></tr>",
                            "<tr><td>Hotel Három Hattyú</td><td>Hotel</td><td>4</td><td>Mile Norbert</td><td>2</td><td>2017-03-03</td><td>2017-03-07</td><td>4</td><td>1</td></tr>",
                            "</table>"
                        ]
                    }
                }
            ],
            "execution_count": 19
        },
        {
            "cell_type": "code",
            "source": [
                "select year(f.mettol) as foglalas_ev, month(f.mettol) as foglalas_ho, szh.szallas_nev, sum(f.felnott_szam + f.gyermek_szam) as osszes_vendeg\r\n",
                "from Szallashely szh \r\n",
                "inner join Szoba sz on sz.szallas_fk = szh.szallas_id\r\n",
                "inner join Foglalas f on f.szoba_fk = sz.szoba_id\r\n",
                "inner join Vendeg v on v.usernev = f.ugyfel_fk \r\n",
                "group by rollup(szh.szallas_nev, f.mettol);\r\n",
                ""
            ],
            "metadata": {
                "language": "sql",
                "azdata_cell_guid": "473c44da-294d-440b-b556-c477b255dd5b"
            },
            "outputs": [
                {
                    "output_type": "display_data",
                    "data": {
                        "text/html": "(169 rows affected)"
                    },
                    "metadata": {}
                },
                {
                    "output_type": "display_data",
                    "data": {
                        "text/html": "Total execution time: 00:00:00.060"
                    },
                    "metadata": {}
                },
                {
                    "output_type": "execute_result",
                    "metadata": {},
                    "execution_count": 27,
                    "data": {
                        "application/vnd.dataresource+json": {
                            "schema": {
                                "fields": [
                                    {
                                        "name": "foglalas_ev"
                                    },
                                    {
                                        "name": "foglalas_ho"
                                    },
                                    {
                                        "name": "szallas_nev"
                                    },
                                    {
                                        "name": "osszes_vendeg"
                                    }
                                ]
                            },
                            "data": [
                                {
                                    "foglalas_ev": "2017",
                                    "foglalas_ho": "2",
                                    "szallas_nev": "Családi Ház",
                                    "osszes_vendeg": "3"
                                },
                                {
                                    "foglalas_ev": "2017",
                                    "foglalas_ho": "2",
                                    "szallas_nev": "Családi Ház",
                                    "osszes_vendeg": "4"
                                },
                                {
                                    "foglalas_ev": "NULL",
                                    "foglalas_ho": "NULL",
                                    "szallas_nev": "Családi Ház",
                                    "osszes_vendeg": "7"
                                },
                                {
                                    "foglalas_ev": "2016",
                                    "foglalas_ho": "4",
                                    "szallas_nev": "Fortuna Apartman",
                                    "osszes_vendeg": "2"
                                },
                                {
                                    "foglalas_ev": "2016",
                                    "foglalas_ho": "4",
                                    "szallas_nev": "Fortuna Apartman",
                                    "osszes_vendeg": "4"
                                },
                                {
                                    "foglalas_ev": "2016",
                                    "foglalas_ho": "5",
                                    "szallas_nev": "Fortuna Apartman",
                                    "osszes_vendeg": "2"
                                },
                                {
                                    "foglalas_ev": "2017",
                                    "foglalas_ho": "2",
                                    "szallas_nev": "Fortuna Apartman",
                                    "osszes_vendeg": "4"
                                },
                                {
                                    "foglalas_ev": "2017",
                                    "foglalas_ho": "2",
                                    "szallas_nev": "Fortuna Apartman",
                                    "osszes_vendeg": "3"
                                },
                                {
                                    "foglalas_ev": "2017",
                                    "foglalas_ho": "2",
                                    "szallas_nev": "Fortuna Apartman",
                                    "osszes_vendeg": "3"
                                },
                                {
                                    "foglalas_ev": "NULL",
                                    "foglalas_ho": "NULL",
                                    "szallas_nev": "Fortuna Apartman",
                                    "osszes_vendeg": "18"
                                },
                                {
                                    "foglalas_ev": "2016",
                                    "foglalas_ho": "4",
                                    "szallas_nev": "Fortuna Panzió",
                                    "osszes_vendeg": "2"
                                },
                                {
                                    "foglalas_ev": "2016",
                                    "foglalas_ho": "4",
                                    "szallas_nev": "Fortuna Panzió",
                                    "osszes_vendeg": "5"
                                },
                                {
                                    "foglalas_ev": "2016",
                                    "foglalas_ho": "4",
                                    "szallas_nev": "Fortuna panzió",
                                    "osszes_vendeg": "4"
                                },
                                {
                                    "foglalas_ev": "2016",
                                    "foglalas_ho": "4",
                                    "szallas_nev": "Fortuna panzió",
                                    "osszes_vendeg": "1"
                                },
                                {
                                    "foglalas_ev": "2016",
                                    "foglalas_ho": "4",
                                    "szallas_nev": "Fortuna Panzió",
                                    "osszes_vendeg": "3"
                                },
                                {
                                    "foglalas_ev": "2016",
                                    "foglalas_ho": "4",
                                    "szallas_nev": "Fortuna panzió",
                                    "osszes_vendeg": "6"
                                },
                                {
                                    "foglalas_ev": "2016",
                                    "foglalas_ho": "5",
                                    "szallas_nev": "Fortuna panzió",
                                    "osszes_vendeg": "2"
                                },
                                {
                                    "foglalas_ev": "2016",
                                    "foglalas_ho": "5",
                                    "szallas_nev": "Fortuna panzió",
                                    "osszes_vendeg": "7"
                                },
                                {
                                    "foglalas_ev": "2016",
                                    "foglalas_ho": "5",
                                    "szallas_nev": "Fortuna Panzió",
                                    "osszes_vendeg": "3"
                                },
                                {
                                    "foglalas_ev": "2017",
                                    "foglalas_ho": "2",
                                    "szallas_nev": "Fortuna Panzió",
                                    "osszes_vendeg": "3"
                                },
                                {
                                    "foglalas_ev": "2017",
                                    "foglalas_ho": "2",
                                    "szallas_nev": "Fortuna Panzió",
                                    "osszes_vendeg": "2"
                                },
                                {
                                    "foglalas_ev": "2017",
                                    "foglalas_ho": "2",
                                    "szallas_nev": "Fortuna panzió",
                                    "osszes_vendeg": "1"
                                },
                                {
                                    "foglalas_ev": "2017",
                                    "foglalas_ho": "2",
                                    "szallas_nev": "Fortuna panzió",
                                    "osszes_vendeg": "4"
                                },
                                {
                                    "foglalas_ev": "2017",
                                    "foglalas_ho": "2",
                                    "szallas_nev": "Fortuna Panzió",
                                    "osszes_vendeg": "3"
                                },
                                {
                                    "foglalas_ev": "2017",
                                    "foglalas_ho": "2",
                                    "szallas_nev": "Fortuna Panzió",
                                    "osszes_vendeg": "3"
                                },
                                {
                                    "foglalas_ev": "2017",
                                    "foglalas_ho": "2",
                                    "szallas_nev": "Fortuna Panzió",
                                    "osszes_vendeg": "5"
                                },
                                {
                                    "foglalas_ev": "2017",
                                    "foglalas_ho": "2",
                                    "szallas_nev": "Fortuna panzió",
                                    "osszes_vendeg": "3"
                                },
                                {
                                    "foglalas_ev": "2017",
                                    "foglalas_ho": "2",
                                    "szallas_nev": "Fortuna panzió",
                                    "osszes_vendeg": "1"
                                },
                                {
                                    "foglalas_ev": "2017",
                                    "foglalas_ho": "3",
                                    "szallas_nev": "Fortuna Panzió",
                                    "osszes_vendeg": "1"
                                },
                                {
                                    "foglalas_ev": "NULL",
                                    "foglalas_ho": "NULL",
                                    "szallas_nev": "Fortuna Panzió",
                                    "osszes_vendeg": "59"
                                },
                                {
                                    "foglalas_ev": "2016",
                                    "foglalas_ho": "4",
                                    "szallas_nev": "Gold Hotel",
                                    "osszes_vendeg": "7"
                                },
                                {
                                    "foglalas_ev": "2016",
                                    "foglalas_ho": "4",
                                    "szallas_nev": "Gold Hotel",
                                    "osszes_vendeg": "3"
                                },
                                {
                                    "foglalas_ev": "2016",
                                    "foglalas_ho": "4",
                                    "szallas_nev": "Gold Hotel",
                                    "osszes_vendeg": "2"
                                },
                                {
                                    "foglalas_ev": "2016",
                                    "foglalas_ho": "4",
                                    "szallas_nev": "Gold Hotel",
                                    "osszes_vendeg": "1"
                                },
                                {
                                    "foglalas_ev": "2016",
                                    "foglalas_ho": "4",
                                    "szallas_nev": "Gold Hotel",
                                    "osszes_vendeg": "2"
                                },
                                {
                                    "foglalas_ev": "2016",
                                    "foglalas_ho": "5",
                                    "szallas_nev": "Gold Hotel",
                                    "osszes_vendeg": "3"
                                },
                                {
                                    "foglalas_ev": "2016",
                                    "foglalas_ho": "5",
                                    "szallas_nev": "Gold Hotel",
                                    "osszes_vendeg": "5"
                                },
                                {
                                    "foglalas_ev": "2016",
                                    "foglalas_ho": "5",
                                    "szallas_nev": "Gold Hotel",
                                    "osszes_vendeg": "2"
                                },
                                {
                                    "foglalas_ev": "2016",
                                    "foglalas_ho": "5",
                                    "szallas_nev": "Gold Hotel",
                                    "osszes_vendeg": "2"
                                },
                                {
                                    "foglalas_ev": "2017",
                                    "foglalas_ho": "1",
                                    "szallas_nev": "Gold Hotel",
                                    "osszes_vendeg": "2"
                                },
                                {
                                    "foglalas_ev": "2017",
                                    "foglalas_ho": "2",
                                    "szallas_nev": "Gold Hotel",
                                    "osszes_vendeg": "2"
                                },
                                {
                                    "foglalas_ev": "2017",
                                    "foglalas_ho": "2",
                                    "szallas_nev": "Gold Hotel",
                                    "osszes_vendeg": "3"
                                },
                                {
                                    "foglalas_ev": "2017",
                                    "foglalas_ho": "2",
                                    "szallas_nev": "Gold Hotel",
                                    "osszes_vendeg": "5"
                                },
                                {
                                    "foglalas_ev": "2017",
                                    "foglalas_ho": "2",
                                    "szallas_nev": "Gold Hotel",
                                    "osszes_vendeg": "5"
                                },
                                {
                                    "foglalas_ev": "2017",
                                    "foglalas_ho": "2",
                                    "szallas_nev": "Gold Hotel",
                                    "osszes_vendeg": "2"
                                },
                                {
                                    "foglalas_ev": "2017",
                                    "foglalas_ho": "2",
                                    "szallas_nev": "Gold Hotel",
                                    "osszes_vendeg": "3"
                                },
                                {
                                    "foglalas_ev": "2017",
                                    "foglalas_ho": "2",
                                    "szallas_nev": "Gold Hotel",
                                    "osszes_vendeg": "3"
                                },
                                {
                                    "foglalas_ev": "2017",
                                    "foglalas_ho": "2",
                                    "szallas_nev": "Gold Hotel",
                                    "osszes_vendeg": "4"
                                },
                                {
                                    "foglalas_ev": "2017",
                                    "foglalas_ho": "2",
                                    "szallas_nev": "Gold Hotel",
                                    "osszes_vendeg": "5"
                                },
                                {
                                    "foglalas_ev": "2017",
                                    "foglalas_ho": "2",
                                    "szallas_nev": "Gold Hotel",
                                    "osszes_vendeg": "1"
                                },
                                {
                                    "foglalas_ev": "NULL",
                                    "foglalas_ho": "NULL",
                                    "szallas_nev": "Gold Hotel",
                                    "osszes_vendeg": "62"
                                },
                                {
                                    "foglalas_ev": "2016",
                                    "foglalas_ho": "4",
                                    "szallas_nev": "Hotel Három Hattyú",
                                    "osszes_vendeg": "3"
                                },
                                {
                                    "foglalas_ev": "2016",
                                    "foglalas_ho": "4",
                                    "szallas_nev": "Hotel Három Hattyú",
                                    "osszes_vendeg": "1"
                                },
                                {
                                    "foglalas_ev": "2016",
                                    "foglalas_ho": "4",
                                    "szallas_nev": "Hotel Három Hattyú",
                                    "osszes_vendeg": "1"
                                },
                                {
                                    "foglalas_ev": "2016",
                                    "foglalas_ho": "4",
                                    "szallas_nev": "Hotel Három Hattyú",
                                    "osszes_vendeg": "5"
                                },
                                {
                                    "foglalas_ev": "2016",
                                    "foglalas_ho": "4",
                                    "szallas_nev": "Hotel Három Hattyú",
                                    "osszes_vendeg": "3"
                                },
                                {
                                    "foglalas_ev": "2016",
                                    "foglalas_ho": "4",
                                    "szallas_nev": "Hotel Három Hattyú",
                                    "osszes_vendeg": "3"
                                },
                                {
                                    "foglalas_ev": "2016",
                                    "foglalas_ho": "4",
                                    "szallas_nev": "Hotel Három Hattyú",
                                    "osszes_vendeg": "1"
                                },
                                {
                                    "foglalas_ev": "2016",
                                    "foglalas_ho": "5",
                                    "szallas_nev": "Hotel Három Hattyú",
                                    "osszes_vendeg": "5"
                                },
                                {
                                    "foglalas_ev": "2016",
                                    "foglalas_ho": "5",
                                    "szallas_nev": "Hotel Három Hattyú",
                                    "osszes_vendeg": "5"
                                },
                                {
                                    "foglalas_ev": "2016",
                                    "foglalas_ho": "5",
                                    "szallas_nev": "Hotel Három Hattyú",
                                    "osszes_vendeg": "2"
                                },
                                {
                                    "foglalas_ev": "2016",
                                    "foglalas_ho": "5",
                                    "szallas_nev": "Hotel Három Hattyú",
                                    "osszes_vendeg": "2"
                                },
                                {
                                    "foglalas_ev": "2016",
                                    "foglalas_ho": "5",
                                    "szallas_nev": "Hotel Három Hattyú",
                                    "osszes_vendeg": "3"
                                },
                                {
                                    "foglalas_ev": "2016",
                                    "foglalas_ho": "5",
                                    "szallas_nev": "Hotel Három Hattyú",
                                    "osszes_vendeg": "3"
                                },
                                {
                                    "foglalas_ev": "2016",
                                    "foglalas_ho": "5",
                                    "szallas_nev": "Hotel Három Hattyú",
                                    "osszes_vendeg": "6"
                                },
                                {
                                    "foglalas_ev": "2016",
                                    "foglalas_ho": "5",
                                    "szallas_nev": "Hotel Három Hattyú",
                                    "osszes_vendeg": "2"
                                },
                                {
                                    "foglalas_ev": "2016",
                                    "foglalas_ho": "5",
                                    "szallas_nev": "Hotel Három Hattyú",
                                    "osszes_vendeg": "2"
                                },
                                {
                                    "foglalas_ev": "2017",
                                    "foglalas_ho": "1",
                                    "szallas_nev": "Hotel Három Hattyú",
                                    "osszes_vendeg": "6"
                                },
                                {
                                    "foglalas_ev": "2017",
                                    "foglalas_ho": "1",
                                    "szallas_nev": "Hotel Három Hattyú",
                                    "osszes_vendeg": "2"
                                },
                                {
                                    "foglalas_ev": "2017",
                                    "foglalas_ho": "2",
                                    "szallas_nev": "Hotel Három Hattyú",
                                    "osszes_vendeg": "2"
                                },
                                {
                                    "foglalas_ev": "2017",
                                    "foglalas_ho": "2",
                                    "szallas_nev": "Hotel Három Hattyú",
                                    "osszes_vendeg": "2"
                                },
                                {
                                    "foglalas_ev": "2017",
                                    "foglalas_ho": "2",
                                    "szallas_nev": "Hotel Három Hattyú",
                                    "osszes_vendeg": "12"
                                },
                                {
                                    "foglalas_ev": "2017",
                                    "foglalas_ho": "2",
                                    "szallas_nev": "Hotel Három Hattyú",
                                    "osszes_vendeg": "10"
                                },
                                {
                                    "foglalas_ev": "2017",
                                    "foglalas_ho": "2",
                                    "szallas_nev": "Hotel Három Hattyú",
                                    "osszes_vendeg": "5"
                                },
                                {
                                    "foglalas_ev": "2017",
                                    "foglalas_ho": "2",
                                    "szallas_nev": "Hotel Három Hattyú",
                                    "osszes_vendeg": "2"
                                },
                                {
                                    "foglalas_ev": "2017",
                                    "foglalas_ho": "2",
                                    "szallas_nev": "Hotel Három Hattyú",
                                    "osszes_vendeg": "7"
                                },
                                {
                                    "foglalas_ev": "2017",
                                    "foglalas_ho": "2",
                                    "szallas_nev": "Hotel Három Hattyú",
                                    "osszes_vendeg": "11"
                                },
                                {
                                    "foglalas_ev": "2017",
                                    "foglalas_ho": "2",
                                    "szallas_nev": "Hotel Három Hattyú",
                                    "osszes_vendeg": "2"
                                },
                                {
                                    "foglalas_ev": "2017",
                                    "foglalas_ho": "2",
                                    "szallas_nev": "Hotel Három Hattyú",
                                    "osszes_vendeg": "4"
                                },
                                {
                                    "foglalas_ev": "2017",
                                    "foglalas_ho": "2",
                                    "szallas_nev": "Hotel Három Hattyú",
                                    "osszes_vendeg": "7"
                                },
                                {
                                    "foglalas_ev": "2017",
                                    "foglalas_ho": "2",
                                    "szallas_nev": "Hotel Három Hattyú",
                                    "osszes_vendeg": "4"
                                },
                                {
                                    "foglalas_ev": "2017",
                                    "foglalas_ho": "2",
                                    "szallas_nev": "Hotel Három Hattyú",
                                    "osszes_vendeg": "6"
                                },
                                {
                                    "foglalas_ev": "2017",
                                    "foglalas_ho": "2",
                                    "szallas_nev": "Hotel Három Hattyú",
                                    "osszes_vendeg": "3"
                                },
                                {
                                    "foglalas_ev": "2017",
                                    "foglalas_ho": "2",
                                    "szallas_nev": "Hotel Három Hattyú",
                                    "osszes_vendeg": "3"
                                },
                                {
                                    "foglalas_ev": "2017",
                                    "foglalas_ho": "3",
                                    "szallas_nev": "Hotel Három Hattyú",
                                    "osszes_vendeg": "2"
                                },
                                {
                                    "foglalas_ev": "NULL",
                                    "foglalas_ho": "NULL",
                                    "szallas_nev": "Hotel Három Hattyú",
                                    "osszes_vendeg": "137"
                                },
                                {
                                    "foglalas_ev": "2016",
                                    "foglalas_ho": "4",
                                    "szallas_nev": "Jáde panzió",
                                    "osszes_vendeg": "2"
                                },
                                {
                                    "foglalas_ev": "2016",
                                    "foglalas_ho": "4",
                                    "szallas_nev": "Jáde panzió",
                                    "osszes_vendeg": "2"
                                },
                                {
                                    "foglalas_ev": "2016",
                                    "foglalas_ho": "5",
                                    "szallas_nev": "Jáde panzió",
                                    "osszes_vendeg": "2"
                                },
                                {
                                    "foglalas_ev": "2016",
                                    "foglalas_ho": "5",
                                    "szallas_nev": "Jáde panzió",
                                    "osszes_vendeg": "2"
                                },
                                {
                                    "foglalas_ev": "2017",
                                    "foglalas_ho": "2",
                                    "szallas_nev": "Jáde panzió",
                                    "osszes_vendeg": "3"
                                },
                                {
                                    "foglalas_ev": "2017",
                                    "foglalas_ho": "2",
                                    "szallas_nev": "Jáde panzió",
                                    "osszes_vendeg": "2"
                                },
                                {
                                    "foglalas_ev": "NULL",
                                    "foglalas_ho": "NULL",
                                    "szallas_nev": "Jáde panzió",
                                    "osszes_vendeg": "13"
                                },
                                {
                                    "foglalas_ev": "2016",
                                    "foglalas_ho": "4",
                                    "szallas_nev": "Kentaur Hotel",
                                    "osszes_vendeg": "4"
                                },
                                {
                                    "foglalas_ev": "2016",
                                    "foglalas_ho": "4",
                                    "szallas_nev": "Kentaur Hotel",
                                    "osszes_vendeg": "4"
                                },
                                {
                                    "foglalas_ev": "2016",
                                    "foglalas_ho": "4",
                                    "szallas_nev": "Kentaur Hotel",
                                    "osszes_vendeg": "3"
                                },
                                {
                                    "foglalas_ev": "2016",
                                    "foglalas_ho": "4",
                                    "szallas_nev": "Kentaur Hotel",
                                    "osszes_vendeg": "3"
                                },
                                {
                                    "foglalas_ev": "2016",
                                    "foglalas_ho": "4",
                                    "szallas_nev": "Kentaur Hotel",
                                    "osszes_vendeg": "3"
                                },
                                {
                                    "foglalas_ev": "2016",
                                    "foglalas_ho": "4",
                                    "szallas_nev": "Kentaur Hotel",
                                    "osszes_vendeg": "2"
                                },
                                {
                                    "foglalas_ev": "2016",
                                    "foglalas_ho": "5",
                                    "szallas_nev": "Kentaur Hotel",
                                    "osszes_vendeg": "2"
                                },
                                {
                                    "foglalas_ev": "2016",
                                    "foglalas_ho": "5",
                                    "szallas_nev": "Kentaur Hotel",
                                    "osszes_vendeg": "2"
                                },
                                {
                                    "foglalas_ev": "2016",
                                    "foglalas_ho": "5",
                                    "szallas_nev": "Kentaur Hotel",
                                    "osszes_vendeg": "1"
                                },
                                {
                                    "foglalas_ev": "2016",
                                    "foglalas_ho": "5",
                                    "szallas_nev": "Kentaur Hotel",
                                    "osszes_vendeg": "2"
                                },
                                {
                                    "foglalas_ev": "2016",
                                    "foglalas_ho": "5",
                                    "szallas_nev": "Kentaur Hotel",
                                    "osszes_vendeg": "7"
                                },
                                {
                                    "foglalas_ev": "2016",
                                    "foglalas_ho": "5",
                                    "szallas_nev": "Kentaur Hotel",
                                    "osszes_vendeg": "2"
                                },
                                {
                                    "foglalas_ev": "2017",
                                    "foglalas_ho": "2",
                                    "szallas_nev": "Kentaur Hotel",
                                    "osszes_vendeg": "3"
                                },
                                {
                                    "foglalas_ev": "2017",
                                    "foglalas_ho": "2",
                                    "szallas_nev": "Kentaur Hotel",
                                    "osszes_vendeg": "3"
                                },
                                {
                                    "foglalas_ev": "2017",
                                    "foglalas_ho": "2",
                                    "szallas_nev": "Kentaur Hotel",
                                    "osszes_vendeg": "3"
                                },
                                {
                                    "foglalas_ev": "2017",
                                    "foglalas_ho": "2",
                                    "szallas_nev": "Kentaur Hotel",
                                    "osszes_vendeg": "3"
                                },
                                {
                                    "foglalas_ev": "2017",
                                    "foglalas_ho": "2",
                                    "szallas_nev": "Kentaur Hotel",
                                    "osszes_vendeg": "3"
                                },
                                {
                                    "foglalas_ev": "2017",
                                    "foglalas_ho": "2",
                                    "szallas_nev": "Kentaur Hotel",
                                    "osszes_vendeg": "4"
                                },
                                {
                                    "foglalas_ev": "2017",
                                    "foglalas_ho": "2",
                                    "szallas_nev": "Kentaur Hotel",
                                    "osszes_vendeg": "2"
                                },
                                {
                                    "foglalas_ev": "2017",
                                    "foglalas_ho": "2",
                                    "szallas_nev": "Kentaur Hotel",
                                    "osszes_vendeg": "2"
                                },
                                {
                                    "foglalas_ev": "2017",
                                    "foglalas_ho": "2",
                                    "szallas_nev": "Kentaur Hotel",
                                    "osszes_vendeg": "3"
                                },
                                {
                                    "foglalas_ev": "2017",
                                    "foglalas_ho": "2",
                                    "szallas_nev": "Kentaur Hotel",
                                    "osszes_vendeg": "3"
                                },
                                {
                                    "foglalas_ev": "2017",
                                    "foglalas_ho": "3",
                                    "szallas_nev": "Kentaur Hotel",
                                    "osszes_vendeg": "4"
                                },
                                {
                                    "foglalas_ev": "2017",
                                    "foglalas_ho": "3",
                                    "szallas_nev": "Kentaur Hotel",
                                    "osszes_vendeg": "2"
                                },
                                {
                                    "foglalas_ev": "2017",
                                    "foglalas_ho": "3",
                                    "szallas_nev": "Kentaur Hotel",
                                    "osszes_vendeg": "3"
                                },
                                {
                                    "foglalas_ev": "NULL",
                                    "foglalas_ho": "NULL",
                                    "szallas_nev": "Kentaur Hotel",
                                    "osszes_vendeg": "73"
                                },
                                {
                                    "foglalas_ev": "2016",
                                    "foglalas_ho": "4",
                                    "szallas_nev": "Lagúna Hotel",
                                    "osszes_vendeg": "2"
                                },
                                {
                                    "foglalas_ev": "2016",
                                    "foglalas_ho": "4",
                                    "szallas_nev": "Lagúna Hotel",
                                    "osszes_vendeg": "4"
                                },
                                {
                                    "foglalas_ev": "2016",
                                    "foglalas_ho": "4",
                                    "szallas_nev": "Lagúna Hotel",
                                    "osszes_vendeg": "3"
                                },
                                {
                                    "foglalas_ev": "2016",
                                    "foglalas_ho": "4",
                                    "szallas_nev": "Lagúna Hotel",
                                    "osszes_vendeg": "2"
                                },
                                {
                                    "foglalas_ev": "2016",
                                    "foglalas_ho": "4",
                                    "szallas_nev": "Lagúna Hotel",
                                    "osszes_vendeg": "3"
                                },
                                {
                                    "foglalas_ev": "2016",
                                    "foglalas_ho": "4",
                                    "szallas_nev": "Lagúna Hotel",
                                    "osszes_vendeg": "2"
                                },
                                {
                                    "foglalas_ev": "2016",
                                    "foglalas_ho": "4",
                                    "szallas_nev": "Lagúna Hotel",
                                    "osszes_vendeg": "2"
                                },
                                {
                                    "foglalas_ev": "2016",
                                    "foglalas_ho": "4",
                                    "szallas_nev": "Lagúna Hotel",
                                    "osszes_vendeg": "4"
                                },
                                {
                                    "foglalas_ev": "2016",
                                    "foglalas_ho": "4",
                                    "szallas_nev": "Lagúna Hotel",
                                    "osszes_vendeg": "2"
                                },
                                {
                                    "foglalas_ev": "2016",
                                    "foglalas_ho": "4",
                                    "szallas_nev": "Lagúna Hotel",
                                    "osszes_vendeg": "2"
                                },
                                {
                                    "foglalas_ev": "2016",
                                    "foglalas_ho": "5",
                                    "szallas_nev": "Lagúna Hotel",
                                    "osszes_vendeg": "3"
                                },
                                {
                                    "foglalas_ev": "2016",
                                    "foglalas_ho": "5",
                                    "szallas_nev": "Lagúna Hotel",
                                    "osszes_vendeg": "1"
                                },
                                {
                                    "foglalas_ev": "2016",
                                    "foglalas_ho": "5",
                                    "szallas_nev": "Lagúna Hotel",
                                    "osszes_vendeg": "2"
                                },
                                {
                                    "foglalas_ev": "2017",
                                    "foglalas_ho": "2",
                                    "szallas_nev": "Lagúna Hotel",
                                    "osszes_vendeg": "2"
                                },
                                {
                                    "foglalas_ev": "2017",
                                    "foglalas_ho": "2",
                                    "szallas_nev": "Lagúna Hotel",
                                    "osszes_vendeg": "3"
                                },
                                {
                                    "foglalas_ev": "2017",
                                    "foglalas_ho": "2",
                                    "szallas_nev": "Lagúna Hotel",
                                    "osszes_vendeg": "2"
                                },
                                {
                                    "foglalas_ev": "2017",
                                    "foglalas_ho": "2",
                                    "szallas_nev": "Lagúna Hotel",
                                    "osszes_vendeg": "3"
                                },
                                {
                                    "foglalas_ev": "2017",
                                    "foglalas_ho": "2",
                                    "szallas_nev": "Lagúna Hotel",
                                    "osszes_vendeg": "2"
                                },
                                {
                                    "foglalas_ev": "2017",
                                    "foglalas_ho": "2",
                                    "szallas_nev": "Lagúna Hotel",
                                    "osszes_vendeg": "2"
                                },
                                {
                                    "foglalas_ev": "2017",
                                    "foglalas_ho": "2",
                                    "szallas_nev": "Lagúna Hotel",
                                    "osszes_vendeg": "2"
                                },
                                {
                                    "foglalas_ev": "2017",
                                    "foglalas_ho": "2",
                                    "szallas_nev": "Lagúna Hotel",
                                    "osszes_vendeg": "3"
                                },
                                {
                                    "foglalas_ev": "2017",
                                    "foglalas_ho": "2",
                                    "szallas_nev": "Lagúna Hotel",
                                    "osszes_vendeg": "4"
                                },
                                {
                                    "foglalas_ev": "2017",
                                    "foglalas_ho": "2",
                                    "szallas_nev": "Lagúna Hotel",
                                    "osszes_vendeg": "1"
                                },
                                {
                                    "foglalas_ev": "NULL",
                                    "foglalas_ho": "NULL",
                                    "szallas_nev": "Lagúna Hotel",
                                    "osszes_vendeg": "56"
                                },
                                {
                                    "foglalas_ev": "2016",
                                    "foglalas_ho": "4",
                                    "szallas_nev": "Partiszél Vendégház",
                                    "osszes_vendeg": "2"
                                },
                                {
                                    "foglalas_ev": "2016",
                                    "foglalas_ho": "4",
                                    "szallas_nev": "Partiszél Vendégház",
                                    "osszes_vendeg": "3"
                                },
                                {
                                    "foglalas_ev": "2016",
                                    "foglalas_ho": "5",
                                    "szallas_nev": "Partiszél Vendégház",
                                    "osszes_vendeg": "2"
                                },
                                {
                                    "foglalas_ev": "2016",
                                    "foglalas_ho": "5",
                                    "szallas_nev": "Partiszél Vendégház",
                                    "osszes_vendeg": "3"
                                },
                                {
                                    "foglalas_ev": "2017",
                                    "foglalas_ho": "2",
                                    "szallas_nev": "Partiszél Vendégház",
                                    "osszes_vendeg": "2"
                                },
                                {
                                    "foglalas_ev": "2017",
                                    "foglalas_ho": "2",
                                    "szallas_nev": "Partiszél Vendégház",
                                    "osszes_vendeg": "3"
                                },
                                {
                                    "foglalas_ev": "2017",
                                    "foglalas_ho": "2",
                                    "szallas_nev": "Partiszél Vendégház",
                                    "osszes_vendeg": "3"
                                },
                                {
                                    "foglalas_ev": "NULL",
                                    "foglalas_ho": "NULL",
                                    "szallas_nev": "Partiszél Vendégház",
                                    "osszes_vendeg": "18"
                                },
                                {
                                    "foglalas_ev": "2016",
                                    "foglalas_ho": "4",
                                    "szallas_nev": "Sába-Ház",
                                    "osszes_vendeg": "3"
                                },
                                {
                                    "foglalas_ev": "2016",
                                    "foglalas_ho": "4",
                                    "szallas_nev": "Sába-Ház",
                                    "osszes_vendeg": "2"
                                },
                                {
                                    "foglalas_ev": "2016",
                                    "foglalas_ho": "4",
                                    "szallas_nev": "Sába-Ház",
                                    "osszes_vendeg": "2"
                                },
                                {
                                    "foglalas_ev": "2016",
                                    "foglalas_ho": "4",
                                    "szallas_nev": "Sába-Ház",
                                    "osszes_vendeg": "2"
                                },
                                {
                                    "foglalas_ev": "2016",
                                    "foglalas_ho": "5",
                                    "szallas_nev": "Sába-Ház",
                                    "osszes_vendeg": "1"
                                },
                                {
                                    "foglalas_ev": "2016",
                                    "foglalas_ho": "5",
                                    "szallas_nev": "Sába-Ház",
                                    "osszes_vendeg": "3"
                                },
                                {
                                    "foglalas_ev": "2017",
                                    "foglalas_ho": "2",
                                    "szallas_nev": "Sába-Ház",
                                    "osszes_vendeg": "2"
                                },
                                {
                                    "foglalas_ev": "2017",
                                    "foglalas_ho": "2",
                                    "szallas_nev": "Sába-Ház",
                                    "osszes_vendeg": "1"
                                },
                                {
                                    "foglalas_ev": "2017",
                                    "foglalas_ho": "2",
                                    "szallas_nev": "Sába-Ház",
                                    "osszes_vendeg": "7"
                                },
                                {
                                    "foglalas_ev": "NULL",
                                    "foglalas_ho": "NULL",
                                    "szallas_nev": "Sába-Ház",
                                    "osszes_vendeg": "23"
                                },
                                {
                                    "foglalas_ev": "2016",
                                    "foglalas_ho": "4",
                                    "szallas_nev": "Szieszta Apartmanház",
                                    "osszes_vendeg": "3"
                                },
                                {
                                    "foglalas_ev": "2016",
                                    "foglalas_ho": "5",
                                    "szallas_nev": "Szieszta Apartmanház",
                                    "osszes_vendeg": "2"
                                },
                                {
                                    "foglalas_ev": "2017",
                                    "foglalas_ho": "2",
                                    "szallas_nev": "Szieszta Apartmanház",
                                    "osszes_vendeg": "2"
                                },
                                {
                                    "foglalas_ev": "2017",
                                    "foglalas_ho": "2",
                                    "szallas_nev": "Szieszta Apartmanház",
                                    "osszes_vendeg": "3"
                                },
                                {
                                    "foglalas_ev": "2017",
                                    "foglalas_ho": "2",
                                    "szallas_nev": "Szieszta Apartmanház",
                                    "osszes_vendeg": "3"
                                },
                                {
                                    "foglalas_ev": "2017",
                                    "foglalas_ho": "2",
                                    "szallas_nev": "Szieszta Apartmanház",
                                    "osszes_vendeg": "2"
                                },
                                {
                                    "foglalas_ev": "NULL",
                                    "foglalas_ho": "NULL",
                                    "szallas_nev": "Szieszta Apartmanház",
                                    "osszes_vendeg": "15"
                                },
                                {
                                    "foglalas_ev": "NULL",
                                    "foglalas_ho": "NULL",
                                    "szallas_nev": "NULL",
                                    "osszes_vendeg": "481"
                                }
                            ]
                        },
                        "text/html": [
                            "<table>",
                            "<tr><th>foglalas_ev</th><th>foglalas_ho</th><th>szallas_nev</th><th>osszes_vendeg</th></tr>",
                            "<tr><td>2017</td><td>2</td><td>Családi Ház</td><td>3</td></tr>",
                            "<tr><td>2017</td><td>2</td><td>Családi Ház</td><td>4</td></tr>",
                            "<tr><td>NULL</td><td>NULL</td><td>Családi Ház</td><td>7</td></tr>",
                            "<tr><td>2016</td><td>4</td><td>Fortuna Apartman</td><td>2</td></tr>",
                            "<tr><td>2016</td><td>4</td><td>Fortuna Apartman</td><td>4</td></tr>",
                            "<tr><td>2016</td><td>5</td><td>Fortuna Apartman</td><td>2</td></tr>",
                            "<tr><td>2017</td><td>2</td><td>Fortuna Apartman</td><td>4</td></tr>",
                            "<tr><td>2017</td><td>2</td><td>Fortuna Apartman</td><td>3</td></tr>",
                            "<tr><td>2017</td><td>2</td><td>Fortuna Apartman</td><td>3</td></tr>",
                            "<tr><td>NULL</td><td>NULL</td><td>Fortuna Apartman</td><td>18</td></tr>",
                            "<tr><td>2016</td><td>4</td><td>Fortuna Panzió</td><td>2</td></tr>",
                            "<tr><td>2016</td><td>4</td><td>Fortuna Panzió</td><td>5</td></tr>",
                            "<tr><td>2016</td><td>4</td><td>Fortuna panzió</td><td>4</td></tr>",
                            "<tr><td>2016</td><td>4</td><td>Fortuna panzió</td><td>1</td></tr>",
                            "<tr><td>2016</td><td>4</td><td>Fortuna Panzió</td><td>3</td></tr>",
                            "<tr><td>2016</td><td>4</td><td>Fortuna panzió</td><td>6</td></tr>",
                            "<tr><td>2016</td><td>5</td><td>Fortuna panzió</td><td>2</td></tr>",
                            "<tr><td>2016</td><td>5</td><td>Fortuna panzió</td><td>7</td></tr>",
                            "<tr><td>2016</td><td>5</td><td>Fortuna Panzió</td><td>3</td></tr>",
                            "<tr><td>2017</td><td>2</td><td>Fortuna Panzió</td><td>3</td></tr>",
                            "<tr><td>2017</td><td>2</td><td>Fortuna Panzió</td><td>2</td></tr>",
                            "<tr><td>2017</td><td>2</td><td>Fortuna panzió</td><td>1</td></tr>",
                            "<tr><td>2017</td><td>2</td><td>Fortuna panzió</td><td>4</td></tr>",
                            "<tr><td>2017</td><td>2</td><td>Fortuna Panzió</td><td>3</td></tr>",
                            "<tr><td>2017</td><td>2</td><td>Fortuna Panzió</td><td>3</td></tr>",
                            "<tr><td>2017</td><td>2</td><td>Fortuna Panzió</td><td>5</td></tr>",
                            "<tr><td>2017</td><td>2</td><td>Fortuna panzió</td><td>3</td></tr>",
                            "<tr><td>2017</td><td>2</td><td>Fortuna panzió</td><td>1</td></tr>",
                            "<tr><td>2017</td><td>3</td><td>Fortuna Panzió</td><td>1</td></tr>",
                            "<tr><td>NULL</td><td>NULL</td><td>Fortuna Panzió</td><td>59</td></tr>",
                            "<tr><td>2016</td><td>4</td><td>Gold Hotel</td><td>7</td></tr>",
                            "<tr><td>2016</td><td>4</td><td>Gold Hotel</td><td>3</td></tr>",
                            "<tr><td>2016</td><td>4</td><td>Gold Hotel</td><td>2</td></tr>",
                            "<tr><td>2016</td><td>4</td><td>Gold Hotel</td><td>1</td></tr>",
                            "<tr><td>2016</td><td>4</td><td>Gold Hotel</td><td>2</td></tr>",
                            "<tr><td>2016</td><td>5</td><td>Gold Hotel</td><td>3</td></tr>",
                            "<tr><td>2016</td><td>5</td><td>Gold Hotel</td><td>5</td></tr>",
                            "<tr><td>2016</td><td>5</td><td>Gold Hotel</td><td>2</td></tr>",
                            "<tr><td>2016</td><td>5</td><td>Gold Hotel</td><td>2</td></tr>",
                            "<tr><td>2017</td><td>1</td><td>Gold Hotel</td><td>2</td></tr>",
                            "<tr><td>2017</td><td>2</td><td>Gold Hotel</td><td>2</td></tr>",
                            "<tr><td>2017</td><td>2</td><td>Gold Hotel</td><td>3</td></tr>",
                            "<tr><td>2017</td><td>2</td><td>Gold Hotel</td><td>5</td></tr>",
                            "<tr><td>2017</td><td>2</td><td>Gold Hotel</td><td>5</td></tr>",
                            "<tr><td>2017</td><td>2</td><td>Gold Hotel</td><td>2</td></tr>",
                            "<tr><td>2017</td><td>2</td><td>Gold Hotel</td><td>3</td></tr>",
                            "<tr><td>2017</td><td>2</td><td>Gold Hotel</td><td>3</td></tr>",
                            "<tr><td>2017</td><td>2</td><td>Gold Hotel</td><td>4</td></tr>",
                            "<tr><td>2017</td><td>2</td><td>Gold Hotel</td><td>5</td></tr>",
                            "<tr><td>2017</td><td>2</td><td>Gold Hotel</td><td>1</td></tr>",
                            "<tr><td>NULL</td><td>NULL</td><td>Gold Hotel</td><td>62</td></tr>",
                            "<tr><td>2016</td><td>4</td><td>Hotel Három Hattyú</td><td>3</td></tr>",
                            "<tr><td>2016</td><td>4</td><td>Hotel Három Hattyú</td><td>1</td></tr>",
                            "<tr><td>2016</td><td>4</td><td>Hotel Három Hattyú</td><td>1</td></tr>",
                            "<tr><td>2016</td><td>4</td><td>Hotel Három Hattyú</td><td>5</td></tr>",
                            "<tr><td>2016</td><td>4</td><td>Hotel Három Hattyú</td><td>3</td></tr>",
                            "<tr><td>2016</td><td>4</td><td>Hotel Három Hattyú</td><td>3</td></tr>",
                            "<tr><td>2016</td><td>4</td><td>Hotel Három Hattyú</td><td>1</td></tr>",
                            "<tr><td>2016</td><td>5</td><td>Hotel Három Hattyú</td><td>5</td></tr>",
                            "<tr><td>2016</td><td>5</td><td>Hotel Három Hattyú</td><td>5</td></tr>",
                            "<tr><td>2016</td><td>5</td><td>Hotel Három Hattyú</td><td>2</td></tr>",
                            "<tr><td>2016</td><td>5</td><td>Hotel Három Hattyú</td><td>2</td></tr>",
                            "<tr><td>2016</td><td>5</td><td>Hotel Három Hattyú</td><td>3</td></tr>",
                            "<tr><td>2016</td><td>5</td><td>Hotel Három Hattyú</td><td>3</td></tr>",
                            "<tr><td>2016</td><td>5</td><td>Hotel Három Hattyú</td><td>6</td></tr>",
                            "<tr><td>2016</td><td>5</td><td>Hotel Három Hattyú</td><td>2</td></tr>",
                            "<tr><td>2016</td><td>5</td><td>Hotel Három Hattyú</td><td>2</td></tr>",
                            "<tr><td>2017</td><td>1</td><td>Hotel Három Hattyú</td><td>6</td></tr>",
                            "<tr><td>2017</td><td>1</td><td>Hotel Három Hattyú</td><td>2</td></tr>",
                            "<tr><td>2017</td><td>2</td><td>Hotel Három Hattyú</td><td>2</td></tr>",
                            "<tr><td>2017</td><td>2</td><td>Hotel Három Hattyú</td><td>2</td></tr>",
                            "<tr><td>2017</td><td>2</td><td>Hotel Három Hattyú</td><td>12</td></tr>",
                            "<tr><td>2017</td><td>2</td><td>Hotel Három Hattyú</td><td>10</td></tr>",
                            "<tr><td>2017</td><td>2</td><td>Hotel Három Hattyú</td><td>5</td></tr>",
                            "<tr><td>2017</td><td>2</td><td>Hotel Három Hattyú</td><td>2</td></tr>",
                            "<tr><td>2017</td><td>2</td><td>Hotel Három Hattyú</td><td>7</td></tr>",
                            "<tr><td>2017</td><td>2</td><td>Hotel Három Hattyú</td><td>11</td></tr>",
                            "<tr><td>2017</td><td>2</td><td>Hotel Három Hattyú</td><td>2</td></tr>",
                            "<tr><td>2017</td><td>2</td><td>Hotel Három Hattyú</td><td>4</td></tr>",
                            "<tr><td>2017</td><td>2</td><td>Hotel Három Hattyú</td><td>7</td></tr>",
                            "<tr><td>2017</td><td>2</td><td>Hotel Három Hattyú</td><td>4</td></tr>",
                            "<tr><td>2017</td><td>2</td><td>Hotel Három Hattyú</td><td>6</td></tr>",
                            "<tr><td>2017</td><td>2</td><td>Hotel Három Hattyú</td><td>3</td></tr>",
                            "<tr><td>2017</td><td>2</td><td>Hotel Három Hattyú</td><td>3</td></tr>",
                            "<tr><td>2017</td><td>3</td><td>Hotel Három Hattyú</td><td>2</td></tr>",
                            "<tr><td>NULL</td><td>NULL</td><td>Hotel Három Hattyú</td><td>137</td></tr>",
                            "<tr><td>2016</td><td>4</td><td>Jáde panzió</td><td>2</td></tr>",
                            "<tr><td>2016</td><td>4</td><td>Jáde panzió</td><td>2</td></tr>",
                            "<tr><td>2016</td><td>5</td><td>Jáde panzió</td><td>2</td></tr>",
                            "<tr><td>2016</td><td>5</td><td>Jáde panzió</td><td>2</td></tr>",
                            "<tr><td>2017</td><td>2</td><td>Jáde panzió</td><td>3</td></tr>",
                            "<tr><td>2017</td><td>2</td><td>Jáde panzió</td><td>2</td></tr>",
                            "<tr><td>NULL</td><td>NULL</td><td>Jáde panzió</td><td>13</td></tr>",
                            "<tr><td>2016</td><td>4</td><td>Kentaur Hotel</td><td>4</td></tr>",
                            "<tr><td>2016</td><td>4</td><td>Kentaur Hotel</td><td>4</td></tr>",
                            "<tr><td>2016</td><td>4</td><td>Kentaur Hotel</td><td>3</td></tr>",
                            "<tr><td>2016</td><td>4</td><td>Kentaur Hotel</td><td>3</td></tr>",
                            "<tr><td>2016</td><td>4</td><td>Kentaur Hotel</td><td>3</td></tr>",
                            "<tr><td>2016</td><td>4</td><td>Kentaur Hotel</td><td>2</td></tr>",
                            "<tr><td>2016</td><td>5</td><td>Kentaur Hotel</td><td>2</td></tr>",
                            "<tr><td>2016</td><td>5</td><td>Kentaur Hotel</td><td>2</td></tr>",
                            "<tr><td>2016</td><td>5</td><td>Kentaur Hotel</td><td>1</td></tr>",
                            "<tr><td>2016</td><td>5</td><td>Kentaur Hotel</td><td>2</td></tr>",
                            "<tr><td>2016</td><td>5</td><td>Kentaur Hotel</td><td>7</td></tr>",
                            "<tr><td>2016</td><td>5</td><td>Kentaur Hotel</td><td>2</td></tr>",
                            "<tr><td>2017</td><td>2</td><td>Kentaur Hotel</td><td>3</td></tr>",
                            "<tr><td>2017</td><td>2</td><td>Kentaur Hotel</td><td>3</td></tr>",
                            "<tr><td>2017</td><td>2</td><td>Kentaur Hotel</td><td>3</td></tr>",
                            "<tr><td>2017</td><td>2</td><td>Kentaur Hotel</td><td>3</td></tr>",
                            "<tr><td>2017</td><td>2</td><td>Kentaur Hotel</td><td>3</td></tr>",
                            "<tr><td>2017</td><td>2</td><td>Kentaur Hotel</td><td>4</td></tr>",
                            "<tr><td>2017</td><td>2</td><td>Kentaur Hotel</td><td>2</td></tr>",
                            "<tr><td>2017</td><td>2</td><td>Kentaur Hotel</td><td>2</td></tr>",
                            "<tr><td>2017</td><td>2</td><td>Kentaur Hotel</td><td>3</td></tr>",
                            "<tr><td>2017</td><td>2</td><td>Kentaur Hotel</td><td>3</td></tr>",
                            "<tr><td>2017</td><td>3</td><td>Kentaur Hotel</td><td>4</td></tr>",
                            "<tr><td>2017</td><td>3</td><td>Kentaur Hotel</td><td>2</td></tr>",
                            "<tr><td>2017</td><td>3</td><td>Kentaur Hotel</td><td>3</td></tr>",
                            "<tr><td>NULL</td><td>NULL</td><td>Kentaur Hotel</td><td>73</td></tr>",
                            "<tr><td>2016</td><td>4</td><td>Lagúna Hotel</td><td>2</td></tr>",
                            "<tr><td>2016</td><td>4</td><td>Lagúna Hotel</td><td>4</td></tr>",
                            "<tr><td>2016</td><td>4</td><td>Lagúna Hotel</td><td>3</td></tr>",
                            "<tr><td>2016</td><td>4</td><td>Lagúna Hotel</td><td>2</td></tr>",
                            "<tr><td>2016</td><td>4</td><td>Lagúna Hotel</td><td>3</td></tr>",
                            "<tr><td>2016</td><td>4</td><td>Lagúna Hotel</td><td>2</td></tr>",
                            "<tr><td>2016</td><td>4</td><td>Lagúna Hotel</td><td>2</td></tr>",
                            "<tr><td>2016</td><td>4</td><td>Lagúna Hotel</td><td>4</td></tr>",
                            "<tr><td>2016</td><td>4</td><td>Lagúna Hotel</td><td>2</td></tr>",
                            "<tr><td>2016</td><td>4</td><td>Lagúna Hotel</td><td>2</td></tr>",
                            "<tr><td>2016</td><td>5</td><td>Lagúna Hotel</td><td>3</td></tr>",
                            "<tr><td>2016</td><td>5</td><td>Lagúna Hotel</td><td>1</td></tr>",
                            "<tr><td>2016</td><td>5</td><td>Lagúna Hotel</td><td>2</td></tr>",
                            "<tr><td>2017</td><td>2</td><td>Lagúna Hotel</td><td>2</td></tr>",
                            "<tr><td>2017</td><td>2</td><td>Lagúna Hotel</td><td>3</td></tr>",
                            "<tr><td>2017</td><td>2</td><td>Lagúna Hotel</td><td>2</td></tr>",
                            "<tr><td>2017</td><td>2</td><td>Lagúna Hotel</td><td>3</td></tr>",
                            "<tr><td>2017</td><td>2</td><td>Lagúna Hotel</td><td>2</td></tr>",
                            "<tr><td>2017</td><td>2</td><td>Lagúna Hotel</td><td>2</td></tr>",
                            "<tr><td>2017</td><td>2</td><td>Lagúna Hotel</td><td>2</td></tr>",
                            "<tr><td>2017</td><td>2</td><td>Lagúna Hotel</td><td>3</td></tr>",
                            "<tr><td>2017</td><td>2</td><td>Lagúna Hotel</td><td>4</td></tr>",
                            "<tr><td>2017</td><td>2</td><td>Lagúna Hotel</td><td>1</td></tr>",
                            "<tr><td>NULL</td><td>NULL</td><td>Lagúna Hotel</td><td>56</td></tr>",
                            "<tr><td>2016</td><td>4</td><td>Partiszél Vendégház</td><td>2</td></tr>",
                            "<tr><td>2016</td><td>4</td><td>Partiszél Vendégház</td><td>3</td></tr>",
                            "<tr><td>2016</td><td>5</td><td>Partiszél Vendégház</td><td>2</td></tr>",
                            "<tr><td>2016</td><td>5</td><td>Partiszél Vendégház</td><td>3</td></tr>",
                            "<tr><td>2017</td><td>2</td><td>Partiszél Vendégház</td><td>2</td></tr>",
                            "<tr><td>2017</td><td>2</td><td>Partiszél Vendégház</td><td>3</td></tr>",
                            "<tr><td>2017</td><td>2</td><td>Partiszél Vendégház</td><td>3</td></tr>",
                            "<tr><td>NULL</td><td>NULL</td><td>Partiszél Vendégház</td><td>18</td></tr>",
                            "<tr><td>2016</td><td>4</td><td>Sába-Ház</td><td>3</td></tr>",
                            "<tr><td>2016</td><td>4</td><td>Sába-Ház</td><td>2</td></tr>",
                            "<tr><td>2016</td><td>4</td><td>Sába-Ház</td><td>2</td></tr>",
                            "<tr><td>2016</td><td>4</td><td>Sába-Ház</td><td>2</td></tr>",
                            "<tr><td>2016</td><td>5</td><td>Sába-Ház</td><td>1</td></tr>",
                            "<tr><td>2016</td><td>5</td><td>Sába-Ház</td><td>3</td></tr>",
                            "<tr><td>2017</td><td>2</td><td>Sába-Ház</td><td>2</td></tr>",
                            "<tr><td>2017</td><td>2</td><td>Sába-Ház</td><td>1</td></tr>",
                            "<tr><td>2017</td><td>2</td><td>Sába-Ház</td><td>7</td></tr>",
                            "<tr><td>NULL</td><td>NULL</td><td>Sába-Ház</td><td>23</td></tr>",
                            "<tr><td>2016</td><td>4</td><td>Szieszta Apartmanház</td><td>3</td></tr>",
                            "<tr><td>2016</td><td>5</td><td>Szieszta Apartmanház</td><td>2</td></tr>",
                            "<tr><td>2017</td><td>2</td><td>Szieszta Apartmanház</td><td>2</td></tr>",
                            "<tr><td>2017</td><td>2</td><td>Szieszta Apartmanház</td><td>3</td></tr>",
                            "<tr><td>2017</td><td>2</td><td>Szieszta Apartmanház</td><td>3</td></tr>",
                            "<tr><td>2017</td><td>2</td><td>Szieszta Apartmanház</td><td>2</td></tr>",
                            "<tr><td>NULL</td><td>NULL</td><td>Szieszta Apartmanház</td><td>15</td></tr>",
                            "<tr><td>NULL</td><td>NULL</td><td>NULL</td><td>481</td></tr>",
                            "</table>"
                        ]
                    }
                }
            ],
            "execution_count": 27
        },
        {
            "cell_type": "code",
            "source": [
                "drop table if exists xmlquery\r\n",
                "\r\n",
                "create table xmlquery(\r\n",
                "    query_result xml\r\n",
                ");\r\n",
                "\r\n",
                "select * from xmlquery;"
            ],
            "metadata": {
                "language": "sql",
                "azdata_cell_guid": "7fc5be06-ff98-4d03-8b56-a501ef64fb7a"
            },
            "outputs": [
                {
                    "output_type": "display_data",
                    "data": {
                        "text/html": "(0 rows affected)"
                    },
                    "metadata": {}
                },
                {
                    "output_type": "display_data",
                    "data": {
                        "text/html": "Total execution time: 00:00:00.059"
                    },
                    "metadata": {}
                },
                {
                    "output_type": "execute_result",
                    "metadata": {},
                    "execution_count": 30,
                    "data": {
                        "application/vnd.dataresource+json": {
                            "schema": {
                                "fields": [
                                    {
                                        "name": "query_result"
                                    }
                                ]
                            },
                            "data": []
                        },
                        "text/html": [
                            "<table>",
                            "<tr><th>query_result</th></tr>",
                            "</table>"
                        ]
                    }
                }
            ],
            "execution_count": 30
        }
    ]
}