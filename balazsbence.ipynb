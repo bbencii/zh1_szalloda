{
    "metadata": {
        "kernelspec": {
            "name": "SQL",
            "display_name": "SQL",
            "language": "sql"
        },
        "language_info": {
            "name": "sql",
            "version": ""
        }
    },
    "nbformat_minor": 2,
    "nbformat": 4,
    "cells": [
        {
            "cell_type": "code",
            "source": [
                "--initial commit"
            ],
            "metadata": {
                "azdata_cell_guid": "476f488d-529c-44f9-afd2-1c14939e50f4",
                "language": "sql"
            },
            "outputs": [],
            "execution_count": null
        }
    ]
}