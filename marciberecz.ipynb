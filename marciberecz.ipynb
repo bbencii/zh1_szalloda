{
    "metadata": {
        "kernelspec": {
            "name": "SQL",
            "display_name": "SQL",
            "language": "sql"
        },
        "language_info": {
            "name": "sql",
            "version": ""
        }
    },
    "nbformat_minor": 2,
    "nbformat": 4,
    "cells": [
        {
            "cell_type": "markdown",
            "source": [
                "teszt"
            ],
            "metadata": {
                "azdata_cell_guid": "4c1f9bab-7748-4fb2-b0f2-57992cf468d2"
            },
            "attachments": {}
        }
    ]
}