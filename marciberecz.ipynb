{
    "metadata": {
        "kernelspec": {
            "name": "SQL",
            "display_name": "SQL",
            "language": "sql"
        },
        "language_info": {
            "name": "sql",
            "version": ""
        }
    },
    "nbformat_minor": 2,
    "nbformat": 4,
    "cells": [
        {
            "cell_type": "markdown",
            "source": [
                "Hozzon létre 3 lekérdezést, amelyeknél a GROUP BY speciális lehetőségeit használja"
            ],
            "metadata": {
                "azdata_cell_guid": "4c1f9bab-7748-4fb2-b0f2-57992cf468d2"
            },
            "attachments": {}
        },
        {
            "cell_type": "code",
            "source": [
                "SELECT UGYFEL_FK,METTOL,SUM(FELNOTT_SZAM+GYERMEK_SZAM)  from Foglalas WHERE UGYFEL_FK LIKE 'B%'  GROUP BY ROLLUP (UGYFEL_FK,METTOL);"
            ],
            "metadata": {
                "azdata_cell_guid": "200471e5-a762-4aa5-8fad-fdfa9c9a65c2",
                "language": "sql"
            },
            "outputs": [],
            "execution_count": null
        },
        {
            "cell_type": "code",
            "source": [
                "SELECT sz.SZOBA_ID,sz.SZALLAS_FK,sum(f.FELNOTT_SZAM+f.GYERMEK_SZAM) as 'Össz szám'  from Foglalas f join szoba sz on f.szoba_fk =sz.SZOBA_ID GROUP BY Cube (sz.SZOBA_ID,sz.SZALLAS_FK);"
            ],
            "metadata": {
                "azdata_cell_guid": "86623023-249d-4344-add4-756c48c24d8b",
                "language": "sql"
            },
            "outputs": [],
            "execution_count": null
        },
        {
            "cell_type": "code",
            "source": [
                "SELECT szh.SZALLAS_NEV,KLIMAS,AVG(szh.CSILLAGOK_SZAMA) From Szallashely szh join szoba sz on szh.SZALLAS_ID =sz.SZALLAS_FK  GROUP by GROUPING Sets((szh.SZALLAS_NEV),(sz.KLIMAS))"
            ],
            "metadata": {
                "azdata_cell_guid": "dd21674d-e570-4578-bcc3-65032fbe921f",
                "language": "sql"
            },
            "outputs": [],
            "execution_count": null
        },
        {
            "cell_type": "markdown",
            "source": [
                "Hozzon létre legalább 1 tárolt eljárást, függvényt vagy trigger-t"
            ],
            "metadata": {
                "azdata_cell_guid": "6d489ed1-fc76-4cf7-8073-1c186dbd5d1f"
            },
            "attachments": {}
        },
        {
            "cell_type": "code",
            "source": [
                "CREATE or ALTER proc TipusFoglalasok\r\n",
                "(\r\n",
                " @tipus nvarchar(20)\r\n",
                ")\r\n",
                "AS\r\n",
                "BEGIN\r\n",
                "  SELECT szh.SZALLAS_NEV,COUNT(f.FOGLALAS_PK) from Szallashely szh join Szoba sz on szh.SZALLAS_ID = sz.SZALLAS_FK join Foglalas f on f.SZOBA_FK  = sz.SZOBA_ID where szh.TIPUS=@tipus \r\n",
                "  GROUP BY szh.tipus,szh.SZALLAS_NEV\r\n",
                "End\r\n",
                "\r\n",
                ""
            ],
            "metadata": {
                "azdata_cell_guid": "41994d29-5337-443f-b398-8ac3dad1981d",
                "language": "sql"
            },
            "outputs": [
                {
                    "output_type": "error",
                    "ename": "",
                    "evalue": "Msg 262, Level 14, State 18, Procedure SPUgyfelFoglalasok, Line 1\r\nCREATE PROCEDURE permission denied in database 'zh1'.",
                    "traceback": []
                },
                {
                    "output_type": "display_data",
                    "data": {
                        "text/html": "Total execution time: 00:00:00.044"
                    },
                    "metadata": {}
                }
            ],
            "execution_count": 74
        },
        {
            "cell_type": "code",
            "source": [
                "Exec TipusFoglalasok 'vendégház'"
            ],
            "metadata": {
                "azdata_cell_guid": "9852e42a-fe2d-4666-9830-802dab341339",
                "language": "sql"
            },
            "outputs": [],
            "execution_count": null
        }
    ]
}