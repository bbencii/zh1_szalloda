{
    "metadata": {
        "kernelspec": {
            "name": "SQL",
            "display_name": "SQL",
            "language": "sql"
        },
        "language_info": {
            "name": "sql",
            "version": ""
        }
    },
    "nbformat_minor": 2,
    "nbformat": 4,
    "cells": [
        {
            "cell_type": "markdown",
            "source": [
                "Hozzon létre 3 lekérdezést, amelyeknél a GROUP BY speciális lehetőségeit használja"
            ],
            "metadata": {
                "azdata_cell_guid": "4c1f9bab-7748-4fb2-b0f2-57992cf468d2"
            },
            "attachments": {}
        },
        {
            "cell_type": "code",
            "source": [
                "SELECT UGYFEL_FK,METTOL,SUM(FELNOTT_SZAM+GYERMEK_SZAM)  from Foglalas WHERE UGYFEL_FK LIKE 'B%'  GROUP BY ROLLUP (UGYFEL_FK,METTOL);"
            ],
            "metadata": {
                "azdata_cell_guid": "200471e5-a762-4aa5-8fad-fdfa9c9a65c2",
                "language": "sql"
            },
            "outputs": [
{
    "output_type": "display_data",
    "data": {
        "text/html": "(36 rows affected)"
    },
    "metadata": {}
}, {
    "output_type": "display_data",
    "data": {
        "text/html": "Total execution time: 00:00:00.059"
    },
    "metadata": {}
}, {
    "output_type": "execute_result",
    "metadata": {},
    "execution_count": 55,
    "data": {
        "application/vnd.dataresource+json": {
            "schema": {
                "fields": [
                    {
                        "name": "UGYFEL_FK"
                    },
                    {
                        "name": "METTOL"
                    },
                    {
                        "name": "(No column name)"
                    }
                ]
            },
            "data": [
                {
                    "UGYFEL_FK": "balazs1",
                    "METTOL": "2016-05-07",
                    "(No column name)": "2"
                },
                {
                    "UGYFEL_FK": "balazs1",
                    "METTOL": "2017-02-10",
                    "(No column name)": "3"
                },
                {
                    "UGYFEL_FK": "balazs1",
                    "METTOL": "2017-02-12",
                    "(No column name)": "2"
                },
                {
                    "UGYFEL_FK": "balazs1",
                    "METTOL": "NULL",
                    "(No column name)": "7"
                },
                {
                    "UGYFEL_FK": "balazs2",
                    "METTOL": "2016-04-16",
                    "(No column name)": "2"
                },
                {
                    "UGYFEL_FK": "balazs2",
                    "METTOL": "2017-02-27",
                    "(No column name)": "1"
                },
                {
                    "UGYFEL_FK": "balazs2",
                    "METTOL": "NULL",
                    "(No column name)": "3"
                },
                {
                    "UGYFEL_FK": "balint",
                    "METTOL": "2016-04-22",
                    "(No column name)": "2"
                },
                {
                    "UGYFEL_FK": "balint",
                    "METTOL": "NULL",
                    "(No column name)": "2"
                },
                {
                    "UGYFEL_FK": "beata4",
                    "METTOL": "2016-04-20",
                    "(No column name)": "2"
                },
                {
                    "UGYFEL_FK": "beata4",
                    "METTOL": "NULL",
                    "(No column name)": "2"
                },
                {
                    "UGYFEL_FK": "BEATRIXK",
                    "METTOL": "2017-02-08",
                    "(No column name)": "3"
                },
                {
                    "UGYFEL_FK": "BEATRIXK",
                    "METTOL": "NULL",
                    "(No column name)": "3"
                },
                {
                    "UGYFEL_FK": "BEATRIXS",
                    "METTOL": "2016-04-18",
                    "(No column name)": "1"
                },
                {
                    "UGYFEL_FK": "BEATRIXS",
                    "METTOL": "2017-02-03",
                    "(No column name)": "2"
                },
                {
                    "UGYFEL_FK": "BEATRIXS",
                    "METTOL": "NULL",
                    "(No column name)": "3"
                },
                {
                    "UGYFEL_FK": "bence",
                    "METTOL": "2016-05-08",
                    "(No column name)": "2"
                },
                {
                    "UGYFEL_FK": "bence",
                    "METTOL": "2017-02-05",
                    "(No column name)": "3"
                },
                {
                    "UGYFEL_FK": "bence",
                    "METTOL": "NULL",
                    "(No column name)": "5"
                },
                {
                    "UGYFEL_FK": "BENCEB",
                    "METTOL": "2016-05-14",
                    "(No column name)": "3"
                },
                {
                    "UGYFEL_FK": "BENCEB",
                    "METTOL": "2017-02-12",
                    "(No column name)": "3"
                },
                {
                    "UGYFEL_FK": "BENCEB",
                    "METTOL": "NULL",
                    "(No column name)": "6"
                },
                {
                    "UGYFEL_FK": "bernadett1",
                    "METTOL": "2017-02-14",
                    "(No column name)": "3"
                },
                {
                    "UGYFEL_FK": "bernadett1",
                    "METTOL": "2017-02-24",
                    "(No column name)": "1"
                },
                {
                    "UGYFEL_FK": "bernadett1",
                    "METTOL": "NULL",
                    "(No column name)": "4"
                },
                {
                    "UGYFEL_FK": "bernadett2",
                    "METTOL": "2016-05-01",
                    "(No column name)": "2"
                },
                {
                    "UGYFEL_FK": "bernadett2",
                    "METTOL": "NULL",
                    "(No column name)": "2"
                },
                {
                    "UGYFEL_FK": "BERNADETTO",
                    "METTOL": "2016-04-10",
                    "(No column name)": "2"
                },
                {
                    "UGYFEL_FK": "BERNADETTO",
                    "METTOL": "2016-04-17",
                    "(No column name)": "2"
                },
                {
                    "UGYFEL_FK": "BERNADETTO",
                    "METTOL": "NULL",
                    "(No column name)": "4"
                },
                {
                    "UGYFEL_FK": "bertalan",
                    "METTOL": "2017-02-16",
                    "(No column name)": "2"
                },
                {
                    "UGYFEL_FK": "bertalan",
                    "METTOL": "2017-02-20",
                    "(No column name)": "4"
                },
                {
                    "UGYFEL_FK": "bertalan",
                    "METTOL": "NULL",
                    "(No column name)": "6"
                },
                {
                    "UGYFEL_FK": "brigitta3",
                    "METTOL": "2017-02-09",
                    "(No column name)": "2"
                },
                {
                    "UGYFEL_FK": "brigitta3",
                    "METTOL": "NULL",
                    "(No column name)": "2"
                },
                {
                    "UGYFEL_FK": "NULL",
                    "METTOL": "NULL",
                    "(No column name)": "49"
                }
            ]
        },
        "text/html": [
            "<table>",
            "<tr><th>UGYFEL_FK</th><th>METTOL</th><th>(No column name)</th></tr>",
            "<tr><td>balazs1</td><td>2016-05-07</td><td>2</td></tr>",
            "<tr><td>balazs1</td><td>2017-02-10</td><td>3</td></tr>",
            "<tr><td>balazs1</td><td>2017-02-12</td><td>2</td></tr>",
            "<tr><td>balazs1</td><td>NULL</td><td>7</td></tr>",
            "<tr><td>balazs2</td><td>2016-04-16</td><td>2</td></tr>",
            "<tr><td>balazs2</td><td>2017-02-27</td><td>1</td></tr>",
            "<tr><td>balazs2</td><td>NULL</td><td>3</td></tr>",
            "<tr><td>balint</td><td>2016-04-22</td><td>2</td></tr>",
            "<tr><td>balint</td><td>NULL</td><td>2</td></tr>",
            "<tr><td>beata4</td><td>2016-04-20</td><td>2</td></tr>",
            "<tr><td>beata4</td><td>NULL</td><td>2</td></tr>",
            "<tr><td>BEATRIXK</td><td>2017-02-08</td><td>3</td></tr>",
            "<tr><td>BEATRIXK</td><td>NULL</td><td>3</td></tr>",
            "<tr><td>BEATRIXS</td><td>2016-04-18</td><td>1</td></tr>",
            "<tr><td>BEATRIXS</td><td>2017-02-03</td><td>2</td></tr>",
            "<tr><td>BEATRIXS</td><td>NULL</td><td>3</td></tr>",
            "<tr><td>bence</td><td>2016-05-08</td><td>2</td></tr>",
            "<tr><td>bence</td><td>2017-02-05</td><td>3</td></tr>",
            "<tr><td>bence</td><td>NULL</td><td>5</td></tr>",
            "<tr><td>BENCEB</td><td>2016-05-14</td><td>3</td></tr>",
            "<tr><td>BENCEB</td><td>2017-02-12</td><td>3</td></tr>",
            "<tr><td>BENCEB</td><td>NULL</td><td>6</td></tr>",
            "<tr><td>bernadett1</td><td>2017-02-14</td><td>3</td></tr>",
            "<tr><td>bernadett1</td><td>2017-02-24</td><td>1</td></tr>",
            "<tr><td>bernadett1</td><td>NULL</td><td>4</td></tr>",
            "<tr><td>bernadett2</td><td>2016-05-01</td><td>2</td></tr>",
            "<tr><td>bernadett2</td><td>NULL</td><td>2</td></tr>",
            "<tr><td>BERNADETTO</td><td>2016-04-10</td><td>2</td></tr>",
            "<tr><td>BERNADETTO</td><td>2016-04-17</td><td>2</td></tr>",
            "<tr><td>BERNADETTO</td><td>NULL</td><td>4</td></tr>",
            "<tr><td>bertalan</td><td>2017-02-16</td><td>2</td></tr>",
            "<tr><td>bertalan</td><td>2017-02-20</td><td>4</td></tr>",
            "<tr><td>bertalan</td><td>NULL</td><td>6</td></tr>",
            "<tr><td>brigitta3</td><td>2017-02-09</td><td>2</td></tr>",
            "<tr><td>brigitta3</td><td>NULL</td><td>2</td></tr>",
            "<tr><td>NULL</td><td>NULL</td><td>49</td></tr>",
            "</table>"
        ]
    }
}
],
            "execution_count": 55
        },
        {
            "cell_type": "code",
            "source": [
                "SELECT sz.SZOBA_ID,sz.SZALLAS_FK,sum(f.FELNOTT_SZAM+f.GYERMEK_SZAM) as 'Össz szám'  from Foglalas f join szoba sz on f.szoba_fk =sz.SZOBA_ID GROUP BY Cube (sz.SZOBA_ID,sz.SZALLAS_FK);"
            ],
            "metadata": {
                "azdata_cell_guid": "86623023-249d-4344-add4-756c48c24d8b",
                "language": "sql"
            },
            "outputs": [],
            "execution_count": null
        },
        {
            "cell_type": "code",
            "source": [
                ""
            ],
            "metadata": {
                "azdata_cell_guid": "dd21674d-e570-4578-bcc3-65032fbe921f",
                "language": "sql"
            },
            "outputs": [],
            "execution_count": 45
        },
        {
            "cell_type": "code",
            "source": [
                "SELECT * from Foglalas"
            ],
            "metadata": {
                "azdata_cell_guid": "27f3f210-965e-457b-9c33-b562ce9fa49c",
                "language": "sql"
            },
            "outputs": [
                {
                    "output_type": "display_data",
                    "data": {
                        "text/html": "(195 rows affected)"
                    },
                    "metadata": {}
                },
                {
                    "output_type": "display_data",
                    "data": {
                        "text/html": "Total execution time: 00:00:00.060"
                    },
                    "metadata": {}
                },
                {
                    "output_type": "execute_result",
                    "metadata": {},
                    "execution_count": 40,
                    "data": {
                        "application/vnd.dataresource+json": {
                            "schema": {
                                "fields": [
                                    {
                                        "name": "FOGLALAS_PK"
                                    },
                                    {
                                        "name": "UGYFEL_FK"
                                    },
                                    {
                                        "name": "SZOBA_FK"
                                    },
                                    {
                                        "name": "METTOL"
                                    },
                                    {
                                        "name": "MEDDIG"
                                    },
                                    {
                                        "name": "FELNOTT_SZAM"
                                    },
                                    {
                                        "name": "GYERMEK_SZAM"
                                    }
                                ]
                            },
                            "data": [
                                {
                                    "FOGLALAS_PK": "558",
                                    "UGYFEL_FK": "NANDORF",
                                    "SZOBA_FK": "87",
                                    "METTOL": "2016-04-06",
                                    "MEDDIG": "2016-04-10",
                                    "FELNOTT_SZAM": "2",
                                    "GYERMEK_SZAM": "1"
                                },
                                {
                                    "FOGLALAS_PK": "559",
                                    "UGYFEL_FK": "ARONK",
                                    "SZOBA_FK": "131",
                                    "METTOL": "2016-04-06",
                                    "MEDDIG": "2016-04-08",
                                    "FELNOTT_SZAM": "2",
                                    "GYERMEK_SZAM": "0"
                                },
                                {
                                    "FOGLALAS_PK": "560",
                                    "UGYFEL_FK": "SEBASTIANF",
                                    "SZOBA_FK": "6",
                                    "METTOL": "2016-04-06",
                                    "MEDDIG": "2016-04-12",
                                    "FELNOTT_SZAM": "2",
                                    "GYERMEK_SZAM": "0"
                                },
                                {
                                    "FOGLALAS_PK": "561",
                                    "UGYFEL_FK": "laszlo2",
                                    "SZOBA_FK": "42",
                                    "METTOL": "2016-04-06",
                                    "MEDDIG": "2016-04-10",
                                    "FELNOTT_SZAM": "2",
                                    "GYERMEK_SZAM": "0"
                                },
                                {
                                    "FOGLALAS_PK": "562",
                                    "UGYFEL_FK": "PETERB",
                                    "SZOBA_FK": "7",
                                    "METTOL": "2016-04-06",
                                    "MEDDIG": "2016-04-10",
                                    "FELNOTT_SZAM": "1",
                                    "GYERMEK_SZAM": "0"
                                },
                                {
                                    "FOGLALAS_PK": "563",
                                    "UGYFEL_FK": "sebestyen",
                                    "SZOBA_FK": "68",
                                    "METTOL": "2016-04-07",
                                    "MEDDIG": "2016-04-12",
                                    "FELNOTT_SZAM": "1",
                                    "GYERMEK_SZAM": "3"
                                },
                                {
                                    "FOGLALAS_PK": "564",
                                    "UGYFEL_FK": "nikoletta4",
                                    "SZOBA_FK": "5",
                                    "METTOL": "2016-04-08",
                                    "MEDDIG": "2016-04-10",
                                    "FELNOTT_SZAM": "1",
                                    "GYERMEK_SZAM": "1"
                                },
                                {
                                    "FOGLALAS_PK": "565",
                                    "UGYFEL_FK": "kristof4",
                                    "SZOBA_FK": "141",
                                    "METTOL": "2016-04-08",
                                    "MEDDIG": "2016-04-14",
                                    "FELNOTT_SZAM": "2",
                                    "GYERMEK_SZAM": "0"
                                },
                                {
                                    "FOGLALAS_PK": "566",
                                    "UGYFEL_FK": "KRISZTIANM",
                                    "SZOBA_FK": "21",
                                    "METTOL": "2016-04-09",
                                    "MEDDIG": "2016-04-15",
                                    "FELNOTT_SZAM": "1",
                                    "GYERMEK_SZAM": "1"
                                },
                                {
                                    "FOGLALAS_PK": "567",
                                    "UGYFEL_FK": "anett3",
                                    "SZOBA_FK": "170",
                                    "METTOL": "2016-04-10",
                                    "MEDDIG": "2016-04-17",
                                    "FELNOTT_SZAM": "1",
                                    "GYERMEK_SZAM": "0"
                                },
                                {
                                    "FOGLALAS_PK": "568",
                                    "UGYFEL_FK": "kata",
                                    "SZOBA_FK": "78",
                                    "METTOL": "2016-04-10",
                                    "MEDDIG": "2016-04-11",
                                    "FELNOTT_SZAM": "2",
                                    "GYERMEK_SZAM": "0"
                                },
                                {
                                    "FOGLALAS_PK": "569",
                                    "UGYFEL_FK": "norbert4",
                                    "SZOBA_FK": "10",
                                    "METTOL": "2016-04-10",
                                    "MEDDIG": "2016-04-13",
                                    "FELNOTT_SZAM": "2",
                                    "GYERMEK_SZAM": "0"
                                },
                                {
                                    "FOGLALAS_PK": "570",
                                    "UGYFEL_FK": "BERNADETTO",
                                    "SZOBA_FK": "164",
                                    "METTOL": "2016-04-10",
                                    "MEDDIG": "2016-04-17",
                                    "FELNOTT_SZAM": "2",
                                    "GYERMEK_SZAM": "0"
                                },
                                {
                                    "FOGLALAS_PK": "571",
                                    "UGYFEL_FK": "AGNESH",
                                    "SZOBA_FK": "182",
                                    "METTOL": "2016-04-10",
                                    "MEDDIG": "2016-04-12",
                                    "FELNOTT_SZAM": "1",
                                    "GYERMEK_SZAM": "1"
                                },
                                {
                                    "FOGLALAS_PK": "572",
                                    "UGYFEL_FK": "katalin",
                                    "SZOBA_FK": "83",
                                    "METTOL": "2016-04-10",
                                    "MEDDIG": "2016-04-17",
                                    "FELNOTT_SZAM": "1",
                                    "GYERMEK_SZAM": "1"
                                },
                                {
                                    "FOGLALAS_PK": "573",
                                    "UGYFEL_FK": "daniel1",
                                    "SZOBA_FK": "169",
                                    "METTOL": "2016-04-10",
                                    "MEDDIG": "2016-04-15",
                                    "FELNOTT_SZAM": "1",
                                    "GYERMEK_SZAM": "1"
                                },
                                {
                                    "FOGLALAS_PK": "574",
                                    "UGYFEL_FK": "katka",
                                    "SZOBA_FK": "171",
                                    "METTOL": "2016-04-10",
                                    "MEDDIG": "2016-04-12",
                                    "FELNOTT_SZAM": "2",
                                    "GYERMEK_SZAM": "0"
                                },
                                {
                                    "FOGLALAS_PK": "575",
                                    "UGYFEL_FK": "daniel",
                                    "SZOBA_FK": "155",
                                    "METTOL": "2016-04-10",
                                    "MEDDIG": "2016-04-11",
                                    "FELNOTT_SZAM": "1",
                                    "GYERMEK_SZAM": "3"
                                },
                                {
                                    "FOGLALAS_PK": "576",
                                    "UGYFEL_FK": "aron2",
                                    "SZOBA_FK": "125",
                                    "METTOL": "2016-04-11",
                                    "MEDDIG": "2016-04-12",
                                    "FELNOTT_SZAM": "1",
                                    "GYERMEK_SZAM": "2"
                                },
                                {
                                    "FOGLALAS_PK": "577",
                                    "UGYFEL_FK": "peter4",
                                    "SZOBA_FK": "155",
                                    "METTOL": "2016-04-12",
                                    "MEDDIG": "2016-04-15",
                                    "FELNOTT_SZAM": "2",
                                    "GYERMEK_SZAM": "1"
                                },
                                {
                                    "FOGLALAS_PK": "578",
                                    "UGYFEL_FK": "anett3",
                                    "SZOBA_FK": "185",
                                    "METTOL": "2016-04-13",
                                    "MEDDIG": "2016-04-19",
                                    "FELNOTT_SZAM": "2",
                                    "GYERMEK_SZAM": "1"
                                },
                                {
                                    "FOGLALAS_PK": "579",
                                    "UGYFEL_FK": "ZSUZSAV",
                                    "SZOBA_FK": "139",
                                    "METTOL": "2016-04-14",
                                    "MEDDIG": "2016-04-16",
                                    "FELNOTT_SZAM": "2",
                                    "GYERMEK_SZAM": "0"
                                },
                                {
                                    "FOGLALAS_PK": "580",
                                    "UGYFEL_FK": "zsolt1",
                                    "SZOBA_FK": "130",
                                    "METTOL": "2016-04-14",
                                    "MEDDIG": "2016-04-17",
                                    "FELNOTT_SZAM": "2",
                                    "GYERMEK_SZAM": "0"
                                },
                                {
                                    "FOGLALAS_PK": "581",
                                    "UGYFEL_FK": "anett3",
                                    "SZOBA_FK": "144",
                                    "METTOL": "2016-04-15",
                                    "MEDDIG": "2016-04-19",
                                    "FELNOTT_SZAM": "2",
                                    "GYERMEK_SZAM": "1"
                                },
                                {
                                    "FOGLALAS_PK": "582",
                                    "UGYFEL_FK": "balazs2",
                                    "SZOBA_FK": "137",
                                    "METTOL": "2016-04-16",
                                    "MEDDIG": "2016-04-19",
                                    "FELNOTT_SZAM": "1",
                                    "GYERMEK_SZAM": "1"
                                },
                                {
                                    "FOGLALAS_PK": "583",
                                    "UGYFEL_FK": "istvan1",
                                    "SZOBA_FK": "79",
                                    "METTOL": "2016-04-16",
                                    "MEDDIG": "2016-04-22",
                                    "FELNOTT_SZAM": "3",
                                    "GYERMEK_SZAM": "0"
                                },
                                {
                                    "FOGLALAS_PK": "584",
                                    "UGYFEL_FK": "BERNADETTO",
                                    "SZOBA_FK": "136",
                                    "METTOL": "2016-04-17",
                                    "MEDDIG": "2016-04-19",
                                    "FELNOTT_SZAM": "1",
                                    "GYERMEK_SZAM": "1"
                                },
                                {
                                    "FOGLALAS_PK": "585",
                                    "UGYFEL_FK": "polla",
                                    "SZOBA_FK": "70",
                                    "METTOL": "2016-04-17",
                                    "MEDDIG": "2016-04-22",
                                    "FELNOTT_SZAM": "1",
                                    "GYERMEK_SZAM": "2"
                                },
                                {
                                    "FOGLALAS_PK": "586",
                                    "UGYFEL_FK": "BEATRIXS",
                                    "SZOBA_FK": "107",
                                    "METTOL": "2016-04-18",
                                    "MEDDIG": "2016-04-24",
                                    "FELNOTT_SZAM": "1",
                                    "GYERMEK_SZAM": "0"
                                },
                                {
                                    "FOGLALAS_PK": "587",
                                    "UGYFEL_FK": "norbert2",
                                    "SZOBA_FK": "123",
                                    "METTOL": "2016-04-19",
                                    "MEDDIG": "2016-04-26",
                                    "FELNOTT_SZAM": "1",
                                    "GYERMEK_SZAM": "0"
                                },
                                {
                                    "FOGLALAS_PK": "588",
                                    "UGYFEL_FK": "mark",
                                    "SZOBA_FK": "156",
                                    "METTOL": "2016-04-19",
                                    "MEDDIG": "2016-04-26",
                                    "FELNOTT_SZAM": "2",
                                    "GYERMEK_SZAM": "2"
                                },
                                {
                                    "FOGLALAS_PK": "589",
                                    "UGYFEL_FK": "miklos2",
                                    "SZOBA_FK": "44",
                                    "METTOL": "2016-04-19",
                                    "MEDDIG": "2016-04-21",
                                    "FELNOTT_SZAM": "3",
                                    "GYERMEK_SZAM": "0"
                                },
                                {
                                    "FOGLALAS_PK": "590",
                                    "UGYFEL_FK": "ANIKOS",
                                    "SZOBA_FK": "42",
                                    "METTOL": "2016-04-19",
                                    "MEDDIG": "2016-04-24",
                                    "FELNOTT_SZAM": "1",
                                    "GYERMEK_SZAM": "1"
                                },
                                {
                                    "FOGLALAS_PK": "591",
                                    "UGYFEL_FK": "beata4",
                                    "SZOBA_FK": "149",
                                    "METTOL": "2016-04-20",
                                    "MEDDIG": "2016-04-21",
                                    "FELNOTT_SZAM": "1",
                                    "GYERMEK_SZAM": "1"
                                },
                                {
                                    "FOGLALAS_PK": "592",
                                    "UGYFEL_FK": "julia",
                                    "SZOBA_FK": "176",
                                    "METTOL": "2016-04-21",
                                    "MEDDIG": "2016-04-26",
                                    "FELNOTT_SZAM": "1",
                                    "GYERMEK_SZAM": "1"
                                },
                                {
                                    "FOGLALAS_PK": "593",
                                    "UGYFEL_FK": "gabriella1",
                                    "SZOBA_FK": "77",
                                    "METTOL": "2016-04-21",
                                    "MEDDIG": "2016-04-24",
                                    "FELNOTT_SZAM": "3",
                                    "GYERMEK_SZAM": "0"
                                },
                                {
                                    "FOGLALAS_PK": "594",
                                    "UGYFEL_FK": "daniel",
                                    "SZOBA_FK": "153",
                                    "METTOL": "2016-04-22",
                                    "MEDDIG": "2016-04-25",
                                    "FELNOTT_SZAM": "2",
                                    "GYERMEK_SZAM": "0"
                                },
                                {
                                    "FOGLALAS_PK": "595",
                                    "UGYFEL_FK": "balint",
                                    "SZOBA_FK": "74",
                                    "METTOL": "2016-04-22",
                                    "MEDDIG": "2016-04-29",
                                    "FELNOTT_SZAM": "2",
                                    "GYERMEK_SZAM": "0"
                                },
                                {
                                    "FOGLALAS_PK": "596",
                                    "UGYFEL_FK": "SZILARDS",
                                    "SZOBA_FK": "115",
                                    "METTOL": "2016-04-23",
                                    "MEDDIG": "2016-04-30",
                                    "FELNOTT_SZAM": "3",
                                    "GYERMEK_SZAM": "0"
                                },
                                {
                                    "FOGLALAS_PK": "597",
                                    "UGYFEL_FK": "KRISZTINAG",
                                    "SZOBA_FK": "100",
                                    "METTOL": "2016-04-23",
                                    "MEDDIG": "2016-04-24",
                                    "FELNOTT_SZAM": "2",
                                    "GYERMEK_SZAM": "0"
                                },
                                {
                                    "FOGLALAS_PK": "598",
                                    "UGYFEL_FK": "ZSOLTJ",
                                    "SZOBA_FK": "31",
                                    "METTOL": "2016-04-24",
                                    "MEDDIG": "2016-04-26",
                                    "FELNOTT_SZAM": "2",
                                    "GYERMEK_SZAM": "2"
                                },
                                {
                                    "FOGLALAS_PK": "599",
                                    "UGYFEL_FK": "istvan1",
                                    "SZOBA_FK": "162",
                                    "METTOL": "2016-04-24",
                                    "MEDDIG": "2016-04-28",
                                    "FELNOTT_SZAM": "3",
                                    "GYERMEK_SZAM": "0"
                                },
                                {
                                    "FOGLALAS_PK": "600",
                                    "UGYFEL_FK": "ANDRASE",
                                    "SZOBA_FK": "190",
                                    "METTOL": "2016-04-24",
                                    "MEDDIG": "2016-05-01",
                                    "FELNOTT_SZAM": "1",
                                    "GYERMEK_SZAM": "0"
                                },
                                {
                                    "FOGLALAS_PK": "601",
                                    "UGYFEL_FK": "kata",
                                    "SZOBA_FK": "39",
                                    "METTOL": "2016-04-25",
                                    "MEDDIG": "2016-05-01",
                                    "FELNOTT_SZAM": "1",
                                    "GYERMEK_SZAM": "0"
                                },
                                {
                                    "FOGLALAS_PK": "602",
                                    "UGYFEL_FK": "sebestyen",
                                    "SZOBA_FK": "17",
                                    "METTOL": "2016-04-26",
                                    "MEDDIG": "2016-05-02",
                                    "FELNOTT_SZAM": "3",
                                    "GYERMEK_SZAM": "1"
                                },
                                {
                                    "FOGLALAS_PK": "603",
                                    "UGYFEL_FK": "gabor4",
                                    "SZOBA_FK": "48",
                                    "METTOL": "2016-04-26",
                                    "MEDDIG": "2016-04-29",
                                    "FELNOTT_SZAM": "3",
                                    "GYERMEK_SZAM": "0"
                                },
                                {
                                    "FOGLALAS_PK": "604",
                                    "UGYFEL_FK": "laszlo2",
                                    "SZOBA_FK": "30",
                                    "METTOL": "2016-04-27",
                                    "MEDDIG": "2016-04-29",
                                    "FELNOTT_SZAM": "1",
                                    "GYERMEK_SZAM": "1"
                                },
                                {
                                    "FOGLALAS_PK": "605",
                                    "UGYFEL_FK": "marton",
                                    "SZOBA_FK": "111",
                                    "METTOL": "2016-04-27",
                                    "MEDDIG": "2016-05-04",
                                    "FELNOTT_SZAM": "2",
                                    "GYERMEK_SZAM": "1"
                                },
                                {
                                    "FOGLALAS_PK": "606",
                                    "UGYFEL_FK": "AGNESH",
                                    "SZOBA_FK": "31",
                                    "METTOL": "2016-04-27",
                                    "MEDDIG": "2016-04-28",
                                    "FELNOTT_SZAM": "1",
                                    "GYERMEK_SZAM": "3"
                                },
                                {
                                    "FOGLALAS_PK": "607",
                                    "UGYFEL_FK": "anett3",
                                    "SZOBA_FK": "96",
                                    "METTOL": "2016-04-28",
                                    "MEDDIG": "2016-05-02",
                                    "FELNOTT_SZAM": "2",
                                    "GYERMEK_SZAM": "1"
                                },
                                {
                                    "FOGLALAS_PK": "608",
                                    "UGYFEL_FK": "krisztina1",
                                    "SZOBA_FK": "184",
                                    "METTOL": "2016-04-28",
                                    "MEDDIG": "2016-04-30",
                                    "FELNOTT_SZAM": "2",
                                    "GYERMEK_SZAM": "0"
                                },
                                {
                                    "FOGLALAS_PK": "609",
                                    "UGYFEL_FK": "MONIKAM",
                                    "SZOBA_FK": "9",
                                    "METTOL": "2016-04-29",
                                    "MEDDIG": "2016-05-01",
                                    "FELNOTT_SZAM": "2",
                                    "GYERMEK_SZAM": "0"
                                },
                                {
                                    "FOGLALAS_PK": "610",
                                    "UGYFEL_FK": "VIKTORIAU",
                                    "SZOBA_FK": "106",
                                    "METTOL": "2016-04-30",
                                    "MEDDIG": "2016-05-03",
                                    "FELNOTT_SZAM": "1",
                                    "GYERMEK_SZAM": "0"
                                },
                                {
                                    "FOGLALAS_PK": "611",
                                    "UGYFEL_FK": "andras3",
                                    "SZOBA_FK": "29",
                                    "METTOL": "2016-05-01",
                                    "MEDDIG": "2016-05-06",
                                    "FELNOTT_SZAM": "1",
                                    "GYERMEK_SZAM": "1"
                                },
                                {
                                    "FOGLALAS_PK": "612",
                                    "UGYFEL_FK": "bernadett2",
                                    "SZOBA_FK": "117",
                                    "METTOL": "2016-05-01",
                                    "MEDDIG": "2016-05-03",
                                    "FELNOTT_SZAM": "1",
                                    "GYERMEK_SZAM": "1"
                                },
                                {
                                    "FOGLALAS_PK": "613",
                                    "UGYFEL_FK": "csongor3",
                                    "SZOBA_FK": "130",
                                    "METTOL": "2016-05-01",
                                    "MEDDIG": "2016-05-04",
                                    "FELNOTT_SZAM": "2",
                                    "GYERMEK_SZAM": "0"
                                },
                                {
                                    "FOGLALAS_PK": "614",
                                    "UGYFEL_FK": "EVAV",
                                    "SZOBA_FK": "109",
                                    "METTOL": "2016-05-01",
                                    "MEDDIG": "2016-05-05",
                                    "FELNOTT_SZAM": "1",
                                    "GYERMEK_SZAM": "2"
                                },
                                {
                                    "FOGLALAS_PK": "615",
                                    "UGYFEL_FK": "ZOLTANT",
                                    "SZOBA_FK": "186",
                                    "METTOL": "2016-05-01",
                                    "MEDDIG": "2016-05-04",
                                    "FELNOTT_SZAM": "2",
                                    "GYERMEK_SZAM": "1"
                                },
                                {
                                    "FOGLALAS_PK": "616",
                                    "UGYFEL_FK": "JOZSEFG",
                                    "SZOBA_FK": "94",
                                    "METTOL": "2016-05-02",
                                    "MEDDIG": "2016-05-06",
                                    "FELNOTT_SZAM": "2",
                                    "GYERMEK_SZAM": "0"
                                },
                                {
                                    "FOGLALAS_PK": "617",
                                    "UGYFEL_FK": "vivien3",
                                    "SZOBA_FK": "117",
                                    "METTOL": "2016-05-02",
                                    "MEDDIG": "2016-05-05",
                                    "FELNOTT_SZAM": "2",
                                    "GYERMEK_SZAM": "1"
                                },
                                {
                                    "FOGLALAS_PK": "618",
                                    "UGYFEL_FK": "TAMASF",
                                    "SZOBA_FK": "105",
                                    "METTOL": "2016-05-03",
                                    "MEDDIG": "2016-05-04",
                                    "FELNOTT_SZAM": "1",
                                    "GYERMEK_SZAM": "1"
                                },
                                {
                                    "FOGLALAS_PK": "619",
                                    "UGYFEL_FK": "RENATAS",
                                    "SZOBA_FK": "132",
                                    "METTOL": "2016-05-04",
                                    "MEDDIG": "2016-05-11",
                                    "FELNOTT_SZAM": "1",
                                    "GYERMEK_SZAM": "1"
                                },
                                {
                                    "FOGLALAS_PK": "620",
                                    "UGYFEL_FK": "marton",
                                    "SZOBA_FK": "1",
                                    "METTOL": "2016-05-05",
                                    "MEDDIG": "2016-05-10",
                                    "FELNOTT_SZAM": "1",
                                    "GYERMEK_SZAM": "0"
                                },
                                {
                                    "FOGLALAS_PK": "621",
                                    "UGYFEL_FK": "gusztav",
                                    "SZOBA_FK": "109",
                                    "METTOL": "2016-05-06",
                                    "MEDDIG": "2016-05-13",
                                    "FELNOTT_SZAM": "1",
                                    "GYERMEK_SZAM": "1"
                                },
                                {
                                    "FOGLALAS_PK": "622",
                                    "UGYFEL_FK": "balazs1",
                                    "SZOBA_FK": "54",
                                    "METTOL": "2016-05-07",
                                    "MEDDIG": "2016-05-14",
                                    "FELNOTT_SZAM": "1",
                                    "GYERMEK_SZAM": "1"
                                },
                                {
                                    "FOGLALAS_PK": "623",
                                    "UGYFEL_FK": "csongor3",
                                    "SZOBA_FK": "96",
                                    "METTOL": "2016-05-08",
                                    "MEDDIG": "2016-05-15",
                                    "FELNOTT_SZAM": "3",
                                    "GYERMEK_SZAM": "0"
                                },
                                {
                                    "FOGLALAS_PK": "624",
                                    "UGYFEL_FK": "andi",
                                    "SZOBA_FK": "33",
                                    "METTOL": "2016-05-08",
                                    "MEDDIG": "2016-05-14",
                                    "FELNOTT_SZAM": "1",
                                    "GYERMEK_SZAM": "3"
                                },
                                {
                                    "FOGLALAS_PK": "625",
                                    "UGYFEL_FK": "ferenc1",
                                    "SZOBA_FK": "63",
                                    "METTOL": "2016-05-08",
                                    "MEDDIG": "2016-05-11",
                                    "FELNOTT_SZAM": "1",
                                    "GYERMEK_SZAM": "1"
                                },
                                {
                                    "FOGLALAS_PK": "626",
                                    "UGYFEL_FK": "bence",
                                    "SZOBA_FK": "18",
                                    "METTOL": "2016-05-08",
                                    "MEDDIG": "2016-05-11",
                                    "FELNOTT_SZAM": "2",
                                    "GYERMEK_SZAM": "0"
                                },
                                {
                                    "FOGLALAS_PK": "627",
                                    "UGYFEL_FK": "kornel4",
                                    "SZOBA_FK": "38",
                                    "METTOL": "2016-05-08",
                                    "MEDDIG": "2016-05-14",
                                    "FELNOTT_SZAM": "1",
                                    "GYERMEK_SZAM": "2"
                                },
                                {
                                    "FOGLALAS_PK": "628",
                                    "UGYFEL_FK": "agnes",
                                    "SZOBA_FK": "48",
                                    "METTOL": "2016-05-09",
                                    "MEDDIG": "2016-05-11",
                                    "FELNOTT_SZAM": "3",
                                    "GYERMEK_SZAM": "0"
                                },
                                {
                                    "FOGLALAS_PK": "629",
                                    "UGYFEL_FK": "daniel",
                                    "SZOBA_FK": "3",
                                    "METTOL": "2016-05-09",
                                    "MEDDIG": "2016-05-13",
                                    "FELNOTT_SZAM": "1",
                                    "GYERMEK_SZAM": "2"
                                },
                                {
                                    "FOGLALAS_PK": "630",
                                    "UGYFEL_FK": "ZSOLTJ",
                                    "SZOBA_FK": "163",
                                    "METTOL": "2016-05-09",
                                    "MEDDIG": "2016-05-11",
                                    "FELNOTT_SZAM": "2",
                                    "GYERMEK_SZAM": "0"
                                },
                                {
                                    "FOGLALAS_PK": "631",
                                    "UGYFEL_FK": "JANOSG",
                                    "SZOBA_FK": "98",
                                    "METTOL": "2016-05-09",
                                    "MEDDIG": "2016-05-15",
                                    "FELNOTT_SZAM": "1",
                                    "GYERMEK_SZAM": "0"
                                },
                                {
                                    "FOGLALAS_PK": "632",
                                    "UGYFEL_FK": "norbert2",
                                    "SZOBA_FK": "99",
                                    "METTOL": "2016-05-09",
                                    "MEDDIG": "2016-05-10",
                                    "FELNOTT_SZAM": "2",
                                    "GYERMEK_SZAM": "0"
                                },
                                {
                                    "FOGLALAS_PK": "633",
                                    "UGYFEL_FK": "katka",
                                    "SZOBA_FK": "187",
                                    "METTOL": "2016-05-09",
                                    "MEDDIG": "2016-05-15",
                                    "FELNOTT_SZAM": "2",
                                    "GYERMEK_SZAM": "1"
                                },
                                {
                                    "FOGLALAS_PK": "634",
                                    "UGYFEL_FK": "nikoletta4",
                                    "SZOBA_FK": "193",
                                    "METTOL": "2016-05-09",
                                    "MEDDIG": "2016-05-15",
                                    "FELNOTT_SZAM": "1",
                                    "GYERMEK_SZAM": "1"
                                },
                                {
                                    "FOGLALAS_PK": "635",
                                    "UGYFEL_FK": "daniel1",
                                    "SZOBA_FK": "97",
                                    "METTOL": "2016-05-10",
                                    "MEDDIG": "2016-05-13",
                                    "FELNOTT_SZAM": "2",
                                    "GYERMEK_SZAM": "2"
                                },
                                {
                                    "FOGLALAS_PK": "636",
                                    "UGYFEL_FK": "MATYASS",
                                    "SZOBA_FK": "91",
                                    "METTOL": "2016-05-10",
                                    "MEDDIG": "2016-05-16",
                                    "FELNOTT_SZAM": "2",
                                    "GYERMEK_SZAM": "0"
                                },
                                {
                                    "FOGLALAS_PK": "637",
                                    "UGYFEL_FK": "RENATAS",
                                    "SZOBA_FK": "100",
                                    "METTOL": "2016-05-11",
                                    "MEDDIG": "2016-05-16",
                                    "FELNOTT_SZAM": "2",
                                    "GYERMEK_SZAM": "0"
                                },
                                {
                                    "FOGLALAS_PK": "638",
                                    "UGYFEL_FK": "julia",
                                    "SZOBA_FK": "67",
                                    "METTOL": "2016-05-12",
                                    "MEDDIG": "2016-05-17",
                                    "FELNOTT_SZAM": "1",
                                    "GYERMEK_SZAM": "0"
                                },
                                {
                                    "FOGLALAS_PK": "639",
                                    "UGYFEL_FK": "zoltan4",
                                    "SZOBA_FK": "161",
                                    "METTOL": "2016-05-12",
                                    "MEDDIG": "2016-05-16",
                                    "FELNOTT_SZAM": "1",
                                    "GYERMEK_SZAM": "2"
                                },
                                {
                                    "FOGLALAS_PK": "640",
                                    "UGYFEL_FK": "sandor3",
                                    "SZOBA_FK": "165",
                                    "METTOL": "2016-05-12",
                                    "MEDDIG": "2016-05-15",
                                    "FELNOTT_SZAM": "2",
                                    "GYERMEK_SZAM": "0"
                                },
                                {
                                    "FOGLALAS_PK": "641",
                                    "UGYFEL_FK": "zoltan4",
                                    "SZOBA_FK": "150",
                                    "METTOL": "2016-05-13",
                                    "MEDDIG": "2016-05-16",
                                    "FELNOTT_SZAM": "2",
                                    "GYERMEK_SZAM": "1"
                                },
                                {
                                    "FOGLALAS_PK": "642",
                                    "UGYFEL_FK": "maria1",
                                    "SZOBA_FK": "54",
                                    "METTOL": "2016-05-13",
                                    "MEDDIG": "2016-05-18",
                                    "FELNOTT_SZAM": "2",
                                    "GYERMEK_SZAM": "0"
                                },
                                {
                                    "FOGLALAS_PK": "643",
                                    "UGYFEL_FK": "andras41",
                                    "SZOBA_FK": "127",
                                    "METTOL": "2016-05-14",
                                    "MEDDIG": "2016-05-16",
                                    "FELNOTT_SZAM": "1",
                                    "GYERMEK_SZAM": "1"
                                },
                                {
                                    "FOGLALAS_PK": "644",
                                    "UGYFEL_FK": "szilvia1",
                                    "SZOBA_FK": "166",
                                    "METTOL": "2016-05-14",
                                    "MEDDIG": "2016-05-21",
                                    "FELNOTT_SZAM": "2",
                                    "GYERMEK_SZAM": "0"
                                },
                                {
                                    "FOGLALAS_PK": "645",
                                    "UGYFEL_FK": "ARONK",
                                    "SZOBA_FK": "67",
                                    "METTOL": "2016-05-14",
                                    "MEDDIG": "2016-05-20",
                                    "FELNOTT_SZAM": "2",
                                    "GYERMEK_SZAM": "2"
                                },
                                {
                                    "FOGLALAS_PK": "646",
                                    "UGYFEL_FK": "BENCEB",
                                    "SZOBA_FK": "78",
                                    "METTOL": "2016-05-14",
                                    "MEDDIG": "2016-05-17",
                                    "FELNOTT_SZAM": "1",
                                    "GYERMEK_SZAM": "2"
                                },
                                {
                                    "FOGLALAS_PK": "647",
                                    "UGYFEL_FK": "robert2",
                                    "SZOBA_FK": "85",
                                    "METTOL": "2016-05-15",
                                    "MEDDIG": "2016-05-18",
                                    "FELNOTT_SZAM": "2",
                                    "GYERMEK_SZAM": "0"
                                },
                                {
                                    "FOGLALAS_PK": "648",
                                    "UGYFEL_FK": "krisztina1",
                                    "SZOBA_FK": "157",
                                    "METTOL": "2016-05-16",
                                    "MEDDIG": "2016-05-20",
                                    "FELNOTT_SZAM": "1",
                                    "GYERMEK_SZAM": "0"
                                },
                                {
                                    "FOGLALAS_PK": "649",
                                    "UGYFEL_FK": "tamas",
                                    "SZOBA_FK": "137",
                                    "METTOL": "2016-05-17",
                                    "MEDDIG": "2016-05-22",
                                    "FELNOTT_SZAM": "1",
                                    "GYERMEK_SZAM": "1"
                                },
                                {
                                    "FOGLALAS_PK": "650",
                                    "UGYFEL_FK": "zsuzsanna",
                                    "SZOBA_FK": "65",
                                    "METTOL": "2016-05-17",
                                    "MEDDIG": "2016-05-23",
                                    "FELNOTT_SZAM": "1",
                                    "GYERMEK_SZAM": "1"
                                },
                                {
                                    "FOGLALAS_PK": "1483",
                                    "UGYFEL_FK": "annamaria1",
                                    "SZOBA_FK": "120",
                                    "METTOL": "2017-01-30",
                                    "MEDDIG": "2017-01-31",
                                    "FELNOTT_SZAM": "3",
                                    "GYERMEK_SZAM": "1"
                                },
                                {
                                    "FOGLALAS_PK": "1484",
                                    "UGYFEL_FK": "emese",
                                    "SZOBA_FK": "195",
                                    "METTOL": "2017-01-30",
                                    "MEDDIG": "2017-01-31",
                                    "FELNOTT_SZAM": "1",
                                    "GYERMEK_SZAM": "1"
                                },
                                {
                                    "FOGLALAS_PK": "1485",
                                    "UGYFEL_FK": "ARONK",
                                    "SZOBA_FK": "103",
                                    "METTOL": "2017-01-30",
                                    "MEDDIG": "2017-02-03",
                                    "FELNOTT_SZAM": "1",
                                    "GYERMEK_SZAM": "1"
                                },
                                {
                                    "FOGLALAS_PK": "1486",
                                    "UGYFEL_FK": "JANOSG",
                                    "SZOBA_FK": "99",
                                    "METTOL": "2017-01-31",
                                    "MEDDIG": "2017-02-05",
                                    "FELNOTT_SZAM": "2",
                                    "GYERMEK_SZAM": "0"
                                },
                                {
                                    "FOGLALAS_PK": "1487",
                                    "UGYFEL_FK": "imre1",
                                    "SZOBA_FK": "163",
                                    "METTOL": "2017-02-01",
                                    "MEDDIG": "2017-02-04",
                                    "FELNOTT_SZAM": "1",
                                    "GYERMEK_SZAM": "1"
                                },
                                {
                                    "FOGLALAS_PK": "1488",
                                    "UGYFEL_FK": "nikoletta4",
                                    "SZOBA_FK": "119",
                                    "METTOL": "2017-02-01",
                                    "MEDDIG": "2017-02-04",
                                    "FELNOTT_SZAM": "2",
                                    "GYERMEK_SZAM": "0"
                                },
                                {
                                    "FOGLALAS_PK": "1489",
                                    "UGYFEL_FK": "andras3",
                                    "SZOBA_FK": "110",
                                    "METTOL": "2017-02-02",
                                    "MEDDIG": "2017-02-08",
                                    "FELNOTT_SZAM": "2",
                                    "GYERMEK_SZAM": "0"
                                },
                                {
                                    "FOGLALAS_PK": "1490",
                                    "UGYFEL_FK": "BEATRIXS",
                                    "SZOBA_FK": "156",
                                    "METTOL": "2017-02-03",
                                    "MEDDIG": "2017-02-04",
                                    "FELNOTT_SZAM": "2",
                                    "GYERMEK_SZAM": "0"
                                },
                                {
                                    "FOGLALAS_PK": "1491",
                                    "UGYFEL_FK": "veronika4",
                                    "SZOBA_FK": "172",
                                    "METTOL": "2017-02-03",
                                    "MEDDIG": "2017-02-05",
                                    "FELNOTT_SZAM": "1",
                                    "GYERMEK_SZAM": "1"
                                },
                                {
                                    "FOGLALAS_PK": "1492",
                                    "UGYFEL_FK": "gusztav",
                                    "SZOBA_FK": "4",
                                    "METTOL": "2017-02-03",
                                    "MEDDIG": "2017-02-09",
                                    "FELNOTT_SZAM": "2",
                                    "GYERMEK_SZAM": "0"
                                },
                                {
                                    "FOGLALAS_PK": "1493",
                                    "UGYFEL_FK": "julia4",
                                    "SZOBA_FK": "120",
                                    "METTOL": "2017-02-04",
                                    "MEDDIG": "2017-02-11",
                                    "FELNOTT_SZAM": "1",
                                    "GYERMEK_SZAM": "3"
                                },
                                {
                                    "FOGLALAS_PK": "1494",
                                    "UGYFEL_FK": "debora",
                                    "SZOBA_FK": "107",
                                    "METTOL": "2017-02-04",
                                    "MEDDIG": "2017-02-06",
                                    "FELNOTT_SZAM": "2",
                                    "GYERMEK_SZAM": "1"
                                },
                                {
                                    "FOGLALAS_PK": "1495",
                                    "UGYFEL_FK": "EVAV",
                                    "SZOBA_FK": "113",
                                    "METTOL": "2017-02-04",
                                    "MEDDIG": "2017-02-11",
                                    "FELNOTT_SZAM": "1",
                                    "GYERMEK_SZAM": "4"
                                },
                                {
                                    "FOGLALAS_PK": "1496",
                                    "UGYFEL_FK": "gabriella1",
                                    "SZOBA_FK": "61",
                                    "METTOL": "2017-02-04",
                                    "MEDDIG": "2017-02-11",
                                    "FELNOTT_SZAM": "1",
                                    "GYERMEK_SZAM": "2"
                                },
                                {
                                    "FOGLALAS_PK": "1497",
                                    "UGYFEL_FK": "SZABOLCSM",
                                    "SZOBA_FK": "179",
                                    "METTOL": "2017-02-04",
                                    "MEDDIG": "2017-02-05",
                                    "FELNOTT_SZAM": "2",
                                    "GYERMEK_SZAM": "1"
                                },
                                {
                                    "FOGLALAS_PK": "1498",
                                    "UGYFEL_FK": "kriszti",
                                    "SZOBA_FK": "16",
                                    "METTOL": "2017-02-04",
                                    "MEDDIG": "2017-02-11",
                                    "FELNOTT_SZAM": "3",
                                    "GYERMEK_SZAM": "0"
                                },
                                {
                                    "FOGLALAS_PK": "1499",
                                    "UGYFEL_FK": "imre1",
                                    "SZOBA_FK": "113",
                                    "METTOL": "2017-02-05",
                                    "MEDDIG": "2017-02-07",
                                    "FELNOTT_SZAM": "3",
                                    "GYERMEK_SZAM": "1"
                                },
                                {
                                    "FOGLALAS_PK": "1500",
                                    "UGYFEL_FK": "peter4",
                                    "SZOBA_FK": "126",
                                    "METTOL": "2017-02-05",
                                    "MEDDIG": "2017-02-09",
                                    "FELNOTT_SZAM": "1",
                                    "GYERMEK_SZAM": "2"
                                },
                                {
                                    "FOGLALAS_PK": "1501",
                                    "UGYFEL_FK": "bence",
                                    "SZOBA_FK": "116",
                                    "METTOL": "2017-02-05",
                                    "MEDDIG": "2017-02-09",
                                    "FELNOTT_SZAM": "1",
                                    "GYERMEK_SZAM": "2"
                                },
                                {
                                    "FOGLALAS_PK": "1502",
                                    "UGYFEL_FK": "krisztina",
                                    "SZOBA_FK": "191",
                                    "METTOL": "2017-02-05",
                                    "MEDDIG": "2017-02-07",
                                    "FELNOTT_SZAM": "2",
                                    "GYERMEK_SZAM": "0"
                                },
                                {
                                    "FOGLALAS_PK": "1503",
                                    "UGYFEL_FK": "NANDORF",
                                    "SZOBA_FK": "177",
                                    "METTOL": "2017-02-05",
                                    "MEDDIG": "2017-02-08",
                                    "FELNOTT_SZAM": "1",
                                    "GYERMEK_SZAM": "2"
                                },
                                {
                                    "FOGLALAS_PK": "1504",
                                    "UGYFEL_FK": "adam3",
                                    "SZOBA_FK": "57",
                                    "METTOL": "2017-02-06",
                                    "MEDDIG": "2017-02-10",
                                    "FELNOTT_SZAM": "1",
                                    "GYERMEK_SZAM": "0"
                                },
                                {
                                    "FOGLALAS_PK": "1505",
                                    "UGYFEL_FK": "MIHALYJ",
                                    "SZOBA_FK": "18",
                                    "METTOL": "2017-02-06",
                                    "MEDDIG": "2017-02-12",
                                    "FELNOTT_SZAM": "2",
                                    "GYERMEK_SZAM": "2"
                                },
                                {
                                    "FOGLALAS_PK": "1506",
                                    "UGYFEL_FK": "MONIKAM",
                                    "SZOBA_FK": "81",
                                    "METTOL": "2017-02-06",
                                    "MEDDIG": "2017-02-09",
                                    "FELNOTT_SZAM": "1",
                                    "GYERMEK_SZAM": "1"
                                },
                                {
                                    "FOGLALAS_PK": "1507",
                                    "UGYFEL_FK": "istvan1",
                                    "SZOBA_FK": "153",
                                    "METTOL": "2017-02-07",
                                    "MEDDIG": "2017-02-10",
                                    "FELNOTT_SZAM": "2",
                                    "GYERMEK_SZAM": "1"
                                },
                                {
                                    "FOGLALAS_PK": "1508",
                                    "UGYFEL_FK": "SZILARDS",
                                    "SZOBA_FK": "191",
                                    "METTOL": "2017-02-08",
                                    "MEDDIG": "2017-02-15",
                                    "FELNOTT_SZAM": "1",
                                    "GYERMEK_SZAM": "0"
                                },
                                {
                                    "FOGLALAS_PK": "1509",
                                    "UGYFEL_FK": "edit",
                                    "SZOBA_FK": "129",
                                    "METTOL": "2017-02-08",
                                    "MEDDIG": "2017-02-14",
                                    "FELNOTT_SZAM": "2",
                                    "GYERMEK_SZAM": "1"
                                },
                                {
                                    "FOGLALAS_PK": "1510",
                                    "UGYFEL_FK": "LASZLOA",
                                    "SZOBA_FK": "106",
                                    "METTOL": "2017-02-08",
                                    "MEDDIG": "2017-02-14",
                                    "FELNOTT_SZAM": "1",
                                    "GYERMEK_SZAM": "1"
                                },
                                {
                                    "FOGLALAS_PK": "1511",
                                    "UGYFEL_FK": "andras2",
                                    "SZOBA_FK": "176",
                                    "METTOL": "2017-02-08",
                                    "MEDDIG": "2017-02-10",
                                    "FELNOTT_SZAM": "2",
                                    "GYERMEK_SZAM": "2"
                                },
                                {
                                    "FOGLALAS_PK": "1512",
                                    "UGYFEL_FK": "BEATRIXK",
                                    "SZOBA_FK": "55",
                                    "METTOL": "2017-02-08",
                                    "MEDDIG": "2017-02-09",
                                    "FELNOTT_SZAM": "1",
                                    "GYERMEK_SZAM": "2"
                                },
                                {
                                    "FOGLALAS_PK": "1513",
                                    "UGYFEL_FK": "brigitta3",
                                    "SZOBA_FK": "85",
                                    "METTOL": "2017-02-09",
                                    "MEDDIG": "2017-02-16",
                                    "FELNOTT_SZAM": "1",
                                    "GYERMEK_SZAM": "1"
                                },
                                {
                                    "FOGLALAS_PK": "1514",
                                    "UGYFEL_FK": "andrea",
                                    "SZOBA_FK": "149",
                                    "METTOL": "2017-02-09",
                                    "MEDDIG": "2017-02-14",
                                    "FELNOTT_SZAM": "2",
                                    "GYERMEK_SZAM": "0"
                                },
                                {
                                    "FOGLALAS_PK": "1515",
                                    "UGYFEL_FK": "balazs1",
                                    "SZOBA_FK": "46",
                                    "METTOL": "2017-02-10",
                                    "MEDDIG": "2017-02-14",
                                    "FELNOTT_SZAM": "1",
                                    "GYERMEK_SZAM": "2"
                                },
                                {
                                    "FOGLALAS_PK": "1516",
                                    "UGYFEL_FK": "ESZTERE",
                                    "SZOBA_FK": "101",
                                    "METTOL": "2017-02-10",
                                    "MEDDIG": "2017-02-14",
                                    "FELNOTT_SZAM": "1",
                                    "GYERMEK_SZAM": "1"
                                },
                                {
                                    "FOGLALAS_PK": "1517",
                                    "UGYFEL_FK": "polla",
                                    "SZOBA_FK": "190",
                                    "METTOL": "2017-02-11",
                                    "MEDDIG": "2017-02-16",
                                    "FELNOTT_SZAM": "2",
                                    "GYERMEK_SZAM": "0"
                                },
                                {
                                    "FOGLALAS_PK": "1518",
                                    "UGYFEL_FK": "balazs1",
                                    "SZOBA_FK": "94",
                                    "METTOL": "2017-02-12",
                                    "MEDDIG": "2017-02-14",
                                    "FELNOTT_SZAM": "2",
                                    "GYERMEK_SZAM": "0"
                                },
                                {
                                    "FOGLALAS_PK": "1519",
                                    "UGYFEL_FK": "aniko",
                                    "SZOBA_FK": "132",
                                    "METTOL": "2017-02-12",
                                    "MEDDIG": "2017-02-14",
                                    "FELNOTT_SZAM": "2",
                                    "GYERMEK_SZAM": "1"
                                },
                                {
                                    "FOGLALAS_PK": "1520",
                                    "UGYFEL_FK": "daniel",
                                    "SZOBA_FK": "55",
                                    "METTOL": "2017-02-12",
                                    "MEDDIG": "2017-02-13",
                                    "FELNOTT_SZAM": "2",
                                    "GYERMEK_SZAM": "1"
                                },
                                {
                                    "FOGLALAS_PK": "1521",
                                    "UGYFEL_FK": "BENCEB",
                                    "SZOBA_FK": "89",
                                    "METTOL": "2017-02-12",
                                    "MEDDIG": "2017-02-19",
                                    "FELNOTT_SZAM": "3",
                                    "GYERMEK_SZAM": "0"
                                },
                                {
                                    "FOGLALAS_PK": "1522",
                                    "UGYFEL_FK": "ARPADM",
                                    "SZOBA_FK": "104",
                                    "METTOL": "2017-02-12",
                                    "MEDDIG": "2017-02-14",
                                    "FELNOTT_SZAM": "1",
                                    "GYERMEK_SZAM": "2"
                                },
                                {
                                    "FOGLALAS_PK": "1523",
                                    "UGYFEL_FK": "lajos",
                                    "SZOBA_FK": "11",
                                    "METTOL": "2017-02-12",
                                    "MEDDIG": "2017-02-13",
                                    "FELNOTT_SZAM": "1",
                                    "GYERMEK_SZAM": "0"
                                },
                                {
                                    "FOGLALAS_PK": "1524",
                                    "UGYFEL_FK": "gabriella1",
                                    "SZOBA_FK": "43",
                                    "METTOL": "2017-02-12",
                                    "MEDDIG": "2017-02-13",
                                    "FELNOTT_SZAM": "2",
                                    "GYERMEK_SZAM": "0"
                                },
                                {
                                    "FOGLALAS_PK": "1525",
                                    "UGYFEL_FK": "TAMASF",
                                    "SZOBA_FK": "105",
                                    "METTOL": "2017-02-12",
                                    "MEDDIG": "2017-02-17",
                                    "FELNOTT_SZAM": "1",
                                    "GYERMEK_SZAM": "1"
                                },
                                {
                                    "FOGLALAS_PK": "1526",
                                    "UGYFEL_FK": "janos3",
                                    "SZOBA_FK": "166",
                                    "METTOL": "2017-02-12",
                                    "MEDDIG": "2017-02-14",
                                    "FELNOTT_SZAM": "2",
                                    "GYERMEK_SZAM": "1"
                                },
                                {
                                    "FOGLALAS_PK": "1527",
                                    "UGYFEL_FK": "GYORGYO",
                                    "SZOBA_FK": "92",
                                    "METTOL": "2017-02-13",
                                    "MEDDIG": "2017-02-15",
                                    "FELNOTT_SZAM": "1",
                                    "GYERMEK_SZAM": "1"
                                },
                                {
                                    "FOGLALAS_PK": "1528",
                                    "UGYFEL_FK": "norbert",
                                    "SZOBA_FK": "97",
                                    "METTOL": "2017-02-13",
                                    "MEDDIG": "2017-02-15",
                                    "FELNOTT_SZAM": "2",
                                    "GYERMEK_SZAM": "1"
                                },
                                {
                                    "FOGLALAS_PK": "1529",
                                    "UGYFEL_FK": "RENATAS",
                                    "SZOBA_FK": "35",
                                    "METTOL": "2017-02-13",
                                    "MEDDIG": "2017-02-17",
                                    "FELNOTT_SZAM": "1",
                                    "GYERMEK_SZAM": "0"
                                },
                                {
                                    "FOGLALAS_PK": "1530",
                                    "UGYFEL_FK": "pal",
                                    "SZOBA_FK": "112",
                                    "METTOL": "2017-02-13",
                                    "MEDDIG": "2017-02-19",
                                    "FELNOTT_SZAM": "2",
                                    "GYERMEK_SZAM": "1"
                                },
                                {
                                    "FOGLALAS_PK": "1531",
                                    "UGYFEL_FK": "csongor3",
                                    "SZOBA_FK": "124",
                                    "METTOL": "2017-02-13",
                                    "MEDDIG": "2017-02-19",
                                    "FELNOTT_SZAM": "3",
                                    "GYERMEK_SZAM": "0"
                                },
                                {
                                    "FOGLALAS_PK": "1532",
                                    "UGYFEL_FK": "RENATAS",
                                    "SZOBA_FK": "104",
                                    "METTOL": "2017-02-14",
                                    "MEDDIG": "2017-02-17",
                                    "FELNOTT_SZAM": "2",
                                    "GYERMEK_SZAM": "0"
                                },
                                {
                                    "FOGLALAS_PK": "1533",
                                    "UGYFEL_FK": "bernadett1",
                                    "SZOBA_FK": "19",
                                    "METTOL": "2017-02-14",
                                    "MEDDIG": "2017-02-15",
                                    "FELNOTT_SZAM": "1",
                                    "GYERMEK_SZAM": "2"
                                },
                                {
                                    "FOGLALAS_PK": "1534",
                                    "UGYFEL_FK": "tamas",
                                    "SZOBA_FK": "52",
                                    "METTOL": "2017-02-14",
                                    "MEDDIG": "2017-02-19",
                                    "FELNOTT_SZAM": "2",
                                    "GYERMEK_SZAM": "1"
                                },
                                {
                                    "FOGLALAS_PK": "1535",
                                    "UGYFEL_FK": "attila4",
                                    "SZOBA_FK": "134",
                                    "METTOL": "2017-02-15",
                                    "MEDDIG": "2017-02-22",
                                    "FELNOTT_SZAM": "2",
                                    "GYERMEK_SZAM": "0"
                                },
                                {
                                    "FOGLALAS_PK": "1536",
                                    "UGYFEL_FK": "bertalan",
                                    "SZOBA_FK": "49",
                                    "METTOL": "2017-02-16",
                                    "MEDDIG": "2017-02-22",
                                    "FELNOTT_SZAM": "2",
                                    "GYERMEK_SZAM": "0"
                                },
                                {
                                    "FOGLALAS_PK": "1537",
                                    "UGYFEL_FK": "TAMASF",
                                    "SZOBA_FK": "9",
                                    "METTOL": "2017-02-16",
                                    "MEDDIG": "2017-02-19",
                                    "FELNOTT_SZAM": "3",
                                    "GYERMEK_SZAM": "1"
                                },
                                {
                                    "FOGLALAS_PK": "1538",
                                    "UGYFEL_FK": "ARPADH",
                                    "SZOBA_FK": "39",
                                    "METTOL": "2017-02-16",
                                    "MEDDIG": "2017-02-18",
                                    "FELNOTT_SZAM": "1",
                                    "GYERMEK_SZAM": "1"
                                },
                                {
                                    "FOGLALAS_PK": "1539",
                                    "UGYFEL_FK": "ANNAMARIAR",
                                    "SZOBA_FK": "154",
                                    "METTOL": "2017-02-16",
                                    "MEDDIG": "2017-02-18",
                                    "FELNOTT_SZAM": "2",
                                    "GYERMEK_SZAM": "0"
                                },
                                {
                                    "FOGLALAS_PK": "1540",
                                    "UGYFEL_FK": "david4",
                                    "SZOBA_FK": "114",
                                    "METTOL": "2017-02-16",
                                    "MEDDIG": "2017-02-19",
                                    "FELNOTT_SZAM": "2",
                                    "GYERMEK_SZAM": "1"
                                },
                                {
                                    "FOGLALAS_PK": "1541",
                                    "UGYFEL_FK": "norbert4",
                                    "SZOBA_FK": "155",
                                    "METTOL": "2017-02-16",
                                    "MEDDIG": "2017-02-17",
                                    "FELNOTT_SZAM": "1",
                                    "GYERMEK_SZAM": "0"
                                },
                                {
                                    "FOGLALAS_PK": "1542",
                                    "UGYFEL_FK": "krisztina",
                                    "SZOBA_FK": "14",
                                    "METTOL": "2017-02-16",
                                    "MEDDIG": "2017-02-20",
                                    "FELNOTT_SZAM": "3",
                                    "GYERMEK_SZAM": "1"
                                },
                                {
                                    "FOGLALAS_PK": "1543",
                                    "UGYFEL_FK": "RENATAK",
                                    "SZOBA_FK": "95",
                                    "METTOL": "2017-02-16",
                                    "MEDDIG": "2017-02-23",
                                    "FELNOTT_SZAM": "1",
                                    "GYERMEK_SZAM": "0"
                                },
                                {
                                    "FOGLALAS_PK": "1544",
                                    "UGYFEL_FK": "agnes3",
                                    "SZOBA_FK": "3",
                                    "METTOL": "2017-02-16",
                                    "MEDDIG": "2017-02-21",
                                    "FELNOTT_SZAM": "3",
                                    "GYERMEK_SZAM": "0"
                                },
                                {
                                    "FOGLALAS_PK": "1545",
                                    "UGYFEL_FK": "ROBERTI",
                                    "SZOBA_FK": "142",
                                    "METTOL": "2017-02-17",
                                    "MEDDIG": "2017-02-20",
                                    "FELNOTT_SZAM": "1",
                                    "GYERMEK_SZAM": "1"
                                },
                                {
                                    "FOGLALAS_PK": "1546",
                                    "UGYFEL_FK": "david1",
                                    "SZOBA_FK": "48",
                                    "METTOL": "2017-02-17",
                                    "MEDDIG": "2017-02-20",
                                    "FELNOTT_SZAM": "1",
                                    "GYERMEK_SZAM": "2"
                                },
                                {
                                    "FOGLALAS_PK": "1547",
                                    "UGYFEL_FK": "zsofi1",
                                    "SZOBA_FK": "48",
                                    "METTOL": "2017-02-18",
                                    "MEDDIG": "2017-02-19",
                                    "FELNOTT_SZAM": "1",
                                    "GYERMEK_SZAM": "2"
                                },
                                {
                                    "FOGLALAS_PK": "1548",
                                    "UGYFEL_FK": "LASZLON",
                                    "SZOBA_FK": "88",
                                    "METTOL": "2017-02-18",
                                    "MEDDIG": "2017-02-25",
                                    "FELNOTT_SZAM": "2",
                                    "GYERMEK_SZAM": "1"
                                },
                                {
                                    "FOGLALAS_PK": "1549",
                                    "UGYFEL_FK": "roza2",
                                    "SZOBA_FK": "17",
                                    "METTOL": "2017-02-18",
                                    "MEDDIG": "2017-02-21",
                                    "FELNOTT_SZAM": "1",
                                    "GYERMEK_SZAM": "2"
                                },
                                {
                                    "FOGLALAS_PK": "1550",
                                    "UGYFEL_FK": "arpad2",
                                    "SZOBA_FK": "51",
                                    "METTOL": "2017-02-18",
                                    "MEDDIG": "2017-02-19",
                                    "FELNOTT_SZAM": "3",
                                    "GYERMEK_SZAM": "1"
                                },
                                {
                                    "FOGLALAS_PK": "1551",
                                    "UGYFEL_FK": "anita",
                                    "SZOBA_FK": "157",
                                    "METTOL": "2017-02-19",
                                    "MEDDIG": "2017-02-22",
                                    "FELNOTT_SZAM": "1",
                                    "GYERMEK_SZAM": "1"
                                },
                                {
                                    "FOGLALAS_PK": "1552",
                                    "UGYFEL_FK": "pal",
                                    "SZOBA_FK": "44",
                                    "METTOL": "2017-02-20",
                                    "MEDDIG": "2017-02-22",
                                    "FELNOTT_SZAM": "3",
                                    "GYERMEK_SZAM": "0"
                                },
                                {
                                    "FOGLALAS_PK": "1553",
                                    "UGYFEL_FK": "anita",
                                    "SZOBA_FK": "43",
                                    "METTOL": "2017-02-20",
                                    "MEDDIG": "2017-02-25",
                                    "FELNOTT_SZAM": "1",
                                    "GYERMEK_SZAM": "1"
                                },
                                {
                                    "FOGLALAS_PK": "1554",
                                    "UGYFEL_FK": "daniel",
                                    "SZOBA_FK": "115",
                                    "METTOL": "2017-02-20",
                                    "MEDDIG": "2017-02-23",
                                    "FELNOTT_SZAM": "1",
                                    "GYERMEK_SZAM": "2"
                                },
                                {
                                    "FOGLALAS_PK": "1555",
                                    "UGYFEL_FK": "bertalan",
                                    "SZOBA_FK": "92",
                                    "METTOL": "2017-02-20",
                                    "MEDDIG": "2017-02-24",
                                    "FELNOTT_SZAM": "3",
                                    "GYERMEK_SZAM": "1"
                                },
                                {
                                    "FOGLALAS_PK": "1556",
                                    "UGYFEL_FK": "gabriella1",
                                    "SZOBA_FK": "38",
                                    "METTOL": "2017-02-21",
                                    "MEDDIG": "2017-02-27",
                                    "FELNOTT_SZAM": "2",
                                    "GYERMEK_SZAM": "1"
                                },
                                {
                                    "FOGLALAS_PK": "1557",
                                    "UGYFEL_FK": "peter3",
                                    "SZOBA_FK": "76",
                                    "METTOL": "2017-02-21",
                                    "MEDDIG": "2017-02-24",
                                    "FELNOTT_SZAM": "2",
                                    "GYERMEK_SZAM": "0"
                                },
                                {
                                    "FOGLALAS_PK": "1558",
                                    "UGYFEL_FK": "ARONK",
                                    "SZOBA_FK": "152",
                                    "METTOL": "2017-02-21",
                                    "MEDDIG": "2017-02-23",
                                    "FELNOTT_SZAM": "2",
                                    "GYERMEK_SZAM": "0"
                                },
                                {
                                    "FOGLALAS_PK": "1559",
                                    "UGYFEL_FK": "ATTILAO",
                                    "SZOBA_FK": "180",
                                    "METTOL": "2017-02-22",
                                    "MEDDIG": "2017-02-25",
                                    "FELNOTT_SZAM": "2",
                                    "GYERMEK_SZAM": "1"
                                },
                                {
                                    "FOGLALAS_PK": "1560",
                                    "UGYFEL_FK": "aniko",
                                    "SZOBA_FK": "109",
                                    "METTOL": "2017-02-23",
                                    "MEDDIG": "2017-02-24",
                                    "FELNOTT_SZAM": "2",
                                    "GYERMEK_SZAM": "0"
                                },
                                {
                                    "FOGLALAS_PK": "1561",
                                    "UGYFEL_FK": "adam4",
                                    "SZOBA_FK": "156",
                                    "METTOL": "2017-02-23",
                                    "MEDDIG": "2017-02-27",
                                    "FELNOTT_SZAM": "1",
                                    "GYERMEK_SZAM": "2"
                                },
                                {
                                    "FOGLALAS_PK": "1562",
                                    "UGYFEL_FK": "MONIKAM",
                                    "SZOBA_FK": "81",
                                    "METTOL": "2017-02-23",
                                    "MEDDIG": "2017-02-26",
                                    "FELNOTT_SZAM": "1",
                                    "GYERMEK_SZAM": "1"
                                },
                                {
                                    "FOGLALAS_PK": "1563",
                                    "UGYFEL_FK": "gusztav",
                                    "SZOBA_FK": "180",
                                    "METTOL": "2017-02-23",
                                    "MEDDIG": "2017-03-01",
                                    "FELNOTT_SZAM": "2",
                                    "GYERMEK_SZAM": "2"
                                },
                                {
                                    "FOGLALAS_PK": "1564",
                                    "UGYFEL_FK": "krisztian4",
                                    "SZOBA_FK": "94",
                                    "METTOL": "2017-02-23",
                                    "MEDDIG": "2017-03-02",
                                    "FELNOTT_SZAM": "1",
                                    "GYERMEK_SZAM": "1"
                                },
                                {
                                    "FOGLALAS_PK": "1565",
                                    "UGYFEL_FK": "peter1",
                                    "SZOBA_FK": "160",
                                    "METTOL": "2017-02-23",
                                    "MEDDIG": "2017-02-26",
                                    "FELNOTT_SZAM": "2",
                                    "GYERMEK_SZAM": "1"
                                },
                                {
                                    "FOGLALAS_PK": "1566",
                                    "UGYFEL_FK": "GYORGYO",
                                    "SZOBA_FK": "115",
                                    "METTOL": "2017-02-24",
                                    "MEDDIG": "2017-02-25",
                                    "FELNOTT_SZAM": "3",
                                    "GYERMEK_SZAM": "0"
                                },
                                {
                                    "FOGLALAS_PK": "1567",
                                    "UGYFEL_FK": "maria1",
                                    "SZOBA_FK": "171",
                                    "METTOL": "2017-02-24",
                                    "MEDDIG": "2017-03-02",
                                    "FELNOTT_SZAM": "2",
                                    "GYERMEK_SZAM": "0"
                                },
                                {
                                    "FOGLALAS_PK": "1568",
                                    "UGYFEL_FK": "bernadett1",
                                    "SZOBA_FK": "29",
                                    "METTOL": "2017-02-24",
                                    "MEDDIG": "2017-03-03",
                                    "FELNOTT_SZAM": "1",
                                    "GYERMEK_SZAM": "0"
                                },
                                {
                                    "FOGLALAS_PK": "1569",
                                    "UGYFEL_FK": "JOZSEFG",
                                    "SZOBA_FK": "96",
                                    "METTOL": "2017-02-24",
                                    "MEDDIG": "2017-03-03",
                                    "FELNOTT_SZAM": "3",
                                    "GYERMEK_SZAM": "0"
                                },
                                {
                                    "FOGLALAS_PK": "1570",
                                    "UGYFEL_FK": "katalin",
                                    "SZOBA_FK": "176",
                                    "METTOL": "2017-02-24",
                                    "MEDDIG": "2017-02-27",
                                    "FELNOTT_SZAM": "1",
                                    "GYERMEK_SZAM": "2"
                                },
                                {
                                    "FOGLALAS_PK": "1571",
                                    "UGYFEL_FK": "dani",
                                    "SZOBA_FK": "161",
                                    "METTOL": "2017-02-25",
                                    "MEDDIG": "2017-03-01",
                                    "FELNOTT_SZAM": "2",
                                    "GYERMEK_SZAM": "1"
                                },
                                {
                                    "FOGLALAS_PK": "1572",
                                    "UGYFEL_FK": "david1",
                                    "SZOBA_FK": "144",
                                    "METTOL": "2017-02-25",
                                    "MEDDIG": "2017-02-27",
                                    "FELNOTT_SZAM": "2",
                                    "GYERMEK_SZAM": "2"
                                },
                                {
                                    "FOGLALAS_PK": "1573",
                                    "UGYFEL_FK": "aron2",
                                    "SZOBA_FK": "59",
                                    "METTOL": "2017-02-26",
                                    "MEDDIG": "2017-02-27",
                                    "FELNOTT_SZAM": "2",
                                    "GYERMEK_SZAM": "1"
                                },
                                {
                                    "FOGLALAS_PK": "1574",
                                    "UGYFEL_FK": "eszter4",
                                    "SZOBA_FK": "128",
                                    "METTOL": "2017-02-26",
                                    "MEDDIG": "2017-02-27",
                                    "FELNOTT_SZAM": "1",
                                    "GYERMEK_SZAM": "2"
                                },
                                {
                                    "FOGLALAS_PK": "1575",
                                    "UGYFEL_FK": "reka4",
                                    "SZOBA_FK": "88",
                                    "METTOL": "2017-02-26",
                                    "MEDDIG": "2017-03-04",
                                    "FELNOTT_SZAM": "1",
                                    "GYERMEK_SZAM": "1"
                                },
                                {
                                    "FOGLALAS_PK": "1576",
                                    "UGYFEL_FK": "norbert",
                                    "SZOBA_FK": "189",
                                    "METTOL": "2017-02-26",
                                    "MEDDIG": "2017-03-01",
                                    "FELNOTT_SZAM": "1",
                                    "GYERMEK_SZAM": "0"
                                },
                                {
                                    "FOGLALAS_PK": "1577",
                                    "UGYFEL_FK": "julia",
                                    "SZOBA_FK": "78",
                                    "METTOL": "2017-02-27",
                                    "MEDDIG": "2017-03-06",
                                    "FELNOTT_SZAM": "2",
                                    "GYERMEK_SZAM": "1"
                                },
                                {
                                    "FOGLALAS_PK": "1578",
                                    "UGYFEL_FK": "balazs2",
                                    "SZOBA_FK": "148",
                                    "METTOL": "2017-02-27",
                                    "MEDDIG": "2017-03-06",
                                    "FELNOTT_SZAM": "1",
                                    "GYERMEK_SZAM": "0"
                                },
                                {
                                    "FOGLALAS_PK": "1579",
                                    "UGYFEL_FK": "peter1",
                                    "SZOBA_FK": "127",
                                    "METTOL": "2017-02-28",
                                    "MEDDIG": "2017-03-05",
                                    "FELNOTT_SZAM": "2",
                                    "GYERMEK_SZAM": "1"
                                },
                                {
                                    "FOGLALAS_PK": "1580",
                                    "UGYFEL_FK": "daniel1",
                                    "SZOBA_FK": "67",
                                    "METTOL": "2017-03-01",
                                    "MEDDIG": "2017-03-06",
                                    "FELNOTT_SZAM": "2",
                                    "GYERMEK_SZAM": "2"
                                },
                                {
                                    "FOGLALAS_PK": "1581",
                                    "UGYFEL_FK": "RENATAK",
                                    "SZOBA_FK": "48",
                                    "METTOL": "2017-03-01",
                                    "MEDDIG": "2017-03-06",
                                    "FELNOTT_SZAM": "1",
                                    "GYERMEK_SZAM": "0"
                                },
                                {
                                    "FOGLALAS_PK": "1582",
                                    "UGYFEL_FK": "marton",
                                    "SZOBA_FK": "64",
                                    "METTOL": "2017-03-02",
                                    "MEDDIG": "2017-03-03",
                                    "FELNOTT_SZAM": "2",
                                    "GYERMEK_SZAM": "0"
                                },
                                {
                                    "FOGLALAS_PK": "1583",
                                    "UGYFEL_FK": "norbert4",
                                    "SZOBA_FK": "128",
                                    "METTOL": "2017-03-03",
                                    "MEDDIG": "2017-03-07",
                                    "FELNOTT_SZAM": "1",
                                    "GYERMEK_SZAM": "1"
                                },
                                {
                                    "FOGLALAS_PK": "1584",
                                    "UGYFEL_FK": "kriszti",
                                    "SZOBA_FK": "67",
                                    "METTOL": "2017-03-03",
                                    "MEDDIG": "2017-03-04",
                                    "FELNOTT_SZAM": "1",
                                    "GYERMEK_SZAM": "2"
                                }
                            ]
                        },
                        "text/html": [
                            "<table>",
                            "<tr><th>FOGLALAS_PK</th><th>UGYFEL_FK</th><th>SZOBA_FK</th><th>METTOL</th><th>MEDDIG</th><th>FELNOTT_SZAM</th><th>GYERMEK_SZAM</th></tr>",
                            "<tr><td>558</td><td>NANDORF</td><td>87</td><td>2016-04-06</td><td>2016-04-10</td><td>2</td><td>1</td></tr>",
                            "<tr><td>559</td><td>ARONK</td><td>131</td><td>2016-04-06</td><td>2016-04-08</td><td>2</td><td>0</td></tr>",
                            "<tr><td>560</td><td>SEBASTIANF</td><td>6</td><td>2016-04-06</td><td>2016-04-12</td><td>2</td><td>0</td></tr>",
                            "<tr><td>561</td><td>laszlo2</td><td>42</td><td>2016-04-06</td><td>2016-04-10</td><td>2</td><td>0</td></tr>",
                            "<tr><td>562</td><td>PETERB</td><td>7</td><td>2016-04-06</td><td>2016-04-10</td><td>1</td><td>0</td></tr>",
                            "<tr><td>563</td><td>sebestyen</td><td>68</td><td>2016-04-07</td><td>2016-04-12</td><td>1</td><td>3</td></tr>",
                            "<tr><td>564</td><td>nikoletta4</td><td>5</td><td>2016-04-08</td><td>2016-04-10</td><td>1</td><td>1</td></tr>",
                            "<tr><td>565</td><td>kristof4</td><td>141</td><td>2016-04-08</td><td>2016-04-14</td><td>2</td><td>0</td></tr>",
                            "<tr><td>566</td><td>KRISZTIANM</td><td>21</td><td>2016-04-09</td><td>2016-04-15</td><td>1</td><td>1</td></tr>",
                            "<tr><td>567</td><td>anett3</td><td>170</td><td>2016-04-10</td><td>2016-04-17</td><td>1</td><td>0</td></tr>",
                            "<tr><td>568</td><td>kata</td><td>78</td><td>2016-04-10</td><td>2016-04-11</td><td>2</td><td>0</td></tr>",
                            "<tr><td>569</td><td>norbert4</td><td>10</td><td>2016-04-10</td><td>2016-04-13</td><td>2</td><td>0</td></tr>",
                            "<tr><td>570</td><td>BERNADETTO</td><td>164</td><td>2016-04-10</td><td>2016-04-17</td><td>2</td><td>0</td></tr>",
                            "<tr><td>571</td><td>AGNESH</td><td>182</td><td>2016-04-10</td><td>2016-04-12</td><td>1</td><td>1</td></tr>",
                            "<tr><td>572</td><td>katalin</td><td>83</td><td>2016-04-10</td><td>2016-04-17</td><td>1</td><td>1</td></tr>",
                            "<tr><td>573</td><td>daniel1</td><td>169</td><td>2016-04-10</td><td>2016-04-15</td><td>1</td><td>1</td></tr>",
                            "<tr><td>574</td><td>katka</td><td>171</td><td>2016-04-10</td><td>2016-04-12</td><td>2</td><td>0</td></tr>",
                            "<tr><td>575</td><td>daniel</td><td>155</td><td>2016-04-10</td><td>2016-04-11</td><td>1</td><td>3</td></tr>",
                            "<tr><td>576</td><td>aron2</td><td>125</td><td>2016-04-11</td><td>2016-04-12</td><td>1</td><td>2</td></tr>",
                            "<tr><td>577</td><td>peter4</td><td>155</td><td>2016-04-12</td><td>2016-04-15</td><td>2</td><td>1</td></tr>",
                            "<tr><td>578</td><td>anett3</td><td>185</td><td>2016-04-13</td><td>2016-04-19</td><td>2</td><td>1</td></tr>",
                            "<tr><td>579</td><td>ZSUZSAV</td><td>139</td><td>2016-04-14</td><td>2016-04-16</td><td>2</td><td>0</td></tr>",
                            "<tr><td>580</td><td>zsolt1</td><td>130</td><td>2016-04-14</td><td>2016-04-17</td><td>2</td><td>0</td></tr>",
                            "<tr><td>581</td><td>anett3</td><td>144</td><td>2016-04-15</td><td>2016-04-19</td><td>2</td><td>1</td></tr>",
                            "<tr><td>582</td><td>balazs2</td><td>137</td><td>2016-04-16</td><td>2016-04-19</td><td>1</td><td>1</td></tr>",
                            "<tr><td>583</td><td>istvan1</td><td>79</td><td>2016-04-16</td><td>2016-04-22</td><td>3</td><td>0</td></tr>",
                            "<tr><td>584</td><td>BERNADETTO</td><td>136</td><td>2016-04-17</td><td>2016-04-19</td><td>1</td><td>1</td></tr>",
                            "<tr><td>585</td><td>polla</td><td>70</td><td>2016-04-17</td><td>2016-04-22</td><td>1</td><td>2</td></tr>",
                            "<tr><td>586</td><td>BEATRIXS</td><td>107</td><td>2016-04-18</td><td>2016-04-24</td><td>1</td><td>0</td></tr>",
                            "<tr><td>587</td><td>norbert2</td><td>123</td><td>2016-04-19</td><td>2016-04-26</td><td>1</td><td>0</td></tr>",
                            "<tr><td>588</td><td>mark</td><td>156</td><td>2016-04-19</td><td>2016-04-26</td><td>2</td><td>2</td></tr>",
                            "<tr><td>589</td><td>miklos2</td><td>44</td><td>2016-04-19</td><td>2016-04-21</td><td>3</td><td>0</td></tr>",
                            "<tr><td>590</td><td>ANIKOS</td><td>42</td><td>2016-04-19</td><td>2016-04-24</td><td>1</td><td>1</td></tr>",
                            "<tr><td>591</td><td>beata4</td><td>149</td><td>2016-04-20</td><td>2016-04-21</td><td>1</td><td>1</td></tr>",
                            "<tr><td>592</td><td>julia</td><td>176</td><td>2016-04-21</td><td>2016-04-26</td><td>1</td><td>1</td></tr>",
                            "<tr><td>593</td><td>gabriella1</td><td>77</td><td>2016-04-21</td><td>2016-04-24</td><td>3</td><td>0</td></tr>",
                            "<tr><td>594</td><td>daniel</td><td>153</td><td>2016-04-22</td><td>2016-04-25</td><td>2</td><td>0</td></tr>",
                            "<tr><td>595</td><td>balint</td><td>74</td><td>2016-04-22</td><td>2016-04-29</td><td>2</td><td>0</td></tr>",
                            "<tr><td>596</td><td>SZILARDS</td><td>115</td><td>2016-04-23</td><td>2016-04-30</td><td>3</td><td>0</td></tr>",
                            "<tr><td>597</td><td>KRISZTINAG</td><td>100</td><td>2016-04-23</td><td>2016-04-24</td><td>2</td><td>0</td></tr>",
                            "<tr><td>598</td><td>ZSOLTJ</td><td>31</td><td>2016-04-24</td><td>2016-04-26</td><td>2</td><td>2</td></tr>",
                            "<tr><td>599</td><td>istvan1</td><td>162</td><td>2016-04-24</td><td>2016-04-28</td><td>3</td><td>0</td></tr>",
                            "<tr><td>600</td><td>ANDRASE</td><td>190</td><td>2016-04-24</td><td>2016-05-01</td><td>1</td><td>0</td></tr>",
                            "<tr><td>601</td><td>kata</td><td>39</td><td>2016-04-25</td><td>2016-05-01</td><td>1</td><td>0</td></tr>",
                            "<tr><td>602</td><td>sebestyen</td><td>17</td><td>2016-04-26</td><td>2016-05-02</td><td>3</td><td>1</td></tr>",
                            "<tr><td>603</td><td>gabor4</td><td>48</td><td>2016-04-26</td><td>2016-04-29</td><td>3</td><td>0</td></tr>",
                            "<tr><td>604</td><td>laszlo2</td><td>30</td><td>2016-04-27</td><td>2016-04-29</td><td>1</td><td>1</td></tr>",
                            "<tr><td>605</td><td>marton</td><td>111</td><td>2016-04-27</td><td>2016-05-04</td><td>2</td><td>1</td></tr>",
                            "<tr><td>606</td><td>AGNESH</td><td>31</td><td>2016-04-27</td><td>2016-04-28</td><td>1</td><td>3</td></tr>",
                            "<tr><td>607</td><td>anett3</td><td>96</td><td>2016-04-28</td><td>2016-05-02</td><td>2</td><td>1</td></tr>",
                            "<tr><td>608</td><td>krisztina1</td><td>184</td><td>2016-04-28</td><td>2016-04-30</td><td>2</td><td>0</td></tr>",
                            "<tr><td>609</td><td>MONIKAM</td><td>9</td><td>2016-04-29</td><td>2016-05-01</td><td>2</td><td>0</td></tr>",
                            "<tr><td>610</td><td>VIKTORIAU</td><td>106</td><td>2016-04-30</td><td>2016-05-03</td><td>1</td><td>0</td></tr>",
                            "<tr><td>611</td><td>andras3</td><td>29</td><td>2016-05-01</td><td>2016-05-06</td><td>1</td><td>1</td></tr>",
                            "<tr><td>612</td><td>bernadett2</td><td>117</td><td>2016-05-01</td><td>2016-05-03</td><td>1</td><td>1</td></tr>",
                            "<tr><td>613</td><td>csongor3</td><td>130</td><td>2016-05-01</td><td>2016-05-04</td><td>2</td><td>0</td></tr>",
                            "<tr><td>614</td><td>EVAV</td><td>109</td><td>2016-05-01</td><td>2016-05-05</td><td>1</td><td>2</td></tr>",
                            "<tr><td>615</td><td>ZOLTANT</td><td>186</td><td>2016-05-01</td><td>2016-05-04</td><td>2</td><td>1</td></tr>",
                            "<tr><td>616</td><td>JOZSEFG</td><td>94</td><td>2016-05-02</td><td>2016-05-06</td><td>2</td><td>0</td></tr>",
                            "<tr><td>617</td><td>vivien3</td><td>117</td><td>2016-05-02</td><td>2016-05-05</td><td>2</td><td>1</td></tr>",
                            "<tr><td>618</td><td>TAMASF</td><td>105</td><td>2016-05-03</td><td>2016-05-04</td><td>1</td><td>1</td></tr>",
                            "<tr><td>619</td><td>RENATAS</td><td>132</td><td>2016-05-04</td><td>2016-05-11</td><td>1</td><td>1</td></tr>",
                            "<tr><td>620</td><td>marton</td><td>1</td><td>2016-05-05</td><td>2016-05-10</td><td>1</td><td>0</td></tr>",
                            "<tr><td>621</td><td>gusztav</td><td>109</td><td>2016-05-06</td><td>2016-05-13</td><td>1</td><td>1</td></tr>",
                            "<tr><td>622</td><td>balazs1</td><td>54</td><td>2016-05-07</td><td>2016-05-14</td><td>1</td><td>1</td></tr>",
                            "<tr><td>623</td><td>csongor3</td><td>96</td><td>2016-05-08</td><td>2016-05-15</td><td>3</td><td>0</td></tr>",
                            "<tr><td>624</td><td>andi</td><td>33</td><td>2016-05-08</td><td>2016-05-14</td><td>1</td><td>3</td></tr>",
                            "<tr><td>625</td><td>ferenc1</td><td>63</td><td>2016-05-08</td><td>2016-05-11</td><td>1</td><td>1</td></tr>",
                            "<tr><td>626</td><td>bence</td><td>18</td><td>2016-05-08</td><td>2016-05-11</td><td>2</td><td>0</td></tr>",
                            "<tr><td>627</td><td>kornel4</td><td>38</td><td>2016-05-08</td><td>2016-05-14</td><td>1</td><td>2</td></tr>",
                            "<tr><td>628</td><td>agnes</td><td>48</td><td>2016-05-09</td><td>2016-05-11</td><td>3</td><td>0</td></tr>",
                            "<tr><td>629</td><td>daniel</td><td>3</td><td>2016-05-09</td><td>2016-05-13</td><td>1</td><td>2</td></tr>",
                            "<tr><td>630</td><td>ZSOLTJ</td><td>163</td><td>2016-05-09</td><td>2016-05-11</td><td>2</td><td>0</td></tr>",
                            "<tr><td>631</td><td>JANOSG</td><td>98</td><td>2016-05-09</td><td>2016-05-15</td><td>1</td><td>0</td></tr>",
                            "<tr><td>632</td><td>norbert2</td><td>99</td><td>2016-05-09</td><td>2016-05-10</td><td>2</td><td>0</td></tr>",
                            "<tr><td>633</td><td>katka</td><td>187</td><td>2016-05-09</td><td>2016-05-15</td><td>2</td><td>1</td></tr>",
                            "<tr><td>634</td><td>nikoletta4</td><td>193</td><td>2016-05-09</td><td>2016-05-15</td><td>1</td><td>1</td></tr>",
                            "<tr><td>635</td><td>daniel1</td><td>97</td><td>2016-05-10</td><td>2016-05-13</td><td>2</td><td>2</td></tr>",
                            "<tr><td>636</td><td>MATYASS</td><td>91</td><td>2016-05-10</td><td>2016-05-16</td><td>2</td><td>0</td></tr>",
                            "<tr><td>637</td><td>RENATAS</td><td>100</td><td>2016-05-11</td><td>2016-05-16</td><td>2</td><td>0</td></tr>",
                            "<tr><td>638</td><td>julia</td><td>67</td><td>2016-05-12</td><td>2016-05-17</td><td>1</td><td>0</td></tr>",
                            "<tr><td>639</td><td>zoltan4</td><td>161</td><td>2016-05-12</td><td>2016-05-16</td><td>1</td><td>2</td></tr>",
                            "<tr><td>640</td><td>sandor3</td><td>165</td><td>2016-05-12</td><td>2016-05-15</td><td>2</td><td>0</td></tr>",
                            "<tr><td>641</td><td>zoltan4</td><td>150</td><td>2016-05-13</td><td>2016-05-16</td><td>2</td><td>1</td></tr>",
                            "<tr><td>642</td><td>maria1</td><td>54</td><td>2016-05-13</td><td>2016-05-18</td><td>2</td><td>0</td></tr>",
                            "<tr><td>643</td><td>andras41</td><td>127</td><td>2016-05-14</td><td>2016-05-16</td><td>1</td><td>1</td></tr>",
                            "<tr><td>644</td><td>szilvia1</td><td>166</td><td>2016-05-14</td><td>2016-05-21</td><td>2</td><td>0</td></tr>",
                            "<tr><td>645</td><td>ARONK</td><td>67</td><td>2016-05-14</td><td>2016-05-20</td><td>2</td><td>2</td></tr>",
                            "<tr><td>646</td><td>BENCEB</td><td>78</td><td>2016-05-14</td><td>2016-05-17</td><td>1</td><td>2</td></tr>",
                            "<tr><td>647</td><td>robert2</td><td>85</td><td>2016-05-15</td><td>2016-05-18</td><td>2</td><td>0</td></tr>",
                            "<tr><td>648</td><td>krisztina1</td><td>157</td><td>2016-05-16</td><td>2016-05-20</td><td>1</td><td>0</td></tr>",
                            "<tr><td>649</td><td>tamas</td><td>137</td><td>2016-05-17</td><td>2016-05-22</td><td>1</td><td>1</td></tr>",
                            "<tr><td>650</td><td>zsuzsanna</td><td>65</td><td>2016-05-17</td><td>2016-05-23</td><td>1</td><td>1</td></tr>",
                            "<tr><td>1483</td><td>annamaria1</td><td>120</td><td>2017-01-30</td><td>2017-01-31</td><td>3</td><td>1</td></tr>",
                            "<tr><td>1484</td><td>emese</td><td>195</td><td>2017-01-30</td><td>2017-01-31</td><td>1</td><td>1</td></tr>",
                            "<tr><td>1485</td><td>ARONK</td><td>103</td><td>2017-01-30</td><td>2017-02-03</td><td>1</td><td>1</td></tr>",
                            "<tr><td>1486</td><td>JANOSG</td><td>99</td><td>2017-01-31</td><td>2017-02-05</td><td>2</td><td>0</td></tr>",
                            "<tr><td>1487</td><td>imre1</td><td>163</td><td>2017-02-01</td><td>2017-02-04</td><td>1</td><td>1</td></tr>",
                            "<tr><td>1488</td><td>nikoletta4</td><td>119</td><td>2017-02-01</td><td>2017-02-04</td><td>2</td><td>0</td></tr>",
                            "<tr><td>1489</td><td>andras3</td><td>110</td><td>2017-02-02</td><td>2017-02-08</td><td>2</td><td>0</td></tr>",
                            "<tr><td>1490</td><td>BEATRIXS</td><td>156</td><td>2017-02-03</td><td>2017-02-04</td><td>2</td><td>0</td></tr>",
                            "<tr><td>1491</td><td>veronika4</td><td>172</td><td>2017-02-03</td><td>2017-02-05</td><td>1</td><td>1</td></tr>",
                            "<tr><td>1492</td><td>gusztav</td><td>4</td><td>2017-02-03</td><td>2017-02-09</td><td>2</td><td>0</td></tr>",
                            "<tr><td>1493</td><td>julia4</td><td>120</td><td>2017-02-04</td><td>2017-02-11</td><td>1</td><td>3</td></tr>",
                            "<tr><td>1494</td><td>debora</td><td>107</td><td>2017-02-04</td><td>2017-02-06</td><td>2</td><td>1</td></tr>",
                            "<tr><td>1495</td><td>EVAV</td><td>113</td><td>2017-02-04</td><td>2017-02-11</td><td>1</td><td>4</td></tr>",
                            "<tr><td>1496</td><td>gabriella1</td><td>61</td><td>2017-02-04</td><td>2017-02-11</td><td>1</td><td>2</td></tr>",
                            "<tr><td>1497</td><td>SZABOLCSM</td><td>179</td><td>2017-02-04</td><td>2017-02-05</td><td>2</td><td>1</td></tr>",
                            "<tr><td>1498</td><td>kriszti</td><td>16</td><td>2017-02-04</td><td>2017-02-11</td><td>3</td><td>0</td></tr>",
                            "<tr><td>1499</td><td>imre1</td><td>113</td><td>2017-02-05</td><td>2017-02-07</td><td>3</td><td>1</td></tr>",
                            "<tr><td>1500</td><td>peter4</td><td>126</td><td>2017-02-05</td><td>2017-02-09</td><td>1</td><td>2</td></tr>",
                            "<tr><td>1501</td><td>bence</td><td>116</td><td>2017-02-05</td><td>2017-02-09</td><td>1</td><td>2</td></tr>",
                            "<tr><td>1502</td><td>krisztina</td><td>191</td><td>2017-02-05</td><td>2017-02-07</td><td>2</td><td>0</td></tr>",
                            "<tr><td>1503</td><td>NANDORF</td><td>177</td><td>2017-02-05</td><td>2017-02-08</td><td>1</td><td>2</td></tr>",
                            "<tr><td>1504</td><td>adam3</td><td>57</td><td>2017-02-06</td><td>2017-02-10</td><td>1</td><td>0</td></tr>",
                            "<tr><td>1505</td><td>MIHALYJ</td><td>18</td><td>2017-02-06</td><td>2017-02-12</td><td>2</td><td>2</td></tr>",
                            "<tr><td>1506</td><td>MONIKAM</td><td>81</td><td>2017-02-06</td><td>2017-02-09</td><td>1</td><td>1</td></tr>",
                            "<tr><td>1507</td><td>istvan1</td><td>153</td><td>2017-02-07</td><td>2017-02-10</td><td>2</td><td>1</td></tr>",
                            "<tr><td>1508</td><td>SZILARDS</td><td>191</td><td>2017-02-08</td><td>2017-02-15</td><td>1</td><td>0</td></tr>",
                            "<tr><td>1509</td><td>edit</td><td>129</td><td>2017-02-08</td><td>2017-02-14</td><td>2</td><td>1</td></tr>",
                            "<tr><td>1510</td><td>LASZLOA</td><td>106</td><td>2017-02-08</td><td>2017-02-14</td><td>1</td><td>1</td></tr>",
                            "<tr><td>1511</td><td>andras2</td><td>176</td><td>2017-02-08</td><td>2017-02-10</td><td>2</td><td>2</td></tr>",
                            "<tr><td>1512</td><td>BEATRIXK</td><td>55</td><td>2017-02-08</td><td>2017-02-09</td><td>1</td><td>2</td></tr>",
                            "<tr><td>1513</td><td>brigitta3</td><td>85</td><td>2017-02-09</td><td>2017-02-16</td><td>1</td><td>1</td></tr>",
                            "<tr><td>1514</td><td>andrea</td><td>149</td><td>2017-02-09</td><td>2017-02-14</td><td>2</td><td>0</td></tr>",
                            "<tr><td>1515</td><td>balazs1</td><td>46</td><td>2017-02-10</td><td>2017-02-14</td><td>1</td><td>2</td></tr>",
                            "<tr><td>1516</td><td>ESZTERE</td><td>101</td><td>2017-02-10</td><td>2017-02-14</td><td>1</td><td>1</td></tr>",
                            "<tr><td>1517</td><td>polla</td><td>190</td><td>2017-02-11</td><td>2017-02-16</td><td>2</td><td>0</td></tr>",
                            "<tr><td>1518</td><td>balazs1</td><td>94</td><td>2017-02-12</td><td>2017-02-14</td><td>2</td><td>0</td></tr>",
                            "<tr><td>1519</td><td>aniko</td><td>132</td><td>2017-02-12</td><td>2017-02-14</td><td>2</td><td>1</td></tr>",
                            "<tr><td>1520</td><td>daniel</td><td>55</td><td>2017-02-12</td><td>2017-02-13</td><td>2</td><td>1</td></tr>",
                            "<tr><td>1521</td><td>BENCEB</td><td>89</td><td>2017-02-12</td><td>2017-02-19</td><td>3</td><td>0</td></tr>",
                            "<tr><td>1522</td><td>ARPADM</td><td>104</td><td>2017-02-12</td><td>2017-02-14</td><td>1</td><td>2</td></tr>",
                            "<tr><td>1523</td><td>lajos</td><td>11</td><td>2017-02-12</td><td>2017-02-13</td><td>1</td><td>0</td></tr>",
                            "<tr><td>1524</td><td>gabriella1</td><td>43</td><td>2017-02-12</td><td>2017-02-13</td><td>2</td><td>0</td></tr>",
                            "<tr><td>1525</td><td>TAMASF</td><td>105</td><td>2017-02-12</td><td>2017-02-17</td><td>1</td><td>1</td></tr>",
                            "<tr><td>1526</td><td>janos3</td><td>166</td><td>2017-02-12</td><td>2017-02-14</td><td>2</td><td>1</td></tr>",
                            "<tr><td>1527</td><td>GYORGYO</td><td>92</td><td>2017-02-13</td><td>2017-02-15</td><td>1</td><td>1</td></tr>",
                            "<tr><td>1528</td><td>norbert</td><td>97</td><td>2017-02-13</td><td>2017-02-15</td><td>2</td><td>1</td></tr>",
                            "<tr><td>1529</td><td>RENATAS</td><td>35</td><td>2017-02-13</td><td>2017-02-17</td><td>1</td><td>0</td></tr>",
                            "<tr><td>1530</td><td>pal</td><td>112</td><td>2017-02-13</td><td>2017-02-19</td><td>2</td><td>1</td></tr>",
                            "<tr><td>1531</td><td>csongor3</td><td>124</td><td>2017-02-13</td><td>2017-02-19</td><td>3</td><td>0</td></tr>",
                            "<tr><td>1532</td><td>RENATAS</td><td>104</td><td>2017-02-14</td><td>2017-02-17</td><td>2</td><td>0</td></tr>",
                            "<tr><td>1533</td><td>bernadett1</td><td>19</td><td>2017-02-14</td><td>2017-02-15</td><td>1</td><td>2</td></tr>",
                            "<tr><td>1534</td><td>tamas</td><td>52</td><td>2017-02-14</td><td>2017-02-19</td><td>2</td><td>1</td></tr>",
                            "<tr><td>1535</td><td>attila4</td><td>134</td><td>2017-02-15</td><td>2017-02-22</td><td>2</td><td>0</td></tr>",
                            "<tr><td>1536</td><td>bertalan</td><td>49</td><td>2017-02-16</td><td>2017-02-22</td><td>2</td><td>0</td></tr>",
                            "<tr><td>1537</td><td>TAMASF</td><td>9</td><td>2017-02-16</td><td>2017-02-19</td><td>3</td><td>1</td></tr>",
                            "<tr><td>1538</td><td>ARPADH</td><td>39</td><td>2017-02-16</td><td>2017-02-18</td><td>1</td><td>1</td></tr>",
                            "<tr><td>1539</td><td>ANNAMARIAR</td><td>154</td><td>2017-02-16</td><td>2017-02-18</td><td>2</td><td>0</td></tr>",
                            "<tr><td>1540</td><td>david4</td><td>114</td><td>2017-02-16</td><td>2017-02-19</td><td>2</td><td>1</td></tr>",
                            "<tr><td>1541</td><td>norbert4</td><td>155</td><td>2017-02-16</td><td>2017-02-17</td><td>1</td><td>0</td></tr>",
                            "<tr><td>1542</td><td>krisztina</td><td>14</td><td>2017-02-16</td><td>2017-02-20</td><td>3</td><td>1</td></tr>",
                            "<tr><td>1543</td><td>RENATAK</td><td>95</td><td>2017-02-16</td><td>2017-02-23</td><td>1</td><td>0</td></tr>",
                            "<tr><td>1544</td><td>agnes3</td><td>3</td><td>2017-02-16</td><td>2017-02-21</td><td>3</td><td>0</td></tr>",
                            "<tr><td>1545</td><td>ROBERTI</td><td>142</td><td>2017-02-17</td><td>2017-02-20</td><td>1</td><td>1</td></tr>",
                            "<tr><td>1546</td><td>david1</td><td>48</td><td>2017-02-17</td><td>2017-02-20</td><td>1</td><td>2</td></tr>",
                            "<tr><td>1547</td><td>zsofi1</td><td>48</td><td>2017-02-18</td><td>2017-02-19</td><td>1</td><td>2</td></tr>",
                            "<tr><td>1548</td><td>LASZLON</td><td>88</td><td>2017-02-18</td><td>2017-02-25</td><td>2</td><td>1</td></tr>",
                            "<tr><td>1549</td><td>roza2</td><td>17</td><td>2017-02-18</td><td>2017-02-21</td><td>1</td><td>2</td></tr>",
                            "<tr><td>1550</td><td>arpad2</td><td>51</td><td>2017-02-18</td><td>2017-02-19</td><td>3</td><td>1</td></tr>",
                            "<tr><td>1551</td><td>anita</td><td>157</td><td>2017-02-19</td><td>2017-02-22</td><td>1</td><td>1</td></tr>",
                            "<tr><td>1552</td><td>pal</td><td>44</td><td>2017-02-20</td><td>2017-02-22</td><td>3</td><td>0</td></tr>",
                            "<tr><td>1553</td><td>anita</td><td>43</td><td>2017-02-20</td><td>2017-02-25</td><td>1</td><td>1</td></tr>",
                            "<tr><td>1554</td><td>daniel</td><td>115</td><td>2017-02-20</td><td>2017-02-23</td><td>1</td><td>2</td></tr>",
                            "<tr><td>1555</td><td>bertalan</td><td>92</td><td>2017-02-20</td><td>2017-02-24</td><td>3</td><td>1</td></tr>",
                            "<tr><td>1556</td><td>gabriella1</td><td>38</td><td>2017-02-21</td><td>2017-02-27</td><td>2</td><td>1</td></tr>",
                            "<tr><td>1557</td><td>peter3</td><td>76</td><td>2017-02-21</td><td>2017-02-24</td><td>2</td><td>0</td></tr>",
                            "<tr><td>1558</td><td>ARONK</td><td>152</td><td>2017-02-21</td><td>2017-02-23</td><td>2</td><td>0</td></tr>",
                            "<tr><td>1559</td><td>ATTILAO</td><td>180</td><td>2017-02-22</td><td>2017-02-25</td><td>2</td><td>1</td></tr>",
                            "<tr><td>1560</td><td>aniko</td><td>109</td><td>2017-02-23</td><td>2017-02-24</td><td>2</td><td>0</td></tr>",
                            "<tr><td>1561</td><td>adam4</td><td>156</td><td>2017-02-23</td><td>2017-02-27</td><td>1</td><td>2</td></tr>",
                            "<tr><td>1562</td><td>MONIKAM</td><td>81</td><td>2017-02-23</td><td>2017-02-26</td><td>1</td><td>1</td></tr>",
                            "<tr><td>1563</td><td>gusztav</td><td>180</td><td>2017-02-23</td><td>2017-03-01</td><td>2</td><td>2</td></tr>",
                            "<tr><td>1564</td><td>krisztian4</td><td>94</td><td>2017-02-23</td><td>2017-03-02</td><td>1</td><td>1</td></tr>",
                            "<tr><td>1565</td><td>peter1</td><td>160</td><td>2017-02-23</td><td>2017-02-26</td><td>2</td><td>1</td></tr>",
                            "<tr><td>1566</td><td>GYORGYO</td><td>115</td><td>2017-02-24</td><td>2017-02-25</td><td>3</td><td>0</td></tr>",
                            "<tr><td>1567</td><td>maria1</td><td>171</td><td>2017-02-24</td><td>2017-03-02</td><td>2</td><td>0</td></tr>",
                            "<tr><td>1568</td><td>bernadett1</td><td>29</td><td>2017-02-24</td><td>2017-03-03</td><td>1</td><td>0</td></tr>",
                            "<tr><td>1569</td><td>JOZSEFG</td><td>96</td><td>2017-02-24</td><td>2017-03-03</td><td>3</td><td>0</td></tr>",
                            "<tr><td>1570</td><td>katalin</td><td>176</td><td>2017-02-24</td><td>2017-02-27</td><td>1</td><td>2</td></tr>",
                            "<tr><td>1571</td><td>dani</td><td>161</td><td>2017-02-25</td><td>2017-03-01</td><td>2</td><td>1</td></tr>",
                            "<tr><td>1572</td><td>david1</td><td>144</td><td>2017-02-25</td><td>2017-02-27</td><td>2</td><td>2</td></tr>",
                            "<tr><td>1573</td><td>aron2</td><td>59</td><td>2017-02-26</td><td>2017-02-27</td><td>2</td><td>1</td></tr>",
                            "<tr><td>1574</td><td>eszter4</td><td>128</td><td>2017-02-26</td><td>2017-02-27</td><td>1</td><td>2</td></tr>",
                            "<tr><td>1575</td><td>reka4</td><td>88</td><td>2017-02-26</td><td>2017-03-04</td><td>1</td><td>1</td></tr>",
                            "<tr><td>1576</td><td>norbert</td><td>189</td><td>2017-02-26</td><td>2017-03-01</td><td>1</td><td>0</td></tr>",
                            "<tr><td>1577</td><td>julia</td><td>78</td><td>2017-02-27</td><td>2017-03-06</td><td>2</td><td>1</td></tr>",
                            "<tr><td>1578</td><td>balazs2</td><td>148</td><td>2017-02-27</td><td>2017-03-06</td><td>1</td><td>0</td></tr>",
                            "<tr><td>1579</td><td>peter1</td><td>127</td><td>2017-02-28</td><td>2017-03-05</td><td>2</td><td>1</td></tr>",
                            "<tr><td>1580</td><td>daniel1</td><td>67</td><td>2017-03-01</td><td>2017-03-06</td><td>2</td><td>2</td></tr>",
                            "<tr><td>1581</td><td>RENATAK</td><td>48</td><td>2017-03-01</td><td>2017-03-06</td><td>1</td><td>0</td></tr>",
                            "<tr><td>1582</td><td>marton</td><td>64</td><td>2017-03-02</td><td>2017-03-03</td><td>2</td><td>0</td></tr>",
                            "<tr><td>1583</td><td>norbert4</td><td>128</td><td>2017-03-03</td><td>2017-03-07</td><td>1</td><td>1</td></tr>",
                            "<tr><td>1584</td><td>kriszti</td><td>67</td><td>2017-03-03</td><td>2017-03-04</td><td>1</td><td>2</td></tr>",
                            "</table>"
                        ]
                    }
                }
            ],
            "execution_count": 40
        }
    ]
}