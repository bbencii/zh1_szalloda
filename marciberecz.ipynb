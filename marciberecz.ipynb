{
    "metadata": {
        "kernelspec": {
            "name": "SQL",
            "display_name": "SQL",
            "language": "sql"
        },
        "language_info": {
            "name": "sql",
            "version": ""
        }
    },
    "nbformat_minor": 2,
    "nbformat": 4,
    "cells": [
        {
            "cell_type": "markdown",
            "source": [
                "Hozzon létre 3 lekérdezést, amelyeknél a GROUP BY speciális lehetőségeit használja"
            ],
            "metadata": {
                "azdata_cell_guid": "4c1f9bab-7748-4fb2-b0f2-57992cf468d2"
            },
            "attachments": {}
        },
        {
            "cell_type": "code",
            "source": [
                "SELECT UGYFEL_FK,METTOL,SUM(FELNOTT_SZAM+GYERMEK_SZAM)  from Foglalas WHERE UGYFEL_FK LIKE 'B%'  GROUP BY ROLLUP (UGYFEL_FK,METTOL);"
            ],
            "metadata": {
                "azdata_cell_guid": "200471e5-a762-4aa5-8fad-fdfa9c9a65c2",
                "language": "sql"
            },
            "outputs": [
                {
                    "output_type": "display_data",
                    "data": {
                        "text/html": "(36 rows affected)"
                    },
                    "metadata": {}
                },
                {
                    "output_type": "display_data",
                    "data": {
                        "text/html": "Total execution time: 00:00:00.054"
                    },
                    "metadata": {}
                },
                {
                    "output_type": "execute_result",
                    "metadata": {},
                    "execution_count": 5,
                    "data": {
                        "application/vnd.dataresource+json": {
                            "schema": {
                                "fields": [
                                    {
                                        "name": "UGYFEL_FK"
                                    },
                                    {
                                        "name": "METTOL"
                                    },
                                    {
                                        "name": "(No column name)"
                                    }
                                ]
                            },
                            "data": [
                                {
                                    "UGYFEL_FK": "balazs1",
                                    "METTOL": "2016-05-07",
                                    "(No column name)": "2"
                                },
                                {
                                    "UGYFEL_FK": "balazs1",
                                    "METTOL": "2017-02-10",
                                    "(No column name)": "3"
                                },
                                {
                                    "UGYFEL_FK": "balazs1",
                                    "METTOL": "2017-02-12",
                                    "(No column name)": "2"
                                },
                                {
                                    "UGYFEL_FK": "balazs1",
                                    "METTOL": "NULL",
                                    "(No column name)": "7"
                                },
                                {
                                    "UGYFEL_FK": "balazs2",
                                    "METTOL": "2016-04-16",
                                    "(No column name)": "2"
                                },
                                {
                                    "UGYFEL_FK": "balazs2",
                                    "METTOL": "2017-02-27",
                                    "(No column name)": "1"
                                },
                                {
                                    "UGYFEL_FK": "balazs2",
                                    "METTOL": "NULL",
                                    "(No column name)": "3"
                                },
                                {
                                    "UGYFEL_FK": "balint",
                                    "METTOL": "2016-04-22",
                                    "(No column name)": "2"
                                },
                                {
                                    "UGYFEL_FK": "balint",
                                    "METTOL": "NULL",
                                    "(No column name)": "2"
                                },
                                {
                                    "UGYFEL_FK": "beata4",
                                    "METTOL": "2016-04-20",
                                    "(No column name)": "2"
                                },
                                {
                                    "UGYFEL_FK": "beata4",
                                    "METTOL": "NULL",
                                    "(No column name)": "2"
                                },
                                {
                                    "UGYFEL_FK": "BEATRIXK",
                                    "METTOL": "2017-02-08",
                                    "(No column name)": "3"
                                },
                                {
                                    "UGYFEL_FK": "BEATRIXK",
                                    "METTOL": "NULL",
                                    "(No column name)": "3"
                                },
                                {
                                    "UGYFEL_FK": "BEATRIXS",
                                    "METTOL": "2016-04-18",
                                    "(No column name)": "1"
                                },
                                {
                                    "UGYFEL_FK": "BEATRIXS",
                                    "METTOL": "2017-02-03",
                                    "(No column name)": "2"
                                },
                                {
                                    "UGYFEL_FK": "BEATRIXS",
                                    "METTOL": "NULL",
                                    "(No column name)": "3"
                                },
                                {
                                    "UGYFEL_FK": "bence",
                                    "METTOL": "2016-05-08",
                                    "(No column name)": "2"
                                },
                                {
                                    "UGYFEL_FK": "bence",
                                    "METTOL": "2017-02-05",
                                    "(No column name)": "3"
                                },
                                {
                                    "UGYFEL_FK": "bence",
                                    "METTOL": "NULL",
                                    "(No column name)": "5"
                                },
                                {
                                    "UGYFEL_FK": "BENCEB",
                                    "METTOL": "2016-05-14",
                                    "(No column name)": "3"
                                },
                                {
                                    "UGYFEL_FK": "BENCEB",
                                    "METTOL": "2017-02-12",
                                    "(No column name)": "3"
                                },
                                {
                                    "UGYFEL_FK": "BENCEB",
                                    "METTOL": "NULL",
                                    "(No column name)": "6"
                                },
                                {
                                    "UGYFEL_FK": "bernadett1",
                                    "METTOL": "2017-02-14",
                                    "(No column name)": "3"
                                },
                                {
                                    "UGYFEL_FK": "bernadett1",
                                    "METTOL": "2017-02-24",
                                    "(No column name)": "1"
                                },
                                {
                                    "UGYFEL_FK": "bernadett1",
                                    "METTOL": "NULL",
                                    "(No column name)": "4"
                                },
                                {
                                    "UGYFEL_FK": "bernadett2",
                                    "METTOL": "2016-05-01",
                                    "(No column name)": "2"
                                },
                                {
                                    "UGYFEL_FK": "bernadett2",
                                    "METTOL": "NULL",
                                    "(No column name)": "2"
                                },
                                {
                                    "UGYFEL_FK": "BERNADETTO",
                                    "METTOL": "2016-04-10",
                                    "(No column name)": "2"
                                },
                                {
                                    "UGYFEL_FK": "BERNADETTO",
                                    "METTOL": "2016-04-17",
                                    "(No column name)": "2"
                                },
                                {
                                    "UGYFEL_FK": "BERNADETTO",
                                    "METTOL": "NULL",
                                    "(No column name)": "4"
                                },
                                {
                                    "UGYFEL_FK": "bertalan",
                                    "METTOL": "2017-02-16",
                                    "(No column name)": "2"
                                },
                                {
                                    "UGYFEL_FK": "bertalan",
                                    "METTOL": "2017-02-20",
                                    "(No column name)": "4"
                                },
                                {
                                    "UGYFEL_FK": "bertalan",
                                    "METTOL": "NULL",
                                    "(No column name)": "6"
                                },
                                {
                                    "UGYFEL_FK": "brigitta3",
                                    "METTOL": "2017-02-09",
                                    "(No column name)": "2"
                                },
                                {
                                    "UGYFEL_FK": "brigitta3",
                                    "METTOL": "NULL",
                                    "(No column name)": "2"
                                },
                                {
                                    "UGYFEL_FK": "NULL",
                                    "METTOL": "NULL",
                                    "(No column name)": "49"
                                }
                            ]
                        },
                        "text/html": [
                            "<table>",
                            "<tr><th>UGYFEL_FK</th><th>METTOL</th><th>(No column name)</th></tr>",
                            "<tr><td>balazs1</td><td>2016-05-07</td><td>2</td></tr>",
                            "<tr><td>balazs1</td><td>2017-02-10</td><td>3</td></tr>",
                            "<tr><td>balazs1</td><td>2017-02-12</td><td>2</td></tr>",
                            "<tr><td>balazs1</td><td>NULL</td><td>7</td></tr>",
                            "<tr><td>balazs2</td><td>2016-04-16</td><td>2</td></tr>",
                            "<tr><td>balazs2</td><td>2017-02-27</td><td>1</td></tr>",
                            "<tr><td>balazs2</td><td>NULL</td><td>3</td></tr>",
                            "<tr><td>balint</td><td>2016-04-22</td><td>2</td></tr>",
                            "<tr><td>balint</td><td>NULL</td><td>2</td></tr>",
                            "<tr><td>beata4</td><td>2016-04-20</td><td>2</td></tr>",
                            "<tr><td>beata4</td><td>NULL</td><td>2</td></tr>",
                            "<tr><td>BEATRIXK</td><td>2017-02-08</td><td>3</td></tr>",
                            "<tr><td>BEATRIXK</td><td>NULL</td><td>3</td></tr>",
                            "<tr><td>BEATRIXS</td><td>2016-04-18</td><td>1</td></tr>",
                            "<tr><td>BEATRIXS</td><td>2017-02-03</td><td>2</td></tr>",
                            "<tr><td>BEATRIXS</td><td>NULL</td><td>3</td></tr>",
                            "<tr><td>bence</td><td>2016-05-08</td><td>2</td></tr>",
                            "<tr><td>bence</td><td>2017-02-05</td><td>3</td></tr>",
                            "<tr><td>bence</td><td>NULL</td><td>5</td></tr>",
                            "<tr><td>BENCEB</td><td>2016-05-14</td><td>3</td></tr>",
                            "<tr><td>BENCEB</td><td>2017-02-12</td><td>3</td></tr>",
                            "<tr><td>BENCEB</td><td>NULL</td><td>6</td></tr>",
                            "<tr><td>bernadett1</td><td>2017-02-14</td><td>3</td></tr>",
                            "<tr><td>bernadett1</td><td>2017-02-24</td><td>1</td></tr>",
                            "<tr><td>bernadett1</td><td>NULL</td><td>4</td></tr>",
                            "<tr><td>bernadett2</td><td>2016-05-01</td><td>2</td></tr>",
                            "<tr><td>bernadett2</td><td>NULL</td><td>2</td></tr>",
                            "<tr><td>BERNADETTO</td><td>2016-04-10</td><td>2</td></tr>",
                            "<tr><td>BERNADETTO</td><td>2016-04-17</td><td>2</td></tr>",
                            "<tr><td>BERNADETTO</td><td>NULL</td><td>4</td></tr>",
                            "<tr><td>bertalan</td><td>2017-02-16</td><td>2</td></tr>",
                            "<tr><td>bertalan</td><td>2017-02-20</td><td>4</td></tr>",
                            "<tr><td>bertalan</td><td>NULL</td><td>6</td></tr>",
                            "<tr><td>brigitta3</td><td>2017-02-09</td><td>2</td></tr>",
                            "<tr><td>brigitta3</td><td>NULL</td><td>2</td></tr>",
                            "<tr><td>NULL</td><td>NULL</td><td>49</td></tr>",
                            "</table>"
                        ]
                    }
                }
            ],
            "execution_count": 5
        },
        {
            "cell_type": "code",
            "source": [
                "SELECT sz.SZOBA_ID,sz.SZALLAS_FK,sum(f.FELNOTT_SZAM+f.GYERMEK_SZAM) as 'Össz szám'  from Foglalas f join szoba sz on f.szoba_fk =sz.SZOBA_ID GROUP BY Cube (sz.SZOBA_ID,sz.SZALLAS_FK);"
            ],
            "metadata": {
                "azdata_cell_guid": "86623023-249d-4344-add4-756c48c24d8b",
                "language": "sql"
            },
            "outputs": [
                {
                    "output_type": "display_data",
                    "data": {
                        "text/html": "(271 rows affected)"
                    },
                    "metadata": {}
                },
                {
                    "output_type": "display_data",
                    "data": {
                        "text/html": "Total execution time: 00:00:00.072"
                    },
                    "metadata": {}
                },
                {
                    "output_type": "execute_result",
                    "metadata": {},
                    "execution_count": 6,
                    "data": {
                        "application/vnd.dataresource+json": {
                            "schema": {
                                "fields": [
                                    {
                                        "name": "SZOBA_ID"
                                    },
                                    {
                                        "name": "SZALLAS_FK"
                                    },
                                    {
                                        "name": "Össz szám"
                                    }
                                ]
                            },
                            "data": [
                                {
                                    "SZOBA_ID": "1",
                                    "SZALLAS_FK": "1",
                                    "Össz szám": "1"
                                },
                                {
                                    "SZOBA_ID": "3",
                                    "SZALLAS_FK": "1",
                                    "Össz szám": "6"
                                },
                                {
                                    "SZOBA_ID": "4",
                                    "SZALLAS_FK": "1",
                                    "Össz szám": "2"
                                },
                                {
                                    "SZOBA_ID": "5",
                                    "SZALLAS_FK": "1",
                                    "Össz szám": "2"
                                },
                                {
                                    "SZOBA_ID": "6",
                                    "SZALLAS_FK": "1",
                                    "Össz szám": "2"
                                },
                                {
                                    "SZOBA_ID": "7",
                                    "SZALLAS_FK": "1",
                                    "Össz szám": "1"
                                },
                                {
                                    "SZOBA_ID": "9",
                                    "SZALLAS_FK": "1",
                                    "Össz szám": "6"
                                },
                                {
                                    "SZOBA_ID": "10",
                                    "SZALLAS_FK": "1",
                                    "Össz szám": "2"
                                },
                                {
                                    "SZOBA_ID": "11",
                                    "SZALLAS_FK": "1",
                                    "Össz szám": "1"
                                },
                                {
                                    "SZOBA_ID": "NULL",
                                    "SZALLAS_FK": "1",
                                    "Össz szám": "23"
                                },
                                {
                                    "SZOBA_ID": "14",
                                    "SZALLAS_FK": "2",
                                    "Össz szám": "4"
                                },
                                {
                                    "SZOBA_ID": "16",
                                    "SZALLAS_FK": "2",
                                    "Össz szám": "3"
                                },
                                {
                                    "SZOBA_ID": "NULL",
                                    "SZALLAS_FK": "2",
                                    "Össz szám": "7"
                                },
                                {
                                    "SZOBA_ID": "17",
                                    "SZALLAS_FK": "3",
                                    "Össz szám": "7"
                                },
                                {
                                    "SZOBA_ID": "18",
                                    "SZALLAS_FK": "3",
                                    "Össz szám": "6"
                                },
                                {
                                    "SZOBA_ID": "19",
                                    "SZALLAS_FK": "3",
                                    "Össz szám": "3"
                                },
                                {
                                    "SZOBA_ID": "21",
                                    "SZALLAS_FK": "3",
                                    "Össz szám": "2"
                                },
                                {
                                    "SZOBA_ID": "NULL",
                                    "SZALLAS_FK": "3",
                                    "Össz szám": "18"
                                },
                                {
                                    "SZOBA_ID": "29",
                                    "SZALLAS_FK": "4",
                                    "Össz szám": "3"
                                },
                                {
                                    "SZOBA_ID": "30",
                                    "SZALLAS_FK": "4",
                                    "Össz szám": "2"
                                },
                                {
                                    "SZOBA_ID": "31",
                                    "SZALLAS_FK": "4",
                                    "Össz szám": "8"
                                },
                                {
                                    "SZOBA_ID": "33",
                                    "SZALLAS_FK": "4",
                                    "Össz szám": "4"
                                },
                                {
                                    "SZOBA_ID": "35",
                                    "SZALLAS_FK": "4",
                                    "Össz szám": "1"
                                },
                                {
                                    "SZOBA_ID": "38",
                                    "SZALLAS_FK": "4",
                                    "Össz szám": "6"
                                },
                                {
                                    "SZOBA_ID": "39",
                                    "SZALLAS_FK": "4",
                                    "Össz szám": "3"
                                },
                                {
                                    "SZOBA_ID": "NULL",
                                    "SZALLAS_FK": "4",
                                    "Össz szám": "27"
                                },
                                {
                                    "SZOBA_ID": "42",
                                    "SZALLAS_FK": "5",
                                    "Össz szám": "4"
                                },
                                {
                                    "SZOBA_ID": "43",
                                    "SZALLAS_FK": "5",
                                    "Össz szám": "4"
                                },
                                {
                                    "SZOBA_ID": "44",
                                    "SZALLAS_FK": "5",
                                    "Össz szám": "6"
                                },
                                {
                                    "SZOBA_ID": "46",
                                    "SZALLAS_FK": "5",
                                    "Össz szám": "3"
                                },
                                {
                                    "SZOBA_ID": "48",
                                    "SZALLAS_FK": "5",
                                    "Össz szám": "13"
                                },
                                {
                                    "SZOBA_ID": "49",
                                    "SZALLAS_FK": "5",
                                    "Össz szám": "2"
                                },
                                {
                                    "SZOBA_ID": "NULL",
                                    "SZALLAS_FK": "5",
                                    "Össz szám": "32"
                                },
                                {
                                    "SZOBA_ID": "51",
                                    "SZALLAS_FK": "6",
                                    "Össz szám": "4"
                                },
                                {
                                    "SZOBA_ID": "52",
                                    "SZALLAS_FK": "6",
                                    "Össz szám": "3"
                                },
                                {
                                    "SZOBA_ID": "54",
                                    "SZALLAS_FK": "6",
                                    "Össz szám": "4"
                                },
                                {
                                    "SZOBA_ID": "55",
                                    "SZALLAS_FK": "6",
                                    "Össz szám": "6"
                                },
                                {
                                    "SZOBA_ID": "57",
                                    "SZALLAS_FK": "6",
                                    "Össz szám": "1"
                                },
                                {
                                    "SZOBA_ID": "59",
                                    "SZALLAS_FK": "6",
                                    "Össz szám": "3"
                                },
                                {
                                    "SZOBA_ID": "61",
                                    "SZALLAS_FK": "6",
                                    "Össz szám": "3"
                                },
                                {
                                    "SZOBA_ID": "63",
                                    "SZALLAS_FK": "6",
                                    "Össz szám": "2"
                                },
                                {
                                    "SZOBA_ID": "64",
                                    "SZALLAS_FK": "6",
                                    "Össz szám": "2"
                                },
                                {
                                    "SZOBA_ID": "65",
                                    "SZALLAS_FK": "6",
                                    "Össz szám": "2"
                                },
                                {
                                    "SZOBA_ID": "67",
                                    "SZALLAS_FK": "6",
                                    "Össz szám": "12"
                                },
                                {
                                    "SZOBA_ID": "68",
                                    "SZALLAS_FK": "6",
                                    "Össz szám": "4"
                                },
                                {
                                    "SZOBA_ID": "70",
                                    "SZALLAS_FK": "6",
                                    "Össz szám": "3"
                                },
                                {
                                    "SZOBA_ID": "74",
                                    "SZALLAS_FK": "6",
                                    "Össz szám": "2"
                                },
                                {
                                    "SZOBA_ID": "76",
                                    "SZALLAS_FK": "6",
                                    "Össz szám": "2"
                                },
                                {
                                    "SZOBA_ID": "77",
                                    "SZALLAS_FK": "6",
                                    "Össz szám": "3"
                                },
                                {
                                    "SZOBA_ID": "78",
                                    "SZALLAS_FK": "6",
                                    "Össz szám": "8"
                                },
                                {
                                    "SZOBA_ID": "79",
                                    "SZALLAS_FK": "6",
                                    "Össz szám": "3"
                                },
                                {
                                    "SZOBA_ID": "81",
                                    "SZALLAS_FK": "6",
                                    "Össz szám": "4"
                                },
                                {
                                    "SZOBA_ID": "83",
                                    "SZALLAS_FK": "6",
                                    "Össz szám": "2"
                                },
                                {
                                    "SZOBA_ID": "NULL",
                                    "SZALLAS_FK": "6",
                                    "Össz szám": "73"
                                },
                                {
                                    "SZOBA_ID": "85",
                                    "SZALLAS_FK": "7",
                                    "Össz szám": "4"
                                },
                                {
                                    "SZOBA_ID": "87",
                                    "SZALLAS_FK": "7",
                                    "Össz szám": "3"
                                },
                                {
                                    "SZOBA_ID": "88",
                                    "SZALLAS_FK": "7",
                                    "Össz szám": "5"
                                },
                                {
                                    "SZOBA_ID": "89",
                                    "SZALLAS_FK": "7",
                                    "Össz szám": "3"
                                },
                                {
                                    "SZOBA_ID": "NULL",
                                    "SZALLAS_FK": "7",
                                    "Össz szám": "15"
                                },
                                {
                                    "SZOBA_ID": "91",
                                    "SZALLAS_FK": "8",
                                    "Össz szám": "2"
                                },
                                {
                                    "SZOBA_ID": "92",
                                    "SZALLAS_FK": "8",
                                    "Össz szám": "6"
                                },
                                {
                                    "SZOBA_ID": "94",
                                    "SZALLAS_FK": "8",
                                    "Össz szám": "6"
                                },
                                {
                                    "SZOBA_ID": "95",
                                    "SZALLAS_FK": "8",
                                    "Össz szám": "1"
                                },
                                {
                                    "SZOBA_ID": "96",
                                    "SZALLAS_FK": "8",
                                    "Össz szám": "9"
                                },
                                {
                                    "SZOBA_ID": "97",
                                    "SZALLAS_FK": "8",
                                    "Össz szám": "7"
                                },
                                {
                                    "SZOBA_ID": "98",
                                    "SZALLAS_FK": "8",
                                    "Össz szám": "1"
                                },
                                {
                                    "SZOBA_ID": "99",
                                    "SZALLAS_FK": "8",
                                    "Össz szám": "4"
                                },
                                {
                                    "SZOBA_ID": "100",
                                    "SZALLAS_FK": "8",
                                    "Össz szám": "4"
                                },
                                {
                                    "SZOBA_ID": "101",
                                    "SZALLAS_FK": "8",
                                    "Össz szám": "2"
                                },
                                {
                                    "SZOBA_ID": "103",
                                    "SZALLAS_FK": "8",
                                    "Össz szám": "2"
                                },
                                {
                                    "SZOBA_ID": "104",
                                    "SZALLAS_FK": "8",
                                    "Össz szám": "5"
                                },
                                {
                                    "SZOBA_ID": "105",
                                    "SZALLAS_FK": "8",
                                    "Össz szám": "4"
                                },
                                {
                                    "SZOBA_ID": "106",
                                    "SZALLAS_FK": "8",
                                    "Össz szám": "3"
                                },
                                {
                                    "SZOBA_ID": "107",
                                    "SZALLAS_FK": "8",
                                    "Össz szám": "4"
                                },
                                {
                                    "SZOBA_ID": "109",
                                    "SZALLAS_FK": "8",
                                    "Össz szám": "7"
                                },
                                {
                                    "SZOBA_ID": "110",
                                    "SZALLAS_FK": "8",
                                    "Össz szám": "2"
                                },
                                {
                                    "SZOBA_ID": "111",
                                    "SZALLAS_FK": "8",
                                    "Össz szám": "3"
                                },
                                {
                                    "SZOBA_ID": "112",
                                    "SZALLAS_FK": "8",
                                    "Össz szám": "3"
                                },
                                {
                                    "SZOBA_ID": "113",
                                    "SZALLAS_FK": "8",
                                    "Össz szám": "9"
                                },
                                {
                                    "SZOBA_ID": "114",
                                    "SZALLAS_FK": "8",
                                    "Össz szám": "3"
                                },
                                {
                                    "SZOBA_ID": "115",
                                    "SZALLAS_FK": "8",
                                    "Össz szám": "9"
                                },
                                {
                                    "SZOBA_ID": "116",
                                    "SZALLAS_FK": "8",
                                    "Össz szám": "3"
                                },
                                {
                                    "SZOBA_ID": "117",
                                    "SZALLAS_FK": "8",
                                    "Össz szám": "5"
                                },
                                {
                                    "SZOBA_ID": "119",
                                    "SZALLAS_FK": "8",
                                    "Össz szám": "2"
                                },
                                {
                                    "SZOBA_ID": "120",
                                    "SZALLAS_FK": "8",
                                    "Össz szám": "8"
                                },
                                {
                                    "SZOBA_ID": "123",
                                    "SZALLAS_FK": "8",
                                    "Össz szám": "1"
                                },
                                {
                                    "SZOBA_ID": "124",
                                    "SZALLAS_FK": "8",
                                    "Össz szám": "3"
                                },
                                {
                                    "SZOBA_ID": "125",
                                    "SZALLAS_FK": "8",
                                    "Össz szám": "3"
                                },
                                {
                                    "SZOBA_ID": "126",
                                    "SZALLAS_FK": "8",
                                    "Össz szám": "3"
                                },
                                {
                                    "SZOBA_ID": "127",
                                    "SZALLAS_FK": "8",
                                    "Össz szám": "5"
                                },
                                {
                                    "SZOBA_ID": "128",
                                    "SZALLAS_FK": "8",
                                    "Össz szám": "5"
                                },
                                {
                                    "SZOBA_ID": "129",
                                    "SZALLAS_FK": "8",
                                    "Össz szám": "3"
                                },
                                {
                                    "SZOBA_ID": "NULL",
                                    "SZALLAS_FK": "8",
                                    "Össz szám": "137"
                                },
                                {
                                    "SZOBA_ID": "130",
                                    "SZALLAS_FK": "9",
                                    "Össz szám": "4"
                                },
                                {
                                    "SZOBA_ID": "131",
                                    "SZALLAS_FK": "9",
                                    "Össz szám": "2"
                                },
                                {
                                    "SZOBA_ID": "132",
                                    "SZALLAS_FK": "9",
                                    "Össz szám": "5"
                                },
                                {
                                    "SZOBA_ID": "134",
                                    "SZALLAS_FK": "9",
                                    "Össz szám": "2"
                                },
                                {
                                    "SZOBA_ID": "NULL",
                                    "SZALLAS_FK": "9",
                                    "Össz szám": "13"
                                },
                                {
                                    "SZOBA_ID": "136",
                                    "SZALLAS_FK": "10",
                                    "Össz szám": "2"
                                },
                                {
                                    "SZOBA_ID": "137",
                                    "SZALLAS_FK": "10",
                                    "Össz szám": "4"
                                },
                                {
                                    "SZOBA_ID": "139",
                                    "SZALLAS_FK": "10",
                                    "Össz szám": "2"
                                },
                                {
                                    "SZOBA_ID": "141",
                                    "SZALLAS_FK": "10",
                                    "Össz szám": "2"
                                },
                                {
                                    "SZOBA_ID": "142",
                                    "SZALLAS_FK": "10",
                                    "Össz szám": "2"
                                },
                                {
                                    "SZOBA_ID": "144",
                                    "SZALLAS_FK": "10",
                                    "Össz szám": "7"
                                },
                                {
                                    "SZOBA_ID": "148",
                                    "SZALLAS_FK": "10",
                                    "Össz szám": "1"
                                },
                                {
                                    "SZOBA_ID": "149",
                                    "SZALLAS_FK": "10",
                                    "Össz szám": "4"
                                },
                                {
                                    "SZOBA_ID": "150",
                                    "SZALLAS_FK": "10",
                                    "Össz szám": "3"
                                },
                                {
                                    "SZOBA_ID": "152",
                                    "SZALLAS_FK": "10",
                                    "Össz szám": "2"
                                },
                                {
                                    "SZOBA_ID": "153",
                                    "SZALLAS_FK": "10",
                                    "Össz szám": "5"
                                },
                                {
                                    "SZOBA_ID": "154",
                                    "SZALLAS_FK": "10",
                                    "Össz szám": "2"
                                },
                                {
                                    "SZOBA_ID": "155",
                                    "SZALLAS_FK": "10",
                                    "Össz szám": "8"
                                },
                                {
                                    "SZOBA_ID": "156",
                                    "SZALLAS_FK": "10",
                                    "Össz szám": "9"
                                },
                                {
                                    "SZOBA_ID": "157",
                                    "SZALLAS_FK": "10",
                                    "Össz szám": "3"
                                },
                                {
                                    "SZOBA_ID": "NULL",
                                    "SZALLAS_FK": "10",
                                    "Össz szám": "56"
                                },
                                {
                                    "SZOBA_ID": "160",
                                    "SZALLAS_FK": "11",
                                    "Össz szám": "3"
                                },
                                {
                                    "SZOBA_ID": "161",
                                    "SZALLAS_FK": "11",
                                    "Össz szám": "6"
                                },
                                {
                                    "SZOBA_ID": "162",
                                    "SZALLAS_FK": "11",
                                    "Össz szám": "3"
                                },
                                {
                                    "SZOBA_ID": "163",
                                    "SZALLAS_FK": "11",
                                    "Össz szám": "4"
                                },
                                {
                                    "SZOBA_ID": "164",
                                    "SZALLAS_FK": "11",
                                    "Össz szám": "2"
                                },
                                {
                                    "SZOBA_ID": "NULL",
                                    "SZALLAS_FK": "11",
                                    "Össz szám": "18"
                                },
                                {
                                    "SZOBA_ID": "165",
                                    "SZALLAS_FK": "12",
                                    "Össz szám": "2"
                                },
                                {
                                    "SZOBA_ID": "166",
                                    "SZALLAS_FK": "12",
                                    "Össz szám": "5"
                                },
                                {
                                    "SZOBA_ID": "169",
                                    "SZALLAS_FK": "12",
                                    "Össz szám": "2"
                                },
                                {
                                    "SZOBA_ID": "170",
                                    "SZALLAS_FK": "12",
                                    "Össz szám": "1"
                                },
                                {
                                    "SZOBA_ID": "171",
                                    "SZALLAS_FK": "12",
                                    "Össz szám": "4"
                                },
                                {
                                    "SZOBA_ID": "172",
                                    "SZALLAS_FK": "12",
                                    "Össz szám": "2"
                                },
                                {
                                    "SZOBA_ID": "176",
                                    "SZALLAS_FK": "12",
                                    "Össz szám": "9"
                                },
                                {
                                    "SZOBA_ID": "177",
                                    "SZALLAS_FK": "12",
                                    "Össz szám": "3"
                                },
                                {
                                    "SZOBA_ID": "179",
                                    "SZALLAS_FK": "12",
                                    "Össz szám": "3"
                                },
                                {
                                    "SZOBA_ID": "180",
                                    "SZALLAS_FK": "12",
                                    "Össz szám": "7"
                                },
                                {
                                    "SZOBA_ID": "182",
                                    "SZALLAS_FK": "12",
                                    "Össz szám": "2"
                                },
                                {
                                    "SZOBA_ID": "184",
                                    "SZALLAS_FK": "12",
                                    "Össz szám": "2"
                                },
                                {
                                    "SZOBA_ID": "185",
                                    "SZALLAS_FK": "12",
                                    "Össz szám": "3"
                                },
                                {
                                    "SZOBA_ID": "186",
                                    "SZALLAS_FK": "12",
                                    "Össz szám": "3"
                                },
                                {
                                    "SZOBA_ID": "187",
                                    "SZALLAS_FK": "12",
                                    "Össz szám": "3"
                                },
                                {
                                    "SZOBA_ID": "189",
                                    "SZALLAS_FK": "12",
                                    "Össz szám": "1"
                                },
                                {
                                    "SZOBA_ID": "190",
                                    "SZALLAS_FK": "12",
                                    "Össz szám": "3"
                                },
                                {
                                    "SZOBA_ID": "191",
                                    "SZALLAS_FK": "12",
                                    "Össz szám": "3"
                                },
                                {
                                    "SZOBA_ID": "193",
                                    "SZALLAS_FK": "12",
                                    "Össz szám": "2"
                                },
                                {
                                    "SZOBA_ID": "195",
                                    "SZALLAS_FK": "12",
                                    "Össz szám": "2"
                                },
                                {
                                    "SZOBA_ID": "NULL",
                                    "SZALLAS_FK": "12",
                                    "Össz szám": "62"
                                },
                                {
                                    "SZOBA_ID": "NULL",
                                    "SZALLAS_FK": "NULL",
                                    "Össz szám": "481"
                                },
                                {
                                    "SZOBA_ID": "1",
                                    "SZALLAS_FK": "NULL",
                                    "Össz szám": "1"
                                },
                                {
                                    "SZOBA_ID": "3",
                                    "SZALLAS_FK": "NULL",
                                    "Össz szám": "6"
                                },
                                {
                                    "SZOBA_ID": "4",
                                    "SZALLAS_FK": "NULL",
                                    "Össz szám": "2"
                                },
                                {
                                    "SZOBA_ID": "5",
                                    "SZALLAS_FK": "NULL",
                                    "Össz szám": "2"
                                },
                                {
                                    "SZOBA_ID": "6",
                                    "SZALLAS_FK": "NULL",
                                    "Össz szám": "2"
                                },
                                {
                                    "SZOBA_ID": "7",
                                    "SZALLAS_FK": "NULL",
                                    "Össz szám": "1"
                                },
                                {
                                    "SZOBA_ID": "9",
                                    "SZALLAS_FK": "NULL",
                                    "Össz szám": "6"
                                },
                                {
                                    "SZOBA_ID": "10",
                                    "SZALLAS_FK": "NULL",
                                    "Össz szám": "2"
                                },
                                {
                                    "SZOBA_ID": "11",
                                    "SZALLAS_FK": "NULL",
                                    "Össz szám": "1"
                                },
                                {
                                    "SZOBA_ID": "14",
                                    "SZALLAS_FK": "NULL",
                                    "Össz szám": "4"
                                },
                                {
                                    "SZOBA_ID": "16",
                                    "SZALLAS_FK": "NULL",
                                    "Össz szám": "3"
                                },
                                {
                                    "SZOBA_ID": "17",
                                    "SZALLAS_FK": "NULL",
                                    "Össz szám": "7"
                                },
                                {
                                    "SZOBA_ID": "18",
                                    "SZALLAS_FK": "NULL",
                                    "Össz szám": "6"
                                },
                                {
                                    "SZOBA_ID": "19",
                                    "SZALLAS_FK": "NULL",
                                    "Össz szám": "3"
                                },
                                {
                                    "SZOBA_ID": "21",
                                    "SZALLAS_FK": "NULL",
                                    "Össz szám": "2"
                                },
                                {
                                    "SZOBA_ID": "29",
                                    "SZALLAS_FK": "NULL",
                                    "Össz szám": "3"
                                },
                                {
                                    "SZOBA_ID": "30",
                                    "SZALLAS_FK": "NULL",
                                    "Össz szám": "2"
                                },
                                {
                                    "SZOBA_ID": "31",
                                    "SZALLAS_FK": "NULL",
                                    "Össz szám": "8"
                                },
                                {
                                    "SZOBA_ID": "33",
                                    "SZALLAS_FK": "NULL",
                                    "Össz szám": "4"
                                },
                                {
                                    "SZOBA_ID": "35",
                                    "SZALLAS_FK": "NULL",
                                    "Össz szám": "1"
                                },
                                {
                                    "SZOBA_ID": "38",
                                    "SZALLAS_FK": "NULL",
                                    "Össz szám": "6"
                                },
                                {
                                    "SZOBA_ID": "39",
                                    "SZALLAS_FK": "NULL",
                                    "Össz szám": "3"
                                },
                                {
                                    "SZOBA_ID": "42",
                                    "SZALLAS_FK": "NULL",
                                    "Össz szám": "4"
                                },
                                {
                                    "SZOBA_ID": "43",
                                    "SZALLAS_FK": "NULL",
                                    "Össz szám": "4"
                                },
                                {
                                    "SZOBA_ID": "44",
                                    "SZALLAS_FK": "NULL",
                                    "Össz szám": "6"
                                },
                                {
                                    "SZOBA_ID": "46",
                                    "SZALLAS_FK": "NULL",
                                    "Össz szám": "3"
                                },
                                {
                                    "SZOBA_ID": "48",
                                    "SZALLAS_FK": "NULL",
                                    "Össz szám": "13"
                                },
                                {
                                    "SZOBA_ID": "49",
                                    "SZALLAS_FK": "NULL",
                                    "Össz szám": "2"
                                },
                                {
                                    "SZOBA_ID": "51",
                                    "SZALLAS_FK": "NULL",
                                    "Össz szám": "4"
                                },
                                {
                                    "SZOBA_ID": "52",
                                    "SZALLAS_FK": "NULL",
                                    "Össz szám": "3"
                                },
                                {
                                    "SZOBA_ID": "54",
                                    "SZALLAS_FK": "NULL",
                                    "Össz szám": "4"
                                },
                                {
                                    "SZOBA_ID": "55",
                                    "SZALLAS_FK": "NULL",
                                    "Össz szám": "6"
                                },
                                {
                                    "SZOBA_ID": "57",
                                    "SZALLAS_FK": "NULL",
                                    "Össz szám": "1"
                                },
                                {
                                    "SZOBA_ID": "59",
                                    "SZALLAS_FK": "NULL",
                                    "Össz szám": "3"
                                },
                                {
                                    "SZOBA_ID": "61",
                                    "SZALLAS_FK": "NULL",
                                    "Össz szám": "3"
                                },
                                {
                                    "SZOBA_ID": "63",
                                    "SZALLAS_FK": "NULL",
                                    "Össz szám": "2"
                                },
                                {
                                    "SZOBA_ID": "64",
                                    "SZALLAS_FK": "NULL",
                                    "Össz szám": "2"
                                },
                                {
                                    "SZOBA_ID": "65",
                                    "SZALLAS_FK": "NULL",
                                    "Össz szám": "2"
                                },
                                {
                                    "SZOBA_ID": "67",
                                    "SZALLAS_FK": "NULL",
                                    "Össz szám": "12"
                                },
                                {
                                    "SZOBA_ID": "68",
                                    "SZALLAS_FK": "NULL",
                                    "Össz szám": "4"
                                },
                                {
                                    "SZOBA_ID": "70",
                                    "SZALLAS_FK": "NULL",
                                    "Össz szám": "3"
                                },
                                {
                                    "SZOBA_ID": "74",
                                    "SZALLAS_FK": "NULL",
                                    "Össz szám": "2"
                                },
                                {
                                    "SZOBA_ID": "76",
                                    "SZALLAS_FK": "NULL",
                                    "Össz szám": "2"
                                },
                                {
                                    "SZOBA_ID": "77",
                                    "SZALLAS_FK": "NULL",
                                    "Össz szám": "3"
                                },
                                {
                                    "SZOBA_ID": "78",
                                    "SZALLAS_FK": "NULL",
                                    "Össz szám": "8"
                                },
                                {
                                    "SZOBA_ID": "79",
                                    "SZALLAS_FK": "NULL",
                                    "Össz szám": "3"
                                },
                                {
                                    "SZOBA_ID": "81",
                                    "SZALLAS_FK": "NULL",
                                    "Össz szám": "4"
                                },
                                {
                                    "SZOBA_ID": "83",
                                    "SZALLAS_FK": "NULL",
                                    "Össz szám": "2"
                                },
                                {
                                    "SZOBA_ID": "85",
                                    "SZALLAS_FK": "NULL",
                                    "Össz szám": "4"
                                },
                                {
                                    "SZOBA_ID": "87",
                                    "SZALLAS_FK": "NULL",
                                    "Össz szám": "3"
                                },
                                {
                                    "SZOBA_ID": "88",
                                    "SZALLAS_FK": "NULL",
                                    "Össz szám": "5"
                                },
                                {
                                    "SZOBA_ID": "89",
                                    "SZALLAS_FK": "NULL",
                                    "Össz szám": "3"
                                },
                                {
                                    "SZOBA_ID": "91",
                                    "SZALLAS_FK": "NULL",
                                    "Össz szám": "2"
                                },
                                {
                                    "SZOBA_ID": "92",
                                    "SZALLAS_FK": "NULL",
                                    "Össz szám": "6"
                                },
                                {
                                    "SZOBA_ID": "94",
                                    "SZALLAS_FK": "NULL",
                                    "Össz szám": "6"
                                },
                                {
                                    "SZOBA_ID": "95",
                                    "SZALLAS_FK": "NULL",
                                    "Össz szám": "1"
                                },
                                {
                                    "SZOBA_ID": "96",
                                    "SZALLAS_FK": "NULL",
                                    "Össz szám": "9"
                                },
                                {
                                    "SZOBA_ID": "97",
                                    "SZALLAS_FK": "NULL",
                                    "Össz szám": "7"
                                },
                                {
                                    "SZOBA_ID": "98",
                                    "SZALLAS_FK": "NULL",
                                    "Össz szám": "1"
                                },
                                {
                                    "SZOBA_ID": "99",
                                    "SZALLAS_FK": "NULL",
                                    "Össz szám": "4"
                                },
                                {
                                    "SZOBA_ID": "100",
                                    "SZALLAS_FK": "NULL",
                                    "Össz szám": "4"
                                },
                                {
                                    "SZOBA_ID": "101",
                                    "SZALLAS_FK": "NULL",
                                    "Össz szám": "2"
                                },
                                {
                                    "SZOBA_ID": "103",
                                    "SZALLAS_FK": "NULL",
                                    "Össz szám": "2"
                                },
                                {
                                    "SZOBA_ID": "104",
                                    "SZALLAS_FK": "NULL",
                                    "Össz szám": "5"
                                },
                                {
                                    "SZOBA_ID": "105",
                                    "SZALLAS_FK": "NULL",
                                    "Össz szám": "4"
                                },
                                {
                                    "SZOBA_ID": "106",
                                    "SZALLAS_FK": "NULL",
                                    "Össz szám": "3"
                                },
                                {
                                    "SZOBA_ID": "107",
                                    "SZALLAS_FK": "NULL",
                                    "Össz szám": "4"
                                },
                                {
                                    "SZOBA_ID": "109",
                                    "SZALLAS_FK": "NULL",
                                    "Össz szám": "7"
                                },
                                {
                                    "SZOBA_ID": "110",
                                    "SZALLAS_FK": "NULL",
                                    "Össz szám": "2"
                                },
                                {
                                    "SZOBA_ID": "111",
                                    "SZALLAS_FK": "NULL",
                                    "Össz szám": "3"
                                },
                                {
                                    "SZOBA_ID": "112",
                                    "SZALLAS_FK": "NULL",
                                    "Össz szám": "3"
                                },
                                {
                                    "SZOBA_ID": "113",
                                    "SZALLAS_FK": "NULL",
                                    "Össz szám": "9"
                                },
                                {
                                    "SZOBA_ID": "114",
                                    "SZALLAS_FK": "NULL",
                                    "Össz szám": "3"
                                },
                                {
                                    "SZOBA_ID": "115",
                                    "SZALLAS_FK": "NULL",
                                    "Össz szám": "9"
                                },
                                {
                                    "SZOBA_ID": "116",
                                    "SZALLAS_FK": "NULL",
                                    "Össz szám": "3"
                                },
                                {
                                    "SZOBA_ID": "117",
                                    "SZALLAS_FK": "NULL",
                                    "Össz szám": "5"
                                },
                                {
                                    "SZOBA_ID": "119",
                                    "SZALLAS_FK": "NULL",
                                    "Össz szám": "2"
                                },
                                {
                                    "SZOBA_ID": "120",
                                    "SZALLAS_FK": "NULL",
                                    "Össz szám": "8"
                                },
                                {
                                    "SZOBA_ID": "123",
                                    "SZALLAS_FK": "NULL",
                                    "Össz szám": "1"
                                },
                                {
                                    "SZOBA_ID": "124",
                                    "SZALLAS_FK": "NULL",
                                    "Össz szám": "3"
                                },
                                {
                                    "SZOBA_ID": "125",
                                    "SZALLAS_FK": "NULL",
                                    "Össz szám": "3"
                                },
                                {
                                    "SZOBA_ID": "126",
                                    "SZALLAS_FK": "NULL",
                                    "Össz szám": "3"
                                },
                                {
                                    "SZOBA_ID": "127",
                                    "SZALLAS_FK": "NULL",
                                    "Össz szám": "5"
                                },
                                {
                                    "SZOBA_ID": "128",
                                    "SZALLAS_FK": "NULL",
                                    "Össz szám": "5"
                                },
                                {
                                    "SZOBA_ID": "129",
                                    "SZALLAS_FK": "NULL",
                                    "Össz szám": "3"
                                },
                                {
                                    "SZOBA_ID": "130",
                                    "SZALLAS_FK": "NULL",
                                    "Össz szám": "4"
                                },
                                {
                                    "SZOBA_ID": "131",
                                    "SZALLAS_FK": "NULL",
                                    "Össz szám": "2"
                                },
                                {
                                    "SZOBA_ID": "132",
                                    "SZALLAS_FK": "NULL",
                                    "Össz szám": "5"
                                },
                                {
                                    "SZOBA_ID": "134",
                                    "SZALLAS_FK": "NULL",
                                    "Össz szám": "2"
                                },
                                {
                                    "SZOBA_ID": "136",
                                    "SZALLAS_FK": "NULL",
                                    "Össz szám": "2"
                                },
                                {
                                    "SZOBA_ID": "137",
                                    "SZALLAS_FK": "NULL",
                                    "Össz szám": "4"
                                },
                                {
                                    "SZOBA_ID": "139",
                                    "SZALLAS_FK": "NULL",
                                    "Össz szám": "2"
                                },
                                {
                                    "SZOBA_ID": "141",
                                    "SZALLAS_FK": "NULL",
                                    "Össz szám": "2"
                                },
                                {
                                    "SZOBA_ID": "142",
                                    "SZALLAS_FK": "NULL",
                                    "Össz szám": "2"
                                },
                                {
                                    "SZOBA_ID": "144",
                                    "SZALLAS_FK": "NULL",
                                    "Össz szám": "7"
                                },
                                {
                                    "SZOBA_ID": "148",
                                    "SZALLAS_FK": "NULL",
                                    "Össz szám": "1"
                                },
                                {
                                    "SZOBA_ID": "149",
                                    "SZALLAS_FK": "NULL",
                                    "Össz szám": "4"
                                },
                                {
                                    "SZOBA_ID": "150",
                                    "SZALLAS_FK": "NULL",
                                    "Össz szám": "3"
                                },
                                {
                                    "SZOBA_ID": "152",
                                    "SZALLAS_FK": "NULL",
                                    "Össz szám": "2"
                                },
                                {
                                    "SZOBA_ID": "153",
                                    "SZALLAS_FK": "NULL",
                                    "Össz szám": "5"
                                },
                                {
                                    "SZOBA_ID": "154",
                                    "SZALLAS_FK": "NULL",
                                    "Össz szám": "2"
                                },
                                {
                                    "SZOBA_ID": "155",
                                    "SZALLAS_FK": "NULL",
                                    "Össz szám": "8"
                                },
                                {
                                    "SZOBA_ID": "156",
                                    "SZALLAS_FK": "NULL",
                                    "Össz szám": "9"
                                },
                                {
                                    "SZOBA_ID": "157",
                                    "SZALLAS_FK": "NULL",
                                    "Össz szám": "3"
                                },
                                {
                                    "SZOBA_ID": "160",
                                    "SZALLAS_FK": "NULL",
                                    "Össz szám": "3"
                                },
                                {
                                    "SZOBA_ID": "161",
                                    "SZALLAS_FK": "NULL",
                                    "Össz szám": "6"
                                },
                                {
                                    "SZOBA_ID": "162",
                                    "SZALLAS_FK": "NULL",
                                    "Össz szám": "3"
                                },
                                {
                                    "SZOBA_ID": "163",
                                    "SZALLAS_FK": "NULL",
                                    "Össz szám": "4"
                                },
                                {
                                    "SZOBA_ID": "164",
                                    "SZALLAS_FK": "NULL",
                                    "Össz szám": "2"
                                },
                                {
                                    "SZOBA_ID": "165",
                                    "SZALLAS_FK": "NULL",
                                    "Össz szám": "2"
                                },
                                {
                                    "SZOBA_ID": "166",
                                    "SZALLAS_FK": "NULL",
                                    "Össz szám": "5"
                                },
                                {
                                    "SZOBA_ID": "169",
                                    "SZALLAS_FK": "NULL",
                                    "Össz szám": "2"
                                },
                                {
                                    "SZOBA_ID": "170",
                                    "SZALLAS_FK": "NULL",
                                    "Össz szám": "1"
                                },
                                {
                                    "SZOBA_ID": "171",
                                    "SZALLAS_FK": "NULL",
                                    "Össz szám": "4"
                                },
                                {
                                    "SZOBA_ID": "172",
                                    "SZALLAS_FK": "NULL",
                                    "Össz szám": "2"
                                },
                                {
                                    "SZOBA_ID": "176",
                                    "SZALLAS_FK": "NULL",
                                    "Össz szám": "9"
                                },
                                {
                                    "SZOBA_ID": "177",
                                    "SZALLAS_FK": "NULL",
                                    "Össz szám": "3"
                                },
                                {
                                    "SZOBA_ID": "179",
                                    "SZALLAS_FK": "NULL",
                                    "Össz szám": "3"
                                },
                                {
                                    "SZOBA_ID": "180",
                                    "SZALLAS_FK": "NULL",
                                    "Össz szám": "7"
                                },
                                {
                                    "SZOBA_ID": "182",
                                    "SZALLAS_FK": "NULL",
                                    "Össz szám": "2"
                                },
                                {
                                    "SZOBA_ID": "184",
                                    "SZALLAS_FK": "NULL",
                                    "Össz szám": "2"
                                },
                                {
                                    "SZOBA_ID": "185",
                                    "SZALLAS_FK": "NULL",
                                    "Össz szám": "3"
                                },
                                {
                                    "SZOBA_ID": "186",
                                    "SZALLAS_FK": "NULL",
                                    "Össz szám": "3"
                                },
                                {
                                    "SZOBA_ID": "187",
                                    "SZALLAS_FK": "NULL",
                                    "Össz szám": "3"
                                },
                                {
                                    "SZOBA_ID": "189",
                                    "SZALLAS_FK": "NULL",
                                    "Össz szám": "1"
                                },
                                {
                                    "SZOBA_ID": "190",
                                    "SZALLAS_FK": "NULL",
                                    "Össz szám": "3"
                                },
                                {
                                    "SZOBA_ID": "191",
                                    "SZALLAS_FK": "NULL",
                                    "Össz szám": "3"
                                },
                                {
                                    "SZOBA_ID": "193",
                                    "SZALLAS_FK": "NULL",
                                    "Össz szám": "2"
                                },
                                {
                                    "SZOBA_ID": "195",
                                    "SZALLAS_FK": "NULL",
                                    "Össz szám": "2"
                                }
                            ]
                        },
                        "text/html": [
                            "<table>",
                            "<tr><th>SZOBA_ID</th><th>SZALLAS_FK</th><th>Össz szám</th></tr>",
                            "<tr><td>1</td><td>1</td><td>1</td></tr>",
                            "<tr><td>3</td><td>1</td><td>6</td></tr>",
                            "<tr><td>4</td><td>1</td><td>2</td></tr>",
                            "<tr><td>5</td><td>1</td><td>2</td></tr>",
                            "<tr><td>6</td><td>1</td><td>2</td></tr>",
                            "<tr><td>7</td><td>1</td><td>1</td></tr>",
                            "<tr><td>9</td><td>1</td><td>6</td></tr>",
                            "<tr><td>10</td><td>1</td><td>2</td></tr>",
                            "<tr><td>11</td><td>1</td><td>1</td></tr>",
                            "<tr><td>NULL</td><td>1</td><td>23</td></tr>",
                            "<tr><td>14</td><td>2</td><td>4</td></tr>",
                            "<tr><td>16</td><td>2</td><td>3</td></tr>",
                            "<tr><td>NULL</td><td>2</td><td>7</td></tr>",
                            "<tr><td>17</td><td>3</td><td>7</td></tr>",
                            "<tr><td>18</td><td>3</td><td>6</td></tr>",
                            "<tr><td>19</td><td>3</td><td>3</td></tr>",
                            "<tr><td>21</td><td>3</td><td>2</td></tr>",
                            "<tr><td>NULL</td><td>3</td><td>18</td></tr>",
                            "<tr><td>29</td><td>4</td><td>3</td></tr>",
                            "<tr><td>30</td><td>4</td><td>2</td></tr>",
                            "<tr><td>31</td><td>4</td><td>8</td></tr>",
                            "<tr><td>33</td><td>4</td><td>4</td></tr>",
                            "<tr><td>35</td><td>4</td><td>1</td></tr>",
                            "<tr><td>38</td><td>4</td><td>6</td></tr>",
                            "<tr><td>39</td><td>4</td><td>3</td></tr>",
                            "<tr><td>NULL</td><td>4</td><td>27</td></tr>",
                            "<tr><td>42</td><td>5</td><td>4</td></tr>",
                            "<tr><td>43</td><td>5</td><td>4</td></tr>",
                            "<tr><td>44</td><td>5</td><td>6</td></tr>",
                            "<tr><td>46</td><td>5</td><td>3</td></tr>",
                            "<tr><td>48</td><td>5</td><td>13</td></tr>",
                            "<tr><td>49</td><td>5</td><td>2</td></tr>",
                            "<tr><td>NULL</td><td>5</td><td>32</td></tr>",
                            "<tr><td>51</td><td>6</td><td>4</td></tr>",
                            "<tr><td>52</td><td>6</td><td>3</td></tr>",
                            "<tr><td>54</td><td>6</td><td>4</td></tr>",
                            "<tr><td>55</td><td>6</td><td>6</td></tr>",
                            "<tr><td>57</td><td>6</td><td>1</td></tr>",
                            "<tr><td>59</td><td>6</td><td>3</td></tr>",
                            "<tr><td>61</td><td>6</td><td>3</td></tr>",
                            "<tr><td>63</td><td>6</td><td>2</td></tr>",
                            "<tr><td>64</td><td>6</td><td>2</td></tr>",
                            "<tr><td>65</td><td>6</td><td>2</td></tr>",
                            "<tr><td>67</td><td>6</td><td>12</td></tr>",
                            "<tr><td>68</td><td>6</td><td>4</td></tr>",
                            "<tr><td>70</td><td>6</td><td>3</td></tr>",
                            "<tr><td>74</td><td>6</td><td>2</td></tr>",
                            "<tr><td>76</td><td>6</td><td>2</td></tr>",
                            "<tr><td>77</td><td>6</td><td>3</td></tr>",
                            "<tr><td>78</td><td>6</td><td>8</td></tr>",
                            "<tr><td>79</td><td>6</td><td>3</td></tr>",
                            "<tr><td>81</td><td>6</td><td>4</td></tr>",
                            "<tr><td>83</td><td>6</td><td>2</td></tr>",
                            "<tr><td>NULL</td><td>6</td><td>73</td></tr>",
                            "<tr><td>85</td><td>7</td><td>4</td></tr>",
                            "<tr><td>87</td><td>7</td><td>3</td></tr>",
                            "<tr><td>88</td><td>7</td><td>5</td></tr>",
                            "<tr><td>89</td><td>7</td><td>3</td></tr>",
                            "<tr><td>NULL</td><td>7</td><td>15</td></tr>",
                            "<tr><td>91</td><td>8</td><td>2</td></tr>",
                            "<tr><td>92</td><td>8</td><td>6</td></tr>",
                            "<tr><td>94</td><td>8</td><td>6</td></tr>",
                            "<tr><td>95</td><td>8</td><td>1</td></tr>",
                            "<tr><td>96</td><td>8</td><td>9</td></tr>",
                            "<tr><td>97</td><td>8</td><td>7</td></tr>",
                            "<tr><td>98</td><td>8</td><td>1</td></tr>",
                            "<tr><td>99</td><td>8</td><td>4</td></tr>",
                            "<tr><td>100</td><td>8</td><td>4</td></tr>",
                            "<tr><td>101</td><td>8</td><td>2</td></tr>",
                            "<tr><td>103</td><td>8</td><td>2</td></tr>",
                            "<tr><td>104</td><td>8</td><td>5</td></tr>",
                            "<tr><td>105</td><td>8</td><td>4</td></tr>",
                            "<tr><td>106</td><td>8</td><td>3</td></tr>",
                            "<tr><td>107</td><td>8</td><td>4</td></tr>",
                            "<tr><td>109</td><td>8</td><td>7</td></tr>",
                            "<tr><td>110</td><td>8</td><td>2</td></tr>",
                            "<tr><td>111</td><td>8</td><td>3</td></tr>",
                            "<tr><td>112</td><td>8</td><td>3</td></tr>",
                            "<tr><td>113</td><td>8</td><td>9</td></tr>",
                            "<tr><td>114</td><td>8</td><td>3</td></tr>",
                            "<tr><td>115</td><td>8</td><td>9</td></tr>",
                            "<tr><td>116</td><td>8</td><td>3</td></tr>",
                            "<tr><td>117</td><td>8</td><td>5</td></tr>",
                            "<tr><td>119</td><td>8</td><td>2</td></tr>",
                            "<tr><td>120</td><td>8</td><td>8</td></tr>",
                            "<tr><td>123</td><td>8</td><td>1</td></tr>",
                            "<tr><td>124</td><td>8</td><td>3</td></tr>",
                            "<tr><td>125</td><td>8</td><td>3</td></tr>",
                            "<tr><td>126</td><td>8</td><td>3</td></tr>",
                            "<tr><td>127</td><td>8</td><td>5</td></tr>",
                            "<tr><td>128</td><td>8</td><td>5</td></tr>",
                            "<tr><td>129</td><td>8</td><td>3</td></tr>",
                            "<tr><td>NULL</td><td>8</td><td>137</td></tr>",
                            "<tr><td>130</td><td>9</td><td>4</td></tr>",
                            "<tr><td>131</td><td>9</td><td>2</td></tr>",
                            "<tr><td>132</td><td>9</td><td>5</td></tr>",
                            "<tr><td>134</td><td>9</td><td>2</td></tr>",
                            "<tr><td>NULL</td><td>9</td><td>13</td></tr>",
                            "<tr><td>136</td><td>10</td><td>2</td></tr>",
                            "<tr><td>137</td><td>10</td><td>4</td></tr>",
                            "<tr><td>139</td><td>10</td><td>2</td></tr>",
                            "<tr><td>141</td><td>10</td><td>2</td></tr>",
                            "<tr><td>142</td><td>10</td><td>2</td></tr>",
                            "<tr><td>144</td><td>10</td><td>7</td></tr>",
                            "<tr><td>148</td><td>10</td><td>1</td></tr>",
                            "<tr><td>149</td><td>10</td><td>4</td></tr>",
                            "<tr><td>150</td><td>10</td><td>3</td></tr>",
                            "<tr><td>152</td><td>10</td><td>2</td></tr>",
                            "<tr><td>153</td><td>10</td><td>5</td></tr>",
                            "<tr><td>154</td><td>10</td><td>2</td></tr>",
                            "<tr><td>155</td><td>10</td><td>8</td></tr>",
                            "<tr><td>156</td><td>10</td><td>9</td></tr>",
                            "<tr><td>157</td><td>10</td><td>3</td></tr>",
                            "<tr><td>NULL</td><td>10</td><td>56</td></tr>",
                            "<tr><td>160</td><td>11</td><td>3</td></tr>",
                            "<tr><td>161</td><td>11</td><td>6</td></tr>",
                            "<tr><td>162</td><td>11</td><td>3</td></tr>",
                            "<tr><td>163</td><td>11</td><td>4</td></tr>",
                            "<tr><td>164</td><td>11</td><td>2</td></tr>",
                            "<tr><td>NULL</td><td>11</td><td>18</td></tr>",
                            "<tr><td>165</td><td>12</td><td>2</td></tr>",
                            "<tr><td>166</td><td>12</td><td>5</td></tr>",
                            "<tr><td>169</td><td>12</td><td>2</td></tr>",
                            "<tr><td>170</td><td>12</td><td>1</td></tr>",
                            "<tr><td>171</td><td>12</td><td>4</td></tr>",
                            "<tr><td>172</td><td>12</td><td>2</td></tr>",
                            "<tr><td>176</td><td>12</td><td>9</td></tr>",
                            "<tr><td>177</td><td>12</td><td>3</td></tr>",
                            "<tr><td>179</td><td>12</td><td>3</td></tr>",
                            "<tr><td>180</td><td>12</td><td>7</td></tr>",
                            "<tr><td>182</td><td>12</td><td>2</td></tr>",
                            "<tr><td>184</td><td>12</td><td>2</td></tr>",
                            "<tr><td>185</td><td>12</td><td>3</td></tr>",
                            "<tr><td>186</td><td>12</td><td>3</td></tr>",
                            "<tr><td>187</td><td>12</td><td>3</td></tr>",
                            "<tr><td>189</td><td>12</td><td>1</td></tr>",
                            "<tr><td>190</td><td>12</td><td>3</td></tr>",
                            "<tr><td>191</td><td>12</td><td>3</td></tr>",
                            "<tr><td>193</td><td>12</td><td>2</td></tr>",
                            "<tr><td>195</td><td>12</td><td>2</td></tr>",
                            "<tr><td>NULL</td><td>12</td><td>62</td></tr>",
                            "<tr><td>NULL</td><td>NULL</td><td>481</td></tr>",
                            "<tr><td>1</td><td>NULL</td><td>1</td></tr>",
                            "<tr><td>3</td><td>NULL</td><td>6</td></tr>",
                            "<tr><td>4</td><td>NULL</td><td>2</td></tr>",
                            "<tr><td>5</td><td>NULL</td><td>2</td></tr>",
                            "<tr><td>6</td><td>NULL</td><td>2</td></tr>",
                            "<tr><td>7</td><td>NULL</td><td>1</td></tr>",
                            "<tr><td>9</td><td>NULL</td><td>6</td></tr>",
                            "<tr><td>10</td><td>NULL</td><td>2</td></tr>",
                            "<tr><td>11</td><td>NULL</td><td>1</td></tr>",
                            "<tr><td>14</td><td>NULL</td><td>4</td></tr>",
                            "<tr><td>16</td><td>NULL</td><td>3</td></tr>",
                            "<tr><td>17</td><td>NULL</td><td>7</td></tr>",
                            "<tr><td>18</td><td>NULL</td><td>6</td></tr>",
                            "<tr><td>19</td><td>NULL</td><td>3</td></tr>",
                            "<tr><td>21</td><td>NULL</td><td>2</td></tr>",
                            "<tr><td>29</td><td>NULL</td><td>3</td></tr>",
                            "<tr><td>30</td><td>NULL</td><td>2</td></tr>",
                            "<tr><td>31</td><td>NULL</td><td>8</td></tr>",
                            "<tr><td>33</td><td>NULL</td><td>4</td></tr>",
                            "<tr><td>35</td><td>NULL</td><td>1</td></tr>",
                            "<tr><td>38</td><td>NULL</td><td>6</td></tr>",
                            "<tr><td>39</td><td>NULL</td><td>3</td></tr>",
                            "<tr><td>42</td><td>NULL</td><td>4</td></tr>",
                            "<tr><td>43</td><td>NULL</td><td>4</td></tr>",
                            "<tr><td>44</td><td>NULL</td><td>6</td></tr>",
                            "<tr><td>46</td><td>NULL</td><td>3</td></tr>",
                            "<tr><td>48</td><td>NULL</td><td>13</td></tr>",
                            "<tr><td>49</td><td>NULL</td><td>2</td></tr>",
                            "<tr><td>51</td><td>NULL</td><td>4</td></tr>",
                            "<tr><td>52</td><td>NULL</td><td>3</td></tr>",
                            "<tr><td>54</td><td>NULL</td><td>4</td></tr>",
                            "<tr><td>55</td><td>NULL</td><td>6</td></tr>",
                            "<tr><td>57</td><td>NULL</td><td>1</td></tr>",
                            "<tr><td>59</td><td>NULL</td><td>3</td></tr>",
                            "<tr><td>61</td><td>NULL</td><td>3</td></tr>",
                            "<tr><td>63</td><td>NULL</td><td>2</td></tr>",
                            "<tr><td>64</td><td>NULL</td><td>2</td></tr>",
                            "<tr><td>65</td><td>NULL</td><td>2</td></tr>",
                            "<tr><td>67</td><td>NULL</td><td>12</td></tr>",
                            "<tr><td>68</td><td>NULL</td><td>4</td></tr>",
                            "<tr><td>70</td><td>NULL</td><td>3</td></tr>",
                            "<tr><td>74</td><td>NULL</td><td>2</td></tr>",
                            "<tr><td>76</td><td>NULL</td><td>2</td></tr>",
                            "<tr><td>77</td><td>NULL</td><td>3</td></tr>",
                            "<tr><td>78</td><td>NULL</td><td>8</td></tr>",
                            "<tr><td>79</td><td>NULL</td><td>3</td></tr>",
                            "<tr><td>81</td><td>NULL</td><td>4</td></tr>",
                            "<tr><td>83</td><td>NULL</td><td>2</td></tr>",
                            "<tr><td>85</td><td>NULL</td><td>4</td></tr>",
                            "<tr><td>87</td><td>NULL</td><td>3</td></tr>",
                            "<tr><td>88</td><td>NULL</td><td>5</td></tr>",
                            "<tr><td>89</td><td>NULL</td><td>3</td></tr>",
                            "<tr><td>91</td><td>NULL</td><td>2</td></tr>",
                            "<tr><td>92</td><td>NULL</td><td>6</td></tr>",
                            "<tr><td>94</td><td>NULL</td><td>6</td></tr>",
                            "<tr><td>95</td><td>NULL</td><td>1</td></tr>",
                            "<tr><td>96</td><td>NULL</td><td>9</td></tr>",
                            "<tr><td>97</td><td>NULL</td><td>7</td></tr>",
                            "<tr><td>98</td><td>NULL</td><td>1</td></tr>",
                            "<tr><td>99</td><td>NULL</td><td>4</td></tr>",
                            "<tr><td>100</td><td>NULL</td><td>4</td></tr>",
                            "<tr><td>101</td><td>NULL</td><td>2</td></tr>",
                            "<tr><td>103</td><td>NULL</td><td>2</td></tr>",
                            "<tr><td>104</td><td>NULL</td><td>5</td></tr>",
                            "<tr><td>105</td><td>NULL</td><td>4</td></tr>",
                            "<tr><td>106</td><td>NULL</td><td>3</td></tr>",
                            "<tr><td>107</td><td>NULL</td><td>4</td></tr>",
                            "<tr><td>109</td><td>NULL</td><td>7</td></tr>",
                            "<tr><td>110</td><td>NULL</td><td>2</td></tr>",
                            "<tr><td>111</td><td>NULL</td><td>3</td></tr>",
                            "<tr><td>112</td><td>NULL</td><td>3</td></tr>",
                            "<tr><td>113</td><td>NULL</td><td>9</td></tr>",
                            "<tr><td>114</td><td>NULL</td><td>3</td></tr>",
                            "<tr><td>115</td><td>NULL</td><td>9</td></tr>",
                            "<tr><td>116</td><td>NULL</td><td>3</td></tr>",
                            "<tr><td>117</td><td>NULL</td><td>5</td></tr>",
                            "<tr><td>119</td><td>NULL</td><td>2</td></tr>",
                            "<tr><td>120</td><td>NULL</td><td>8</td></tr>",
                            "<tr><td>123</td><td>NULL</td><td>1</td></tr>",
                            "<tr><td>124</td><td>NULL</td><td>3</td></tr>",
                            "<tr><td>125</td><td>NULL</td><td>3</td></tr>",
                            "<tr><td>126</td><td>NULL</td><td>3</td></tr>",
                            "<tr><td>127</td><td>NULL</td><td>5</td></tr>",
                            "<tr><td>128</td><td>NULL</td><td>5</td></tr>",
                            "<tr><td>129</td><td>NULL</td><td>3</td></tr>",
                            "<tr><td>130</td><td>NULL</td><td>4</td></tr>",
                            "<tr><td>131</td><td>NULL</td><td>2</td></tr>",
                            "<tr><td>132</td><td>NULL</td><td>5</td></tr>",
                            "<tr><td>134</td><td>NULL</td><td>2</td></tr>",
                            "<tr><td>136</td><td>NULL</td><td>2</td></tr>",
                            "<tr><td>137</td><td>NULL</td><td>4</td></tr>",
                            "<tr><td>139</td><td>NULL</td><td>2</td></tr>",
                            "<tr><td>141</td><td>NULL</td><td>2</td></tr>",
                            "<tr><td>142</td><td>NULL</td><td>2</td></tr>",
                            "<tr><td>144</td><td>NULL</td><td>7</td></tr>",
                            "<tr><td>148</td><td>NULL</td><td>1</td></tr>",
                            "<tr><td>149</td><td>NULL</td><td>4</td></tr>",
                            "<tr><td>150</td><td>NULL</td><td>3</td></tr>",
                            "<tr><td>152</td><td>NULL</td><td>2</td></tr>",
                            "<tr><td>153</td><td>NULL</td><td>5</td></tr>",
                            "<tr><td>154</td><td>NULL</td><td>2</td></tr>",
                            "<tr><td>155</td><td>NULL</td><td>8</td></tr>",
                            "<tr><td>156</td><td>NULL</td><td>9</td></tr>",
                            "<tr><td>157</td><td>NULL</td><td>3</td></tr>",
                            "<tr><td>160</td><td>NULL</td><td>3</td></tr>",
                            "<tr><td>161</td><td>NULL</td><td>6</td></tr>",
                            "<tr><td>162</td><td>NULL</td><td>3</td></tr>",
                            "<tr><td>163</td><td>NULL</td><td>4</td></tr>",
                            "<tr><td>164</td><td>NULL</td><td>2</td></tr>",
                            "<tr><td>165</td><td>NULL</td><td>2</td></tr>",
                            "<tr><td>166</td><td>NULL</td><td>5</td></tr>",
                            "<tr><td>169</td><td>NULL</td><td>2</td></tr>",
                            "<tr><td>170</td><td>NULL</td><td>1</td></tr>",
                            "<tr><td>171</td><td>NULL</td><td>4</td></tr>",
                            "<tr><td>172</td><td>NULL</td><td>2</td></tr>",
                            "<tr><td>176</td><td>NULL</td><td>9</td></tr>",
                            "<tr><td>177</td><td>NULL</td><td>3</td></tr>",
                            "<tr><td>179</td><td>NULL</td><td>3</td></tr>",
                            "<tr><td>180</td><td>NULL</td><td>7</td></tr>",
                            "<tr><td>182</td><td>NULL</td><td>2</td></tr>",
                            "<tr><td>184</td><td>NULL</td><td>2</td></tr>",
                            "<tr><td>185</td><td>NULL</td><td>3</td></tr>",
                            "<tr><td>186</td><td>NULL</td><td>3</td></tr>",
                            "<tr><td>187</td><td>NULL</td><td>3</td></tr>",
                            "<tr><td>189</td><td>NULL</td><td>1</td></tr>",
                            "<tr><td>190</td><td>NULL</td><td>3</td></tr>",
                            "<tr><td>191</td><td>NULL</td><td>3</td></tr>",
                            "<tr><td>193</td><td>NULL</td><td>2</td></tr>",
                            "<tr><td>195</td><td>NULL</td><td>2</td></tr>",
                            "</table>"
                        ]
                    }
                }
            ],
            "execution_count": 6
        },
        {
            "cell_type": "code",
            "source": [
                "SELECT szh.SZALLAS_NEV,KLIMAS,AVG(szh.CSILLAGOK_SZAMA) From Szallashely szh join szoba sz on szh.SZALLAS_ID =sz.SZALLAS_FK  GROUP by GROUPING Sets((szh.SZALLAS_NEV),(sz.KLIMAS))"
            ],
            "metadata": {
                "azdata_cell_guid": "dd21674d-e570-4578-bcc3-65032fbe921f",
                "language": "sql"
            },
            "outputs": [
                {
                    "output_type": "display_data",
                    "data": {
                        "text/html": "(19 rows affected)"
                    },
                    "metadata": {}
                },
                {
                    "output_type": "display_data",
                    "data": {
                        "text/html": "Total execution time: 00:00:00.066"
                    },
                    "metadata": {}
                },
                {
                    "output_type": "execute_result",
                    "metadata": {},
                    "execution_count": 7,
                    "data": {
                        "application/vnd.dataresource+json": {
                            "schema": {
                                "fields": [
                                    {
                                        "name": "SZALLAS_NEV"
                                    },
                                    {
                                        "name": "KLIMAS"
                                    },
                                    {
                                        "name": "(No column name)"
                                    }
                                ]
                            },
                            "data": [
                                {
                                    "SZALLAS_NEV": "NULL",
                                    "KLIMAS": "i",
                                    "(No column name)": "2"
                                },
                                {
                                    "SZALLAS_NEV": "NULL",
                                    "KLIMAS": "n",
                                    "(No column name)": "2"
                                },
                                {
                                    "SZALLAS_NEV": "Bagoly Hotel",
                                    "KLIMAS": "NULL",
                                    "(No column name)": "3"
                                },
                                {
                                    "SZALLAS_NEV": "Családi Ház",
                                    "KLIMAS": "NULL",
                                    "(No column name)": "0"
                                },
                                {
                                    "SZALLAS_NEV": "Fortuna Apartman",
                                    "KLIMAS": "NULL",
                                    "(No column name)": "0"
                                },
                                {
                                    "SZALLAS_NEV": "Fortuna panzió",
                                    "KLIMAS": "NULL",
                                    "(No column name)": "3"
                                },
                                {
                                    "SZALLAS_NEV": "Gold Hotel",
                                    "KLIMAS": "NULL",
                                    "(No column name)": "3"
                                },
                                {
                                    "SZALLAS_NEV": "Hotel Három Hattyú",
                                    "KLIMAS": "NULL",
                                    "(No column name)": "4"
                                },
                                {
                                    "SZALLAS_NEV": "Jáde panzió",
                                    "KLIMAS": "NULL",
                                    "(No column name)": "3"
                                },
                                {
                                    "SZALLAS_NEV": "Kentaur Hotel",
                                    "KLIMAS": "NULL",
                                    "(No column name)": "3"
                                },
                                {
                                    "SZALLAS_NEV": "Kollégium",
                                    "KLIMAS": "NULL",
                                    "(No column name)": "0"
                                },
                                {
                                    "SZALLAS_NEV": "Lagúna Hotel",
                                    "KLIMAS": "NULL",
                                    "(No column name)": "4"
                                },
                                {
                                    "SZALLAS_NEV": "Nyárfás Vendégház",
                                    "KLIMAS": "NULL",
                                    "(No column name)": "0"
                                },
                                {
                                    "SZALLAS_NEV": "Partiszél Vendégház",
                                    "KLIMAS": "NULL",
                                    "(No column name)": "0"
                                },
                                {
                                    "SZALLAS_NEV": "Riviéra Panzió",
                                    "KLIMAS": "NULL",
                                    "(No column name)": "3"
                                },
                                {
                                    "SZALLAS_NEV": "Sába-Ház",
                                    "KLIMAS": "NULL",
                                    "(No column name)": "0"
                                },
                                {
                                    "SZALLAS_NEV": "Szarvas Hotel",
                                    "KLIMAS": "NULL",
                                    "(No column name)": "4"
                                },
                                {
                                    "SZALLAS_NEV": "Szieszta Apartmanház",
                                    "KLIMAS": "NULL",
                                    "(No column name)": "0"
                                },
                                {
                                    "SZALLAS_NEV": "Tímárház Panzió",
                                    "KLIMAS": "NULL",
                                    "(No column name)": "3"
                                }
                            ]
                        },
                        "text/html": [
                            "<table>",
                            "<tr><th>SZALLAS_NEV</th><th>KLIMAS</th><th>(No column name)</th></tr>",
                            "<tr><td>NULL</td><td>i</td><td>2</td></tr>",
                            "<tr><td>NULL</td><td>n</td><td>2</td></tr>",
                            "<tr><td>Bagoly Hotel</td><td>NULL</td><td>3</td></tr>",
                            "<tr><td>Családi Ház</td><td>NULL</td><td>0</td></tr>",
                            "<tr><td>Fortuna Apartman</td><td>NULL</td><td>0</td></tr>",
                            "<tr><td>Fortuna panzió</td><td>NULL</td><td>3</td></tr>",
                            "<tr><td>Gold Hotel</td><td>NULL</td><td>3</td></tr>",
                            "<tr><td>Hotel Három Hattyú</td><td>NULL</td><td>4</td></tr>",
                            "<tr><td>Jáde panzió</td><td>NULL</td><td>3</td></tr>",
                            "<tr><td>Kentaur Hotel</td><td>NULL</td><td>3</td></tr>",
                            "<tr><td>Kollégium</td><td>NULL</td><td>0</td></tr>",
                            "<tr><td>Lagúna Hotel</td><td>NULL</td><td>4</td></tr>",
                            "<tr><td>Nyárfás Vendégház</td><td>NULL</td><td>0</td></tr>",
                            "<tr><td>Partiszél Vendégház</td><td>NULL</td><td>0</td></tr>",
                            "<tr><td>Riviéra Panzió</td><td>NULL</td><td>3</td></tr>",
                            "<tr><td>Sába-Ház</td><td>NULL</td><td>0</td></tr>",
                            "<tr><td>Szarvas Hotel</td><td>NULL</td><td>4</td></tr>",
                            "<tr><td>Szieszta Apartmanház</td><td>NULL</td><td>0</td></tr>",
                            "<tr><td>Tímárház Panzió</td><td>NULL</td><td>3</td></tr>",
                            "</table>"
                        ]
                    }
                }
            ],
            "execution_count": 7
        },
        {
            "cell_type": "markdown",
            "source": [
                "Hozzon létre legalább 1 tárolt eljárást, függvényt vagy trigger-t"
            ],
            "metadata": {
                "azdata_cell_guid": "6d489ed1-fc76-4cf7-8073-1c186dbd5d1f"
            },
            "attachments": {}
        },
        {
            "cell_type": "code",
            "source": [
                "CREATE or ALTER proc TipusFoglalasok\r\n",
                "(\r\n",
                " @tipus nvarchar(20)\r\n",
                ")\r\n",
                "AS\r\n",
                "BEGIN\r\n",
                "  SELECT szh.SZALLAS_NEV,COUNT(f.FOGLALAS_PK) from Szallashely szh join Szoba sz on szh.SZALLAS_ID = sz.SZALLAS_FK join Foglalas f on f.SZOBA_FK  = sz.SZOBA_ID where szh.TIPUS=@tipus \r\n",
                "  GROUP BY szh.tipus,szh.SZALLAS_NEV\r\n",
                "End\r\n",
                "\r\n",
                ""
            ],
            "metadata": {
                "azdata_cell_guid": "41994d29-5337-443f-b398-8ac3dad1981d",
                "language": "sql"
            },
            "outputs": [
                {
                    "output_type": "error",
                    "ename": "",
                    "evalue": "Msg 262, Level 14, State 18, Procedure SPUgyfelFoglalasok, Line 1\r\nCREATE PROCEDURE permission denied in database 'zh1'.",
                    "traceback": []
                },
                {
                    "output_type": "display_data",
                    "data": {
                        "text/html": "Total execution time: 00:00:00.044"
                    },
                    "metadata": {}
                }
            ],
            "execution_count": 74
        },
        {
            "cell_type": "code",
            "source": [
                "Exec TipusFoglalasok 'vendégház'"
            ],
            "metadata": {
                "azdata_cell_guid": "9852e42a-fe2d-4666-9830-802dab341339",
                "language": "sql"
            },
            "outputs": [],
            "execution_count": null
        }
    ]
}