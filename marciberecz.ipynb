{
    "metadata": {
        "kernelspec": {
            "name": "SQL",
            "display_name": "SQL",
            "language": "sql"
        },
        "language_info": {
            "name": "sql",
            "version": ""
        }
    },
    "nbformat_minor": 2,
    "nbformat": 4,
    "cells": [
        {
            "cell_type": "markdown",
            "source": [
                "Hozzon létre 3 lekérdezést, amelyeknél a GROUP BY speciális lehetőségeit használja"
            ],
            "metadata": {
                "azdata_cell_guid": "4c1f9bab-7748-4fb2-b0f2-57992cf468d2"
            },
            "attachments": {}
        },
        {
            "cell_type": "code",
            "source": [
                ""
            ],
            "metadata": {
                "azdata_cell_guid": "200471e5-a762-4aa5-8fad-fdfa9c9a65c2",
                "language": "sql"
            },
            "outputs": [],
            "execution_count": null
        },
        {
            "cell_type": "code",
            "source": [
                "SELECT sz.SZOBA_ID,sz.SZALLAS_FK,sum(f.FELNOTT_SZAM+f.GYERMEK_SZAM) as 'Össz szám'  from Foglalas f join szoba sz on f.szoba_fk =sz.SZOBA_ID GROUP BY Cube (sz.SZOBA_ID,sz.SZALLAS_FK);"
            ],
            "metadata": {
                "azdata_cell_guid": "86623023-249d-4344-add4-756c48c24d8b",
                "language": "sql"
            },
            "outputs": [],
            "execution_count": null
        },
        {
            "cell_type": "code",
            "source": [
                ""
            ],
            "metadata": {
                "azdata_cell_guid": "dd21674d-e570-4578-bcc3-65032fbe921f",
                "language": "sql"
            },
            "outputs": [],
            "execution_count": null
        }
    ]
}